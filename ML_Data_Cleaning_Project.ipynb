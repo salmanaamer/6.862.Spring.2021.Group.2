{
  "nbformat": 4,
  "nbformat_minor": 0,
  "metadata": {
    "accelerator": "GPU",
    "colab": {
      "name": "ML Data Cleaning Project.ipynb",
      "provenance": [],
      "collapsed_sections": [],
      "toc_visible": true
    },
    "kernelspec": {
      "display_name": "Python 3",
      "name": "python3"
    },
    "language_info": {
      "name": "python"
    }
  },
  "cells": [
    {
      "cell_type": "code",
      "metadata": {
        "id": "yjVnlA995pdv"
      },
      "source": [
        ""
      ],
      "execution_count": null,
      "outputs": []
    },
    {
      "cell_type": "code",
      "metadata": {
        "id": "GoMPcMsPLGsV"
      },
      "source": [
        "import pandas as pd\n",
        "import numpy as np\n",
        "import matplotlib.pyplot as plt\n",
        "import math\n",
        "from mlxtend.preprocessing import standardize"
      ],
      "execution_count": null,
      "outputs": []
    },
    {
      "cell_type": "code",
      "metadata": {
        "colab": {
          "base_uri": "https://localhost:8080/",
          "height": 626
        },
        "id": "lJzEGIYZLLL3",
        "outputId": "fa21e577-e84a-4e5b-adad-20a76c3a4af2"
      },
      "source": [
        "data_raw = pd.read_csv(\"/content/PAKDD2010_Modeling_Data.txt\", sep = '\\t', encoding = 'mac_roman', header=None)\n",
        "data_raw"
      ],
      "execution_count": null,
      "outputs": [
        {
          "output_type": "stream",
          "text": [
            "/usr/local/lib/python3.7/dist-packages/IPython/core/interactiveshell.py:2718: DtypeWarning: Columns (51,52) have mixed types.Specify dtype option on import or set low_memory=False.\n",
            "  interactivity=interactivity, compiler=compiler, result=result)\n"
          ],
          "name": "stderr"
        },
        {
          "output_type": "execute_result",
          "data": {
            "text/html": [
              "<div>\n",
              "<style scoped>\n",
              "    .dataframe tbody tr th:only-of-type {\n",
              "        vertical-align: middle;\n",
              "    }\n",
              "\n",
              "    .dataframe tbody tr th {\n",
              "        vertical-align: top;\n",
              "    }\n",
              "\n",
              "    .dataframe thead th {\n",
              "        text-align: right;\n",
              "    }\n",
              "</style>\n",
              "<table border=\"1\" class=\"dataframe\">\n",
              "  <thead>\n",
              "    <tr style=\"text-align: right;\">\n",
              "      <th></th>\n",
              "      <th>0</th>\n",
              "      <th>1</th>\n",
              "      <th>2</th>\n",
              "      <th>3</th>\n",
              "      <th>4</th>\n",
              "      <th>5</th>\n",
              "      <th>6</th>\n",
              "      <th>7</th>\n",
              "      <th>8</th>\n",
              "      <th>9</th>\n",
              "      <th>10</th>\n",
              "      <th>11</th>\n",
              "      <th>12</th>\n",
              "      <th>13</th>\n",
              "      <th>14</th>\n",
              "      <th>15</th>\n",
              "      <th>16</th>\n",
              "      <th>17</th>\n",
              "      <th>18</th>\n",
              "      <th>19</th>\n",
              "      <th>20</th>\n",
              "      <th>21</th>\n",
              "      <th>22</th>\n",
              "      <th>23</th>\n",
              "      <th>24</th>\n",
              "      <th>25</th>\n",
              "      <th>26</th>\n",
              "      <th>27</th>\n",
              "      <th>28</th>\n",
              "      <th>29</th>\n",
              "      <th>30</th>\n",
              "      <th>31</th>\n",
              "      <th>32</th>\n",
              "      <th>33</th>\n",
              "      <th>34</th>\n",
              "      <th>35</th>\n",
              "      <th>36</th>\n",
              "      <th>37</th>\n",
              "      <th>38</th>\n",
              "      <th>39</th>\n",
              "      <th>40</th>\n",
              "      <th>41</th>\n",
              "      <th>42</th>\n",
              "      <th>43</th>\n",
              "      <th>44</th>\n",
              "      <th>45</th>\n",
              "      <th>46</th>\n",
              "      <th>47</th>\n",
              "      <th>48</th>\n",
              "      <th>49</th>\n",
              "      <th>50</th>\n",
              "      <th>51</th>\n",
              "      <th>52</th>\n",
              "      <th>53</th>\n",
              "    </tr>\n",
              "  </thead>\n",
              "  <tbody>\n",
              "    <tr>\n",
              "      <th>0</th>\n",
              "      <td>1</td>\n",
              "      <td>C</td>\n",
              "      <td>5</td>\n",
              "      <td>Web</td>\n",
              "      <td>0</td>\n",
              "      <td>1</td>\n",
              "      <td>F</td>\n",
              "      <td>6</td>\n",
              "      <td>1</td>\n",
              "      <td>0</td>\n",
              "      <td>RN</td>\n",
              "      <td>Assu</td>\n",
              "      <td>1</td>\n",
              "      <td>RN</td>\n",
              "      <td>Santana do Matos</td>\n",
              "      <td>Centro</td>\n",
              "      <td>Y</td>\n",
              "      <td>105</td>\n",
              "      <td>1.0</td>\n",
              "      <td>15.0</td>\n",
              "      <td>N</td>\n",
              "      <td>1</td>\n",
              "      <td>900.00</td>\n",
              "      <td>0.0</td>\n",
              "      <td>1</td>\n",
              "      <td>1</td>\n",
              "      <td>0</td>\n",
              "      <td>0</td>\n",
              "      <td>0</td>\n",
              "      <td>0</td>\n",
              "      <td>0</td>\n",
              "      <td>0.0</td>\n",
              "      <td>0</td>\n",
              "      <td>N</td>\n",
              "      <td></td>\n",
              "      <td>NaN</td>\n",
              "      <td>NaN</td>\n",
              "      <td>N</td>\n",
              "      <td></td>\n",
              "      <td>0</td>\n",
              "      <td>9.0</td>\n",
              "      <td>4.0</td>\n",
              "      <td>NaN</td>\n",
              "      <td>NaN</td>\n",
              "      <td>0</td>\n",
              "      <td>0</td>\n",
              "      <td>0</td>\n",
              "      <td>0</td>\n",
              "      <td>1</td>\n",
              "      <td>N</td>\n",
              "      <td>32</td>\n",
              "      <td>595</td>\n",
              "      <td>595</td>\n",
              "      <td>1</td>\n",
              "    </tr>\n",
              "    <tr>\n",
              "      <th>1</th>\n",
              "      <td>2</td>\n",
              "      <td>C</td>\n",
              "      <td>15</td>\n",
              "      <td>Carga</td>\n",
              "      <td>0</td>\n",
              "      <td>1</td>\n",
              "      <td>F</td>\n",
              "      <td>2</td>\n",
              "      <td>0</td>\n",
              "      <td>0</td>\n",
              "      <td>RJ</td>\n",
              "      <td>rio de janeiro</td>\n",
              "      <td>1</td>\n",
              "      <td>RJ</td>\n",
              "      <td>RIO DE JANEIRO</td>\n",
              "      <td>CAMPO GRANDE</td>\n",
              "      <td>Y</td>\n",
              "      <td>20</td>\n",
              "      <td>1.0</td>\n",
              "      <td>1.0</td>\n",
              "      <td>N</td>\n",
              "      <td>1</td>\n",
              "      <td>750.00</td>\n",
              "      <td>0.0</td>\n",
              "      <td>0</td>\n",
              "      <td>0</td>\n",
              "      <td>0</td>\n",
              "      <td>0</td>\n",
              "      <td>0</td>\n",
              "      <td>0</td>\n",
              "      <td>0</td>\n",
              "      <td>0.0</td>\n",
              "      <td>0</td>\n",
              "      <td>Y</td>\n",
              "      <td></td>\n",
              "      <td>NaN</td>\n",
              "      <td>NaN</td>\n",
              "      <td>N</td>\n",
              "      <td></td>\n",
              "      <td>0</td>\n",
              "      <td>11.0</td>\n",
              "      <td>4.0</td>\n",
              "      <td>11.0</td>\n",
              "      <td>NaN</td>\n",
              "      <td>0</td>\n",
              "      <td>0</td>\n",
              "      <td>0</td>\n",
              "      <td>0</td>\n",
              "      <td>1</td>\n",
              "      <td>N</td>\n",
              "      <td>34</td>\n",
              "      <td>230</td>\n",
              "      <td>230</td>\n",
              "      <td>1</td>\n",
              "    </tr>\n",
              "    <tr>\n",
              "      <th>2</th>\n",
              "      <td>3</td>\n",
              "      <td>C</td>\n",
              "      <td>5</td>\n",
              "      <td>Web</td>\n",
              "      <td>0</td>\n",
              "      <td>1</td>\n",
              "      <td>F</td>\n",
              "      <td>2</td>\n",
              "      <td>0</td>\n",
              "      <td>0</td>\n",
              "      <td>RN</td>\n",
              "      <td>GARANHUNS</td>\n",
              "      <td>1</td>\n",
              "      <td>RN</td>\n",
              "      <td>Parnamirim</td>\n",
              "      <td>Boa Esperanca</td>\n",
              "      <td>Y</td>\n",
              "      <td>105</td>\n",
              "      <td>1.0</td>\n",
              "      <td>NaN</td>\n",
              "      <td>N</td>\n",
              "      <td>1</td>\n",
              "      <td>500.00</td>\n",
              "      <td>0.0</td>\n",
              "      <td>0</td>\n",
              "      <td>0</td>\n",
              "      <td>0</td>\n",
              "      <td>0</td>\n",
              "      <td>0</td>\n",
              "      <td>0</td>\n",
              "      <td>0</td>\n",
              "      <td>0.0</td>\n",
              "      <td>0</td>\n",
              "      <td>N</td>\n",
              "      <td></td>\n",
              "      <td>NaN</td>\n",
              "      <td>NaN</td>\n",
              "      <td>N</td>\n",
              "      <td></td>\n",
              "      <td>0</td>\n",
              "      <td>11.0</td>\n",
              "      <td>NaN</td>\n",
              "      <td>NaN</td>\n",
              "      <td>NaN</td>\n",
              "      <td>0</td>\n",
              "      <td>0</td>\n",
              "      <td>0</td>\n",
              "      <td>0</td>\n",
              "      <td>1</td>\n",
              "      <td>N</td>\n",
              "      <td>27</td>\n",
              "      <td>591</td>\n",
              "      <td>591</td>\n",
              "      <td>0</td>\n",
              "    </tr>\n",
              "    <tr>\n",
              "      <th>3</th>\n",
              "      <td>4</td>\n",
              "      <td>C</td>\n",
              "      <td>20</td>\n",
              "      <td>Web</td>\n",
              "      <td>0</td>\n",
              "      <td>1</td>\n",
              "      <td>F</td>\n",
              "      <td>2</td>\n",
              "      <td>0</td>\n",
              "      <td>0</td>\n",
              "      <td>PE</td>\n",
              "      <td>CABO</td>\n",
              "      <td>1</td>\n",
              "      <td>PE</td>\n",
              "      <td>CABO</td>\n",
              "      <td>PONTE DOS CARVALHOS</td>\n",
              "      <td>N</td>\n",
              "      <td></td>\n",
              "      <td>NaN</td>\n",
              "      <td>NaN</td>\n",
              "      <td>N</td>\n",
              "      <td>1</td>\n",
              "      <td>500.00</td>\n",
              "      <td>0.0</td>\n",
              "      <td>0</td>\n",
              "      <td>0</td>\n",
              "      <td>0</td>\n",
              "      <td>0</td>\n",
              "      <td>0</td>\n",
              "      <td>0</td>\n",
              "      <td>0</td>\n",
              "      <td>0.0</td>\n",
              "      <td>0</td>\n",
              "      <td>N</td>\n",
              "      <td></td>\n",
              "      <td>NaN</td>\n",
              "      <td>NaN</td>\n",
              "      <td>N</td>\n",
              "      <td></td>\n",
              "      <td>0</td>\n",
              "      <td>NaN</td>\n",
              "      <td>NaN</td>\n",
              "      <td>NaN</td>\n",
              "      <td>NaN</td>\n",
              "      <td>0</td>\n",
              "      <td>0</td>\n",
              "      <td>0</td>\n",
              "      <td>0</td>\n",
              "      <td>1</td>\n",
              "      <td>N</td>\n",
              "      <td>61</td>\n",
              "      <td>545</td>\n",
              "      <td>545</td>\n",
              "      <td>0</td>\n",
              "    </tr>\n",
              "    <tr>\n",
              "      <th>4</th>\n",
              "      <td>5</td>\n",
              "      <td>C</td>\n",
              "      <td>10</td>\n",
              "      <td>Web</td>\n",
              "      <td>0</td>\n",
              "      <td>1</td>\n",
              "      <td>M</td>\n",
              "      <td>2</td>\n",
              "      <td>0</td>\n",
              "      <td>0</td>\n",
              "      <td>RJ</td>\n",
              "      <td>RIO DE JANEIRO</td>\n",
              "      <td>1</td>\n",
              "      <td>RJ</td>\n",
              "      <td>Rio de Janeiro</td>\n",
              "      <td>Santa Cruz</td>\n",
              "      <td>Y</td>\n",
              "      <td>20</td>\n",
              "      <td>1.0</td>\n",
              "      <td>12.0</td>\n",
              "      <td>N</td>\n",
              "      <td>1</td>\n",
              "      <td>1200.00</td>\n",
              "      <td>0.0</td>\n",
              "      <td>0</td>\n",
              "      <td>0</td>\n",
              "      <td>0</td>\n",
              "      <td>0</td>\n",
              "      <td>0</td>\n",
              "      <td>0</td>\n",
              "      <td>0</td>\n",
              "      <td>0.0</td>\n",
              "      <td>0</td>\n",
              "      <td>N</td>\n",
              "      <td></td>\n",
              "      <td>NaN</td>\n",
              "      <td>NaN</td>\n",
              "      <td>N</td>\n",
              "      <td></td>\n",
              "      <td>0</td>\n",
              "      <td>9.0</td>\n",
              "      <td>5.0</td>\n",
              "      <td>NaN</td>\n",
              "      <td>NaN</td>\n",
              "      <td>0</td>\n",
              "      <td>0</td>\n",
              "      <td>0</td>\n",
              "      <td>0</td>\n",
              "      <td>1</td>\n",
              "      <td>N</td>\n",
              "      <td>48</td>\n",
              "      <td>235</td>\n",
              "      <td>235</td>\n",
              "      <td>1</td>\n",
              "    </tr>\n",
              "    <tr>\n",
              "      <th>...</th>\n",
              "      <td>...</td>\n",
              "      <td>...</td>\n",
              "      <td>...</td>\n",
              "      <td>...</td>\n",
              "      <td>...</td>\n",
              "      <td>...</td>\n",
              "      <td>...</td>\n",
              "      <td>...</td>\n",
              "      <td>...</td>\n",
              "      <td>...</td>\n",
              "      <td>...</td>\n",
              "      <td>...</td>\n",
              "      <td>...</td>\n",
              "      <td>...</td>\n",
              "      <td>...</td>\n",
              "      <td>...</td>\n",
              "      <td>...</td>\n",
              "      <td>...</td>\n",
              "      <td>...</td>\n",
              "      <td>...</td>\n",
              "      <td>...</td>\n",
              "      <td>...</td>\n",
              "      <td>...</td>\n",
              "      <td>...</td>\n",
              "      <td>...</td>\n",
              "      <td>...</td>\n",
              "      <td>...</td>\n",
              "      <td>...</td>\n",
              "      <td>...</td>\n",
              "      <td>...</td>\n",
              "      <td>...</td>\n",
              "      <td>...</td>\n",
              "      <td>...</td>\n",
              "      <td>...</td>\n",
              "      <td>...</td>\n",
              "      <td>...</td>\n",
              "      <td>...</td>\n",
              "      <td>...</td>\n",
              "      <td>...</td>\n",
              "      <td>...</td>\n",
              "      <td>...</td>\n",
              "      <td>...</td>\n",
              "      <td>...</td>\n",
              "      <td>...</td>\n",
              "      <td>...</td>\n",
              "      <td>...</td>\n",
              "      <td>...</td>\n",
              "      <td>...</td>\n",
              "      <td>...</td>\n",
              "      <td>...</td>\n",
              "      <td>...</td>\n",
              "      <td>...</td>\n",
              "      <td>...</td>\n",
              "      <td>...</td>\n",
              "    </tr>\n",
              "    <tr>\n",
              "      <th>49995</th>\n",
              "      <td>49996</td>\n",
              "      <td>C</td>\n",
              "      <td>10</td>\n",
              "      <td>0</td>\n",
              "      <td>0</td>\n",
              "      <td>1</td>\n",
              "      <td>F</td>\n",
              "      <td>1</td>\n",
              "      <td>2</td>\n",
              "      <td>0</td>\n",
              "      <td>RN</td>\n",
              "      <td>NATAL</td>\n",
              "      <td>1</td>\n",
              "      <td>RN</td>\n",
              "      <td>NATAL</td>\n",
              "      <td>PAJUCARA</td>\n",
              "      <td>Y</td>\n",
              "      <td>105</td>\n",
              "      <td>1.0</td>\n",
              "      <td>14.0</td>\n",
              "      <td>N</td>\n",
              "      <td>1</td>\n",
              "      <td>1451.00</td>\n",
              "      <td>0.0</td>\n",
              "      <td>0</td>\n",
              "      <td>0</td>\n",
              "      <td>0</td>\n",
              "      <td>0</td>\n",
              "      <td>0</td>\n",
              "      <td>1</td>\n",
              "      <td>1</td>\n",
              "      <td>0.0</td>\n",
              "      <td>1</td>\n",
              "      <td>N</td>\n",
              "      <td></td>\n",
              "      <td>NaN</td>\n",
              "      <td>NaN</td>\n",
              "      <td>N</td>\n",
              "      <td></td>\n",
              "      <td>0</td>\n",
              "      <td>9.0</td>\n",
              "      <td>4.0</td>\n",
              "      <td>0.0</td>\n",
              "      <td>0.0</td>\n",
              "      <td>0</td>\n",
              "      <td>0</td>\n",
              "      <td>0</td>\n",
              "      <td>0</td>\n",
              "      <td>1</td>\n",
              "      <td>N</td>\n",
              "      <td>36</td>\n",
              "      <td>591</td>\n",
              "      <td>591</td>\n",
              "      <td>1</td>\n",
              "    </tr>\n",
              "    <tr>\n",
              "      <th>49996</th>\n",
              "      <td>49997</td>\n",
              "      <td>C</td>\n",
              "      <td>25</td>\n",
              "      <td>0</td>\n",
              "      <td>0</td>\n",
              "      <td>1</td>\n",
              "      <td>F</td>\n",
              "      <td>1</td>\n",
              "      <td>0</td>\n",
              "      <td>0</td>\n",
              "      <td>SP</td>\n",
              "      <td>LENCOIS PAULISTA</td>\n",
              "      <td>1</td>\n",
              "      <td>SP</td>\n",
              "      <td>Lencois Paulista</td>\n",
              "      <td>Nucleo Habitacional Joao Zillo</td>\n",
              "      <td>Y</td>\n",
              "      <td>12</td>\n",
              "      <td>1.0</td>\n",
              "      <td>15.0</td>\n",
              "      <td>N</td>\n",
              "      <td>1</td>\n",
              "      <td>450.00</td>\n",
              "      <td>0.0</td>\n",
              "      <td>0</td>\n",
              "      <td>0</td>\n",
              "      <td>0</td>\n",
              "      <td>0</td>\n",
              "      <td>0</td>\n",
              "      <td>0</td>\n",
              "      <td>0</td>\n",
              "      <td>0.0</td>\n",
              "      <td>0</td>\n",
              "      <td>N</td>\n",
              "      <td></td>\n",
              "      <td>NaN</td>\n",
              "      <td>NaN</td>\n",
              "      <td>N</td>\n",
              "      <td></td>\n",
              "      <td>0</td>\n",
              "      <td>NaN</td>\n",
              "      <td>NaN</td>\n",
              "      <td>NaN</td>\n",
              "      <td>NaN</td>\n",
              "      <td>0</td>\n",
              "      <td>0</td>\n",
              "      <td>0</td>\n",
              "      <td>0</td>\n",
              "      <td>2</td>\n",
              "      <td>N</td>\n",
              "      <td>21</td>\n",
              "      <td>186</td>\n",
              "      <td>186</td>\n",
              "      <td>0</td>\n",
              "    </tr>\n",
              "    <tr>\n",
              "      <th>49997</th>\n",
              "      <td>49998</td>\n",
              "      <td>C</td>\n",
              "      <td>5</td>\n",
              "      <td>Web</td>\n",
              "      <td>0</td>\n",
              "      <td>1</td>\n",
              "      <td>M</td>\n",
              "      <td>2</td>\n",
              "      <td>3</td>\n",
              "      <td>0</td>\n",
              "      <td>PR</td>\n",
              "      <td>RIO BONITO</td>\n",
              "      <td>1</td>\n",
              "      <td>SP</td>\n",
              "      <td>GUARULHOS</td>\n",
              "      <td>jardim vida nova</td>\n",
              "      <td>Y</td>\n",
              "      <td>5</td>\n",
              "      <td>2.0</td>\n",
              "      <td>5.0</td>\n",
              "      <td>N</td>\n",
              "      <td>1</td>\n",
              "      <td>1555.00</td>\n",
              "      <td>0.0</td>\n",
              "      <td>0</td>\n",
              "      <td>0</td>\n",
              "      <td>0</td>\n",
              "      <td>0</td>\n",
              "      <td>0</td>\n",
              "      <td>0</td>\n",
              "      <td>0</td>\n",
              "      <td>0.0</td>\n",
              "      <td>0</td>\n",
              "      <td>Y</td>\n",
              "      <td>SP</td>\n",
              "      <td>GUARULHOS</td>\n",
              "      <td>ITAPEGICA</td>\n",
              "      <td>Y</td>\n",
              "      <td>5</td>\n",
              "      <td>0</td>\n",
              "      <td>9.0</td>\n",
              "      <td>2.0</td>\n",
              "      <td>NaN</td>\n",
              "      <td>NaN</td>\n",
              "      <td>0</td>\n",
              "      <td>0</td>\n",
              "      <td>0</td>\n",
              "      <td>0</td>\n",
              "      <td>1</td>\n",
              "      <td>N</td>\n",
              "      <td>41</td>\n",
              "      <td>715</td>\n",
              "      <td>715</td>\n",
              "      <td>0</td>\n",
              "    </tr>\n",
              "    <tr>\n",
              "      <th>49998</th>\n",
              "      <td>49999</td>\n",
              "      <td>C</td>\n",
              "      <td>1</td>\n",
              "      <td>Web</td>\n",
              "      <td>0</td>\n",
              "      <td>1</td>\n",
              "      <td>F</td>\n",
              "      <td>1</td>\n",
              "      <td>1</td>\n",
              "      <td>0</td>\n",
              "      <td>SP</td>\n",
              "      <td>SAO PAULO</td>\n",
              "      <td>1</td>\n",
              "      <td>MG</td>\n",
              "      <td>CONTAGEM</td>\n",
              "      <td>VILA BELEM</td>\n",
              "      <td>Y</td>\n",
              "      <td>29</td>\n",
              "      <td>1.0</td>\n",
              "      <td>NaN</td>\n",
              "      <td>N</td>\n",
              "      <td>1</td>\n",
              "      <td>1443.27</td>\n",
              "      <td>0.0</td>\n",
              "      <td>0</td>\n",
              "      <td>0</td>\n",
              "      <td>0</td>\n",
              "      <td>0</td>\n",
              "      <td>0</td>\n",
              "      <td>0</td>\n",
              "      <td>0</td>\n",
              "      <td>0.0</td>\n",
              "      <td>0</td>\n",
              "      <td>Y</td>\n",
              "      <td>MG</td>\n",
              "      <td>BETIM</td>\n",
              "      <td>JARDIM ALTEROSA</td>\n",
              "      <td>Y</td>\n",
              "      <td>29</td>\n",
              "      <td>0</td>\n",
              "      <td>9.0</td>\n",
              "      <td>2.0</td>\n",
              "      <td>NaN</td>\n",
              "      <td>NaN</td>\n",
              "      <td>0</td>\n",
              "      <td>0</td>\n",
              "      <td>0</td>\n",
              "      <td>0</td>\n",
              "      <td>1</td>\n",
              "      <td>N</td>\n",
              "      <td>28</td>\n",
              "      <td>320</td>\n",
              "      <td>320</td>\n",
              "      <td>1</td>\n",
              "    </tr>\n",
              "    <tr>\n",
              "      <th>49999</th>\n",
              "      <td>50000</td>\n",
              "      <td>C</td>\n",
              "      <td>10</td>\n",
              "      <td>Web</td>\n",
              "      <td>0</td>\n",
              "      <td>1</td>\n",
              "      <td>F</td>\n",
              "      <td>2</td>\n",
              "      <td>2</td>\n",
              "      <td>0</td>\n",
              "      <td>SP</td>\n",
              "      <td>PINDABA</td>\n",
              "      <td>1</td>\n",
              "      <td>SP</td>\n",
              "      <td>Pindamonhangaba</td>\n",
              "      <td>Feital</td>\n",
              "      <td>N</td>\n",
              "      <td></td>\n",
              "      <td>1.0</td>\n",
              "      <td>9.0</td>\n",
              "      <td>N</td>\n",
              "      <td>1</td>\n",
              "      <td>719.38</td>\n",
              "      <td>0.0</td>\n",
              "      <td>0</td>\n",
              "      <td>0</td>\n",
              "      <td>0</td>\n",
              "      <td>0</td>\n",
              "      <td>0</td>\n",
              "      <td>0</td>\n",
              "      <td>0</td>\n",
              "      <td>0.0</td>\n",
              "      <td>0</td>\n",
              "      <td>Y</td>\n",
              "      <td>SP</td>\n",
              "      <td>PINDABA</td>\n",
              "      <td>CIDADE NOVA</td>\n",
              "      <td>Y</td>\n",
              "      <td>9</td>\n",
              "      <td>0</td>\n",
              "      <td>9.0</td>\n",
              "      <td>2.0</td>\n",
              "      <td>NaN</td>\n",
              "      <td>NaN</td>\n",
              "      <td>0</td>\n",
              "      <td>0</td>\n",
              "      <td>0</td>\n",
              "      <td>0</td>\n",
              "      <td>1</td>\n",
              "      <td>N</td>\n",
              "      <td>27</td>\n",
              "      <td>124</td>\n",
              "      <td>124</td>\n",
              "      <td>0</td>\n",
              "    </tr>\n",
              "  </tbody>\n",
              "</table>\n",
              "<p>50000 rows × 54 columns</p>\n",
              "</div>"
            ],
            "text/plain": [
              "          0  1   2      3   4   5  6   7   ...  46  47 48 49  50   51   52 53\n",
              "0          1  C   5    Web   0   1  F   6  ...   0   0  1  N  32  595  595  1\n",
              "1          2  C  15  Carga   0   1  F   2  ...   0   0  1  N  34  230  230  1\n",
              "2          3  C   5    Web   0   1  F   2  ...   0   0  1  N  27  591  591  0\n",
              "3          4  C  20    Web   0   1  F   2  ...   0   0  1  N  61  545  545  0\n",
              "4          5  C  10    Web   0   1  M   2  ...   0   0  1  N  48  235  235  1\n",
              "...      ... ..  ..    ...  ..  .. ..  ..  ...  ..  .. .. ..  ..  ...  ... ..\n",
              "49995  49996  C  10      0   0   1  F   1  ...   0   0  1  N  36  591  591  1\n",
              "49996  49997  C  25      0   0   1  F   1  ...   0   0  2  N  21  186  186  0\n",
              "49997  49998  C   5    Web   0   1  M   2  ...   0   0  1  N  41  715  715  0\n",
              "49998  49999  C   1    Web   0   1  F   1  ...   0   0  1  N  28  320  320  1\n",
              "49999  50000  C  10    Web   0   1  F   2  ...   0   0  1  N  27  124  124  0\n",
              "\n",
              "[50000 rows x 54 columns]"
            ]
          },
          "metadata": {
            "tags": []
          },
          "execution_count": 100
        }
      ]
    },
    {
      "cell_type": "code",
      "metadata": {
        "id": "Z1Az33K1Sngw"
      },
      "source": [
        "col_names = [\"ID_CLIENT\", \"CLERK_TYPE\", \"PAYMENT_DAY\", \"APPLICATION_SUBMISSION_TYPE\", \"QUANT_ADDITIONAL_CARDS\",\n",
        "             \"POSTAL_ADDRESS_TYPE\",\"SEX\",\"MARITAL_STATUS\",\"QUANT_DEPENDANTS\",\"EDUCATION_LEVEL\",\"STATE_OF_BIRTH\",\n",
        "             \"CITY_OF_BIRTH\",\"NACIONALITY\",\"RESIDENCIAL_STATE\",\"RESIDENCIAL_CITY\",\"RESIDENCIAL_BOROUGH\",\n",
        "             \"FLAG_RESIDENCIAL_PHONE\", \"RESIDENCIAL_PHONE_AREA_CODE\", \"RESIDENCE_TYPE\", \"MONTHS_IN_RESIDENCE\",\n",
        "             \"FLAG_MOBILE_PHONE\",\"FLAG_EMAIL\",\"PERSONAL_MONTHLY_INCOME\",\"OTHER_INCOMES\", \"FLAG_VISA\",\"FLAG_MASTERCARD\",\n",
        "             \"FLAG_DINERS\",\"FLAG_AMERICAN_EXPRESS\",\"FLAG_OTHER_CARDS\",\"QUANT_BANKING_ACCOUNTS\",\"QUANT_SPECIAL_BANKING_ACCOUNTS\",\n",
        "             \"PERSONAL_ASSETS_VALUE\",\"QUANT_CARS\",\"COMPANY\",\"PROFESSIONAL_STATE\",\"PROFESSIONAL_CITY\",\"PROFESSIONAL_BOROUGH\",\n",
        "             \"FLAG_PROFESSIONAL_PHONE\",\"PROFESSIONAL_PHONE_AREA_CODE\",\"MONTHS_IN_THE_JOB\",\"PROFESSION_CODE\",\"OCCUPATION_TYPE\",\n",
        "             \"MATE_PROFESSION_CODE\",\"MATE_EDUCATION_LEVEL\",\"FLAG_HOME_ADDRESS_DOCUMENT\",\"FLAG_RG\",\"FLAG_CPF\",\"FLAG_INCOME_PROOF\",\n",
        "             \"PRODUCT\",\"FLAG_ACSP_RECORD\", \"AGE\", \"RESIDENCIAL_ZIP_3\",\"PROFESSIONAL_ZIP_3\", \"TARGET_LABEL\"]"
      ],
      "execution_count": null,
      "outputs": []
    },
    {
      "cell_type": "code",
      "metadata": {
        "colab": {
          "base_uri": "https://localhost:8080/",
          "height": 490
        },
        "id": "fjBgQVzrM2xz",
        "outputId": "1b913653-3240-40a3-b648-48ee0e82fe5a"
      },
      "source": [
        "data_raw.columns = col_names\n",
        "data_raw"
      ],
      "execution_count": null,
      "outputs": [
        {
          "output_type": "execute_result",
          "data": {
            "text/html": [
              "<div>\n",
              "<style scoped>\n",
              "    .dataframe tbody tr th:only-of-type {\n",
              "        vertical-align: middle;\n",
              "    }\n",
              "\n",
              "    .dataframe tbody tr th {\n",
              "        vertical-align: top;\n",
              "    }\n",
              "\n",
              "    .dataframe thead th {\n",
              "        text-align: right;\n",
              "    }\n",
              "</style>\n",
              "<table border=\"1\" class=\"dataframe\">\n",
              "  <thead>\n",
              "    <tr style=\"text-align: right;\">\n",
              "      <th></th>\n",
              "      <th>ID_CLIENT</th>\n",
              "      <th>CLERK_TYPE</th>\n",
              "      <th>PAYMENT_DAY</th>\n",
              "      <th>APPLICATION_SUBMISSION_TYPE</th>\n",
              "      <th>QUANT_ADDITIONAL_CARDS</th>\n",
              "      <th>POSTAL_ADDRESS_TYPE</th>\n",
              "      <th>SEX</th>\n",
              "      <th>MARITAL_STATUS</th>\n",
              "      <th>QUANT_DEPENDANTS</th>\n",
              "      <th>EDUCATION_LEVEL</th>\n",
              "      <th>STATE_OF_BIRTH</th>\n",
              "      <th>CITY_OF_BIRTH</th>\n",
              "      <th>NACIONALITY</th>\n",
              "      <th>RESIDENCIAL_STATE</th>\n",
              "      <th>RESIDENCIAL_CITY</th>\n",
              "      <th>RESIDENCIAL_BOROUGH</th>\n",
              "      <th>FLAG_RESIDENCIAL_PHONE</th>\n",
              "      <th>RESIDENCIAL_PHONE_AREA_CODE</th>\n",
              "      <th>RESIDENCE_TYPE</th>\n",
              "      <th>MONTHS_IN_RESIDENCE</th>\n",
              "      <th>FLAG_MOBILE_PHONE</th>\n",
              "      <th>FLAG_EMAIL</th>\n",
              "      <th>PERSONAL_MONTHLY_INCOME</th>\n",
              "      <th>OTHER_INCOMES</th>\n",
              "      <th>FLAG_VISA</th>\n",
              "      <th>FLAG_MASTERCARD</th>\n",
              "      <th>FLAG_DINERS</th>\n",
              "      <th>FLAG_AMERICAN_EXPRESS</th>\n",
              "      <th>FLAG_OTHER_CARDS</th>\n",
              "      <th>QUANT_BANKING_ACCOUNTS</th>\n",
              "      <th>QUANT_SPECIAL_BANKING_ACCOUNTS</th>\n",
              "      <th>PERSONAL_ASSETS_VALUE</th>\n",
              "      <th>QUANT_CARS</th>\n",
              "      <th>COMPANY</th>\n",
              "      <th>PROFESSIONAL_STATE</th>\n",
              "      <th>PROFESSIONAL_CITY</th>\n",
              "      <th>PROFESSIONAL_BOROUGH</th>\n",
              "      <th>FLAG_PROFESSIONAL_PHONE</th>\n",
              "      <th>PROFESSIONAL_PHONE_AREA_CODE</th>\n",
              "      <th>MONTHS_IN_THE_JOB</th>\n",
              "      <th>PROFESSION_CODE</th>\n",
              "      <th>OCCUPATION_TYPE</th>\n",
              "      <th>MATE_PROFESSION_CODE</th>\n",
              "      <th>MATE_EDUCATION_LEVEL</th>\n",
              "      <th>FLAG_HOME_ADDRESS_DOCUMENT</th>\n",
              "      <th>FLAG_RG</th>\n",
              "      <th>FLAG_CPF</th>\n",
              "      <th>FLAG_INCOME_PROOF</th>\n",
              "      <th>PRODUCT</th>\n",
              "      <th>FLAG_ACSP_RECORD</th>\n",
              "      <th>AGE</th>\n",
              "      <th>RESIDENCIAL_ZIP_3</th>\n",
              "      <th>PROFESSIONAL_ZIP_3</th>\n",
              "      <th>TARGET_LABEL</th>\n",
              "    </tr>\n",
              "  </thead>\n",
              "  <tbody>\n",
              "    <tr>\n",
              "      <th>0</th>\n",
              "      <td>1</td>\n",
              "      <td>C</td>\n",
              "      <td>5</td>\n",
              "      <td>Web</td>\n",
              "      <td>0</td>\n",
              "      <td>1</td>\n",
              "      <td>F</td>\n",
              "      <td>6</td>\n",
              "      <td>1</td>\n",
              "      <td>0</td>\n",
              "      <td>RN</td>\n",
              "      <td>Assu</td>\n",
              "      <td>1</td>\n",
              "      <td>RN</td>\n",
              "      <td>Santana do Matos</td>\n",
              "      <td>Centro</td>\n",
              "      <td>Y</td>\n",
              "      <td>105</td>\n",
              "      <td>1.0</td>\n",
              "      <td>15.0</td>\n",
              "      <td>N</td>\n",
              "      <td>1</td>\n",
              "      <td>900.00</td>\n",
              "      <td>0.0</td>\n",
              "      <td>1</td>\n",
              "      <td>1</td>\n",
              "      <td>0</td>\n",
              "      <td>0</td>\n",
              "      <td>0</td>\n",
              "      <td>0</td>\n",
              "      <td>0</td>\n",
              "      <td>0.0</td>\n",
              "      <td>0</td>\n",
              "      <td>N</td>\n",
              "      <td></td>\n",
              "      <td>NaN</td>\n",
              "      <td>NaN</td>\n",
              "      <td>N</td>\n",
              "      <td></td>\n",
              "      <td>0</td>\n",
              "      <td>9.0</td>\n",
              "      <td>4.0</td>\n",
              "      <td>NaN</td>\n",
              "      <td>NaN</td>\n",
              "      <td>0</td>\n",
              "      <td>0</td>\n",
              "      <td>0</td>\n",
              "      <td>0</td>\n",
              "      <td>1</td>\n",
              "      <td>N</td>\n",
              "      <td>32</td>\n",
              "      <td>595</td>\n",
              "      <td>595</td>\n",
              "      <td>1</td>\n",
              "    </tr>\n",
              "    <tr>\n",
              "      <th>1</th>\n",
              "      <td>2</td>\n",
              "      <td>C</td>\n",
              "      <td>15</td>\n",
              "      <td>Carga</td>\n",
              "      <td>0</td>\n",
              "      <td>1</td>\n",
              "      <td>F</td>\n",
              "      <td>2</td>\n",
              "      <td>0</td>\n",
              "      <td>0</td>\n",
              "      <td>RJ</td>\n",
              "      <td>rio de janeiro</td>\n",
              "      <td>1</td>\n",
              "      <td>RJ</td>\n",
              "      <td>RIO DE JANEIRO</td>\n",
              "      <td>CAMPO GRANDE</td>\n",
              "      <td>Y</td>\n",
              "      <td>20</td>\n",
              "      <td>1.0</td>\n",
              "      <td>1.0</td>\n",
              "      <td>N</td>\n",
              "      <td>1</td>\n",
              "      <td>750.00</td>\n",
              "      <td>0.0</td>\n",
              "      <td>0</td>\n",
              "      <td>0</td>\n",
              "      <td>0</td>\n",
              "      <td>0</td>\n",
              "      <td>0</td>\n",
              "      <td>0</td>\n",
              "      <td>0</td>\n",
              "      <td>0.0</td>\n",
              "      <td>0</td>\n",
              "      <td>Y</td>\n",
              "      <td></td>\n",
              "      <td>NaN</td>\n",
              "      <td>NaN</td>\n",
              "      <td>N</td>\n",
              "      <td></td>\n",
              "      <td>0</td>\n",
              "      <td>11.0</td>\n",
              "      <td>4.0</td>\n",
              "      <td>11.0</td>\n",
              "      <td>NaN</td>\n",
              "      <td>0</td>\n",
              "      <td>0</td>\n",
              "      <td>0</td>\n",
              "      <td>0</td>\n",
              "      <td>1</td>\n",
              "      <td>N</td>\n",
              "      <td>34</td>\n",
              "      <td>230</td>\n",
              "      <td>230</td>\n",
              "      <td>1</td>\n",
              "    </tr>\n",
              "    <tr>\n",
              "      <th>2</th>\n",
              "      <td>3</td>\n",
              "      <td>C</td>\n",
              "      <td>5</td>\n",
              "      <td>Web</td>\n",
              "      <td>0</td>\n",
              "      <td>1</td>\n",
              "      <td>F</td>\n",
              "      <td>2</td>\n",
              "      <td>0</td>\n",
              "      <td>0</td>\n",
              "      <td>RN</td>\n",
              "      <td>GARANHUNS</td>\n",
              "      <td>1</td>\n",
              "      <td>RN</td>\n",
              "      <td>Parnamirim</td>\n",
              "      <td>Boa Esperanca</td>\n",
              "      <td>Y</td>\n",
              "      <td>105</td>\n",
              "      <td>1.0</td>\n",
              "      <td>NaN</td>\n",
              "      <td>N</td>\n",
              "      <td>1</td>\n",
              "      <td>500.00</td>\n",
              "      <td>0.0</td>\n",
              "      <td>0</td>\n",
              "      <td>0</td>\n",
              "      <td>0</td>\n",
              "      <td>0</td>\n",
              "      <td>0</td>\n",
              "      <td>0</td>\n",
              "      <td>0</td>\n",
              "      <td>0.0</td>\n",
              "      <td>0</td>\n",
              "      <td>N</td>\n",
              "      <td></td>\n",
              "      <td>NaN</td>\n",
              "      <td>NaN</td>\n",
              "      <td>N</td>\n",
              "      <td></td>\n",
              "      <td>0</td>\n",
              "      <td>11.0</td>\n",
              "      <td>NaN</td>\n",
              "      <td>NaN</td>\n",
              "      <td>NaN</td>\n",
              "      <td>0</td>\n",
              "      <td>0</td>\n",
              "      <td>0</td>\n",
              "      <td>0</td>\n",
              "      <td>1</td>\n",
              "      <td>N</td>\n",
              "      <td>27</td>\n",
              "      <td>591</td>\n",
              "      <td>591</td>\n",
              "      <td>0</td>\n",
              "    </tr>\n",
              "    <tr>\n",
              "      <th>3</th>\n",
              "      <td>4</td>\n",
              "      <td>C</td>\n",
              "      <td>20</td>\n",
              "      <td>Web</td>\n",
              "      <td>0</td>\n",
              "      <td>1</td>\n",
              "      <td>F</td>\n",
              "      <td>2</td>\n",
              "      <td>0</td>\n",
              "      <td>0</td>\n",
              "      <td>PE</td>\n",
              "      <td>CABO</td>\n",
              "      <td>1</td>\n",
              "      <td>PE</td>\n",
              "      <td>CABO</td>\n",
              "      <td>PONTE DOS CARVALHOS</td>\n",
              "      <td>N</td>\n",
              "      <td></td>\n",
              "      <td>NaN</td>\n",
              "      <td>NaN</td>\n",
              "      <td>N</td>\n",
              "      <td>1</td>\n",
              "      <td>500.00</td>\n",
              "      <td>0.0</td>\n",
              "      <td>0</td>\n",
              "      <td>0</td>\n",
              "      <td>0</td>\n",
              "      <td>0</td>\n",
              "      <td>0</td>\n",
              "      <td>0</td>\n",
              "      <td>0</td>\n",
              "      <td>0.0</td>\n",
              "      <td>0</td>\n",
              "      <td>N</td>\n",
              "      <td></td>\n",
              "      <td>NaN</td>\n",
              "      <td>NaN</td>\n",
              "      <td>N</td>\n",
              "      <td></td>\n",
              "      <td>0</td>\n",
              "      <td>NaN</td>\n",
              "      <td>NaN</td>\n",
              "      <td>NaN</td>\n",
              "      <td>NaN</td>\n",
              "      <td>0</td>\n",
              "      <td>0</td>\n",
              "      <td>0</td>\n",
              "      <td>0</td>\n",
              "      <td>1</td>\n",
              "      <td>N</td>\n",
              "      <td>61</td>\n",
              "      <td>545</td>\n",
              "      <td>545</td>\n",
              "      <td>0</td>\n",
              "    </tr>\n",
              "    <tr>\n",
              "      <th>4</th>\n",
              "      <td>5</td>\n",
              "      <td>C</td>\n",
              "      <td>10</td>\n",
              "      <td>Web</td>\n",
              "      <td>0</td>\n",
              "      <td>1</td>\n",
              "      <td>M</td>\n",
              "      <td>2</td>\n",
              "      <td>0</td>\n",
              "      <td>0</td>\n",
              "      <td>RJ</td>\n",
              "      <td>RIO DE JANEIRO</td>\n",
              "      <td>1</td>\n",
              "      <td>RJ</td>\n",
              "      <td>Rio de Janeiro</td>\n",
              "      <td>Santa Cruz</td>\n",
              "      <td>Y</td>\n",
              "      <td>20</td>\n",
              "      <td>1.0</td>\n",
              "      <td>12.0</td>\n",
              "      <td>N</td>\n",
              "      <td>1</td>\n",
              "      <td>1200.00</td>\n",
              "      <td>0.0</td>\n",
              "      <td>0</td>\n",
              "      <td>0</td>\n",
              "      <td>0</td>\n",
              "      <td>0</td>\n",
              "      <td>0</td>\n",
              "      <td>0</td>\n",
              "      <td>0</td>\n",
              "      <td>0.0</td>\n",
              "      <td>0</td>\n",
              "      <td>N</td>\n",
              "      <td></td>\n",
              "      <td>NaN</td>\n",
              "      <td>NaN</td>\n",
              "      <td>N</td>\n",
              "      <td></td>\n",
              "      <td>0</td>\n",
              "      <td>9.0</td>\n",
              "      <td>5.0</td>\n",
              "      <td>NaN</td>\n",
              "      <td>NaN</td>\n",
              "      <td>0</td>\n",
              "      <td>0</td>\n",
              "      <td>0</td>\n",
              "      <td>0</td>\n",
              "      <td>1</td>\n",
              "      <td>N</td>\n",
              "      <td>48</td>\n",
              "      <td>235</td>\n",
              "      <td>235</td>\n",
              "      <td>1</td>\n",
              "    </tr>\n",
              "    <tr>\n",
              "      <th>...</th>\n",
              "      <td>...</td>\n",
              "      <td>...</td>\n",
              "      <td>...</td>\n",
              "      <td>...</td>\n",
              "      <td>...</td>\n",
              "      <td>...</td>\n",
              "      <td>...</td>\n",
              "      <td>...</td>\n",
              "      <td>...</td>\n",
              "      <td>...</td>\n",
              "      <td>...</td>\n",
              "      <td>...</td>\n",
              "      <td>...</td>\n",
              "      <td>...</td>\n",
              "      <td>...</td>\n",
              "      <td>...</td>\n",
              "      <td>...</td>\n",
              "      <td>...</td>\n",
              "      <td>...</td>\n",
              "      <td>...</td>\n",
              "      <td>...</td>\n",
              "      <td>...</td>\n",
              "      <td>...</td>\n",
              "      <td>...</td>\n",
              "      <td>...</td>\n",
              "      <td>...</td>\n",
              "      <td>...</td>\n",
              "      <td>...</td>\n",
              "      <td>...</td>\n",
              "      <td>...</td>\n",
              "      <td>...</td>\n",
              "      <td>...</td>\n",
              "      <td>...</td>\n",
              "      <td>...</td>\n",
              "      <td>...</td>\n",
              "      <td>...</td>\n",
              "      <td>...</td>\n",
              "      <td>...</td>\n",
              "      <td>...</td>\n",
              "      <td>...</td>\n",
              "      <td>...</td>\n",
              "      <td>...</td>\n",
              "      <td>...</td>\n",
              "      <td>...</td>\n",
              "      <td>...</td>\n",
              "      <td>...</td>\n",
              "      <td>...</td>\n",
              "      <td>...</td>\n",
              "      <td>...</td>\n",
              "      <td>...</td>\n",
              "      <td>...</td>\n",
              "      <td>...</td>\n",
              "      <td>...</td>\n",
              "      <td>...</td>\n",
              "    </tr>\n",
              "    <tr>\n",
              "      <th>49995</th>\n",
              "      <td>49996</td>\n",
              "      <td>C</td>\n",
              "      <td>10</td>\n",
              "      <td>0</td>\n",
              "      <td>0</td>\n",
              "      <td>1</td>\n",
              "      <td>F</td>\n",
              "      <td>1</td>\n",
              "      <td>2</td>\n",
              "      <td>0</td>\n",
              "      <td>RN</td>\n",
              "      <td>NATAL</td>\n",
              "      <td>1</td>\n",
              "      <td>RN</td>\n",
              "      <td>NATAL</td>\n",
              "      <td>PAJUCARA</td>\n",
              "      <td>Y</td>\n",
              "      <td>105</td>\n",
              "      <td>1.0</td>\n",
              "      <td>14.0</td>\n",
              "      <td>N</td>\n",
              "      <td>1</td>\n",
              "      <td>1451.00</td>\n",
              "      <td>0.0</td>\n",
              "      <td>0</td>\n",
              "      <td>0</td>\n",
              "      <td>0</td>\n",
              "      <td>0</td>\n",
              "      <td>0</td>\n",
              "      <td>1</td>\n",
              "      <td>1</td>\n",
              "      <td>0.0</td>\n",
              "      <td>1</td>\n",
              "      <td>N</td>\n",
              "      <td></td>\n",
              "      <td>NaN</td>\n",
              "      <td>NaN</td>\n",
              "      <td>N</td>\n",
              "      <td></td>\n",
              "      <td>0</td>\n",
              "      <td>9.0</td>\n",
              "      <td>4.0</td>\n",
              "      <td>0.0</td>\n",
              "      <td>0.0</td>\n",
              "      <td>0</td>\n",
              "      <td>0</td>\n",
              "      <td>0</td>\n",
              "      <td>0</td>\n",
              "      <td>1</td>\n",
              "      <td>N</td>\n",
              "      <td>36</td>\n",
              "      <td>591</td>\n",
              "      <td>591</td>\n",
              "      <td>1</td>\n",
              "    </tr>\n",
              "    <tr>\n",
              "      <th>49996</th>\n",
              "      <td>49997</td>\n",
              "      <td>C</td>\n",
              "      <td>25</td>\n",
              "      <td>0</td>\n",
              "      <td>0</td>\n",
              "      <td>1</td>\n",
              "      <td>F</td>\n",
              "      <td>1</td>\n",
              "      <td>0</td>\n",
              "      <td>0</td>\n",
              "      <td>SP</td>\n",
              "      <td>LENCOIS PAULISTA</td>\n",
              "      <td>1</td>\n",
              "      <td>SP</td>\n",
              "      <td>Lencois Paulista</td>\n",
              "      <td>Nucleo Habitacional Joao Zillo</td>\n",
              "      <td>Y</td>\n",
              "      <td>12</td>\n",
              "      <td>1.0</td>\n",
              "      <td>15.0</td>\n",
              "      <td>N</td>\n",
              "      <td>1</td>\n",
              "      <td>450.00</td>\n",
              "      <td>0.0</td>\n",
              "      <td>0</td>\n",
              "      <td>0</td>\n",
              "      <td>0</td>\n",
              "      <td>0</td>\n",
              "      <td>0</td>\n",
              "      <td>0</td>\n",
              "      <td>0</td>\n",
              "      <td>0.0</td>\n",
              "      <td>0</td>\n",
              "      <td>N</td>\n",
              "      <td></td>\n",
              "      <td>NaN</td>\n",
              "      <td>NaN</td>\n",
              "      <td>N</td>\n",
              "      <td></td>\n",
              "      <td>0</td>\n",
              "      <td>NaN</td>\n",
              "      <td>NaN</td>\n",
              "      <td>NaN</td>\n",
              "      <td>NaN</td>\n",
              "      <td>0</td>\n",
              "      <td>0</td>\n",
              "      <td>0</td>\n",
              "      <td>0</td>\n",
              "      <td>2</td>\n",
              "      <td>N</td>\n",
              "      <td>21</td>\n",
              "      <td>186</td>\n",
              "      <td>186</td>\n",
              "      <td>0</td>\n",
              "    </tr>\n",
              "    <tr>\n",
              "      <th>49997</th>\n",
              "      <td>49998</td>\n",
              "      <td>C</td>\n",
              "      <td>5</td>\n",
              "      <td>Web</td>\n",
              "      <td>0</td>\n",
              "      <td>1</td>\n",
              "      <td>M</td>\n",
              "      <td>2</td>\n",
              "      <td>3</td>\n",
              "      <td>0</td>\n",
              "      <td>PR</td>\n",
              "      <td>RIO BONITO</td>\n",
              "      <td>1</td>\n",
              "      <td>SP</td>\n",
              "      <td>GUARULHOS</td>\n",
              "      <td>jardim vida nova</td>\n",
              "      <td>Y</td>\n",
              "      <td>5</td>\n",
              "      <td>2.0</td>\n",
              "      <td>5.0</td>\n",
              "      <td>N</td>\n",
              "      <td>1</td>\n",
              "      <td>1555.00</td>\n",
              "      <td>0.0</td>\n",
              "      <td>0</td>\n",
              "      <td>0</td>\n",
              "      <td>0</td>\n",
              "      <td>0</td>\n",
              "      <td>0</td>\n",
              "      <td>0</td>\n",
              "      <td>0</td>\n",
              "      <td>0.0</td>\n",
              "      <td>0</td>\n",
              "      <td>Y</td>\n",
              "      <td>SP</td>\n",
              "      <td>GUARULHOS</td>\n",
              "      <td>ITAPEGICA</td>\n",
              "      <td>Y</td>\n",
              "      <td>5</td>\n",
              "      <td>0</td>\n",
              "      <td>9.0</td>\n",
              "      <td>2.0</td>\n",
              "      <td>NaN</td>\n",
              "      <td>NaN</td>\n",
              "      <td>0</td>\n",
              "      <td>0</td>\n",
              "      <td>0</td>\n",
              "      <td>0</td>\n",
              "      <td>1</td>\n",
              "      <td>N</td>\n",
              "      <td>41</td>\n",
              "      <td>715</td>\n",
              "      <td>715</td>\n",
              "      <td>0</td>\n",
              "    </tr>\n",
              "    <tr>\n",
              "      <th>49998</th>\n",
              "      <td>49999</td>\n",
              "      <td>C</td>\n",
              "      <td>1</td>\n",
              "      <td>Web</td>\n",
              "      <td>0</td>\n",
              "      <td>1</td>\n",
              "      <td>F</td>\n",
              "      <td>1</td>\n",
              "      <td>1</td>\n",
              "      <td>0</td>\n",
              "      <td>SP</td>\n",
              "      <td>SAO PAULO</td>\n",
              "      <td>1</td>\n",
              "      <td>MG</td>\n",
              "      <td>CONTAGEM</td>\n",
              "      <td>VILA BELEM</td>\n",
              "      <td>Y</td>\n",
              "      <td>29</td>\n",
              "      <td>1.0</td>\n",
              "      <td>NaN</td>\n",
              "      <td>N</td>\n",
              "      <td>1</td>\n",
              "      <td>1443.27</td>\n",
              "      <td>0.0</td>\n",
              "      <td>0</td>\n",
              "      <td>0</td>\n",
              "      <td>0</td>\n",
              "      <td>0</td>\n",
              "      <td>0</td>\n",
              "      <td>0</td>\n",
              "      <td>0</td>\n",
              "      <td>0.0</td>\n",
              "      <td>0</td>\n",
              "      <td>Y</td>\n",
              "      <td>MG</td>\n",
              "      <td>BETIM</td>\n",
              "      <td>JARDIM ALTEROSA</td>\n",
              "      <td>Y</td>\n",
              "      <td>29</td>\n",
              "      <td>0</td>\n",
              "      <td>9.0</td>\n",
              "      <td>2.0</td>\n",
              "      <td>NaN</td>\n",
              "      <td>NaN</td>\n",
              "      <td>0</td>\n",
              "      <td>0</td>\n",
              "      <td>0</td>\n",
              "      <td>0</td>\n",
              "      <td>1</td>\n",
              "      <td>N</td>\n",
              "      <td>28</td>\n",
              "      <td>320</td>\n",
              "      <td>320</td>\n",
              "      <td>1</td>\n",
              "    </tr>\n",
              "    <tr>\n",
              "      <th>49999</th>\n",
              "      <td>50000</td>\n",
              "      <td>C</td>\n",
              "      <td>10</td>\n",
              "      <td>Web</td>\n",
              "      <td>0</td>\n",
              "      <td>1</td>\n",
              "      <td>F</td>\n",
              "      <td>2</td>\n",
              "      <td>2</td>\n",
              "      <td>0</td>\n",
              "      <td>SP</td>\n",
              "      <td>PINDABA</td>\n",
              "      <td>1</td>\n",
              "      <td>SP</td>\n",
              "      <td>Pindamonhangaba</td>\n",
              "      <td>Feital</td>\n",
              "      <td>N</td>\n",
              "      <td></td>\n",
              "      <td>1.0</td>\n",
              "      <td>9.0</td>\n",
              "      <td>N</td>\n",
              "      <td>1</td>\n",
              "      <td>719.38</td>\n",
              "      <td>0.0</td>\n",
              "      <td>0</td>\n",
              "      <td>0</td>\n",
              "      <td>0</td>\n",
              "      <td>0</td>\n",
              "      <td>0</td>\n",
              "      <td>0</td>\n",
              "      <td>0</td>\n",
              "      <td>0.0</td>\n",
              "      <td>0</td>\n",
              "      <td>Y</td>\n",
              "      <td>SP</td>\n",
              "      <td>PINDABA</td>\n",
              "      <td>CIDADE NOVA</td>\n",
              "      <td>Y</td>\n",
              "      <td>9</td>\n",
              "      <td>0</td>\n",
              "      <td>9.0</td>\n",
              "      <td>2.0</td>\n",
              "      <td>NaN</td>\n",
              "      <td>NaN</td>\n",
              "      <td>0</td>\n",
              "      <td>0</td>\n",
              "      <td>0</td>\n",
              "      <td>0</td>\n",
              "      <td>1</td>\n",
              "      <td>N</td>\n",
              "      <td>27</td>\n",
              "      <td>124</td>\n",
              "      <td>124</td>\n",
              "      <td>0</td>\n",
              "    </tr>\n",
              "  </tbody>\n",
              "</table>\n",
              "<p>50000 rows × 54 columns</p>\n",
              "</div>"
            ],
            "text/plain": [
              "       ID_CLIENT CLERK_TYPE  ...  PROFESSIONAL_ZIP_3 TARGET_LABEL\n",
              "0              1          C  ...                 595            1\n",
              "1              2          C  ...                 230            1\n",
              "2              3          C  ...                 591            0\n",
              "3              4          C  ...                 545            0\n",
              "4              5          C  ...                 235            1\n",
              "...          ...        ...  ...                 ...          ...\n",
              "49995      49996          C  ...                 591            1\n",
              "49996      49997          C  ...                 186            0\n",
              "49997      49998          C  ...                 715            0\n",
              "49998      49999          C  ...                 320            1\n",
              "49999      50000          C  ...                 124            0\n",
              "\n",
              "[50000 rows x 54 columns]"
            ]
          },
          "metadata": {
            "tags": []
          },
          "execution_count": 102
        }
      ]
    },
    {
      "cell_type": "markdown",
      "metadata": {
        "id": "pXM-Qo2OqTlv"
      },
      "source": [
        "# 1) Variables with known NaN's"
      ]
    },
    {
      "cell_type": "code",
      "metadata": {
        "id": "7A0ShLaJUYeH"
      },
      "source": [
        "#Checking which columns contain \"NaN\" values\n",
        "col_with_nan = []\n",
        "for col in data_raw:\n",
        "  if data_raw[col].isnull().values.any():\n",
        "    col_with_nan.append(col)"
      ],
      "execution_count": null,
      "outputs": []
    },
    {
      "cell_type": "code",
      "metadata": {
        "colab": {
          "base_uri": "https://localhost:8080/"
        },
        "id": "Y7QqubF2UeA9",
        "outputId": "48281977-a75d-4663-9bfe-d2ba712ea180"
      },
      "source": [
        "col_with_nan"
      ],
      "execution_count": null,
      "outputs": [
        {
          "output_type": "execute_result",
          "data": {
            "text/plain": [
              "['RESIDENCE_TYPE',\n",
              " 'MONTHS_IN_RESIDENCE',\n",
              " 'PROFESSIONAL_CITY',\n",
              " 'PROFESSIONAL_BOROUGH',\n",
              " 'PROFESSION_CODE',\n",
              " 'OCCUPATION_TYPE',\n",
              " 'MATE_PROFESSION_CODE',\n",
              " 'MATE_EDUCATION_LEVEL']"
            ]
          },
          "metadata": {
            "tags": []
          },
          "execution_count": 104
        }
      ]
    },
    {
      "cell_type": "markdown",
      "metadata": {
        "id": "DNGSUm0dHY8G"
      },
      "source": [
        "Another issue we are seeing here is that EDUCATION_LEVEL has no explanatory power as seen as below, so MATE_EDUCATION_LEVEL might me a good substitute for it"
      ]
    },
    {
      "cell_type": "code",
      "metadata": {
        "id": "Ad5D2yGRZWoH"
      },
      "source": [
        "count = 0\n",
        "for row in range(50000):\n",
        "  if data_raw.loc[row, \"EDUCATION_LEVEL\"] == 0:\n",
        "    count = count + 1 "
      ],
      "execution_count": null,
      "outputs": []
    },
    {
      "cell_type": "code",
      "metadata": {
        "colab": {
          "base_uri": "https://localhost:8080/"
        },
        "id": "WAJDiVBWZzkj",
        "outputId": "90d977e2-1455-424b-c79a-a06ad7996177"
      },
      "source": [
        "count"
      ],
      "execution_count": null,
      "outputs": [
        {
          "output_type": "execute_result",
          "data": {
            "text/plain": [
              "50000"
            ]
          },
          "metadata": {
            "tags": []
          },
          "execution_count": 106
        }
      ]
    },
    {
      "cell_type": "markdown",
      "metadata": {
        "id": "imZraEpqVyS4"
      },
      "source": [
        "Let us first consider MATE_EDUCATION_LEVEL to see the number of missing values."
      ]
    },
    {
      "cell_type": "code",
      "metadata": {
        "id": "RKyVBhjcjKXl"
      },
      "source": [
        "nan_count = 0\n",
        "nan_idx = []\n",
        "ed_level = []\n",
        "for row in range(50000):\n",
        "  if math.isnan(data_raw.loc[row, \"MATE_EDUCATION_LEVEL\"]):\n",
        "    nan_count = nan_count + 1\n",
        "    nan_idx.append(row)\n",
        "  else:\n",
        "    ed_level.append(data_raw.loc[row, \"MATE_EDUCATION_LEVEL\"])"
      ],
      "execution_count": null,
      "outputs": []
    },
    {
      "cell_type": "code",
      "metadata": {
        "colab": {
          "base_uri": "https://localhost:8080/"
        },
        "id": "NHXdO0GejhdM",
        "outputId": "857c5134-4dbf-45da-bb2d-1e41ddf6806f"
      },
      "source": [
        "nan_count"
      ],
      "execution_count": null,
      "outputs": [
        {
          "output_type": "execute_result",
          "data": {
            "text/plain": [
              "32338"
            ]
          },
          "metadata": {
            "tags": []
          },
          "execution_count": 108
        }
      ]
    },
    {
      "cell_type": "markdown",
      "metadata": {
        "id": "ahJeFDpkV6sH"
      },
      "source": [
        "There are a lot of missing observations, namely 32338. We need to see if we can potentially replace those observations maybe using median/mean. Let us look at the statistics of current observations."
      ]
    },
    {
      "cell_type": "code",
      "metadata": {
        "colab": {
          "base_uri": "https://localhost:8080/"
        },
        "id": "xvrIaW2BjiK_",
        "outputId": "2988ca8e-b14c-4c6b-9c8f-a2b2b39067f5"
      },
      "source": [
        "np.mean(ed_level)"
      ],
      "execution_count": null,
      "outputs": [
        {
          "output_type": "execute_result",
          "data": {
            "text/plain": [
              "0.2960027176990148"
            ]
          },
          "metadata": {
            "tags": []
          },
          "execution_count": 109
        }
      ]
    },
    {
      "cell_type": "code",
      "metadata": {
        "colab": {
          "base_uri": "https://localhost:8080/"
        },
        "id": "qEeUeI0UVRpW",
        "outputId": "8ddfa333-d1b0-4091-88f6-2cc5f334a010"
      },
      "source": [
        "np.median(ed_level)"
      ],
      "execution_count": null,
      "outputs": [
        {
          "output_type": "execute_result",
          "data": {
            "text/plain": [
              "0.0"
            ]
          },
          "metadata": {
            "tags": []
          },
          "execution_count": 110
        }
      ]
    },
    {
      "cell_type": "code",
      "metadata": {
        "colab": {
          "base_uri": "https://localhost:8080/"
        },
        "id": "v1_XusP_WKVe",
        "outputId": "aa51bcb3-2b1e-47f2-9c4f-b8c41e3d4e7f"
      },
      "source": [
        "ed_level.count(0.0)"
      ],
      "execution_count": null,
      "outputs": [
        {
          "output_type": "execute_result",
          "data": {
            "text/plain": [
              "15995"
            ]
          },
          "metadata": {
            "tags": []
          },
          "execution_count": 111
        }
      ]
    },
    {
      "cell_type": "code",
      "metadata": {
        "colab": {
          "base_uri": "https://localhost:8080/"
        },
        "id": "GQM8IcJ7Wk-I",
        "outputId": "93ab23f7-9f40-4f1e-a495-44281382f64e"
      },
      "source": [
        "ed_level.count(0.0)/len(ed_level)"
      ],
      "execution_count": null,
      "outputs": [
        {
          "output_type": "execute_result",
          "data": {
            "text/plain": [
              "0.9056165779639905"
            ]
          },
          "metadata": {
            "tags": []
          },
          "execution_count": 112
        }
      ]
    },
    {
      "cell_type": "markdown",
      "metadata": {
        "id": "bFnleDcFWFpB"
      },
      "source": [
        "We can also keep the variable if the values with different education level may be extremely significant, but we will have to make a judgement call on how to handle the missing observations. The values are close to zero, we may consider instead to drop the column altogether since we see about 90.56% of observations equal to 0."
      ]
    },
    {
      "cell_type": "markdown",
      "metadata": {
        "id": "-n3ysUgKZ6qE"
      },
      "source": [
        "Let us consider RESIDENCE_TYPE as a variable now"
      ]
    },
    {
      "cell_type": "code",
      "metadata": {
        "id": "XVLhYAG-VtqC"
      },
      "source": [
        "nan_count = 0\n",
        "nan_idx = []\n",
        "res_type = []\n",
        "for row in range(50000):\n",
        "  if math.isnan(data_raw.loc[row, \"RESIDENCE_TYPE\"]):\n",
        "    nan_count = nan_count + 1\n",
        "    nan_idx.append(row)\n",
        "  else:\n",
        "    res_type.append(data_raw.loc[row, \"RESIDENCE_TYPE\"])"
      ],
      "execution_count": null,
      "outputs": []
    },
    {
      "cell_type": "code",
      "metadata": {
        "colab": {
          "base_uri": "https://localhost:8080/"
        },
        "id": "R6CW82VDaXPz",
        "outputId": "e50f1f7d-e3e0-43db-c0f9-d8f5ba8620b0"
      },
      "source": [
        "nan_count"
      ],
      "execution_count": null,
      "outputs": [
        {
          "output_type": "execute_result",
          "data": {
            "text/plain": [
              "1349"
            ]
          },
          "metadata": {
            "tags": []
          },
          "execution_count": 114
        }
      ]
    },
    {
      "cell_type": "markdown",
      "metadata": {
        "id": "bp7a27bsguzF"
      },
      "source": [
        "Ideally we do not want to omit the observations as it would reduce our predictive power. As such, we will instead replace with the median value of the residence type"
      ]
    },
    {
      "cell_type": "code",
      "metadata": {
        "colab": {
          "base_uri": "https://localhost:8080/"
        },
        "id": "ReD4qClfaYul",
        "outputId": "8330aa36-8578-4be7-901e-be11339381c8"
      },
      "source": [
        "np.median(res_type)"
      ],
      "execution_count": null,
      "outputs": [
        {
          "output_type": "execute_result",
          "data": {
            "text/plain": [
              "1.0"
            ]
          },
          "metadata": {
            "tags": []
          },
          "execution_count": 115
        }
      ]
    },
    {
      "cell_type": "code",
      "metadata": {
        "colab": {
          "base_uri": "https://localhost:8080/"
        },
        "id": "KD_-F7h6gnRD",
        "outputId": "0a49ec12-d4e3-4a76-c075-0ef0a90a7af8"
      },
      "source": [
        "print(\"Number of 0.0:\")\n",
        "print(res_type.count(0.0))\n",
        "print(\"Number of 1.0:\")\n",
        "print(res_type.count(1.0))\n",
        "print(\"Number of 2.0:\")\n",
        "print(res_type.count(2.0))\n",
        "print(\"Number of 3.0:\")\n",
        "print(res_type.count(3.0))\n",
        "print(\"Number of 4.0:\")\n",
        "print(res_type.count(4.0))\n",
        "print(\"Number of 5.0:\")\n",
        "print(res_type.count(5.0))"
      ],
      "execution_count": null,
      "outputs": [
        {
          "output_type": "stream",
          "text": [
            "Number of 0.0:\n",
            "760\n",
            "Number of 1.0:\n",
            "41572\n",
            "Number of 2.0:\n",
            "3884\n",
            "Number of 3.0:\n",
            "141\n",
            "Number of 4.0:\n",
            "311\n",
            "Number of 5.0:\n",
            "1983\n"
          ],
          "name": "stdout"
        }
      ]
    },
    {
      "cell_type": "markdown",
      "metadata": {
        "id": "o4lSnLYjvmwq"
      },
      "source": [
        "Let us know consider the MONTHS_IN_RESIDENCE variable"
      ]
    },
    {
      "cell_type": "code",
      "metadata": {
        "id": "9xYh_UEjwRXd"
      },
      "source": [
        "nan_count = 0\n",
        "nan_idx = []\n",
        "mir_nums = []\n",
        "for row in range(50000):\n",
        "  if math.isnan(data_raw.loc[row, \"MONTHS_IN_RESIDENCE\"]):\n",
        "    nan_count = nan_count + 1\n",
        "    nan_idx.append(row)\n",
        "  else:\n",
        "    mir_nums.append(data_raw.loc[row, \"MONTHS_IN_RESIDENCE\"])"
      ],
      "execution_count": null,
      "outputs": []
    },
    {
      "cell_type": "code",
      "metadata": {
        "colab": {
          "base_uri": "https://localhost:8080/"
        },
        "id": "qtzNyesH5alO",
        "outputId": "d1fe1240-b4fe-4411-bb0d-67c4bc9d5489"
      },
      "source": [
        "nan_count"
      ],
      "execution_count": null,
      "outputs": [
        {
          "output_type": "execute_result",
          "data": {
            "text/plain": [
              "3777"
            ]
          },
          "metadata": {
            "tags": []
          },
          "execution_count": 118
        }
      ]
    },
    {
      "cell_type": "code",
      "metadata": {
        "colab": {
          "base_uri": "https://localhost:8080/",
          "height": 595
        },
        "id": "PK7U6oFM5rw-",
        "outputId": "e480cadc-a575-45d1-992e-dfd563c85ddf"
      },
      "source": [
        "_ = plt.figure(figsize=(10,10))\n",
        "_ = plt.hist(mir_nums, bins = 100)"
      ],
      "execution_count": null,
      "outputs": [
        {
          "output_type": "display_data",
          "data": {
            "image/png": "[encoded data removed]",
            "text/plain": [
              "<Figure size 720x720 with 1 Axes>"
            ]
          },
          "metadata": {
            "tags": [],
            "needs_background": "light"
          }
        }
      ]
    },
    {
      "cell_type": "markdown",
      "metadata": {
        "id": "RDCYC9hY7vFl"
      },
      "source": [
        "We will replace the missing values by the median value as this value will be less sensitive to outliers and will be more reasonable."
      ]
    },
    {
      "cell_type": "markdown",
      "metadata": {
        "id": "VZ8BpttLAL7N"
      },
      "source": [
        "We can now consider the PROFESSIONAL_CITY variable and see how we will handle NaN's in this case."
      ]
    },
    {
      "cell_type": "code",
      "metadata": {
        "id": "UTBikGrz_kkN"
      },
      "source": [
        "nan_count = 0\n",
        "nan_idx = []\n",
        "prof_cit = []\n",
        "for row in range(50000):\n",
        "  if pd.isna(data_raw.loc[row, \"PROFESSIONAL_CITY\"]):\n",
        "    nan_count = nan_count + 1\n",
        "    nan_idx.append(row)\n",
        "  else:\n",
        "    prof_cit.append(data_raw.loc[row, \"PROFESSIONAL_CITY\"])"
      ],
      "execution_count": null,
      "outputs": []
    },
    {
      "cell_type": "code",
      "metadata": {
        "colab": {
          "base_uri": "https://localhost:8080/"
        },
        "id": "ULPtmfPYIToH",
        "outputId": "cb726fbb-160a-4924-ab51-e82e5d1a31f1"
      },
      "source": [
        "\n",
        "nan_count"
      ],
      "execution_count": null,
      "outputs": [
        {
          "output_type": "execute_result",
          "data": {
            "text/plain": [
              "33783"
            ]
          },
          "metadata": {
            "tags": []
          },
          "execution_count": 121
        }
      ]
    },
    {
      "cell_type": "markdown",
      "metadata": {
        "id": "pteBpPLNbvAZ"
      },
      "source": [
        "With such a large amount of NaN observations, and with no potential replaceable value, it is better for us to drop the column altogether."
      ]
    },
    {
      "cell_type": "markdown",
      "metadata": {
        "id": "K0T1xMsYcvw-"
      },
      "source": [
        "We can now look at PROFESSIONAL_BOROUGH which may have less NaN observations than PROFESSIONAL_CITY."
      ]
    },
    {
      "cell_type": "code",
      "metadata": {
        "id": "8zGpxk0hb7Se"
      },
      "source": [
        "nan_count = 0\n",
        "nan_idx = []\n",
        "prof_bor = []\n",
        "for row in range(50000):\n",
        "  if pd.isna(data_raw.loc[row, \"PROFESSIONAL_BOROUGH\"]):\n",
        "    nan_count = nan_count + 1\n",
        "    nan_idx.append(row)\n",
        "  else:\n",
        "    prof_bor.append(data_raw.loc[row, \"PROFESSIONAL_BOROUGH\"])"
      ],
      "execution_count": null,
      "outputs": []
    },
    {
      "cell_type": "code",
      "metadata": {
        "colab": {
          "base_uri": "https://localhost:8080/"
        },
        "id": "tvcKsPOjdPJH",
        "outputId": "0dd5c088-b7b8-4be7-8e78-c4ca6bdd99b7"
      },
      "source": [
        "nan_count"
      ],
      "execution_count": null,
      "outputs": [
        {
          "output_type": "execute_result",
          "data": {
            "text/plain": [
              "33783"
            ]
          },
          "metadata": {
            "tags": []
          },
          "execution_count": 123
        }
      ]
    },
    {
      "cell_type": "markdown",
      "metadata": {
        "id": "JpBCEMWEdTag"
      },
      "source": [
        "The number of NaN is exactly the same for the PROFESSIONAL_CITY variable, and so we can simply drop the PROFESSIONAL_BOROUGH. "
      ]
    },
    {
      "cell_type": "markdown",
      "metadata": {
        "id": "qS7Db5LWf1-v"
      },
      "source": [
        "Let's now consider PROFESSION_CODE and see how we will treat the NaN values"
      ]
    },
    {
      "cell_type": "code",
      "metadata": {
        "id": "CwM7cgCmfb6j"
      },
      "source": [
        "nan_count = 0\n",
        "nan_idx = []\n",
        "prof_code = []\n",
        "for row in range(50000):\n",
        "  if math.isnan(data_raw.loc[row, \"PROFESSION_CODE\"]):\n",
        "    nan_count = nan_count + 1\n",
        "    nan_idx.append(row)\n",
        "  else:\n",
        "    prof_code.append(data_raw.loc[row, \"PROFESSION_CODE\"])"
      ],
      "execution_count": null,
      "outputs": []
    },
    {
      "cell_type": "code",
      "metadata": {
        "colab": {
          "base_uri": "https://localhost:8080/"
        },
        "id": "sEDuE4HSgc7g",
        "outputId": "26cde8f8-71e5-4c4e-8a55-5962a067de8e"
      },
      "source": [
        "\n",
        "nan_count"
      ],
      "execution_count": null,
      "outputs": [
        {
          "output_type": "execute_result",
          "data": {
            "text/plain": [
              "7756"
            ]
          },
          "metadata": {
            "tags": []
          },
          "execution_count": 125
        }
      ]
    },
    {
      "cell_type": "markdown",
      "metadata": {
        "id": "5xWKmWfMgl1t"
      },
      "source": [
        "The number of missing values is quite moderate, we will see first of all what is the distribution of the categories"
      ]
    },
    {
      "cell_type": "code",
      "metadata": {
        "colab": {
          "base_uri": "https://localhost:8080/",
          "height": 592
        },
        "id": "K52kfBZFhJUy",
        "outputId": "dd1ce964-189d-429d-cae3-798524039603"
      },
      "source": [
        "\n",
        "\n",
        "\n",
        "\n",
        "\n",
        "_ = plt.figure(figsize=(10,10))\n",
        "_ = plt.hist(prof_code, bins = 19)"
      ],
      "execution_count": null,
      "outputs": [
        {
          "output_type": "display_data",
          "data": {
            "image/png": "[encoded data removed]",
            "text/plain": [
              "<Figure size 720x720 with 1 Axes>"
            ]
          },
          "metadata": {
            "tags": [],
            "needs_background": "light"
          }
        }
      ]
    },
    {
      "cell_type": "code",
      "metadata": {
        "colab": {
          "base_uri": "https://localhost:8080/"
        },
        "id": "JgN4lrjentO-",
        "outputId": "9abd364a-f9f5-4231-8545-3a11536bf208"
      },
      "source": [
        "len(set(prof_code))"
      ],
      "execution_count": null,
      "outputs": [
        {
          "output_type": "execute_result",
          "data": {
            "text/plain": [
              "19"
            ]
          },
          "metadata": {
            "tags": []
          },
          "execution_count": 127
        }
      ]
    },
    {
      "cell_type": "markdown",
      "metadata": {
        "id": "W-piY4ozpl5Z"
      },
      "source": [
        "\n",
        "To avoid overfitting, we will likely create an indicator random variable for the most frequent category/categories."
      ]
    },
    {
      "cell_type": "markdown",
      "metadata": {
        "id": "K8M6Lg8Vqu4I"
      },
      "source": [
        "Now let's consider the OCCUPATION_TYPE variable. We do not have a lot of information about the occupation type of the person applying, nor do we know much about how it differs from the PROFESSION_CODE"
      ]
    },
    {
      "cell_type": "code",
      "metadata": {
        "id": "FoIP6AQErEhj"
      },
      "source": [
        "nan_count = 0\n",
        "nan_idx = []\n",
        "occ_type = []\n",
        "for row in range(50000):\n",
        "  if math.isnan(data_raw.loc[row, \"OCCUPATION_TYPE\"]):\n",
        "    nan_count = nan_count + 1\n",
        "    nan_idx.append(row)\n",
        "  else:\n",
        "    occ_type.append(data_raw.loc[row, \"OCCUPATION_TYPE\"])"
      ],
      "execution_count": null,
      "outputs": []
    },
    {
      "cell_type": "code",
      "metadata": {
        "colab": {
          "base_uri": "https://localhost:8080/"
        },
        "id": "Xh3n5gF8rjIK",
        "outputId": "79357860-87c4-458d-9ecf-5576972f872a"
      },
      "source": [
        "nan_count"
      ],
      "execution_count": null,
      "outputs": [
        {
          "output_type": "execute_result",
          "data": {
            "text/plain": [
              "7313"
            ]
          },
          "metadata": {
            "tags": []
          },
          "execution_count": 129
        }
      ]
    },
    {
      "cell_type": "code",
      "metadata": {
        "colab": {
          "base_uri": "https://localhost:8080/",
          "height": 265
        },
        "id": "3iYbI_Jpr6oS",
        "outputId": "6979a2dd-1d8d-48dd-deaa-5df4c5e151b5"
      },
      "source": [
        "\n",
        "\n",
        "\n",
        "_ = plt.hist(occ_type)"
      ],
      "execution_count": null,
      "outputs": [
        {
          "output_type": "display_data",
          "data": {
            "image/png": "[encoded data removed]",
            "text/plain": [
              "<Figure size 432x288 with 1 Axes>"
            ]
          },
          "metadata": {
            "tags": [],
            "needs_background": "light"
          }
        }
      ]
    },
    {
      "cell_type": "markdown",
      "metadata": {
        "id": "xr_Nwwfsrl3r"
      },
      "source": [
        "The number of missing observations is quite close to the number of missing observations for PROFESSION_CODE. Because we believe there could be a significant amount of correlation with PROFESSION_CODE, this variable will likely not add superior explanatory power. We may consider dropping the column altogether depending on what we choose to do with the PROFESSION_CODE variable. We also do not want to extrapolate on a variable for which we have no tangible information on what it means."
      ]
    },
    {
      "cell_type": "markdown",
      "metadata": {
        "id": "IAV1OOsxtCuL"
      },
      "source": [
        "Let's now evaluate the MATE_PROFESSION_CODE."
      ]
    },
    {
      "cell_type": "code",
      "metadata": {
        "id": "WXwp_S4otG9S"
      },
      "source": [
        "\n",
        "\n",
        "\n",
        "\n",
        "\n",
        "nan_count = 0\n",
        "nan_idx = []\n",
        "mate_prof_code = []\n",
        "for row in range(50000):\n",
        "  if math.isnan(data_raw.loc[row, \"MATE_PROFESSION_CODE\"]):\n",
        "    nan_count = nan_count + 1\n",
        "    nan_idx.append(row)\n",
        "  else:\n",
        "    mate_prof_code.append(data_raw.loc[row, \"MATE_PROFESSION_CODE\"])"
      ],
      "execution_count": null,
      "outputs": []
    },
    {
      "cell_type": "code",
      "metadata": {
        "colab": {
          "base_uri": "https://localhost:8080/"
        },
        "id": "qq9suI6VtNmS",
        "outputId": "784cb134-8e0c-4659-94b7-d751718f81ff"
      },
      "source": [
        "nan_count"
      ],
      "execution_count": null,
      "outputs": [
        {
          "output_type": "execute_result",
          "data": {
            "text/plain": [
              "28884"
            ]
          },
          "metadata": {
            "tags": []
          },
          "execution_count": 132
        }
      ]
    },
    {
      "cell_type": "code",
      "metadata": {
        "colab": {
          "base_uri": "https://localhost:8080/"
        },
        "id": "o80JsHj2tfYA",
        "outputId": "6b7a8c17-95dc-461e-812c-abf5773d9419"
      },
      "source": [
        "len(set(mate_prof_code))"
      ],
      "execution_count": null,
      "outputs": [
        {
          "output_type": "execute_result",
          "data": {
            "text/plain": [
              "18"
            ]
          },
          "metadata": {
            "tags": []
          },
          "execution_count": 133
        }
      ]
    },
    {
      "cell_type": "markdown",
      "metadata": {
        "id": "gy9251i4tPlJ"
      },
      "source": [
        "The number of missing observations is quite large, but we could still accommodate it by adding indicator random variables for frequent variable and leave the missing observation as being an infrequent profession code for the partner of the person who filed the application."
      ]
    },
    {
      "cell_type": "markdown",
      "metadata": {
        "id": "IsvB3PwNqAE4"
      },
      "source": [
        "## 2) Variables with Bad Values"
      ]
    },
    {
      "cell_type": "markdown",
      "metadata": {
        "id": "HppATG0Dqd17"
      },
      "source": [
        "Let us consider SEX as a variable now, this variable will be critical to our analysis, as such we must deal with precaution while handling potential values that are not incorrectly inputted."
      ]
    },
    {
      "cell_type": "code",
      "metadata": {
        "id": "MbEYIEc6kRbT"
      },
      "source": [
        "m_count = 0\n",
        "f_count = 0\n",
        "other_count = 0\n",
        "other_list = []\n",
        "for i in range(50000):\n",
        "  if data_raw.loc[i, \"SEX\"] == \"M\":\n",
        "    m_count += 1\n",
        "  elif data_raw.loc[i, \"SEX\"] == \"F\":\n",
        "    f_count += 1\n",
        "  else:\n",
        "    other_count += 1\n",
        "    other_list.append(data_raw.loc[i,\"SEX\"])"
      ],
      "execution_count": null,
      "outputs": []
    },
    {
      "cell_type": "code",
      "metadata": {
        "colab": {
          "base_uri": "https://localhost:8080/"
        },
        "id": "gv3eepbFJYec",
        "outputId": "4e913942-17f0-485c-b36b-47454c0c82d2"
      },
      "source": [
        "\n",
        "\n",
        "\n",
        "#NUMBER OF MALES\n",
        "m_count"
      ],
      "execution_count": null,
      "outputs": [
        {
          "output_type": "execute_result",
          "data": {
            "text/plain": [
              "19130"
            ]
          },
          "metadata": {
            "tags": []
          },
          "execution_count": 135
        }
      ]
    },
    {
      "cell_type": "code",
      "metadata": {
        "colab": {
          "base_uri": "https://localhost:8080/"
        },
        "id": "dfYWVb81JZTe",
        "outputId": "febd7f27-0589-4a89-a9f6-b2cdde6f586b"
      },
      "source": [
        "#NUMBER OF FEMALES\n",
        "f_count"
      ],
      "execution_count": null,
      "outputs": [
        {
          "output_type": "execute_result",
          "data": {
            "text/plain": [
              "30805"
            ]
          },
          "metadata": {
            "tags": []
          },
          "execution_count": 136
        }
      ]
    },
    {
      "cell_type": "code",
      "metadata": {
        "colab": {
          "base_uri": "https://localhost:8080/"
        },
        "id": "d9Di6VYOJaLy",
        "outputId": "9b2f8f2a-8b1c-431d-80c4-955678644ab5"
      },
      "source": [
        "#NUMBER OF OTHER SEXES\n",
        "other_count"
      ],
      "execution_count": null,
      "outputs": [
        {
          "output_type": "execute_result",
          "data": {
            "text/plain": [
              "65"
            ]
          },
          "metadata": {
            "tags": []
          },
          "execution_count": 137
        }
      ]
    },
    {
      "cell_type": "code",
      "metadata": {
        "colab": {
          "base_uri": "https://localhost:8080/"
        },
        "id": "JCro82pWJbk2",
        "outputId": "6d35a493-8ada-487b-ab81-7a61182f6f43"
      },
      "source": [
        "#LIST OF INPUTS IN THE OTHER SEXES\n",
        "other_list"
      ],
      "execution_count": null,
      "outputs": [
        {
          "output_type": "execute_result",
          "data": {
            "text/plain": [
              "['N',\n",
              " ' ',\n",
              " 'N',\n",
              " 'N',\n",
              " 'N',\n",
              " ' ',\n",
              " 'N',\n",
              " 'N',\n",
              " 'N',\n",
              " ' ',\n",
              " 'N',\n",
              " 'N',\n",
              " 'N',\n",
              " 'N',\n",
              " ' ',\n",
              " 'N',\n",
              " ' ',\n",
              " 'N',\n",
              " ' ',\n",
              " 'N',\n",
              " ' ',\n",
              " 'N',\n",
              " 'N',\n",
              " 'N',\n",
              " 'N',\n",
              " 'N',\n",
              " 'N',\n",
              " 'N',\n",
              " ' ',\n",
              " 'N',\n",
              " ' ',\n",
              " 'N',\n",
              " 'N',\n",
              " 'N',\n",
              " 'N',\n",
              " ' ',\n",
              " ' ',\n",
              " 'N',\n",
              " 'N',\n",
              " 'N',\n",
              " 'N',\n",
              " 'N',\n",
              " 'N',\n",
              " 'N',\n",
              " 'N',\n",
              " ' ',\n",
              " ' ',\n",
              " 'N',\n",
              " 'N',\n",
              " 'N',\n",
              " 'N',\n",
              " 'N',\n",
              " 'N',\n",
              " 'N',\n",
              " ' ',\n",
              " 'N',\n",
              " ' ',\n",
              " 'N',\n",
              " 'N',\n",
              " ' ',\n",
              " 'N',\n",
              " 'N',\n",
              " ' ',\n",
              " 'N',\n",
              " 'N']"
            ]
          },
          "metadata": {
            "tags": []
          },
          "execution_count": 138
        }
      ]
    },
    {
      "cell_type": "markdown",
      "metadata": {
        "id": "QCdP-9h1qvTE"
      },
      "source": [
        "We see that there are about 65 observations that have \"N\" or \" \" as their inputs, which likely point towards values that have been incorrectly inputted. We do not want to replace those observations towards Male or Female, and as such we can safely drop those 65 observations."
      ]
    },
    {
      "cell_type": "markdown",
      "metadata": {
        "id": "TgpposCy_B6C"
      },
      "source": [
        "# 3) Cleaning"
      ]
    },
    {
      "cell_type": "code",
      "metadata": {
        "id": "YLfrslIlRLKQ"
      },
      "source": [
        "data_nans_fixed = pd.DataFrame(data_raw)\n",
        "other_nan_values = []\n",
        "for row in range(len(data_nans_fixed)):\n",
        "    for col in data_nans_fixed.columns:\n",
        "        if pd.isnull(data_nans_fixed.loc[row, col]):\n",
        "            other_nan_values.append(data_nans_fixed.loc[row, col])\n",
        "            data_nans_fixed.loc[row, col] = float('nan')\n",
        "        if data_nans_fixed.loc[row, col] == ' ':\n",
        "            data_nans_fixed.loc[row, col] = float('nan')\n",
        "for row in range(len(data_nans_fixed)):\n",
        "    if data_nans_fixed.loc[row, 'SEX'] == 'N':\n",
        "        data_nans_fixed.loc[row, 'SEX'] = float('nan')"
      ],
      "execution_count": null,
      "outputs": []
    },
    {
      "cell_type": "code",
      "metadata": {
        "colab": {
          "base_uri": "https://localhost:8080/",
          "height": 490
        },
        "id": "Ue_Lg4Ak_BZx",
        "outputId": "ca1c4339-cb77-4d3d-e86d-5b4b55992bdb"
      },
      "source": [
        "#data_clean = pd.DataFrame(data_raw)\n",
        "#data_clean\n",
        "data_nans_fixed"
      ],
      "execution_count": null,
      "outputs": [
        {
          "output_type": "execute_result",
          "data": {
            "text/html": [
              "<div>\n",
              "<style scoped>\n",
              "    .dataframe tbody tr th:only-of-type {\n",
              "        vertical-align: middle;\n",
              "    }\n",
              "\n",
              "    .dataframe tbody tr th {\n",
              "        vertical-align: top;\n",
              "    }\n",
              "\n",
              "    .dataframe thead th {\n",
              "        text-align: right;\n",
              "    }\n",
              "</style>\n",
              "<table border=\"1\" class=\"dataframe\">\n",
              "  <thead>\n",
              "    <tr style=\"text-align: right;\">\n",
              "      <th></th>\n",
              "      <th>ID_CLIENT</th>\n",
              "      <th>CLERK_TYPE</th>\n",
              "      <th>PAYMENT_DAY</th>\n",
              "      <th>APPLICATION_SUBMISSION_TYPE</th>\n",
              "      <th>QUANT_ADDITIONAL_CARDS</th>\n",
              "      <th>POSTAL_ADDRESS_TYPE</th>\n",
              "      <th>SEX</th>\n",
              "      <th>MARITAL_STATUS</th>\n",
              "      <th>QUANT_DEPENDANTS</th>\n",
              "      <th>EDUCATION_LEVEL</th>\n",
              "      <th>STATE_OF_BIRTH</th>\n",
              "      <th>CITY_OF_BIRTH</th>\n",
              "      <th>NACIONALITY</th>\n",
              "      <th>RESIDENCIAL_STATE</th>\n",
              "      <th>RESIDENCIAL_CITY</th>\n",
              "      <th>RESIDENCIAL_BOROUGH</th>\n",
              "      <th>FLAG_RESIDENCIAL_PHONE</th>\n",
              "      <th>RESIDENCIAL_PHONE_AREA_CODE</th>\n",
              "      <th>RESIDENCE_TYPE</th>\n",
              "      <th>MONTHS_IN_RESIDENCE</th>\n",
              "      <th>FLAG_MOBILE_PHONE</th>\n",
              "      <th>FLAG_EMAIL</th>\n",
              "      <th>PERSONAL_MONTHLY_INCOME</th>\n",
              "      <th>OTHER_INCOMES</th>\n",
              "      <th>FLAG_VISA</th>\n",
              "      <th>FLAG_MASTERCARD</th>\n",
              "      <th>FLAG_DINERS</th>\n",
              "      <th>FLAG_AMERICAN_EXPRESS</th>\n",
              "      <th>FLAG_OTHER_CARDS</th>\n",
              "      <th>QUANT_BANKING_ACCOUNTS</th>\n",
              "      <th>QUANT_SPECIAL_BANKING_ACCOUNTS</th>\n",
              "      <th>PERSONAL_ASSETS_VALUE</th>\n",
              "      <th>QUANT_CARS</th>\n",
              "      <th>COMPANY</th>\n",
              "      <th>PROFESSIONAL_STATE</th>\n",
              "      <th>PROFESSIONAL_CITY</th>\n",
              "      <th>PROFESSIONAL_BOROUGH</th>\n",
              "      <th>FLAG_PROFESSIONAL_PHONE</th>\n",
              "      <th>PROFESSIONAL_PHONE_AREA_CODE</th>\n",
              "      <th>MONTHS_IN_THE_JOB</th>\n",
              "      <th>PROFESSION_CODE</th>\n",
              "      <th>OCCUPATION_TYPE</th>\n",
              "      <th>MATE_PROFESSION_CODE</th>\n",
              "      <th>MATE_EDUCATION_LEVEL</th>\n",
              "      <th>FLAG_HOME_ADDRESS_DOCUMENT</th>\n",
              "      <th>FLAG_RG</th>\n",
              "      <th>FLAG_CPF</th>\n",
              "      <th>FLAG_INCOME_PROOF</th>\n",
              "      <th>PRODUCT</th>\n",
              "      <th>FLAG_ACSP_RECORD</th>\n",
              "      <th>AGE</th>\n",
              "      <th>RESIDENCIAL_ZIP_3</th>\n",
              "      <th>PROFESSIONAL_ZIP_3</th>\n",
              "      <th>TARGET_LABEL</th>\n",
              "    </tr>\n",
              "  </thead>\n",
              "  <tbody>\n",
              "    <tr>\n",
              "      <th>0</th>\n",
              "      <td>1</td>\n",
              "      <td>C</td>\n",
              "      <td>5</td>\n",
              "      <td>Web</td>\n",
              "      <td>0</td>\n",
              "      <td>1</td>\n",
              "      <td>F</td>\n",
              "      <td>6</td>\n",
              "      <td>1</td>\n",
              "      <td>0</td>\n",
              "      <td>RN</td>\n",
              "      <td>Assu</td>\n",
              "      <td>1</td>\n",
              "      <td>RN</td>\n",
              "      <td>Santana do Matos</td>\n",
              "      <td>Centro</td>\n",
              "      <td>Y</td>\n",
              "      <td>105</td>\n",
              "      <td>1.0</td>\n",
              "      <td>15.0</td>\n",
              "      <td>N</td>\n",
              "      <td>1</td>\n",
              "      <td>900.00</td>\n",
              "      <td>0.0</td>\n",
              "      <td>1</td>\n",
              "      <td>1</td>\n",
              "      <td>0</td>\n",
              "      <td>0</td>\n",
              "      <td>0</td>\n",
              "      <td>0</td>\n",
              "      <td>0</td>\n",
              "      <td>0.0</td>\n",
              "      <td>0</td>\n",
              "      <td>N</td>\n",
              "      <td>NaN</td>\n",
              "      <td>NaN</td>\n",
              "      <td>NaN</td>\n",
              "      <td>N</td>\n",
              "      <td>NaN</td>\n",
              "      <td>0</td>\n",
              "      <td>9.0</td>\n",
              "      <td>4.0</td>\n",
              "      <td>NaN</td>\n",
              "      <td>NaN</td>\n",
              "      <td>0</td>\n",
              "      <td>0</td>\n",
              "      <td>0</td>\n",
              "      <td>0</td>\n",
              "      <td>1</td>\n",
              "      <td>N</td>\n",
              "      <td>32</td>\n",
              "      <td>595</td>\n",
              "      <td>595</td>\n",
              "      <td>1</td>\n",
              "    </tr>\n",
              "    <tr>\n",
              "      <th>1</th>\n",
              "      <td>2</td>\n",
              "      <td>C</td>\n",
              "      <td>15</td>\n",
              "      <td>Carga</td>\n",
              "      <td>0</td>\n",
              "      <td>1</td>\n",
              "      <td>F</td>\n",
              "      <td>2</td>\n",
              "      <td>0</td>\n",
              "      <td>0</td>\n",
              "      <td>RJ</td>\n",
              "      <td>rio de janeiro</td>\n",
              "      <td>1</td>\n",
              "      <td>RJ</td>\n",
              "      <td>RIO DE JANEIRO</td>\n",
              "      <td>CAMPO GRANDE</td>\n",
              "      <td>Y</td>\n",
              "      <td>20</td>\n",
              "      <td>1.0</td>\n",
              "      <td>1.0</td>\n",
              "      <td>N</td>\n",
              "      <td>1</td>\n",
              "      <td>750.00</td>\n",
              "      <td>0.0</td>\n",
              "      <td>0</td>\n",
              "      <td>0</td>\n",
              "      <td>0</td>\n",
              "      <td>0</td>\n",
              "      <td>0</td>\n",
              "      <td>0</td>\n",
              "      <td>0</td>\n",
              "      <td>0.0</td>\n",
              "      <td>0</td>\n",
              "      <td>Y</td>\n",
              "      <td>NaN</td>\n",
              "      <td>NaN</td>\n",
              "      <td>NaN</td>\n",
              "      <td>N</td>\n",
              "      <td>NaN</td>\n",
              "      <td>0</td>\n",
              "      <td>11.0</td>\n",
              "      <td>4.0</td>\n",
              "      <td>11.0</td>\n",
              "      <td>NaN</td>\n",
              "      <td>0</td>\n",
              "      <td>0</td>\n",
              "      <td>0</td>\n",
              "      <td>0</td>\n",
              "      <td>1</td>\n",
              "      <td>N</td>\n",
              "      <td>34</td>\n",
              "      <td>230</td>\n",
              "      <td>230</td>\n",
              "      <td>1</td>\n",
              "    </tr>\n",
              "    <tr>\n",
              "      <th>2</th>\n",
              "      <td>3</td>\n",
              "      <td>C</td>\n",
              "      <td>5</td>\n",
              "      <td>Web</td>\n",
              "      <td>0</td>\n",
              "      <td>1</td>\n",
              "      <td>F</td>\n",
              "      <td>2</td>\n",
              "      <td>0</td>\n",
              "      <td>0</td>\n",
              "      <td>RN</td>\n",
              "      <td>GARANHUNS</td>\n",
              "      <td>1</td>\n",
              "      <td>RN</td>\n",
              "      <td>Parnamirim</td>\n",
              "      <td>Boa Esperanca</td>\n",
              "      <td>Y</td>\n",
              "      <td>105</td>\n",
              "      <td>1.0</td>\n",
              "      <td>NaN</td>\n",
              "      <td>N</td>\n",
              "      <td>1</td>\n",
              "      <td>500.00</td>\n",
              "      <td>0.0</td>\n",
              "      <td>0</td>\n",
              "      <td>0</td>\n",
              "      <td>0</td>\n",
              "      <td>0</td>\n",
              "      <td>0</td>\n",
              "      <td>0</td>\n",
              "      <td>0</td>\n",
              "      <td>0.0</td>\n",
              "      <td>0</td>\n",
              "      <td>N</td>\n",
              "      <td>NaN</td>\n",
              "      <td>NaN</td>\n",
              "      <td>NaN</td>\n",
              "      <td>N</td>\n",
              "      <td>NaN</td>\n",
              "      <td>0</td>\n",
              "      <td>11.0</td>\n",
              "      <td>NaN</td>\n",
              "      <td>NaN</td>\n",
              "      <td>NaN</td>\n",
              "      <td>0</td>\n",
              "      <td>0</td>\n",
              "      <td>0</td>\n",
              "      <td>0</td>\n",
              "      <td>1</td>\n",
              "      <td>N</td>\n",
              "      <td>27</td>\n",
              "      <td>591</td>\n",
              "      <td>591</td>\n",
              "      <td>0</td>\n",
              "    </tr>\n",
              "    <tr>\n",
              "      <th>3</th>\n",
              "      <td>4</td>\n",
              "      <td>C</td>\n",
              "      <td>20</td>\n",
              "      <td>Web</td>\n",
              "      <td>0</td>\n",
              "      <td>1</td>\n",
              "      <td>F</td>\n",
              "      <td>2</td>\n",
              "      <td>0</td>\n",
              "      <td>0</td>\n",
              "      <td>PE</td>\n",
              "      <td>CABO</td>\n",
              "      <td>1</td>\n",
              "      <td>PE</td>\n",
              "      <td>CABO</td>\n",
              "      <td>PONTE DOS CARVALHOS</td>\n",
              "      <td>N</td>\n",
              "      <td>NaN</td>\n",
              "      <td>NaN</td>\n",
              "      <td>NaN</td>\n",
              "      <td>N</td>\n",
              "      <td>1</td>\n",
              "      <td>500.00</td>\n",
              "      <td>0.0</td>\n",
              "      <td>0</td>\n",
              "      <td>0</td>\n",
              "      <td>0</td>\n",
              "      <td>0</td>\n",
              "      <td>0</td>\n",
              "      <td>0</td>\n",
              "      <td>0</td>\n",
              "      <td>0.0</td>\n",
              "      <td>0</td>\n",
              "      <td>N</td>\n",
              "      <td>NaN</td>\n",
              "      <td>NaN</td>\n",
              "      <td>NaN</td>\n",
              "      <td>N</td>\n",
              "      <td>NaN</td>\n",
              "      <td>0</td>\n",
              "      <td>NaN</td>\n",
              "      <td>NaN</td>\n",
              "      <td>NaN</td>\n",
              "      <td>NaN</td>\n",
              "      <td>0</td>\n",
              "      <td>0</td>\n",
              "      <td>0</td>\n",
              "      <td>0</td>\n",
              "      <td>1</td>\n",
              "      <td>N</td>\n",
              "      <td>61</td>\n",
              "      <td>545</td>\n",
              "      <td>545</td>\n",
              "      <td>0</td>\n",
              "    </tr>\n",
              "    <tr>\n",
              "      <th>4</th>\n",
              "      <td>5</td>\n",
              "      <td>C</td>\n",
              "      <td>10</td>\n",
              "      <td>Web</td>\n",
              "      <td>0</td>\n",
              "      <td>1</td>\n",
              "      <td>M</td>\n",
              "      <td>2</td>\n",
              "      <td>0</td>\n",
              "      <td>0</td>\n",
              "      <td>RJ</td>\n",
              "      <td>RIO DE JANEIRO</td>\n",
              "      <td>1</td>\n",
              "      <td>RJ</td>\n",
              "      <td>Rio de Janeiro</td>\n",
              "      <td>Santa Cruz</td>\n",
              "      <td>Y</td>\n",
              "      <td>20</td>\n",
              "      <td>1.0</td>\n",
              "      <td>12.0</td>\n",
              "      <td>N</td>\n",
              "      <td>1</td>\n",
              "      <td>1200.00</td>\n",
              "      <td>0.0</td>\n",
              "      <td>0</td>\n",
              "      <td>0</td>\n",
              "      <td>0</td>\n",
              "      <td>0</td>\n",
              "      <td>0</td>\n",
              "      <td>0</td>\n",
              "      <td>0</td>\n",
              "      <td>0.0</td>\n",
              "      <td>0</td>\n",
              "      <td>N</td>\n",
              "      <td>NaN</td>\n",
              "      <td>NaN</td>\n",
              "      <td>NaN</td>\n",
              "      <td>N</td>\n",
              "      <td>NaN</td>\n",
              "      <td>0</td>\n",
              "      <td>9.0</td>\n",
              "      <td>5.0</td>\n",
              "      <td>NaN</td>\n",
              "      <td>NaN</td>\n",
              "      <td>0</td>\n",
              "      <td>0</td>\n",
              "      <td>0</td>\n",
              "      <td>0</td>\n",
              "      <td>1</td>\n",
              "      <td>N</td>\n",
              "      <td>48</td>\n",
              "      <td>235</td>\n",
              "      <td>235</td>\n",
              "      <td>1</td>\n",
              "    </tr>\n",
              "    <tr>\n",
              "      <th>...</th>\n",
              "      <td>...</td>\n",
              "      <td>...</td>\n",
              "      <td>...</td>\n",
              "      <td>...</td>\n",
              "      <td>...</td>\n",
              "      <td>...</td>\n",
              "      <td>...</td>\n",
              "      <td>...</td>\n",
              "      <td>...</td>\n",
              "      <td>...</td>\n",
              "      <td>...</td>\n",
              "      <td>...</td>\n",
              "      <td>...</td>\n",
              "      <td>...</td>\n",
              "      <td>...</td>\n",
              "      <td>...</td>\n",
              "      <td>...</td>\n",
              "      <td>...</td>\n",
              "      <td>...</td>\n",
              "      <td>...</td>\n",
              "      <td>...</td>\n",
              "      <td>...</td>\n",
              "      <td>...</td>\n",
              "      <td>...</td>\n",
              "      <td>...</td>\n",
              "      <td>...</td>\n",
              "      <td>...</td>\n",
              "      <td>...</td>\n",
              "      <td>...</td>\n",
              "      <td>...</td>\n",
              "      <td>...</td>\n",
              "      <td>...</td>\n",
              "      <td>...</td>\n",
              "      <td>...</td>\n",
              "      <td>...</td>\n",
              "      <td>...</td>\n",
              "      <td>...</td>\n",
              "      <td>...</td>\n",
              "      <td>...</td>\n",
              "      <td>...</td>\n",
              "      <td>...</td>\n",
              "      <td>...</td>\n",
              "      <td>...</td>\n",
              "      <td>...</td>\n",
              "      <td>...</td>\n",
              "      <td>...</td>\n",
              "      <td>...</td>\n",
              "      <td>...</td>\n",
              "      <td>...</td>\n",
              "      <td>...</td>\n",
              "      <td>...</td>\n",
              "      <td>...</td>\n",
              "      <td>...</td>\n",
              "      <td>...</td>\n",
              "    </tr>\n",
              "    <tr>\n",
              "      <th>49995</th>\n",
              "      <td>49996</td>\n",
              "      <td>C</td>\n",
              "      <td>10</td>\n",
              "      <td>0</td>\n",
              "      <td>0</td>\n",
              "      <td>1</td>\n",
              "      <td>F</td>\n",
              "      <td>1</td>\n",
              "      <td>2</td>\n",
              "      <td>0</td>\n",
              "      <td>RN</td>\n",
              "      <td>NATAL</td>\n",
              "      <td>1</td>\n",
              "      <td>RN</td>\n",
              "      <td>NATAL</td>\n",
              "      <td>PAJUCARA</td>\n",
              "      <td>Y</td>\n",
              "      <td>105</td>\n",
              "      <td>1.0</td>\n",
              "      <td>14.0</td>\n",
              "      <td>N</td>\n",
              "      <td>1</td>\n",
              "      <td>1451.00</td>\n",
              "      <td>0.0</td>\n",
              "      <td>0</td>\n",
              "      <td>0</td>\n",
              "      <td>0</td>\n",
              "      <td>0</td>\n",
              "      <td>0</td>\n",
              "      <td>1</td>\n",
              "      <td>1</td>\n",
              "      <td>0.0</td>\n",
              "      <td>1</td>\n",
              "      <td>N</td>\n",
              "      <td>NaN</td>\n",
              "      <td>NaN</td>\n",
              "      <td>NaN</td>\n",
              "      <td>N</td>\n",
              "      <td>NaN</td>\n",
              "      <td>0</td>\n",
              "      <td>9.0</td>\n",
              "      <td>4.0</td>\n",
              "      <td>0.0</td>\n",
              "      <td>0.0</td>\n",
              "      <td>0</td>\n",
              "      <td>0</td>\n",
              "      <td>0</td>\n",
              "      <td>0</td>\n",
              "      <td>1</td>\n",
              "      <td>N</td>\n",
              "      <td>36</td>\n",
              "      <td>591</td>\n",
              "      <td>591</td>\n",
              "      <td>1</td>\n",
              "    </tr>\n",
              "    <tr>\n",
              "      <th>49996</th>\n",
              "      <td>49997</td>\n",
              "      <td>C</td>\n",
              "      <td>25</td>\n",
              "      <td>0</td>\n",
              "      <td>0</td>\n",
              "      <td>1</td>\n",
              "      <td>F</td>\n",
              "      <td>1</td>\n",
              "      <td>0</td>\n",
              "      <td>0</td>\n",
              "      <td>SP</td>\n",
              "      <td>LENCOIS PAULISTA</td>\n",
              "      <td>1</td>\n",
              "      <td>SP</td>\n",
              "      <td>Lencois Paulista</td>\n",
              "      <td>Nucleo Habitacional Joao Zillo</td>\n",
              "      <td>Y</td>\n",
              "      <td>12</td>\n",
              "      <td>1.0</td>\n",
              "      <td>15.0</td>\n",
              "      <td>N</td>\n",
              "      <td>1</td>\n",
              "      <td>450.00</td>\n",
              "      <td>0.0</td>\n",
              "      <td>0</td>\n",
              "      <td>0</td>\n",
              "      <td>0</td>\n",
              "      <td>0</td>\n",
              "      <td>0</td>\n",
              "      <td>0</td>\n",
              "      <td>0</td>\n",
              "      <td>0.0</td>\n",
              "      <td>0</td>\n",
              "      <td>N</td>\n",
              "      <td>NaN</td>\n",
              "      <td>NaN</td>\n",
              "      <td>NaN</td>\n",
              "      <td>N</td>\n",
              "      <td>NaN</td>\n",
              "      <td>0</td>\n",
              "      <td>NaN</td>\n",
              "      <td>NaN</td>\n",
              "      <td>NaN</td>\n",
              "      <td>NaN</td>\n",
              "      <td>0</td>\n",
              "      <td>0</td>\n",
              "      <td>0</td>\n",
              "      <td>0</td>\n",
              "      <td>2</td>\n",
              "      <td>N</td>\n",
              "      <td>21</td>\n",
              "      <td>186</td>\n",
              "      <td>186</td>\n",
              "      <td>0</td>\n",
              "    </tr>\n",
              "    <tr>\n",
              "      <th>49997</th>\n",
              "      <td>49998</td>\n",
              "      <td>C</td>\n",
              "      <td>5</td>\n",
              "      <td>Web</td>\n",
              "      <td>0</td>\n",
              "      <td>1</td>\n",
              "      <td>M</td>\n",
              "      <td>2</td>\n",
              "      <td>3</td>\n",
              "      <td>0</td>\n",
              "      <td>PR</td>\n",
              "      <td>RIO BONITO</td>\n",
              "      <td>1</td>\n",
              "      <td>SP</td>\n",
              "      <td>GUARULHOS</td>\n",
              "      <td>jardim vida nova</td>\n",
              "      <td>Y</td>\n",
              "      <td>5</td>\n",
              "      <td>2.0</td>\n",
              "      <td>5.0</td>\n",
              "      <td>N</td>\n",
              "      <td>1</td>\n",
              "      <td>1555.00</td>\n",
              "      <td>0.0</td>\n",
              "      <td>0</td>\n",
              "      <td>0</td>\n",
              "      <td>0</td>\n",
              "      <td>0</td>\n",
              "      <td>0</td>\n",
              "      <td>0</td>\n",
              "      <td>0</td>\n",
              "      <td>0.0</td>\n",
              "      <td>0</td>\n",
              "      <td>Y</td>\n",
              "      <td>SP</td>\n",
              "      <td>GUARULHOS</td>\n",
              "      <td>ITAPEGICA</td>\n",
              "      <td>Y</td>\n",
              "      <td>5</td>\n",
              "      <td>0</td>\n",
              "      <td>9.0</td>\n",
              "      <td>2.0</td>\n",
              "      <td>NaN</td>\n",
              "      <td>NaN</td>\n",
              "      <td>0</td>\n",
              "      <td>0</td>\n",
              "      <td>0</td>\n",
              "      <td>0</td>\n",
              "      <td>1</td>\n",
              "      <td>N</td>\n",
              "      <td>41</td>\n",
              "      <td>715</td>\n",
              "      <td>715</td>\n",
              "      <td>0</td>\n",
              "    </tr>\n",
              "    <tr>\n",
              "      <th>49998</th>\n",
              "      <td>49999</td>\n",
              "      <td>C</td>\n",
              "      <td>1</td>\n",
              "      <td>Web</td>\n",
              "      <td>0</td>\n",
              "      <td>1</td>\n",
              "      <td>F</td>\n",
              "      <td>1</td>\n",
              "      <td>1</td>\n",
              "      <td>0</td>\n",
              "      <td>SP</td>\n",
              "      <td>SAO PAULO</td>\n",
              "      <td>1</td>\n",
              "      <td>MG</td>\n",
              "      <td>CONTAGEM</td>\n",
              "      <td>VILA BELEM</td>\n",
              "      <td>Y</td>\n",
              "      <td>29</td>\n",
              "      <td>1.0</td>\n",
              "      <td>NaN</td>\n",
              "      <td>N</td>\n",
              "      <td>1</td>\n",
              "      <td>1443.27</td>\n",
              "      <td>0.0</td>\n",
              "      <td>0</td>\n",
              "      <td>0</td>\n",
              "      <td>0</td>\n",
              "      <td>0</td>\n",
              "      <td>0</td>\n",
              "      <td>0</td>\n",
              "      <td>0</td>\n",
              "      <td>0.0</td>\n",
              "      <td>0</td>\n",
              "      <td>Y</td>\n",
              "      <td>MG</td>\n",
              "      <td>BETIM</td>\n",
              "      <td>JARDIM ALTEROSA</td>\n",
              "      <td>Y</td>\n",
              "      <td>29</td>\n",
              "      <td>0</td>\n",
              "      <td>9.0</td>\n",
              "      <td>2.0</td>\n",
              "      <td>NaN</td>\n",
              "      <td>NaN</td>\n",
              "      <td>0</td>\n",
              "      <td>0</td>\n",
              "      <td>0</td>\n",
              "      <td>0</td>\n",
              "      <td>1</td>\n",
              "      <td>N</td>\n",
              "      <td>28</td>\n",
              "      <td>320</td>\n",
              "      <td>320</td>\n",
              "      <td>1</td>\n",
              "    </tr>\n",
              "    <tr>\n",
              "      <th>49999</th>\n",
              "      <td>50000</td>\n",
              "      <td>C</td>\n",
              "      <td>10</td>\n",
              "      <td>Web</td>\n",
              "      <td>0</td>\n",
              "      <td>1</td>\n",
              "      <td>F</td>\n",
              "      <td>2</td>\n",
              "      <td>2</td>\n",
              "      <td>0</td>\n",
              "      <td>SP</td>\n",
              "      <td>PINDABA</td>\n",
              "      <td>1</td>\n",
              "      <td>SP</td>\n",
              "      <td>Pindamonhangaba</td>\n",
              "      <td>Feital</td>\n",
              "      <td>N</td>\n",
              "      <td>NaN</td>\n",
              "      <td>1.0</td>\n",
              "      <td>9.0</td>\n",
              "      <td>N</td>\n",
              "      <td>1</td>\n",
              "      <td>719.38</td>\n",
              "      <td>0.0</td>\n",
              "      <td>0</td>\n",
              "      <td>0</td>\n",
              "      <td>0</td>\n",
              "      <td>0</td>\n",
              "      <td>0</td>\n",
              "      <td>0</td>\n",
              "      <td>0</td>\n",
              "      <td>0.0</td>\n",
              "      <td>0</td>\n",
              "      <td>Y</td>\n",
              "      <td>SP</td>\n",
              "      <td>PINDABA</td>\n",
              "      <td>CIDADE NOVA</td>\n",
              "      <td>Y</td>\n",
              "      <td>9</td>\n",
              "      <td>0</td>\n",
              "      <td>9.0</td>\n",
              "      <td>2.0</td>\n",
              "      <td>NaN</td>\n",
              "      <td>NaN</td>\n",
              "      <td>0</td>\n",
              "      <td>0</td>\n",
              "      <td>0</td>\n",
              "      <td>0</td>\n",
              "      <td>1</td>\n",
              "      <td>N</td>\n",
              "      <td>27</td>\n",
              "      <td>124</td>\n",
              "      <td>124</td>\n",
              "      <td>0</td>\n",
              "    </tr>\n",
              "  </tbody>\n",
              "</table>\n",
              "<p>50000 rows × 54 columns</p>\n",
              "</div>"
            ],
            "text/plain": [
              "       ID_CLIENT CLERK_TYPE  ...  PROFESSIONAL_ZIP_3 TARGET_LABEL\n",
              "0              1          C  ...                 595            1\n",
              "1              2          C  ...                 230            1\n",
              "2              3          C  ...                 591            0\n",
              "3              4          C  ...                 545            0\n",
              "4              5          C  ...                 235            1\n",
              "...          ...        ...  ...                 ...          ...\n",
              "49995      49996          C  ...                 591            1\n",
              "49996      49997          C  ...                 186            0\n",
              "49997      49998          C  ...                 715            0\n",
              "49998      49999          C  ...                 320            1\n",
              "49999      50000          C  ...                 124            0\n",
              "\n",
              "[50000 rows x 54 columns]"
            ]
          },
          "metadata": {
            "tags": []
          },
          "execution_count": 141
        }
      ]
    },
    {
      "cell_type": "code",
      "metadata": {
        "colab": {
          "base_uri": "https://localhost:8080/"
        },
        "id": "kHtsplxx_Mkg",
        "outputId": "b5a72828-45c2-4834-8e5d-e24043f22c9e"
      },
      "source": [
        "\n",
        "#MONTHS_IN_RESIDENCE\n",
        "mir_med = np.median(mir_nums)\n",
        "data_nans_fixed[\"MONTHS_IN_RESIDENCE\"] = data_nans_fixed[\"MONTHS_IN_RESIDENCE\"].replace(np.nan, mir_med)\n",
        "data_nans_fixed[\"MONTHS_IN_RESIDENCE\"]"
      ],
      "execution_count": null,
      "outputs": [
        {
          "output_type": "execute_result",
          "data": {
            "text/plain": [
              "0        15.0\n",
              "1         1.0\n",
              "2         6.0\n",
              "3         6.0\n",
              "4        12.0\n",
              "         ... \n",
              "49995    14.0\n",
              "49996    15.0\n",
              "49997     5.0\n",
              "49998     6.0\n",
              "49999     9.0\n",
              "Name: MONTHS_IN_RESIDENCE, Length: 50000, dtype: float64"
            ]
          },
          "metadata": {
            "tags": []
          },
          "execution_count": 142
        }
      ]
    },
    {
      "cell_type": "code",
      "metadata": {
        "colab": {
          "base_uri": "https://localhost:8080/"
        },
        "id": "A3iW_qjWByYY",
        "outputId": "77f9100f-1554-4e3c-cba2-8fb14c1e3eb4"
      },
      "source": [
        "#COMPANY\n",
        "data_nans_fixed[\"COMPANY\"] = data_nans_fixed[\"COMPANY\"].replace(\"N\", 0)\n",
        "data_nans_fixed[\"COMPANY\"] = data_nans_fixed[\"COMPANY\"].replace(\"Y\", 1)\n",
        "data_nans_fixed[\"COMPANY\"]"
      ],
      "execution_count": null,
      "outputs": [
        {
          "output_type": "execute_result",
          "data": {
            "text/plain": [
              "0        0\n",
              "1        1\n",
              "2        0\n",
              "3        0\n",
              "4        0\n",
              "        ..\n",
              "49995    0\n",
              "49996    0\n",
              "49997    1\n",
              "49998    1\n",
              "49999    1\n",
              "Name: COMPANY, Length: 50000, dtype: int64"
            ]
          },
          "metadata": {
            "tags": []
          },
          "execution_count": 143
        }
      ]
    },
    {
      "cell_type": "code",
      "metadata": {
        "colab": {
          "base_uri": "https://localhost:8080/"
        },
        "id": "T2TEm-NrCx7D",
        "outputId": "6d332d3a-2f73-4100-c938-27395c03e6f8"
      },
      "source": [
        "#PRODUCT\n",
        "set(data_nans_fixed[\"PRODUCT\"])"
      ],
      "execution_count": null,
      "outputs": [
        {
          "output_type": "execute_result",
          "data": {
            "text/plain": [
              "{1, 2, 7}"
            ]
          },
          "metadata": {
            "tags": []
          },
          "execution_count": 144
        }
      ]
    },
    {
      "cell_type": "code",
      "metadata": {
        "id": "MvazoLWyDdMT"
      },
      "source": [
        "prod_list = list(data_nans_fixed[\"PRODUCT\"])\n",
        "list_prod_one = [1 if x==1 else 0 for x in prod_list]\n",
        "list_prod_two = [1 if x==2 else 0 for x in prod_list]\n",
        "list_prod_seven = [1 if x==7 else 0 for x in prod_list]"
      ],
      "execution_count": null,
      "outputs": []
    },
    {
      "cell_type": "code",
      "metadata": {
        "colab": {
          "base_uri": "https://localhost:8080/",
          "height": 490
        },
        "id": "JhSqTh_uF6-E",
        "outputId": "b3cecedd-49e1-46c4-89c1-ac20740dd291"
      },
      "source": [
        "data_nans_fixed[\"PRODUCT_1\"] = pd.Series(list_prod_one)\n",
        "data_nans_fixed[\"PRODUCT_2\"] = pd.Series(list_prod_two)\n",
        "data_nans_fixed[\"PRODUCT_7\"] = pd.Series(list_prod_seven)\n",
        "data_nans_fixed"
      ],
      "execution_count": null,
      "outputs": [
        {
          "output_type": "execute_result",
          "data": {
            "text/html": [
              "<div>\n",
              "<style scoped>\n",
              "    .dataframe tbody tr th:only-of-type {\n",
              "        vertical-align: middle;\n",
              "    }\n",
              "\n",
              "    .dataframe tbody tr th {\n",
              "        vertical-align: top;\n",
              "    }\n",
              "\n",
              "    .dataframe thead th {\n",
              "        text-align: right;\n",
              "    }\n",
              "</style>\n",
              "<table border=\"1\" class=\"dataframe\">\n",
              "  <thead>\n",
              "    <tr style=\"text-align: right;\">\n",
              "      <th></th>\n",
              "      <th>ID_CLIENT</th>\n",
              "      <th>CLERK_TYPE</th>\n",
              "      <th>PAYMENT_DAY</th>\n",
              "      <th>APPLICATION_SUBMISSION_TYPE</th>\n",
              "      <th>QUANT_ADDITIONAL_CARDS</th>\n",
              "      <th>POSTAL_ADDRESS_TYPE</th>\n",
              "      <th>SEX</th>\n",
              "      <th>MARITAL_STATUS</th>\n",
              "      <th>QUANT_DEPENDANTS</th>\n",
              "      <th>EDUCATION_LEVEL</th>\n",
              "      <th>STATE_OF_BIRTH</th>\n",
              "      <th>CITY_OF_BIRTH</th>\n",
              "      <th>NACIONALITY</th>\n",
              "      <th>RESIDENCIAL_STATE</th>\n",
              "      <th>RESIDENCIAL_CITY</th>\n",
              "      <th>RESIDENCIAL_BOROUGH</th>\n",
              "      <th>FLAG_RESIDENCIAL_PHONE</th>\n",
              "      <th>RESIDENCIAL_PHONE_AREA_CODE</th>\n",
              "      <th>RESIDENCE_TYPE</th>\n",
              "      <th>MONTHS_IN_RESIDENCE</th>\n",
              "      <th>FLAG_MOBILE_PHONE</th>\n",
              "      <th>FLAG_EMAIL</th>\n",
              "      <th>PERSONAL_MONTHLY_INCOME</th>\n",
              "      <th>OTHER_INCOMES</th>\n",
              "      <th>FLAG_VISA</th>\n",
              "      <th>FLAG_MASTERCARD</th>\n",
              "      <th>FLAG_DINERS</th>\n",
              "      <th>FLAG_AMERICAN_EXPRESS</th>\n",
              "      <th>FLAG_OTHER_CARDS</th>\n",
              "      <th>QUANT_BANKING_ACCOUNTS</th>\n",
              "      <th>QUANT_SPECIAL_BANKING_ACCOUNTS</th>\n",
              "      <th>PERSONAL_ASSETS_VALUE</th>\n",
              "      <th>QUANT_CARS</th>\n",
              "      <th>COMPANY</th>\n",
              "      <th>PROFESSIONAL_STATE</th>\n",
              "      <th>PROFESSIONAL_CITY</th>\n",
              "      <th>PROFESSIONAL_BOROUGH</th>\n",
              "      <th>FLAG_PROFESSIONAL_PHONE</th>\n",
              "      <th>PROFESSIONAL_PHONE_AREA_CODE</th>\n",
              "      <th>MONTHS_IN_THE_JOB</th>\n",
              "      <th>PROFESSION_CODE</th>\n",
              "      <th>OCCUPATION_TYPE</th>\n",
              "      <th>MATE_PROFESSION_CODE</th>\n",
              "      <th>MATE_EDUCATION_LEVEL</th>\n",
              "      <th>FLAG_HOME_ADDRESS_DOCUMENT</th>\n",
              "      <th>FLAG_RG</th>\n",
              "      <th>FLAG_CPF</th>\n",
              "      <th>FLAG_INCOME_PROOF</th>\n",
              "      <th>PRODUCT</th>\n",
              "      <th>FLAG_ACSP_RECORD</th>\n",
              "      <th>AGE</th>\n",
              "      <th>RESIDENCIAL_ZIP_3</th>\n",
              "      <th>PROFESSIONAL_ZIP_3</th>\n",
              "      <th>TARGET_LABEL</th>\n",
              "      <th>PRODUCT_1</th>\n",
              "      <th>PRODUCT_2</th>\n",
              "      <th>PRODUCT_7</th>\n",
              "    </tr>\n",
              "  </thead>\n",
              "  <tbody>\n",
              "    <tr>\n",
              "      <th>0</th>\n",
              "      <td>1</td>\n",
              "      <td>C</td>\n",
              "      <td>5</td>\n",
              "      <td>Web</td>\n",
              "      <td>0</td>\n",
              "      <td>1</td>\n",
              "      <td>F</td>\n",
              "      <td>6</td>\n",
              "      <td>1</td>\n",
              "      <td>0</td>\n",
              "      <td>RN</td>\n",
              "      <td>Assu</td>\n",
              "      <td>1</td>\n",
              "      <td>RN</td>\n",
              "      <td>Santana do Matos</td>\n",
              "      <td>Centro</td>\n",
              "      <td>Y</td>\n",
              "      <td>105</td>\n",
              "      <td>1.0</td>\n",
              "      <td>15.0</td>\n",
              "      <td>N</td>\n",
              "      <td>1</td>\n",
              "      <td>900.00</td>\n",
              "      <td>0.0</td>\n",
              "      <td>1</td>\n",
              "      <td>1</td>\n",
              "      <td>0</td>\n",
              "      <td>0</td>\n",
              "      <td>0</td>\n",
              "      <td>0</td>\n",
              "      <td>0</td>\n",
              "      <td>0.0</td>\n",
              "      <td>0</td>\n",
              "      <td>0</td>\n",
              "      <td>NaN</td>\n",
              "      <td>NaN</td>\n",
              "      <td>NaN</td>\n",
              "      <td>N</td>\n",
              "      <td>NaN</td>\n",
              "      <td>0</td>\n",
              "      <td>9.0</td>\n",
              "      <td>4.0</td>\n",
              "      <td>NaN</td>\n",
              "      <td>NaN</td>\n",
              "      <td>0</td>\n",
              "      <td>0</td>\n",
              "      <td>0</td>\n",
              "      <td>0</td>\n",
              "      <td>1</td>\n",
              "      <td>N</td>\n",
              "      <td>32</td>\n",
              "      <td>595</td>\n",
              "      <td>595</td>\n",
              "      <td>1</td>\n",
              "      <td>1</td>\n",
              "      <td>0</td>\n",
              "      <td>0</td>\n",
              "    </tr>\n",
              "    <tr>\n",
              "      <th>1</th>\n",
              "      <td>2</td>\n",
              "      <td>C</td>\n",
              "      <td>15</td>\n",
              "      <td>Carga</td>\n",
              "      <td>0</td>\n",
              "      <td>1</td>\n",
              "      <td>F</td>\n",
              "      <td>2</td>\n",
              "      <td>0</td>\n",
              "      <td>0</td>\n",
              "      <td>RJ</td>\n",
              "      <td>rio de janeiro</td>\n",
              "      <td>1</td>\n",
              "      <td>RJ</td>\n",
              "      <td>RIO DE JANEIRO</td>\n",
              "      <td>CAMPO GRANDE</td>\n",
              "      <td>Y</td>\n",
              "      <td>20</td>\n",
              "      <td>1.0</td>\n",
              "      <td>1.0</td>\n",
              "      <td>N</td>\n",
              "      <td>1</td>\n",
              "      <td>750.00</td>\n",
              "      <td>0.0</td>\n",
              "      <td>0</td>\n",
              "      <td>0</td>\n",
              "      <td>0</td>\n",
              "      <td>0</td>\n",
              "      <td>0</td>\n",
              "      <td>0</td>\n",
              "      <td>0</td>\n",
              "      <td>0.0</td>\n",
              "      <td>0</td>\n",
              "      <td>1</td>\n",
              "      <td>NaN</td>\n",
              "      <td>NaN</td>\n",
              "      <td>NaN</td>\n",
              "      <td>N</td>\n",
              "      <td>NaN</td>\n",
              "      <td>0</td>\n",
              "      <td>11.0</td>\n",
              "      <td>4.0</td>\n",
              "      <td>11.0</td>\n",
              "      <td>NaN</td>\n",
              "      <td>0</td>\n",
              "      <td>0</td>\n",
              "      <td>0</td>\n",
              "      <td>0</td>\n",
              "      <td>1</td>\n",
              "      <td>N</td>\n",
              "      <td>34</td>\n",
              "      <td>230</td>\n",
              "      <td>230</td>\n",
              "      <td>1</td>\n",
              "      <td>1</td>\n",
              "      <td>0</td>\n",
              "      <td>0</td>\n",
              "    </tr>\n",
              "    <tr>\n",
              "      <th>2</th>\n",
              "      <td>3</td>\n",
              "      <td>C</td>\n",
              "      <td>5</td>\n",
              "      <td>Web</td>\n",
              "      <td>0</td>\n",
              "      <td>1</td>\n",
              "      <td>F</td>\n",
              "      <td>2</td>\n",
              "      <td>0</td>\n",
              "      <td>0</td>\n",
              "      <td>RN</td>\n",
              "      <td>GARANHUNS</td>\n",
              "      <td>1</td>\n",
              "      <td>RN</td>\n",
              "      <td>Parnamirim</td>\n",
              "      <td>Boa Esperanca</td>\n",
              "      <td>Y</td>\n",
              "      <td>105</td>\n",
              "      <td>1.0</td>\n",
              "      <td>6.0</td>\n",
              "      <td>N</td>\n",
              "      <td>1</td>\n",
              "      <td>500.00</td>\n",
              "      <td>0.0</td>\n",
              "      <td>0</td>\n",
              "      <td>0</td>\n",
              "      <td>0</td>\n",
              "      <td>0</td>\n",
              "      <td>0</td>\n",
              "      <td>0</td>\n",
              "      <td>0</td>\n",
              "      <td>0.0</td>\n",
              "      <td>0</td>\n",
              "      <td>0</td>\n",
              "      <td>NaN</td>\n",
              "      <td>NaN</td>\n",
              "      <td>NaN</td>\n",
              "      <td>N</td>\n",
              "      <td>NaN</td>\n",
              "      <td>0</td>\n",
              "      <td>11.0</td>\n",
              "      <td>NaN</td>\n",
              "      <td>NaN</td>\n",
              "      <td>NaN</td>\n",
              "      <td>0</td>\n",
              "      <td>0</td>\n",
              "      <td>0</td>\n",
              "      <td>0</td>\n",
              "      <td>1</td>\n",
              "      <td>N</td>\n",
              "      <td>27</td>\n",
              "      <td>591</td>\n",
              "      <td>591</td>\n",
              "      <td>0</td>\n",
              "      <td>1</td>\n",
              "      <td>0</td>\n",
              "      <td>0</td>\n",
              "    </tr>\n",
              "    <tr>\n",
              "      <th>3</th>\n",
              "      <td>4</td>\n",
              "      <td>C</td>\n",
              "      <td>20</td>\n",
              "      <td>Web</td>\n",
              "      <td>0</td>\n",
              "      <td>1</td>\n",
              "      <td>F</td>\n",
              "      <td>2</td>\n",
              "      <td>0</td>\n",
              "      <td>0</td>\n",
              "      <td>PE</td>\n",
              "      <td>CABO</td>\n",
              "      <td>1</td>\n",
              "      <td>PE</td>\n",
              "      <td>CABO</td>\n",
              "      <td>PONTE DOS CARVALHOS</td>\n",
              "      <td>N</td>\n",
              "      <td>NaN</td>\n",
              "      <td>NaN</td>\n",
              "      <td>6.0</td>\n",
              "      <td>N</td>\n",
              "      <td>1</td>\n",
              "      <td>500.00</td>\n",
              "      <td>0.0</td>\n",
              "      <td>0</td>\n",
              "      <td>0</td>\n",
              "      <td>0</td>\n",
              "      <td>0</td>\n",
              "      <td>0</td>\n",
              "      <td>0</td>\n",
              "      <td>0</td>\n",
              "      <td>0.0</td>\n",
              "      <td>0</td>\n",
              "      <td>0</td>\n",
              "      <td>NaN</td>\n",
              "      <td>NaN</td>\n",
              "      <td>NaN</td>\n",
              "      <td>N</td>\n",
              "      <td>NaN</td>\n",
              "      <td>0</td>\n",
              "      <td>NaN</td>\n",
              "      <td>NaN</td>\n",
              "      <td>NaN</td>\n",
              "      <td>NaN</td>\n",
              "      <td>0</td>\n",
              "      <td>0</td>\n",
              "      <td>0</td>\n",
              "      <td>0</td>\n",
              "      <td>1</td>\n",
              "      <td>N</td>\n",
              "      <td>61</td>\n",
              "      <td>545</td>\n",
              "      <td>545</td>\n",
              "      <td>0</td>\n",
              "      <td>1</td>\n",
              "      <td>0</td>\n",
              "      <td>0</td>\n",
              "    </tr>\n",
              "    <tr>\n",
              "      <th>4</th>\n",
              "      <td>5</td>\n",
              "      <td>C</td>\n",
              "      <td>10</td>\n",
              "      <td>Web</td>\n",
              "      <td>0</td>\n",
              "      <td>1</td>\n",
              "      <td>M</td>\n",
              "      <td>2</td>\n",
              "      <td>0</td>\n",
              "      <td>0</td>\n",
              "      <td>RJ</td>\n",
              "      <td>RIO DE JANEIRO</td>\n",
              "      <td>1</td>\n",
              "      <td>RJ</td>\n",
              "      <td>Rio de Janeiro</td>\n",
              "      <td>Santa Cruz</td>\n",
              "      <td>Y</td>\n",
              "      <td>20</td>\n",
              "      <td>1.0</td>\n",
              "      <td>12.0</td>\n",
              "      <td>N</td>\n",
              "      <td>1</td>\n",
              "      <td>1200.00</td>\n",
              "      <td>0.0</td>\n",
              "      <td>0</td>\n",
              "      <td>0</td>\n",
              "      <td>0</td>\n",
              "      <td>0</td>\n",
              "      <td>0</td>\n",
              "      <td>0</td>\n",
              "      <td>0</td>\n",
              "      <td>0.0</td>\n",
              "      <td>0</td>\n",
              "      <td>0</td>\n",
              "      <td>NaN</td>\n",
              "      <td>NaN</td>\n",
              "      <td>NaN</td>\n",
              "      <td>N</td>\n",
              "      <td>NaN</td>\n",
              "      <td>0</td>\n",
              "      <td>9.0</td>\n",
              "      <td>5.0</td>\n",
              "      <td>NaN</td>\n",
              "      <td>NaN</td>\n",
              "      <td>0</td>\n",
              "      <td>0</td>\n",
              "      <td>0</td>\n",
              "      <td>0</td>\n",
              "      <td>1</td>\n",
              "      <td>N</td>\n",
              "      <td>48</td>\n",
              "      <td>235</td>\n",
              "      <td>235</td>\n",
              "      <td>1</td>\n",
              "      <td>1</td>\n",
              "      <td>0</td>\n",
              "      <td>0</td>\n",
              "    </tr>\n",
              "    <tr>\n",
              "      <th>...</th>\n",
              "      <td>...</td>\n",
              "      <td>...</td>\n",
              "      <td>...</td>\n",
              "      <td>...</td>\n",
              "      <td>...</td>\n",
              "      <td>...</td>\n",
              "      <td>...</td>\n",
              "      <td>...</td>\n",
              "      <td>...</td>\n",
              "      <td>...</td>\n",
              "      <td>...</td>\n",
              "      <td>...</td>\n",
              "      <td>...</td>\n",
              "      <td>...</td>\n",
              "      <td>...</td>\n",
              "      <td>...</td>\n",
              "      <td>...</td>\n",
              "      <td>...</td>\n",
              "      <td>...</td>\n",
              "      <td>...</td>\n",
              "      <td>...</td>\n",
              "      <td>...</td>\n",
              "      <td>...</td>\n",
              "      <td>...</td>\n",
              "      <td>...</td>\n",
              "      <td>...</td>\n",
              "      <td>...</td>\n",
              "      <td>...</td>\n",
              "      <td>...</td>\n",
              "      <td>...</td>\n",
              "      <td>...</td>\n",
              "      <td>...</td>\n",
              "      <td>...</td>\n",
              "      <td>...</td>\n",
              "      <td>...</td>\n",
              "      <td>...</td>\n",
              "      <td>...</td>\n",
              "      <td>...</td>\n",
              "      <td>...</td>\n",
              "      <td>...</td>\n",
              "      <td>...</td>\n",
              "      <td>...</td>\n",
              "      <td>...</td>\n",
              "      <td>...</td>\n",
              "      <td>...</td>\n",
              "      <td>...</td>\n",
              "      <td>...</td>\n",
              "      <td>...</td>\n",
              "      <td>...</td>\n",
              "      <td>...</td>\n",
              "      <td>...</td>\n",
              "      <td>...</td>\n",
              "      <td>...</td>\n",
              "      <td>...</td>\n",
              "      <td>...</td>\n",
              "      <td>...</td>\n",
              "      <td>...</td>\n",
              "    </tr>\n",
              "    <tr>\n",
              "      <th>49995</th>\n",
              "      <td>49996</td>\n",
              "      <td>C</td>\n",
              "      <td>10</td>\n",
              "      <td>0</td>\n",
              "      <td>0</td>\n",
              "      <td>1</td>\n",
              "      <td>F</td>\n",
              "      <td>1</td>\n",
              "      <td>2</td>\n",
              "      <td>0</td>\n",
              "      <td>RN</td>\n",
              "      <td>NATAL</td>\n",
              "      <td>1</td>\n",
              "      <td>RN</td>\n",
              "      <td>NATAL</td>\n",
              "      <td>PAJUCARA</td>\n",
              "      <td>Y</td>\n",
              "      <td>105</td>\n",
              "      <td>1.0</td>\n",
              "      <td>14.0</td>\n",
              "      <td>N</td>\n",
              "      <td>1</td>\n",
              "      <td>1451.00</td>\n",
              "      <td>0.0</td>\n",
              "      <td>0</td>\n",
              "      <td>0</td>\n",
              "      <td>0</td>\n",
              "      <td>0</td>\n",
              "      <td>0</td>\n",
              "      <td>1</td>\n",
              "      <td>1</td>\n",
              "      <td>0.0</td>\n",
              "      <td>1</td>\n",
              "      <td>0</td>\n",
              "      <td>NaN</td>\n",
              "      <td>NaN</td>\n",
              "      <td>NaN</td>\n",
              "      <td>N</td>\n",
              "      <td>NaN</td>\n",
              "      <td>0</td>\n",
              "      <td>9.0</td>\n",
              "      <td>4.0</td>\n",
              "      <td>0.0</td>\n",
              "      <td>0.0</td>\n",
              "      <td>0</td>\n",
              "      <td>0</td>\n",
              "      <td>0</td>\n",
              "      <td>0</td>\n",
              "      <td>1</td>\n",
              "      <td>N</td>\n",
              "      <td>36</td>\n",
              "      <td>591</td>\n",
              "      <td>591</td>\n",
              "      <td>1</td>\n",
              "      <td>1</td>\n",
              "      <td>0</td>\n",
              "      <td>0</td>\n",
              "    </tr>\n",
              "    <tr>\n",
              "      <th>49996</th>\n",
              "      <td>49997</td>\n",
              "      <td>C</td>\n",
              "      <td>25</td>\n",
              "      <td>0</td>\n",
              "      <td>0</td>\n",
              "      <td>1</td>\n",
              "      <td>F</td>\n",
              "      <td>1</td>\n",
              "      <td>0</td>\n",
              "      <td>0</td>\n",
              "      <td>SP</td>\n",
              "      <td>LENCOIS PAULISTA</td>\n",
              "      <td>1</td>\n",
              "      <td>SP</td>\n",
              "      <td>Lencois Paulista</td>\n",
              "      <td>Nucleo Habitacional Joao Zillo</td>\n",
              "      <td>Y</td>\n",
              "      <td>12</td>\n",
              "      <td>1.0</td>\n",
              "      <td>15.0</td>\n",
              "      <td>N</td>\n",
              "      <td>1</td>\n",
              "      <td>450.00</td>\n",
              "      <td>0.0</td>\n",
              "      <td>0</td>\n",
              "      <td>0</td>\n",
              "      <td>0</td>\n",
              "      <td>0</td>\n",
              "      <td>0</td>\n",
              "      <td>0</td>\n",
              "      <td>0</td>\n",
              "      <td>0.0</td>\n",
              "      <td>0</td>\n",
              "      <td>0</td>\n",
              "      <td>NaN</td>\n",
              "      <td>NaN</td>\n",
              "      <td>NaN</td>\n",
              "      <td>N</td>\n",
              "      <td>NaN</td>\n",
              "      <td>0</td>\n",
              "      <td>NaN</td>\n",
              "      <td>NaN</td>\n",
              "      <td>NaN</td>\n",
              "      <td>NaN</td>\n",
              "      <td>0</td>\n",
              "      <td>0</td>\n",
              "      <td>0</td>\n",
              "      <td>0</td>\n",
              "      <td>2</td>\n",
              "      <td>N</td>\n",
              "      <td>21</td>\n",
              "      <td>186</td>\n",
              "      <td>186</td>\n",
              "      <td>0</td>\n",
              "      <td>0</td>\n",
              "      <td>1</td>\n",
              "      <td>0</td>\n",
              "    </tr>\n",
              "    <tr>\n",
              "      <th>49997</th>\n",
              "      <td>49998</td>\n",
              "      <td>C</td>\n",
              "      <td>5</td>\n",
              "      <td>Web</td>\n",
              "      <td>0</td>\n",
              "      <td>1</td>\n",
              "      <td>M</td>\n",
              "      <td>2</td>\n",
              "      <td>3</td>\n",
              "      <td>0</td>\n",
              "      <td>PR</td>\n",
              "      <td>RIO BONITO</td>\n",
              "      <td>1</td>\n",
              "      <td>SP</td>\n",
              "      <td>GUARULHOS</td>\n",
              "      <td>jardim vida nova</td>\n",
              "      <td>Y</td>\n",
              "      <td>5</td>\n",
              "      <td>2.0</td>\n",
              "      <td>5.0</td>\n",
              "      <td>N</td>\n",
              "      <td>1</td>\n",
              "      <td>1555.00</td>\n",
              "      <td>0.0</td>\n",
              "      <td>0</td>\n",
              "      <td>0</td>\n",
              "      <td>0</td>\n",
              "      <td>0</td>\n",
              "      <td>0</td>\n",
              "      <td>0</td>\n",
              "      <td>0</td>\n",
              "      <td>0.0</td>\n",
              "      <td>0</td>\n",
              "      <td>1</td>\n",
              "      <td>SP</td>\n",
              "      <td>GUARULHOS</td>\n",
              "      <td>ITAPEGICA</td>\n",
              "      <td>Y</td>\n",
              "      <td>5</td>\n",
              "      <td>0</td>\n",
              "      <td>9.0</td>\n",
              "      <td>2.0</td>\n",
              "      <td>NaN</td>\n",
              "      <td>NaN</td>\n",
              "      <td>0</td>\n",
              "      <td>0</td>\n",
              "      <td>0</td>\n",
              "      <td>0</td>\n",
              "      <td>1</td>\n",
              "      <td>N</td>\n",
              "      <td>41</td>\n",
              "      <td>715</td>\n",
              "      <td>715</td>\n",
              "      <td>0</td>\n",
              "      <td>1</td>\n",
              "      <td>0</td>\n",
              "      <td>0</td>\n",
              "    </tr>\n",
              "    <tr>\n",
              "      <th>49998</th>\n",
              "      <td>49999</td>\n",
              "      <td>C</td>\n",
              "      <td>1</td>\n",
              "      <td>Web</td>\n",
              "      <td>0</td>\n",
              "      <td>1</td>\n",
              "      <td>F</td>\n",
              "      <td>1</td>\n",
              "      <td>1</td>\n",
              "      <td>0</td>\n",
              "      <td>SP</td>\n",
              "      <td>SAO PAULO</td>\n",
              "      <td>1</td>\n",
              "      <td>MG</td>\n",
              "      <td>CONTAGEM</td>\n",
              "      <td>VILA BELEM</td>\n",
              "      <td>Y</td>\n",
              "      <td>29</td>\n",
              "      <td>1.0</td>\n",
              "      <td>6.0</td>\n",
              "      <td>N</td>\n",
              "      <td>1</td>\n",
              "      <td>1443.27</td>\n",
              "      <td>0.0</td>\n",
              "      <td>0</td>\n",
              "      <td>0</td>\n",
              "      <td>0</td>\n",
              "      <td>0</td>\n",
              "      <td>0</td>\n",
              "      <td>0</td>\n",
              "      <td>0</td>\n",
              "      <td>0.0</td>\n",
              "      <td>0</td>\n",
              "      <td>1</td>\n",
              "      <td>MG</td>\n",
              "      <td>BETIM</td>\n",
              "      <td>JARDIM ALTEROSA</td>\n",
              "      <td>Y</td>\n",
              "      <td>29</td>\n",
              "      <td>0</td>\n",
              "      <td>9.0</td>\n",
              "      <td>2.0</td>\n",
              "      <td>NaN</td>\n",
              "      <td>NaN</td>\n",
              "      <td>0</td>\n",
              "      <td>0</td>\n",
              "      <td>0</td>\n",
              "      <td>0</td>\n",
              "      <td>1</td>\n",
              "      <td>N</td>\n",
              "      <td>28</td>\n",
              "      <td>320</td>\n",
              "      <td>320</td>\n",
              "      <td>1</td>\n",
              "      <td>1</td>\n",
              "      <td>0</td>\n",
              "      <td>0</td>\n",
              "    </tr>\n",
              "    <tr>\n",
              "      <th>49999</th>\n",
              "      <td>50000</td>\n",
              "      <td>C</td>\n",
              "      <td>10</td>\n",
              "      <td>Web</td>\n",
              "      <td>0</td>\n",
              "      <td>1</td>\n",
              "      <td>F</td>\n",
              "      <td>2</td>\n",
              "      <td>2</td>\n",
              "      <td>0</td>\n",
              "      <td>SP</td>\n",
              "      <td>PINDABA</td>\n",
              "      <td>1</td>\n",
              "      <td>SP</td>\n",
              "      <td>Pindamonhangaba</td>\n",
              "      <td>Feital</td>\n",
              "      <td>N</td>\n",
              "      <td>NaN</td>\n",
              "      <td>1.0</td>\n",
              "      <td>9.0</td>\n",
              "      <td>N</td>\n",
              "      <td>1</td>\n",
              "      <td>719.38</td>\n",
              "      <td>0.0</td>\n",
              "      <td>0</td>\n",
              "      <td>0</td>\n",
              "      <td>0</td>\n",
              "      <td>0</td>\n",
              "      <td>0</td>\n",
              "      <td>0</td>\n",
              "      <td>0</td>\n",
              "      <td>0.0</td>\n",
              "      <td>0</td>\n",
              "      <td>1</td>\n",
              "      <td>SP</td>\n",
              "      <td>PINDABA</td>\n",
              "      <td>CIDADE NOVA</td>\n",
              "      <td>Y</td>\n",
              "      <td>9</td>\n",
              "      <td>0</td>\n",
              "      <td>9.0</td>\n",
              "      <td>2.0</td>\n",
              "      <td>NaN</td>\n",
              "      <td>NaN</td>\n",
              "      <td>0</td>\n",
              "      <td>0</td>\n",
              "      <td>0</td>\n",
              "      <td>0</td>\n",
              "      <td>1</td>\n",
              "      <td>N</td>\n",
              "      <td>27</td>\n",
              "      <td>124</td>\n",
              "      <td>124</td>\n",
              "      <td>0</td>\n",
              "      <td>1</td>\n",
              "      <td>0</td>\n",
              "      <td>0</td>\n",
              "    </tr>\n",
              "  </tbody>\n",
              "</table>\n",
              "<p>50000 rows × 57 columns</p>\n",
              "</div>"
            ],
            "text/plain": [
              "       ID_CLIENT CLERK_TYPE  PAYMENT_DAY  ... PRODUCT_1  PRODUCT_2  PRODUCT_7\n",
              "0              1          C            5  ...         1          0          0\n",
              "1              2          C           15  ...         1          0          0\n",
              "2              3          C            5  ...         1          0          0\n",
              "3              4          C           20  ...         1          0          0\n",
              "4              5          C           10  ...         1          0          0\n",
              "...          ...        ...          ...  ...       ...        ...        ...\n",
              "49995      49996          C           10  ...         1          0          0\n",
              "49996      49997          C           25  ...         0          1          0\n",
              "49997      49998          C            5  ...         1          0          0\n",
              "49998      49999          C            1  ...         1          0          0\n",
              "49999      50000          C           10  ...         1          0          0\n",
              "\n",
              "[50000 rows x 57 columns]"
            ]
          },
          "metadata": {
            "tags": []
          },
          "execution_count": 146
        }
      ]
    },
    {
      "cell_type": "code",
      "metadata": {
        "colab": {
          "base_uri": "https://localhost:8080/"
        },
        "id": "tPd86JoFItck",
        "outputId": "eee116ec-8a2f-45d0-86b0-775e669f8fed"
      },
      "source": [
        "#FLAG_CREDIT_CARD\n",
        "data_nans_fixed[\"FLAG_CREDIT_CARD\"] = data_nans_fixed[\"FLAG_VISA\"] | data_nans_fixed[\"FLAG_DINERS\"] | data_nans_fixed[\"FLAG_MASTERCARD\"] | data_nans_fixed[\"FLAG_AMERICAN_EXPRESS\"] | data_nans_fixed[\"FLAG_OTHER_CARDS\"]\n",
        "data_nans_fixed[\"FLAG_CREDIT_CARD\"]"
      ],
      "execution_count": null,
      "outputs": [
        {
          "output_type": "execute_result",
          "data": {
            "text/plain": [
              "0        1\n",
              "1        0\n",
              "2        0\n",
              "3        0\n",
              "4        0\n",
              "        ..\n",
              "49995    0\n",
              "49996    0\n",
              "49997    0\n",
              "49998    0\n",
              "49999    0\n",
              "Name: FLAG_CREDIT_CARD, Length: 50000, dtype: int64"
            ]
          },
          "metadata": {
            "tags": []
          },
          "execution_count": 147
        }
      ]
    },
    {
      "cell_type": "code",
      "metadata": {
        "id": "DUrNDu4OL5K3"
      },
      "source": [
        "#checking for invalid values of FLAG_PROFESSIONAL_PHONE\n",
        "count_prof_phone_nan = 0\n",
        "for row in range(len(data_nans_fixed)):\n",
        "    if data_nans_fixed.loc[row, 'FLAG_PROFESSIONAL_PHONE'] not in ['N','Y']:\n",
        "        data_nans_fixed.loc[row, 'FLAG_PROFESSIONAL_PHONE'] = float('nan')\n",
        "        count_prof_phone_nan += 1"
      ],
      "execution_count": null,
      "outputs": []
    },
    {
      "cell_type": "code",
      "metadata": {
        "colab": {
          "base_uri": "https://localhost:8080/"
        },
        "id": "qigvJxfjUZzH",
        "outputId": "ac7d6d6f-71d2-4de0-fb54-50da4615a76b"
      },
      "source": [
        "set(data_nans_fixed[\"FLAG_PROFESSIONAL_PHONE\"])"
      ],
      "execution_count": null,
      "outputs": [
        {
          "output_type": "execute_result",
          "data": {
            "text/plain": [
              "{'N', 'Y'}"
            ]
          },
          "metadata": {
            "tags": []
          },
          "execution_count": 149
        }
      ]
    },
    {
      "cell_type": "code",
      "metadata": {
        "colab": {
          "base_uri": "https://localhost:8080/"
        },
        "id": "DF6jGLpPSJSD",
        "outputId": "8ecba2ee-7d04-4cf7-f32f-485c344824e0"
      },
      "source": [
        "\n",
        "#converting N,Y to 0,1 for FLAG_PROFESSIONAL PHONE\n",
        "data_nans_fixed[\"FLAG_PROFESSIONAL_PHONE\"] = data_nans_fixed[\"FLAG_PROFESSIONAL_PHONE\"].replace(\"N\",0)\n",
        "data_nans_fixed[\"FLAG_PROFESSIONAL_PHONE\"] = data_nans_fixed[\"FLAG_PROFESSIONAL_PHONE\"].replace(\"Y\",1)\n",
        "data_nans_fixed[\"FLAG_PROFESSIONAL_PHONE\"]"
      ],
      "execution_count": null,
      "outputs": [
        {
          "output_type": "execute_result",
          "data": {
            "text/plain": [
              "0        0\n",
              "1        0\n",
              "2        0\n",
              "3        0\n",
              "4        0\n",
              "        ..\n",
              "49995    0\n",
              "49996    0\n",
              "49997    1\n",
              "49998    1\n",
              "49999    1\n",
              "Name: FLAG_PROFESSIONAL_PHONE, Length: 50000, dtype: int64"
            ]
          },
          "metadata": {
            "tags": []
          },
          "execution_count": 150
        }
      ]
    },
    {
      "cell_type": "code",
      "metadata": {
        "colab": {
          "base_uri": "https://localhost:8080/"
        },
        "id": "45QT1rPOmuYW",
        "outputId": "fabfb685-a0b2-40f5-e9df-e3ea7c96d1f3"
      },
      "source": [
        "#converting N,Y to 0,1 for FLAG_PROFESSIONAL PHONE\n",
        "data_nans_fixed[\"FLAG_RESIDENCIAL_PHONE\"] = data_nans_fixed[\"FLAG_RESIDENCIAL_PHONE\"].replace(\"N\",0)\n",
        "data_nans_fixed[\"FLAG_RESIDENCIAL_PHONE\"] = data_nans_fixed[\"FLAG_RESIDENCIAL_PHONE\"].replace(\"Y\",1)\n",
        "data_nans_fixed[\"FLAG_RESIDENCIAL_PHONE\"]"
      ],
      "execution_count": null,
      "outputs": [
        {
          "output_type": "execute_result",
          "data": {
            "text/plain": [
              "0        1\n",
              "1        1\n",
              "2        1\n",
              "3        0\n",
              "4        1\n",
              "        ..\n",
              "49995    1\n",
              "49996    1\n",
              "49997    1\n",
              "49998    1\n",
              "49999    0\n",
              "Name: FLAG_RESIDENCIAL_PHONE, Length: 50000, dtype: int64"
            ]
          },
          "metadata": {
            "tags": []
          },
          "execution_count": 151
        }
      ]
    },
    {
      "cell_type": "code",
      "metadata": {
        "id": "4r_9Q2VTSP3A"
      },
      "source": [
        "\n",
        "#checking for invalid values of FLAG_MOBILE_PHONE\n",
        "count_mob_phone_Y = 0\n",
        "for row in range(len(data_nans_fixed)):\n",
        "    if data_nans_fixed.loc[row, 'FLAG_MOBILE_PHONE'] != 'N':\n",
        "        count_mob_phone_Y += 1"
      ],
      "execution_count": null,
      "outputs": []
    },
    {
      "cell_type": "code",
      "metadata": {
        "colab": {
          "base_uri": "https://localhost:8080/"
        },
        "id": "QgrhBR4NSTPh",
        "outputId": "e69e8861-e30a-4516-d141-62d7693b4ce9"
      },
      "source": [
        "count_mob_phone_Y"
      ],
      "execution_count": null,
      "outputs": [
        {
          "output_type": "execute_result",
          "data": {
            "text/plain": [
              "0"
            ]
          },
          "metadata": {
            "tags": []
          },
          "execution_count": 153
        }
      ]
    },
    {
      "cell_type": "code",
      "metadata": {
        "colab": {
          "base_uri": "https://localhost:8080/"
        },
        "id": "EpC9nc40SjBa",
        "outputId": "89f79b40-64ce-4b01-defb-f6f12501675a"
      },
      "source": [
        "data_nans_fixed['TOTAL_INCOME'] = data_nans_fixed['PERSONAL_MONTHLY_INCOME'] + data_nans_fixed['OTHER_INCOMES']\n",
        "data_nans_fixed['TOTAL_INCOME_STD'] = standardize(data_nans_fixed['TOTAL_INCOME'])"
      ],
      "execution_count": null,
      "outputs": [
        {
          "output_type": "stream",
          "text": [
            "/usr/local/lib/python3.7/dist-packages/mlxtend/preprocessing/scaling.py:107: FutureWarning: Support for multi-dimensional indexing (e.g. `obj[:, None]`) is deprecated and will be removed in a future version.  Convert to a numpy array before indexing instead.\n",
            "  ary_new = ary_new[:, np.newaxis]\n"
          ],
          "name": "stderr"
        }
      ]
    },
    {
      "cell_type": "code",
      "metadata": {
        "colab": {
          "base_uri": "https://localhost:8080/"
        },
        "id": "LShnKfsUSjxw",
        "outputId": "c299ef98-55ed-4a16-913f-c58a8f995723"
      },
      "source": [
        "data_nans_fixed[\"TOTAL_INCOME\"]"
      ],
      "execution_count": null,
      "outputs": [
        {
          "output_type": "execute_result",
          "data": {
            "text/plain": [
              "0         900.00\n",
              "1         750.00\n",
              "2         500.00\n",
              "3         500.00\n",
              "4        1200.00\n",
              "          ...   \n",
              "49995    1451.00\n",
              "49996     450.00\n",
              "49997    1555.00\n",
              "49998    1443.27\n",
              "49999     719.38\n",
              "Name: TOTAL_INCOME, Length: 50000, dtype: float64"
            ]
          },
          "metadata": {
            "tags": []
          },
          "execution_count": 155
        }
      ]
    },
    {
      "cell_type": "code",
      "metadata": {
        "colab": {
          "base_uri": "https://localhost:8080/"
        },
        "id": "d0hzq0saVBzo",
        "outputId": "efc08566-2612-4553-dfa6-3d3436af14e5"
      },
      "source": [
        "data_nans_fixed[\"TOTAL_INCOME_STD\"]"
      ],
      "execution_count": null,
      "outputs": [
        {
          "output_type": "execute_result",
          "data": {
            "text/plain": [
              "0       -0.002800\n",
              "1       -0.021794\n",
              "2       -0.053450\n",
              "3       -0.053450\n",
              "4        0.035187\n",
              "           ...   \n",
              "49995    0.066970\n",
              "49996   -0.059781\n",
              "49997    0.080139\n",
              "49998    0.065991\n",
              "49999   -0.025671\n",
              "Name: TOTAL_INCOME_STD, Length: 50000, dtype: float64"
            ]
          },
          "metadata": {
            "tags": []
          },
          "execution_count": 156
        }
      ]
    },
    {
      "cell_type": "code",
      "metadata": {
        "id": "JGPLJD46XDwh"
      },
      "source": [
        "res_type_prod_list = list(data_nans_fixed[\"RESIDENCE_TYPE\"])\n",
        "res_list_prod_zero = [1 if x==0 else 0 for x in res_type_prod_list]\n",
        "res_list_prod_one = [1 if x==1 else 0 for x in res_type_prod_list]\n",
        "res_list_prod_two = [1 if x==2 else 0 for x in res_type_prod_list]\n",
        "res_list_prod_three = [1 if x==3 else 0 for x in res_type_prod_list]\n",
        "res_list_prod_four = [1 if x==4 else 0 for x in res_type_prod_list]\n",
        "res_list_prod_five = [1 if x==5 else 0 for x in res_type_prod_list]"
      ],
      "execution_count": null,
      "outputs": []
    },
    {
      "cell_type": "code",
      "metadata": {
        "colab": {
          "base_uri": "https://localhost:8080/",
          "height": 490
        },
        "id": "pYlvhCZuXZaM",
        "outputId": "1e23f157-9f9e-44f1-e3ef-ff2e34dd9c27"
      },
      "source": [
        "#One-Hot encode Residence Type\n",
        "data_nans_fixed[\"RESIDENCE_TYPE_0\"] = pd.Series(res_list_prod_zero)\n",
        "data_nans_fixed[\"RESIDENCE_TYPE_1\"] = pd.Series(res_list_prod_one)\n",
        "data_nans_fixed[\"RESIDENCE_TYPE_2\"] = pd.Series(res_list_prod_two)\n",
        "data_nans_fixed[\"RESIDENCE_TYPE_3\"] = pd.Series(res_list_prod_three)\n",
        "data_nans_fixed[\"RESIDENCE_TYPE_4\"] = pd.Series(res_list_prod_four)\n",
        "data_nans_fixed[\"RESIDENCE_TYPE_5\"] = pd.Series(res_list_prod_five)\n",
        "data_nans_fixed"
      ],
      "execution_count": null,
      "outputs": [
        {
          "output_type": "execute_result",
          "data": {
            "text/html": [
              "<div>\n",
              "<style scoped>\n",
              "    .dataframe tbody tr th:only-of-type {\n",
              "        vertical-align: middle;\n",
              "    }\n",
              "\n",
              "    .dataframe tbody tr th {\n",
              "        vertical-align: top;\n",
              "    }\n",
              "\n",
              "    .dataframe thead th {\n",
              "        text-align: right;\n",
              "    }\n",
              "</style>\n",
              "<table border=\"1\" class=\"dataframe\">\n",
              "  <thead>\n",
              "    <tr style=\"text-align: right;\">\n",
              "      <th></th>\n",
              "      <th>ID_CLIENT</th>\n",
              "      <th>CLERK_TYPE</th>\n",
              "      <th>PAYMENT_DAY</th>\n",
              "      <th>APPLICATION_SUBMISSION_TYPE</th>\n",
              "      <th>QUANT_ADDITIONAL_CARDS</th>\n",
              "      <th>POSTAL_ADDRESS_TYPE</th>\n",
              "      <th>SEX</th>\n",
              "      <th>MARITAL_STATUS</th>\n",
              "      <th>QUANT_DEPENDANTS</th>\n",
              "      <th>EDUCATION_LEVEL</th>\n",
              "      <th>STATE_OF_BIRTH</th>\n",
              "      <th>CITY_OF_BIRTH</th>\n",
              "      <th>NACIONALITY</th>\n",
              "      <th>RESIDENCIAL_STATE</th>\n",
              "      <th>RESIDENCIAL_CITY</th>\n",
              "      <th>RESIDENCIAL_BOROUGH</th>\n",
              "      <th>FLAG_RESIDENCIAL_PHONE</th>\n",
              "      <th>RESIDENCIAL_PHONE_AREA_CODE</th>\n",
              "      <th>RESIDENCE_TYPE</th>\n",
              "      <th>MONTHS_IN_RESIDENCE</th>\n",
              "      <th>FLAG_MOBILE_PHONE</th>\n",
              "      <th>FLAG_EMAIL</th>\n",
              "      <th>PERSONAL_MONTHLY_INCOME</th>\n",
              "      <th>OTHER_INCOMES</th>\n",
              "      <th>FLAG_VISA</th>\n",
              "      <th>FLAG_MASTERCARD</th>\n",
              "      <th>FLAG_DINERS</th>\n",
              "      <th>FLAG_AMERICAN_EXPRESS</th>\n",
              "      <th>FLAG_OTHER_CARDS</th>\n",
              "      <th>QUANT_BANKING_ACCOUNTS</th>\n",
              "      <th>QUANT_SPECIAL_BANKING_ACCOUNTS</th>\n",
              "      <th>PERSONAL_ASSETS_VALUE</th>\n",
              "      <th>QUANT_CARS</th>\n",
              "      <th>COMPANY</th>\n",
              "      <th>PROFESSIONAL_STATE</th>\n",
              "      <th>PROFESSIONAL_CITY</th>\n",
              "      <th>PROFESSIONAL_BOROUGH</th>\n",
              "      <th>FLAG_PROFESSIONAL_PHONE</th>\n",
              "      <th>PROFESSIONAL_PHONE_AREA_CODE</th>\n",
              "      <th>MONTHS_IN_THE_JOB</th>\n",
              "      <th>PROFESSION_CODE</th>\n",
              "      <th>OCCUPATION_TYPE</th>\n",
              "      <th>MATE_PROFESSION_CODE</th>\n",
              "      <th>MATE_EDUCATION_LEVEL</th>\n",
              "      <th>FLAG_HOME_ADDRESS_DOCUMENT</th>\n",
              "      <th>FLAG_RG</th>\n",
              "      <th>FLAG_CPF</th>\n",
              "      <th>FLAG_INCOME_PROOF</th>\n",
              "      <th>PRODUCT</th>\n",
              "      <th>FLAG_ACSP_RECORD</th>\n",
              "      <th>AGE</th>\n",
              "      <th>RESIDENCIAL_ZIP_3</th>\n",
              "      <th>PROFESSIONAL_ZIP_3</th>\n",
              "      <th>TARGET_LABEL</th>\n",
              "      <th>PRODUCT_1</th>\n",
              "      <th>PRODUCT_2</th>\n",
              "      <th>PRODUCT_7</th>\n",
              "      <th>FLAG_CREDIT_CARD</th>\n",
              "      <th>TOTAL_INCOME</th>\n",
              "      <th>TOTAL_INCOME_STD</th>\n",
              "      <th>RESIDENCE_TYPE_0</th>\n",
              "      <th>RESIDENCE_TYPE_1</th>\n",
              "      <th>RESIDENCE_TYPE_2</th>\n",
              "      <th>RESIDENCE_TYPE_3</th>\n",
              "      <th>RESIDENCE_TYPE_4</th>\n",
              "      <th>RESIDENCE_TYPE_5</th>\n",
              "    </tr>\n",
              "  </thead>\n",
              "  <tbody>\n",
              "    <tr>\n",
              "      <th>0</th>\n",
              "      <td>1</td>\n",
              "      <td>C</td>\n",
              "      <td>5</td>\n",
              "      <td>Web</td>\n",
              "      <td>0</td>\n",
              "      <td>1</td>\n",
              "      <td>F</td>\n",
              "      <td>6</td>\n",
              "      <td>1</td>\n",
              "      <td>0</td>\n",
              "      <td>RN</td>\n",
              "      <td>Assu</td>\n",
              "      <td>1</td>\n",
              "      <td>RN</td>\n",
              "      <td>Santana do Matos</td>\n",
              "      <td>Centro</td>\n",
              "      <td>1</td>\n",
              "      <td>105</td>\n",
              "      <td>1.0</td>\n",
              "      <td>15.0</td>\n",
              "      <td>N</td>\n",
              "      <td>1</td>\n",
              "      <td>900.00</td>\n",
              "      <td>0.0</td>\n",
              "      <td>1</td>\n",
              "      <td>1</td>\n",
              "      <td>0</td>\n",
              "      <td>0</td>\n",
              "      <td>0</td>\n",
              "      <td>0</td>\n",
              "      <td>0</td>\n",
              "      <td>0.0</td>\n",
              "      <td>0</td>\n",
              "      <td>0</td>\n",
              "      <td>NaN</td>\n",
              "      <td>NaN</td>\n",
              "      <td>NaN</td>\n",
              "      <td>0</td>\n",
              "      <td>NaN</td>\n",
              "      <td>0</td>\n",
              "      <td>9.0</td>\n",
              "      <td>4.0</td>\n",
              "      <td>NaN</td>\n",
              "      <td>NaN</td>\n",
              "      <td>0</td>\n",
              "      <td>0</td>\n",
              "      <td>0</td>\n",
              "      <td>0</td>\n",
              "      <td>1</td>\n",
              "      <td>N</td>\n",
              "      <td>32</td>\n",
              "      <td>595</td>\n",
              "      <td>595</td>\n",
              "      <td>1</td>\n",
              "      <td>1</td>\n",
              "      <td>0</td>\n",
              "      <td>0</td>\n",
              "      <td>1</td>\n",
              "      <td>900.00</td>\n",
              "      <td>-0.002800</td>\n",
              "      <td>0</td>\n",
              "      <td>1</td>\n",
              "      <td>0</td>\n",
              "      <td>0</td>\n",
              "      <td>0</td>\n",
              "      <td>0</td>\n",
              "    </tr>\n",
              "    <tr>\n",
              "      <th>1</th>\n",
              "      <td>2</td>\n",
              "      <td>C</td>\n",
              "      <td>15</td>\n",
              "      <td>Carga</td>\n",
              "      <td>0</td>\n",
              "      <td>1</td>\n",
              "      <td>F</td>\n",
              "      <td>2</td>\n",
              "      <td>0</td>\n",
              "      <td>0</td>\n",
              "      <td>RJ</td>\n",
              "      <td>rio de janeiro</td>\n",
              "      <td>1</td>\n",
              "      <td>RJ</td>\n",
              "      <td>RIO DE JANEIRO</td>\n",
              "      <td>CAMPO GRANDE</td>\n",
              "      <td>1</td>\n",
              "      <td>20</td>\n",
              "      <td>1.0</td>\n",
              "      <td>1.0</td>\n",
              "      <td>N</td>\n",
              "      <td>1</td>\n",
              "      <td>750.00</td>\n",
              "      <td>0.0</td>\n",
              "      <td>0</td>\n",
              "      <td>0</td>\n",
              "      <td>0</td>\n",
              "      <td>0</td>\n",
              "      <td>0</td>\n",
              "      <td>0</td>\n",
              "      <td>0</td>\n",
              "      <td>0.0</td>\n",
              "      <td>0</td>\n",
              "      <td>1</td>\n",
              "      <td>NaN</td>\n",
              "      <td>NaN</td>\n",
              "      <td>NaN</td>\n",
              "      <td>0</td>\n",
              "      <td>NaN</td>\n",
              "      <td>0</td>\n",
              "      <td>11.0</td>\n",
              "      <td>4.0</td>\n",
              "      <td>11.0</td>\n",
              "      <td>NaN</td>\n",
              "      <td>0</td>\n",
              "      <td>0</td>\n",
              "      <td>0</td>\n",
              "      <td>0</td>\n",
              "      <td>1</td>\n",
              "      <td>N</td>\n",
              "      <td>34</td>\n",
              "      <td>230</td>\n",
              "      <td>230</td>\n",
              "      <td>1</td>\n",
              "      <td>1</td>\n",
              "      <td>0</td>\n",
              "      <td>0</td>\n",
              "      <td>0</td>\n",
              "      <td>750.00</td>\n",
              "      <td>-0.021794</td>\n",
              "      <td>0</td>\n",
              "      <td>1</td>\n",
              "      <td>0</td>\n",
              "      <td>0</td>\n",
              "      <td>0</td>\n",
              "      <td>0</td>\n",
              "    </tr>\n",
              "    <tr>\n",
              "      <th>2</th>\n",
              "      <td>3</td>\n",
              "      <td>C</td>\n",
              "      <td>5</td>\n",
              "      <td>Web</td>\n",
              "      <td>0</td>\n",
              "      <td>1</td>\n",
              "      <td>F</td>\n",
              "      <td>2</td>\n",
              "      <td>0</td>\n",
              "      <td>0</td>\n",
              "      <td>RN</td>\n",
              "      <td>GARANHUNS</td>\n",
              "      <td>1</td>\n",
              "      <td>RN</td>\n",
              "      <td>Parnamirim</td>\n",
              "      <td>Boa Esperanca</td>\n",
              "      <td>1</td>\n",
              "      <td>105</td>\n",
              "      <td>1.0</td>\n",
              "      <td>6.0</td>\n",
              "      <td>N</td>\n",
              "      <td>1</td>\n",
              "      <td>500.00</td>\n",
              "      <td>0.0</td>\n",
              "      <td>0</td>\n",
              "      <td>0</td>\n",
              "      <td>0</td>\n",
              "      <td>0</td>\n",
              "      <td>0</td>\n",
              "      <td>0</td>\n",
              "      <td>0</td>\n",
              "      <td>0.0</td>\n",
              "      <td>0</td>\n",
              "      <td>0</td>\n",
              "      <td>NaN</td>\n",
              "      <td>NaN</td>\n",
              "      <td>NaN</td>\n",
              "      <td>0</td>\n",
              "      <td>NaN</td>\n",
              "      <td>0</td>\n",
              "      <td>11.0</td>\n",
              "      <td>NaN</td>\n",
              "      <td>NaN</td>\n",
              "      <td>NaN</td>\n",
              "      <td>0</td>\n",
              "      <td>0</td>\n",
              "      <td>0</td>\n",
              "      <td>0</td>\n",
              "      <td>1</td>\n",
              "      <td>N</td>\n",
              "      <td>27</td>\n",
              "      <td>591</td>\n",
              "      <td>591</td>\n",
              "      <td>0</td>\n",
              "      <td>1</td>\n",
              "      <td>0</td>\n",
              "      <td>0</td>\n",
              "      <td>0</td>\n",
              "      <td>500.00</td>\n",
              "      <td>-0.053450</td>\n",
              "      <td>0</td>\n",
              "      <td>1</td>\n",
              "      <td>0</td>\n",
              "      <td>0</td>\n",
              "      <td>0</td>\n",
              "      <td>0</td>\n",
              "    </tr>\n",
              "    <tr>\n",
              "      <th>3</th>\n",
              "      <td>4</td>\n",
              "      <td>C</td>\n",
              "      <td>20</td>\n",
              "      <td>Web</td>\n",
              "      <td>0</td>\n",
              "      <td>1</td>\n",
              "      <td>F</td>\n",
              "      <td>2</td>\n",
              "      <td>0</td>\n",
              "      <td>0</td>\n",
              "      <td>PE</td>\n",
              "      <td>CABO</td>\n",
              "      <td>1</td>\n",
              "      <td>PE</td>\n",
              "      <td>CABO</td>\n",
              "      <td>PONTE DOS CARVALHOS</td>\n",
              "      <td>0</td>\n",
              "      <td>NaN</td>\n",
              "      <td>NaN</td>\n",
              "      <td>6.0</td>\n",
              "      <td>N</td>\n",
              "      <td>1</td>\n",
              "      <td>500.00</td>\n",
              "      <td>0.0</td>\n",
              "      <td>0</td>\n",
              "      <td>0</td>\n",
              "      <td>0</td>\n",
              "      <td>0</td>\n",
              "      <td>0</td>\n",
              "      <td>0</td>\n",
              "      <td>0</td>\n",
              "      <td>0.0</td>\n",
              "      <td>0</td>\n",
              "      <td>0</td>\n",
              "      <td>NaN</td>\n",
              "      <td>NaN</td>\n",
              "      <td>NaN</td>\n",
              "      <td>0</td>\n",
              "      <td>NaN</td>\n",
              "      <td>0</td>\n",
              "      <td>NaN</td>\n",
              "      <td>NaN</td>\n",
              "      <td>NaN</td>\n",
              "      <td>NaN</td>\n",
              "      <td>0</td>\n",
              "      <td>0</td>\n",
              "      <td>0</td>\n",
              "      <td>0</td>\n",
              "      <td>1</td>\n",
              "      <td>N</td>\n",
              "      <td>61</td>\n",
              "      <td>545</td>\n",
              "      <td>545</td>\n",
              "      <td>0</td>\n",
              "      <td>1</td>\n",
              "      <td>0</td>\n",
              "      <td>0</td>\n",
              "      <td>0</td>\n",
              "      <td>500.00</td>\n",
              "      <td>-0.053450</td>\n",
              "      <td>0</td>\n",
              "      <td>0</td>\n",
              "      <td>0</td>\n",
              "      <td>0</td>\n",
              "      <td>0</td>\n",
              "      <td>0</td>\n",
              "    </tr>\n",
              "    <tr>\n",
              "      <th>4</th>\n",
              "      <td>5</td>\n",
              "      <td>C</td>\n",
              "      <td>10</td>\n",
              "      <td>Web</td>\n",
              "      <td>0</td>\n",
              "      <td>1</td>\n",
              "      <td>M</td>\n",
              "      <td>2</td>\n",
              "      <td>0</td>\n",
              "      <td>0</td>\n",
              "      <td>RJ</td>\n",
              "      <td>RIO DE JANEIRO</td>\n",
              "      <td>1</td>\n",
              "      <td>RJ</td>\n",
              "      <td>Rio de Janeiro</td>\n",
              "      <td>Santa Cruz</td>\n",
              "      <td>1</td>\n",
              "      <td>20</td>\n",
              "      <td>1.0</td>\n",
              "      <td>12.0</td>\n",
              "      <td>N</td>\n",
              "      <td>1</td>\n",
              "      <td>1200.00</td>\n",
              "      <td>0.0</td>\n",
              "      <td>0</td>\n",
              "      <td>0</td>\n",
              "      <td>0</td>\n",
              "      <td>0</td>\n",
              "      <td>0</td>\n",
              "      <td>0</td>\n",
              "      <td>0</td>\n",
              "      <td>0.0</td>\n",
              "      <td>0</td>\n",
              "      <td>0</td>\n",
              "      <td>NaN</td>\n",
              "      <td>NaN</td>\n",
              "      <td>NaN</td>\n",
              "      <td>0</td>\n",
              "      <td>NaN</td>\n",
              "      <td>0</td>\n",
              "      <td>9.0</td>\n",
              "      <td>5.0</td>\n",
              "      <td>NaN</td>\n",
              "      <td>NaN</td>\n",
              "      <td>0</td>\n",
              "      <td>0</td>\n",
              "      <td>0</td>\n",
              "      <td>0</td>\n",
              "      <td>1</td>\n",
              "      <td>N</td>\n",
              "      <td>48</td>\n",
              "      <td>235</td>\n",
              "      <td>235</td>\n",
              "      <td>1</td>\n",
              "      <td>1</td>\n",
              "      <td>0</td>\n",
              "      <td>0</td>\n",
              "      <td>0</td>\n",
              "      <td>1200.00</td>\n",
              "      <td>0.035187</td>\n",
              "      <td>0</td>\n",
              "      <td>1</td>\n",
              "      <td>0</td>\n",
              "      <td>0</td>\n",
              "      <td>0</td>\n",
              "      <td>0</td>\n",
              "    </tr>\n",
              "    <tr>\n",
              "      <th>...</th>\n",
              "      <td>...</td>\n",
              "      <td>...</td>\n",
              "      <td>...</td>\n",
              "      <td>...</td>\n",
              "      <td>...</td>\n",
              "      <td>...</td>\n",
              "      <td>...</td>\n",
              "      <td>...</td>\n",
              "      <td>...</td>\n",
              "      <td>...</td>\n",
              "      <td>...</td>\n",
              "      <td>...</td>\n",
              "      <td>...</td>\n",
              "      <td>...</td>\n",
              "      <td>...</td>\n",
              "      <td>...</td>\n",
              "      <td>...</td>\n",
              "      <td>...</td>\n",
              "      <td>...</td>\n",
              "      <td>...</td>\n",
              "      <td>...</td>\n",
              "      <td>...</td>\n",
              "      <td>...</td>\n",
              "      <td>...</td>\n",
              "      <td>...</td>\n",
              "      <td>...</td>\n",
              "      <td>...</td>\n",
              "      <td>...</td>\n",
              "      <td>...</td>\n",
              "      <td>...</td>\n",
              "      <td>...</td>\n",
              "      <td>...</td>\n",
              "      <td>...</td>\n",
              "      <td>...</td>\n",
              "      <td>...</td>\n",
              "      <td>...</td>\n",
              "      <td>...</td>\n",
              "      <td>...</td>\n",
              "      <td>...</td>\n",
              "      <td>...</td>\n",
              "      <td>...</td>\n",
              "      <td>...</td>\n",
              "      <td>...</td>\n",
              "      <td>...</td>\n",
              "      <td>...</td>\n",
              "      <td>...</td>\n",
              "      <td>...</td>\n",
              "      <td>...</td>\n",
              "      <td>...</td>\n",
              "      <td>...</td>\n",
              "      <td>...</td>\n",
              "      <td>...</td>\n",
              "      <td>...</td>\n",
              "      <td>...</td>\n",
              "      <td>...</td>\n",
              "      <td>...</td>\n",
              "      <td>...</td>\n",
              "      <td>...</td>\n",
              "      <td>...</td>\n",
              "      <td>...</td>\n",
              "      <td>...</td>\n",
              "      <td>...</td>\n",
              "      <td>...</td>\n",
              "      <td>...</td>\n",
              "      <td>...</td>\n",
              "      <td>...</td>\n",
              "    </tr>\n",
              "    <tr>\n",
              "      <th>49995</th>\n",
              "      <td>49996</td>\n",
              "      <td>C</td>\n",
              "      <td>10</td>\n",
              "      <td>0</td>\n",
              "      <td>0</td>\n",
              "      <td>1</td>\n",
              "      <td>F</td>\n",
              "      <td>1</td>\n",
              "      <td>2</td>\n",
              "      <td>0</td>\n",
              "      <td>RN</td>\n",
              "      <td>NATAL</td>\n",
              "      <td>1</td>\n",
              "      <td>RN</td>\n",
              "      <td>NATAL</td>\n",
              "      <td>PAJUCARA</td>\n",
              "      <td>1</td>\n",
              "      <td>105</td>\n",
              "      <td>1.0</td>\n",
              "      <td>14.0</td>\n",
              "      <td>N</td>\n",
              "      <td>1</td>\n",
              "      <td>1451.00</td>\n",
              "      <td>0.0</td>\n",
              "      <td>0</td>\n",
              "      <td>0</td>\n",
              "      <td>0</td>\n",
              "      <td>0</td>\n",
              "      <td>0</td>\n",
              "      <td>1</td>\n",
              "      <td>1</td>\n",
              "      <td>0.0</td>\n",
              "      <td>1</td>\n",
              "      <td>0</td>\n",
              "      <td>NaN</td>\n",
              "      <td>NaN</td>\n",
              "      <td>NaN</td>\n",
              "      <td>0</td>\n",
              "      <td>NaN</td>\n",
              "      <td>0</td>\n",
              "      <td>9.0</td>\n",
              "      <td>4.0</td>\n",
              "      <td>0.0</td>\n",
              "      <td>0.0</td>\n",
              "      <td>0</td>\n",
              "      <td>0</td>\n",
              "      <td>0</td>\n",
              "      <td>0</td>\n",
              "      <td>1</td>\n",
              "      <td>N</td>\n",
              "      <td>36</td>\n",
              "      <td>591</td>\n",
              "      <td>591</td>\n",
              "      <td>1</td>\n",
              "      <td>1</td>\n",
              "      <td>0</td>\n",
              "      <td>0</td>\n",
              "      <td>0</td>\n",
              "      <td>1451.00</td>\n",
              "      <td>0.066970</td>\n",
              "      <td>0</td>\n",
              "      <td>1</td>\n",
              "      <td>0</td>\n",
              "      <td>0</td>\n",
              "      <td>0</td>\n",
              "      <td>0</td>\n",
              "    </tr>\n",
              "    <tr>\n",
              "      <th>49996</th>\n",
              "      <td>49997</td>\n",
              "      <td>C</td>\n",
              "      <td>25</td>\n",
              "      <td>0</td>\n",
              "      <td>0</td>\n",
              "      <td>1</td>\n",
              "      <td>F</td>\n",
              "      <td>1</td>\n",
              "      <td>0</td>\n",
              "      <td>0</td>\n",
              "      <td>SP</td>\n",
              "      <td>LENCOIS PAULISTA</td>\n",
              "      <td>1</td>\n",
              "      <td>SP</td>\n",
              "      <td>Lencois Paulista</td>\n",
              "      <td>Nucleo Habitacional Joao Zillo</td>\n",
              "      <td>1</td>\n",
              "      <td>12</td>\n",
              "      <td>1.0</td>\n",
              "      <td>15.0</td>\n",
              "      <td>N</td>\n",
              "      <td>1</td>\n",
              "      <td>450.00</td>\n",
              "      <td>0.0</td>\n",
              "      <td>0</td>\n",
              "      <td>0</td>\n",
              "      <td>0</td>\n",
              "      <td>0</td>\n",
              "      <td>0</td>\n",
              "      <td>0</td>\n",
              "      <td>0</td>\n",
              "      <td>0.0</td>\n",
              "      <td>0</td>\n",
              "      <td>0</td>\n",
              "      <td>NaN</td>\n",
              "      <td>NaN</td>\n",
              "      <td>NaN</td>\n",
              "      <td>0</td>\n",
              "      <td>NaN</td>\n",
              "      <td>0</td>\n",
              "      <td>NaN</td>\n",
              "      <td>NaN</td>\n",
              "      <td>NaN</td>\n",
              "      <td>NaN</td>\n",
              "      <td>0</td>\n",
              "      <td>0</td>\n",
              "      <td>0</td>\n",
              "      <td>0</td>\n",
              "      <td>2</td>\n",
              "      <td>N</td>\n",
              "      <td>21</td>\n",
              "      <td>186</td>\n",
              "      <td>186</td>\n",
              "      <td>0</td>\n",
              "      <td>0</td>\n",
              "      <td>1</td>\n",
              "      <td>0</td>\n",
              "      <td>0</td>\n",
              "      <td>450.00</td>\n",
              "      <td>-0.059781</td>\n",
              "      <td>0</td>\n",
              "      <td>1</td>\n",
              "      <td>0</td>\n",
              "      <td>0</td>\n",
              "      <td>0</td>\n",
              "      <td>0</td>\n",
              "    </tr>\n",
              "    <tr>\n",
              "      <th>49997</th>\n",
              "      <td>49998</td>\n",
              "      <td>C</td>\n",
              "      <td>5</td>\n",
              "      <td>Web</td>\n",
              "      <td>0</td>\n",
              "      <td>1</td>\n",
              "      <td>M</td>\n",
              "      <td>2</td>\n",
              "      <td>3</td>\n",
              "      <td>0</td>\n",
              "      <td>PR</td>\n",
              "      <td>RIO BONITO</td>\n",
              "      <td>1</td>\n",
              "      <td>SP</td>\n",
              "      <td>GUARULHOS</td>\n",
              "      <td>jardim vida nova</td>\n",
              "      <td>1</td>\n",
              "      <td>5</td>\n",
              "      <td>2.0</td>\n",
              "      <td>5.0</td>\n",
              "      <td>N</td>\n",
              "      <td>1</td>\n",
              "      <td>1555.00</td>\n",
              "      <td>0.0</td>\n",
              "      <td>0</td>\n",
              "      <td>0</td>\n",
              "      <td>0</td>\n",
              "      <td>0</td>\n",
              "      <td>0</td>\n",
              "      <td>0</td>\n",
              "      <td>0</td>\n",
              "      <td>0.0</td>\n",
              "      <td>0</td>\n",
              "      <td>1</td>\n",
              "      <td>SP</td>\n",
              "      <td>GUARULHOS</td>\n",
              "      <td>ITAPEGICA</td>\n",
              "      <td>1</td>\n",
              "      <td>5</td>\n",
              "      <td>0</td>\n",
              "      <td>9.0</td>\n",
              "      <td>2.0</td>\n",
              "      <td>NaN</td>\n",
              "      <td>NaN</td>\n",
              "      <td>0</td>\n",
              "      <td>0</td>\n",
              "      <td>0</td>\n",
              "      <td>0</td>\n",
              "      <td>1</td>\n",
              "      <td>N</td>\n",
              "      <td>41</td>\n",
              "      <td>715</td>\n",
              "      <td>715</td>\n",
              "      <td>0</td>\n",
              "      <td>1</td>\n",
              "      <td>0</td>\n",
              "      <td>0</td>\n",
              "      <td>0</td>\n",
              "      <td>1555.00</td>\n",
              "      <td>0.080139</td>\n",
              "      <td>0</td>\n",
              "      <td>0</td>\n",
              "      <td>1</td>\n",
              "      <td>0</td>\n",
              "      <td>0</td>\n",
              "      <td>0</td>\n",
              "    </tr>\n",
              "    <tr>\n",
              "      <th>49998</th>\n",
              "      <td>49999</td>\n",
              "      <td>C</td>\n",
              "      <td>1</td>\n",
              "      <td>Web</td>\n",
              "      <td>0</td>\n",
              "      <td>1</td>\n",
              "      <td>F</td>\n",
              "      <td>1</td>\n",
              "      <td>1</td>\n",
              "      <td>0</td>\n",
              "      <td>SP</td>\n",
              "      <td>SAO PAULO</td>\n",
              "      <td>1</td>\n",
              "      <td>MG</td>\n",
              "      <td>CONTAGEM</td>\n",
              "      <td>VILA BELEM</td>\n",
              "      <td>1</td>\n",
              "      <td>29</td>\n",
              "      <td>1.0</td>\n",
              "      <td>6.0</td>\n",
              "      <td>N</td>\n",
              "      <td>1</td>\n",
              "      <td>1443.27</td>\n",
              "      <td>0.0</td>\n",
              "      <td>0</td>\n",
              "      <td>0</td>\n",
              "      <td>0</td>\n",
              "      <td>0</td>\n",
              "      <td>0</td>\n",
              "      <td>0</td>\n",
              "      <td>0</td>\n",
              "      <td>0.0</td>\n",
              "      <td>0</td>\n",
              "      <td>1</td>\n",
              "      <td>MG</td>\n",
              "      <td>BETIM</td>\n",
              "      <td>JARDIM ALTEROSA</td>\n",
              "      <td>1</td>\n",
              "      <td>29</td>\n",
              "      <td>0</td>\n",
              "      <td>9.0</td>\n",
              "      <td>2.0</td>\n",
              "      <td>NaN</td>\n",
              "      <td>NaN</td>\n",
              "      <td>0</td>\n",
              "      <td>0</td>\n",
              "      <td>0</td>\n",
              "      <td>0</td>\n",
              "      <td>1</td>\n",
              "      <td>N</td>\n",
              "      <td>28</td>\n",
              "      <td>320</td>\n",
              "      <td>320</td>\n",
              "      <td>1</td>\n",
              "      <td>1</td>\n",
              "      <td>0</td>\n",
              "      <td>0</td>\n",
              "      <td>0</td>\n",
              "      <td>1443.27</td>\n",
              "      <td>0.065991</td>\n",
              "      <td>0</td>\n",
              "      <td>1</td>\n",
              "      <td>0</td>\n",
              "      <td>0</td>\n",
              "      <td>0</td>\n",
              "      <td>0</td>\n",
              "    </tr>\n",
              "    <tr>\n",
              "      <th>49999</th>\n",
              "      <td>50000</td>\n",
              "      <td>C</td>\n",
              "      <td>10</td>\n",
              "      <td>Web</td>\n",
              "      <td>0</td>\n",
              "      <td>1</td>\n",
              "      <td>F</td>\n",
              "      <td>2</td>\n",
              "      <td>2</td>\n",
              "      <td>0</td>\n",
              "      <td>SP</td>\n",
              "      <td>PINDABA</td>\n",
              "      <td>1</td>\n",
              "      <td>SP</td>\n",
              "      <td>Pindamonhangaba</td>\n",
              "      <td>Feital</td>\n",
              "      <td>0</td>\n",
              "      <td>NaN</td>\n",
              "      <td>1.0</td>\n",
              "      <td>9.0</td>\n",
              "      <td>N</td>\n",
              "      <td>1</td>\n",
              "      <td>719.38</td>\n",
              "      <td>0.0</td>\n",
              "      <td>0</td>\n",
              "      <td>0</td>\n",
              "      <td>0</td>\n",
              "      <td>0</td>\n",
              "      <td>0</td>\n",
              "      <td>0</td>\n",
              "      <td>0</td>\n",
              "      <td>0.0</td>\n",
              "      <td>0</td>\n",
              "      <td>1</td>\n",
              "      <td>SP</td>\n",
              "      <td>PINDABA</td>\n",
              "      <td>CIDADE NOVA</td>\n",
              "      <td>1</td>\n",
              "      <td>9</td>\n",
              "      <td>0</td>\n",
              "      <td>9.0</td>\n",
              "      <td>2.0</td>\n",
              "      <td>NaN</td>\n",
              "      <td>NaN</td>\n",
              "      <td>0</td>\n",
              "      <td>0</td>\n",
              "      <td>0</td>\n",
              "      <td>0</td>\n",
              "      <td>1</td>\n",
              "      <td>N</td>\n",
              "      <td>27</td>\n",
              "      <td>124</td>\n",
              "      <td>124</td>\n",
              "      <td>0</td>\n",
              "      <td>1</td>\n",
              "      <td>0</td>\n",
              "      <td>0</td>\n",
              "      <td>0</td>\n",
              "      <td>719.38</td>\n",
              "      <td>-0.025671</td>\n",
              "      <td>0</td>\n",
              "      <td>1</td>\n",
              "      <td>0</td>\n",
              "      <td>0</td>\n",
              "      <td>0</td>\n",
              "      <td>0</td>\n",
              "    </tr>\n",
              "  </tbody>\n",
              "</table>\n",
              "<p>50000 rows × 66 columns</p>\n",
              "</div>"
            ],
            "text/plain": [
              "       ID_CLIENT CLERK_TYPE  ...  RESIDENCE_TYPE_4 RESIDENCE_TYPE_5\n",
              "0              1          C  ...                 0                0\n",
              "1              2          C  ...                 0                0\n",
              "2              3          C  ...                 0                0\n",
              "3              4          C  ...                 0                0\n",
              "4              5          C  ...                 0                0\n",
              "...          ...        ...  ...               ...              ...\n",
              "49995      49996          C  ...                 0                0\n",
              "49996      49997          C  ...                 0                0\n",
              "49997      49998          C  ...                 0                0\n",
              "49998      49999          C  ...                 0                0\n",
              "49999      50000          C  ...                 0                0\n",
              "\n",
              "[50000 rows x 66 columns]"
            ]
          },
          "metadata": {
            "tags": []
          },
          "execution_count": 158
        }
      ]
    },
    {
      "cell_type": "code",
      "metadata": {
        "id": "SY2g897DbJ4Z"
      },
      "source": [
        "payday_prod_list = list(data_nans_fixed[\"PAYMENT_DAY\"])\n",
        "payday_prod_one = [1 if x==1 else 0 for x in payday_prod_list]\n",
        "payday_prod_five = [1 if x==5 else 0 for x in payday_prod_list]\n",
        "payday_prod_ten = [1 if x==10 else 0 for x in payday_prod_list]\n",
        "payday_prod_fifteen = [1 if x==15 else 0 for x in payday_prod_list]\n",
        "payday_prod_twenty = [1 if x==20 else 0 for x in payday_prod_list]\n",
        "payday_prod_twentyfive = [1 if x==25 else 0 for x in payday_prod_list]"
      ],
      "execution_count": null,
      "outputs": []
    },
    {
      "cell_type": "code",
      "metadata": {
        "colab": {
          "base_uri": "https://localhost:8080/",
          "height": 490
        },
        "id": "5uhTi3TQboBE",
        "outputId": "6ed60fb3-9397-42a7-99af-c9099e5f2e67"
      },
      "source": [
        "#One-Hot Encode Payment Day\n",
        "data_nans_fixed[\"PAYMENT_DAY_1\"] = pd.Series(payday_prod_one)\n",
        "data_nans_fixed[\"PAYMENT_DAY_5\"] = pd.Series(payday_prod_five)\n",
        "data_nans_fixed[\"PAYMENT_DAY_10\"] = pd.Series(payday_prod_ten)\n",
        "data_nans_fixed[\"PAYMENT_DAY_15\"] = pd.Series(payday_prod_fifteen)\n",
        "data_nans_fixed[\"PAYMENT_DAY_20\"] = pd.Series(payday_prod_twenty)\n",
        "data_nans_fixed[\"PAYMENT_DAY_25\"] = pd.Series(payday_prod_twentyfive)\n",
        "data_nans_fixed"
      ],
      "execution_count": null,
      "outputs": [
        {
          "output_type": "execute_result",
          "data": {
            "text/html": [
              "<div>\n",
              "<style scoped>\n",
              "    .dataframe tbody tr th:only-of-type {\n",
              "        vertical-align: middle;\n",
              "    }\n",
              "\n",
              "    .dataframe tbody tr th {\n",
              "        vertical-align: top;\n",
              "    }\n",
              "\n",
              "    .dataframe thead th {\n",
              "        text-align: right;\n",
              "    }\n",
              "</style>\n",
              "<table border=\"1\" class=\"dataframe\">\n",
              "  <thead>\n",
              "    <tr style=\"text-align: right;\">\n",
              "      <th></th>\n",
              "      <th>ID_CLIENT</th>\n",
              "      <th>CLERK_TYPE</th>\n",
              "      <th>PAYMENT_DAY</th>\n",
              "      <th>APPLICATION_SUBMISSION_TYPE</th>\n",
              "      <th>QUANT_ADDITIONAL_CARDS</th>\n",
              "      <th>POSTAL_ADDRESS_TYPE</th>\n",
              "      <th>SEX</th>\n",
              "      <th>MARITAL_STATUS</th>\n",
              "      <th>QUANT_DEPENDANTS</th>\n",
              "      <th>EDUCATION_LEVEL</th>\n",
              "      <th>STATE_OF_BIRTH</th>\n",
              "      <th>CITY_OF_BIRTH</th>\n",
              "      <th>NACIONALITY</th>\n",
              "      <th>RESIDENCIAL_STATE</th>\n",
              "      <th>RESIDENCIAL_CITY</th>\n",
              "      <th>RESIDENCIAL_BOROUGH</th>\n",
              "      <th>FLAG_RESIDENCIAL_PHONE</th>\n",
              "      <th>RESIDENCIAL_PHONE_AREA_CODE</th>\n",
              "      <th>RESIDENCE_TYPE</th>\n",
              "      <th>MONTHS_IN_RESIDENCE</th>\n",
              "      <th>FLAG_MOBILE_PHONE</th>\n",
              "      <th>FLAG_EMAIL</th>\n",
              "      <th>PERSONAL_MONTHLY_INCOME</th>\n",
              "      <th>OTHER_INCOMES</th>\n",
              "      <th>FLAG_VISA</th>\n",
              "      <th>FLAG_MASTERCARD</th>\n",
              "      <th>FLAG_DINERS</th>\n",
              "      <th>FLAG_AMERICAN_EXPRESS</th>\n",
              "      <th>FLAG_OTHER_CARDS</th>\n",
              "      <th>QUANT_BANKING_ACCOUNTS</th>\n",
              "      <th>QUANT_SPECIAL_BANKING_ACCOUNTS</th>\n",
              "      <th>PERSONAL_ASSETS_VALUE</th>\n",
              "      <th>QUANT_CARS</th>\n",
              "      <th>COMPANY</th>\n",
              "      <th>PROFESSIONAL_STATE</th>\n",
              "      <th>PROFESSIONAL_CITY</th>\n",
              "      <th>PROFESSIONAL_BOROUGH</th>\n",
              "      <th>FLAG_PROFESSIONAL_PHONE</th>\n",
              "      <th>PROFESSIONAL_PHONE_AREA_CODE</th>\n",
              "      <th>MONTHS_IN_THE_JOB</th>\n",
              "      <th>PROFESSION_CODE</th>\n",
              "      <th>OCCUPATION_TYPE</th>\n",
              "      <th>MATE_PROFESSION_CODE</th>\n",
              "      <th>MATE_EDUCATION_LEVEL</th>\n",
              "      <th>FLAG_HOME_ADDRESS_DOCUMENT</th>\n",
              "      <th>FLAG_RG</th>\n",
              "      <th>FLAG_CPF</th>\n",
              "      <th>FLAG_INCOME_PROOF</th>\n",
              "      <th>PRODUCT</th>\n",
              "      <th>FLAG_ACSP_RECORD</th>\n",
              "      <th>AGE</th>\n",
              "      <th>RESIDENCIAL_ZIP_3</th>\n",
              "      <th>PROFESSIONAL_ZIP_3</th>\n",
              "      <th>TARGET_LABEL</th>\n",
              "      <th>PRODUCT_1</th>\n",
              "      <th>PRODUCT_2</th>\n",
              "      <th>PRODUCT_7</th>\n",
              "      <th>FLAG_CREDIT_CARD</th>\n",
              "      <th>TOTAL_INCOME</th>\n",
              "      <th>TOTAL_INCOME_STD</th>\n",
              "      <th>RESIDENCE_TYPE_0</th>\n",
              "      <th>RESIDENCE_TYPE_1</th>\n",
              "      <th>RESIDENCE_TYPE_2</th>\n",
              "      <th>RESIDENCE_TYPE_3</th>\n",
              "      <th>RESIDENCE_TYPE_4</th>\n",
              "      <th>RESIDENCE_TYPE_5</th>\n",
              "      <th>PAYMENT_DAY_1</th>\n",
              "      <th>PAYMENT_DAY_5</th>\n",
              "      <th>PAYMENT_DAY_10</th>\n",
              "      <th>PAYMENT_DAY_15</th>\n",
              "      <th>PAYMENT_DAY_20</th>\n",
              "      <th>PAYMENT_DAY_25</th>\n",
              "    </tr>\n",
              "  </thead>\n",
              "  <tbody>\n",
              "    <tr>\n",
              "      <th>0</th>\n",
              "      <td>1</td>\n",
              "      <td>C</td>\n",
              "      <td>5</td>\n",
              "      <td>Web</td>\n",
              "      <td>0</td>\n",
              "      <td>1</td>\n",
              "      <td>F</td>\n",
              "      <td>6</td>\n",
              "      <td>1</td>\n",
              "      <td>0</td>\n",
              "      <td>RN</td>\n",
              "      <td>Assu</td>\n",
              "      <td>1</td>\n",
              "      <td>RN</td>\n",
              "      <td>Santana do Matos</td>\n",
              "      <td>Centro</td>\n",
              "      <td>1</td>\n",
              "      <td>105</td>\n",
              "      <td>1.0</td>\n",
              "      <td>15.0</td>\n",
              "      <td>N</td>\n",
              "      <td>1</td>\n",
              "      <td>900.00</td>\n",
              "      <td>0.0</td>\n",
              "      <td>1</td>\n",
              "      <td>1</td>\n",
              "      <td>0</td>\n",
              "      <td>0</td>\n",
              "      <td>0</td>\n",
              "      <td>0</td>\n",
              "      <td>0</td>\n",
              "      <td>0.0</td>\n",
              "      <td>0</td>\n",
              "      <td>0</td>\n",
              "      <td>NaN</td>\n",
              "      <td>NaN</td>\n",
              "      <td>NaN</td>\n",
              "      <td>0</td>\n",
              "      <td>NaN</td>\n",
              "      <td>0</td>\n",
              "      <td>9.0</td>\n",
              "      <td>4.0</td>\n",
              "      <td>NaN</td>\n",
              "      <td>NaN</td>\n",
              "      <td>0</td>\n",
              "      <td>0</td>\n",
              "      <td>0</td>\n",
              "      <td>0</td>\n",
              "      <td>1</td>\n",
              "      <td>N</td>\n",
              "      <td>32</td>\n",
              "      <td>595</td>\n",
              "      <td>595</td>\n",
              "      <td>1</td>\n",
              "      <td>1</td>\n",
              "      <td>0</td>\n",
              "      <td>0</td>\n",
              "      <td>1</td>\n",
              "      <td>900.00</td>\n",
              "      <td>-0.002800</td>\n",
              "      <td>0</td>\n",
              "      <td>1</td>\n",
              "      <td>0</td>\n",
              "      <td>0</td>\n",
              "      <td>0</td>\n",
              "      <td>0</td>\n",
              "      <td>0</td>\n",
              "      <td>1</td>\n",
              "      <td>0</td>\n",
              "      <td>0</td>\n",
              "      <td>0</td>\n",
              "      <td>0</td>\n",
              "    </tr>\n",
              "    <tr>\n",
              "      <th>1</th>\n",
              "      <td>2</td>\n",
              "      <td>C</td>\n",
              "      <td>15</td>\n",
              "      <td>Carga</td>\n",
              "      <td>0</td>\n",
              "      <td>1</td>\n",
              "      <td>F</td>\n",
              "      <td>2</td>\n",
              "      <td>0</td>\n",
              "      <td>0</td>\n",
              "      <td>RJ</td>\n",
              "      <td>rio de janeiro</td>\n",
              "      <td>1</td>\n",
              "      <td>RJ</td>\n",
              "      <td>RIO DE JANEIRO</td>\n",
              "      <td>CAMPO GRANDE</td>\n",
              "      <td>1</td>\n",
              "      <td>20</td>\n",
              "      <td>1.0</td>\n",
              "      <td>1.0</td>\n",
              "      <td>N</td>\n",
              "      <td>1</td>\n",
              "      <td>750.00</td>\n",
              "      <td>0.0</td>\n",
              "      <td>0</td>\n",
              "      <td>0</td>\n",
              "      <td>0</td>\n",
              "      <td>0</td>\n",
              "      <td>0</td>\n",
              "      <td>0</td>\n",
              "      <td>0</td>\n",
              "      <td>0.0</td>\n",
              "      <td>0</td>\n",
              "      <td>1</td>\n",
              "      <td>NaN</td>\n",
              "      <td>NaN</td>\n",
              "      <td>NaN</td>\n",
              "      <td>0</td>\n",
              "      <td>NaN</td>\n",
              "      <td>0</td>\n",
              "      <td>11.0</td>\n",
              "      <td>4.0</td>\n",
              "      <td>11.0</td>\n",
              "      <td>NaN</td>\n",
              "      <td>0</td>\n",
              "      <td>0</td>\n",
              "      <td>0</td>\n",
              "      <td>0</td>\n",
              "      <td>1</td>\n",
              "      <td>N</td>\n",
              "      <td>34</td>\n",
              "      <td>230</td>\n",
              "      <td>230</td>\n",
              "      <td>1</td>\n",
              "      <td>1</td>\n",
              "      <td>0</td>\n",
              "      <td>0</td>\n",
              "      <td>0</td>\n",
              "      <td>750.00</td>\n",
              "      <td>-0.021794</td>\n",
              "      <td>0</td>\n",
              "      <td>1</td>\n",
              "      <td>0</td>\n",
              "      <td>0</td>\n",
              "      <td>0</td>\n",
              "      <td>0</td>\n",
              "      <td>0</td>\n",
              "      <td>0</td>\n",
              "      <td>0</td>\n",
              "      <td>1</td>\n",
              "      <td>0</td>\n",
              "      <td>0</td>\n",
              "    </tr>\n",
              "    <tr>\n",
              "      <th>2</th>\n",
              "      <td>3</td>\n",
              "      <td>C</td>\n",
              "      <td>5</td>\n",
              "      <td>Web</td>\n",
              "      <td>0</td>\n",
              "      <td>1</td>\n",
              "      <td>F</td>\n",
              "      <td>2</td>\n",
              "      <td>0</td>\n",
              "      <td>0</td>\n",
              "      <td>RN</td>\n",
              "      <td>GARANHUNS</td>\n",
              "      <td>1</td>\n",
              "      <td>RN</td>\n",
              "      <td>Parnamirim</td>\n",
              "      <td>Boa Esperanca</td>\n",
              "      <td>1</td>\n",
              "      <td>105</td>\n",
              "      <td>1.0</td>\n",
              "      <td>6.0</td>\n",
              "      <td>N</td>\n",
              "      <td>1</td>\n",
              "      <td>500.00</td>\n",
              "      <td>0.0</td>\n",
              "      <td>0</td>\n",
              "      <td>0</td>\n",
              "      <td>0</td>\n",
              "      <td>0</td>\n",
              "      <td>0</td>\n",
              "      <td>0</td>\n",
              "      <td>0</td>\n",
              "      <td>0.0</td>\n",
              "      <td>0</td>\n",
              "      <td>0</td>\n",
              "      <td>NaN</td>\n",
              "      <td>NaN</td>\n",
              "      <td>NaN</td>\n",
              "      <td>0</td>\n",
              "      <td>NaN</td>\n",
              "      <td>0</td>\n",
              "      <td>11.0</td>\n",
              "      <td>NaN</td>\n",
              "      <td>NaN</td>\n",
              "      <td>NaN</td>\n",
              "      <td>0</td>\n",
              "      <td>0</td>\n",
              "      <td>0</td>\n",
              "      <td>0</td>\n",
              "      <td>1</td>\n",
              "      <td>N</td>\n",
              "      <td>27</td>\n",
              "      <td>591</td>\n",
              "      <td>591</td>\n",
              "      <td>0</td>\n",
              "      <td>1</td>\n",
              "      <td>0</td>\n",
              "      <td>0</td>\n",
              "      <td>0</td>\n",
              "      <td>500.00</td>\n",
              "      <td>-0.053450</td>\n",
              "      <td>0</td>\n",
              "      <td>1</td>\n",
              "      <td>0</td>\n",
              "      <td>0</td>\n",
              "      <td>0</td>\n",
              "      <td>0</td>\n",
              "      <td>0</td>\n",
              "      <td>1</td>\n",
              "      <td>0</td>\n",
              "      <td>0</td>\n",
              "      <td>0</td>\n",
              "      <td>0</td>\n",
              "    </tr>\n",
              "    <tr>\n",
              "      <th>3</th>\n",
              "      <td>4</td>\n",
              "      <td>C</td>\n",
              "      <td>20</td>\n",
              "      <td>Web</td>\n",
              "      <td>0</td>\n",
              "      <td>1</td>\n",
              "      <td>F</td>\n",
              "      <td>2</td>\n",
              "      <td>0</td>\n",
              "      <td>0</td>\n",
              "      <td>PE</td>\n",
              "      <td>CABO</td>\n",
              "      <td>1</td>\n",
              "      <td>PE</td>\n",
              "      <td>CABO</td>\n",
              "      <td>PONTE DOS CARVALHOS</td>\n",
              "      <td>0</td>\n",
              "      <td>NaN</td>\n",
              "      <td>NaN</td>\n",
              "      <td>6.0</td>\n",
              "      <td>N</td>\n",
              "      <td>1</td>\n",
              "      <td>500.00</td>\n",
              "      <td>0.0</td>\n",
              "      <td>0</td>\n",
              "      <td>0</td>\n",
              "      <td>0</td>\n",
              "      <td>0</td>\n",
              "      <td>0</td>\n",
              "      <td>0</td>\n",
              "      <td>0</td>\n",
              "      <td>0.0</td>\n",
              "      <td>0</td>\n",
              "      <td>0</td>\n",
              "      <td>NaN</td>\n",
              "      <td>NaN</td>\n",
              "      <td>NaN</td>\n",
              "      <td>0</td>\n",
              "      <td>NaN</td>\n",
              "      <td>0</td>\n",
              "      <td>NaN</td>\n",
              "      <td>NaN</td>\n",
              "      <td>NaN</td>\n",
              "      <td>NaN</td>\n",
              "      <td>0</td>\n",
              "      <td>0</td>\n",
              "      <td>0</td>\n",
              "      <td>0</td>\n",
              "      <td>1</td>\n",
              "      <td>N</td>\n",
              "      <td>61</td>\n",
              "      <td>545</td>\n",
              "      <td>545</td>\n",
              "      <td>0</td>\n",
              "      <td>1</td>\n",
              "      <td>0</td>\n",
              "      <td>0</td>\n",
              "      <td>0</td>\n",
              "      <td>500.00</td>\n",
              "      <td>-0.053450</td>\n",
              "      <td>0</td>\n",
              "      <td>0</td>\n",
              "      <td>0</td>\n",
              "      <td>0</td>\n",
              "      <td>0</td>\n",
              "      <td>0</td>\n",
              "      <td>0</td>\n",
              "      <td>0</td>\n",
              "      <td>0</td>\n",
              "      <td>0</td>\n",
              "      <td>1</td>\n",
              "      <td>0</td>\n",
              "    </tr>\n",
              "    <tr>\n",
              "      <th>4</th>\n",
              "      <td>5</td>\n",
              "      <td>C</td>\n",
              "      <td>10</td>\n",
              "      <td>Web</td>\n",
              "      <td>0</td>\n",
              "      <td>1</td>\n",
              "      <td>M</td>\n",
              "      <td>2</td>\n",
              "      <td>0</td>\n",
              "      <td>0</td>\n",
              "      <td>RJ</td>\n",
              "      <td>RIO DE JANEIRO</td>\n",
              "      <td>1</td>\n",
              "      <td>RJ</td>\n",
              "      <td>Rio de Janeiro</td>\n",
              "      <td>Santa Cruz</td>\n",
              "      <td>1</td>\n",
              "      <td>20</td>\n",
              "      <td>1.0</td>\n",
              "      <td>12.0</td>\n",
              "      <td>N</td>\n",
              "      <td>1</td>\n",
              "      <td>1200.00</td>\n",
              "      <td>0.0</td>\n",
              "      <td>0</td>\n",
              "      <td>0</td>\n",
              "      <td>0</td>\n",
              "      <td>0</td>\n",
              "      <td>0</td>\n",
              "      <td>0</td>\n",
              "      <td>0</td>\n",
              "      <td>0.0</td>\n",
              "      <td>0</td>\n",
              "      <td>0</td>\n",
              "      <td>NaN</td>\n",
              "      <td>NaN</td>\n",
              "      <td>NaN</td>\n",
              "      <td>0</td>\n",
              "      <td>NaN</td>\n",
              "      <td>0</td>\n",
              "      <td>9.0</td>\n",
              "      <td>5.0</td>\n",
              "      <td>NaN</td>\n",
              "      <td>NaN</td>\n",
              "      <td>0</td>\n",
              "      <td>0</td>\n",
              "      <td>0</td>\n",
              "      <td>0</td>\n",
              "      <td>1</td>\n",
              "      <td>N</td>\n",
              "      <td>48</td>\n",
              "      <td>235</td>\n",
              "      <td>235</td>\n",
              "      <td>1</td>\n",
              "      <td>1</td>\n",
              "      <td>0</td>\n",
              "      <td>0</td>\n",
              "      <td>0</td>\n",
              "      <td>1200.00</td>\n",
              "      <td>0.035187</td>\n",
              "      <td>0</td>\n",
              "      <td>1</td>\n",
              "      <td>0</td>\n",
              "      <td>0</td>\n",
              "      <td>0</td>\n",
              "      <td>0</td>\n",
              "      <td>0</td>\n",
              "      <td>0</td>\n",
              "      <td>1</td>\n",
              "      <td>0</td>\n",
              "      <td>0</td>\n",
              "      <td>0</td>\n",
              "    </tr>\n",
              "    <tr>\n",
              "      <th>...</th>\n",
              "      <td>...</td>\n",
              "      <td>...</td>\n",
              "      <td>...</td>\n",
              "      <td>...</td>\n",
              "      <td>...</td>\n",
              "      <td>...</td>\n",
              "      <td>...</td>\n",
              "      <td>...</td>\n",
              "      <td>...</td>\n",
              "      <td>...</td>\n",
              "      <td>...</td>\n",
              "      <td>...</td>\n",
              "      <td>...</td>\n",
              "      <td>...</td>\n",
              "      <td>...</td>\n",
              "      <td>...</td>\n",
              "      <td>...</td>\n",
              "      <td>...</td>\n",
              "      <td>...</td>\n",
              "      <td>...</td>\n",
              "      <td>...</td>\n",
              "      <td>...</td>\n",
              "      <td>...</td>\n",
              "      <td>...</td>\n",
              "      <td>...</td>\n",
              "      <td>...</td>\n",
              "      <td>...</td>\n",
              "      <td>...</td>\n",
              "      <td>...</td>\n",
              "      <td>...</td>\n",
              "      <td>...</td>\n",
              "      <td>...</td>\n",
              "      <td>...</td>\n",
              "      <td>...</td>\n",
              "      <td>...</td>\n",
              "      <td>...</td>\n",
              "      <td>...</td>\n",
              "      <td>...</td>\n",
              "      <td>...</td>\n",
              "      <td>...</td>\n",
              "      <td>...</td>\n",
              "      <td>...</td>\n",
              "      <td>...</td>\n",
              "      <td>...</td>\n",
              "      <td>...</td>\n",
              "      <td>...</td>\n",
              "      <td>...</td>\n",
              "      <td>...</td>\n",
              "      <td>...</td>\n",
              "      <td>...</td>\n",
              "      <td>...</td>\n",
              "      <td>...</td>\n",
              "      <td>...</td>\n",
              "      <td>...</td>\n",
              "      <td>...</td>\n",
              "      <td>...</td>\n",
              "      <td>...</td>\n",
              "      <td>...</td>\n",
              "      <td>...</td>\n",
              "      <td>...</td>\n",
              "      <td>...</td>\n",
              "      <td>...</td>\n",
              "      <td>...</td>\n",
              "      <td>...</td>\n",
              "      <td>...</td>\n",
              "      <td>...</td>\n",
              "      <td>...</td>\n",
              "      <td>...</td>\n",
              "      <td>...</td>\n",
              "      <td>...</td>\n",
              "      <td>...</td>\n",
              "      <td>...</td>\n",
              "    </tr>\n",
              "    <tr>\n",
              "      <th>49995</th>\n",
              "      <td>49996</td>\n",
              "      <td>C</td>\n",
              "      <td>10</td>\n",
              "      <td>0</td>\n",
              "      <td>0</td>\n",
              "      <td>1</td>\n",
              "      <td>F</td>\n",
              "      <td>1</td>\n",
              "      <td>2</td>\n",
              "      <td>0</td>\n",
              "      <td>RN</td>\n",
              "      <td>NATAL</td>\n",
              "      <td>1</td>\n",
              "      <td>RN</td>\n",
              "      <td>NATAL</td>\n",
              "      <td>PAJUCARA</td>\n",
              "      <td>1</td>\n",
              "      <td>105</td>\n",
              "      <td>1.0</td>\n",
              "      <td>14.0</td>\n",
              "      <td>N</td>\n",
              "      <td>1</td>\n",
              "      <td>1451.00</td>\n",
              "      <td>0.0</td>\n",
              "      <td>0</td>\n",
              "      <td>0</td>\n",
              "      <td>0</td>\n",
              "      <td>0</td>\n",
              "      <td>0</td>\n",
              "      <td>1</td>\n",
              "      <td>1</td>\n",
              "      <td>0.0</td>\n",
              "      <td>1</td>\n",
              "      <td>0</td>\n",
              "      <td>NaN</td>\n",
              "      <td>NaN</td>\n",
              "      <td>NaN</td>\n",
              "      <td>0</td>\n",
              "      <td>NaN</td>\n",
              "      <td>0</td>\n",
              "      <td>9.0</td>\n",
              "      <td>4.0</td>\n",
              "      <td>0.0</td>\n",
              "      <td>0.0</td>\n",
              "      <td>0</td>\n",
              "      <td>0</td>\n",
              "      <td>0</td>\n",
              "      <td>0</td>\n",
              "      <td>1</td>\n",
              "      <td>N</td>\n",
              "      <td>36</td>\n",
              "      <td>591</td>\n",
              "      <td>591</td>\n",
              "      <td>1</td>\n",
              "      <td>1</td>\n",
              "      <td>0</td>\n",
              "      <td>0</td>\n",
              "      <td>0</td>\n",
              "      <td>1451.00</td>\n",
              "      <td>0.066970</td>\n",
              "      <td>0</td>\n",
              "      <td>1</td>\n",
              "      <td>0</td>\n",
              "      <td>0</td>\n",
              "      <td>0</td>\n",
              "      <td>0</td>\n",
              "      <td>0</td>\n",
              "      <td>0</td>\n",
              "      <td>1</td>\n",
              "      <td>0</td>\n",
              "      <td>0</td>\n",
              "      <td>0</td>\n",
              "    </tr>\n",
              "    <tr>\n",
              "      <th>49996</th>\n",
              "      <td>49997</td>\n",
              "      <td>C</td>\n",
              "      <td>25</td>\n",
              "      <td>0</td>\n",
              "      <td>0</td>\n",
              "      <td>1</td>\n",
              "      <td>F</td>\n",
              "      <td>1</td>\n",
              "      <td>0</td>\n",
              "      <td>0</td>\n",
              "      <td>SP</td>\n",
              "      <td>LENCOIS PAULISTA</td>\n",
              "      <td>1</td>\n",
              "      <td>SP</td>\n",
              "      <td>Lencois Paulista</td>\n",
              "      <td>Nucleo Habitacional Joao Zillo</td>\n",
              "      <td>1</td>\n",
              "      <td>12</td>\n",
              "      <td>1.0</td>\n",
              "      <td>15.0</td>\n",
              "      <td>N</td>\n",
              "      <td>1</td>\n",
              "      <td>450.00</td>\n",
              "      <td>0.0</td>\n",
              "      <td>0</td>\n",
              "      <td>0</td>\n",
              "      <td>0</td>\n",
              "      <td>0</td>\n",
              "      <td>0</td>\n",
              "      <td>0</td>\n",
              "      <td>0</td>\n",
              "      <td>0.0</td>\n",
              "      <td>0</td>\n",
              "      <td>0</td>\n",
              "      <td>NaN</td>\n",
              "      <td>NaN</td>\n",
              "      <td>NaN</td>\n",
              "      <td>0</td>\n",
              "      <td>NaN</td>\n",
              "      <td>0</td>\n",
              "      <td>NaN</td>\n",
              "      <td>NaN</td>\n",
              "      <td>NaN</td>\n",
              "      <td>NaN</td>\n",
              "      <td>0</td>\n",
              "      <td>0</td>\n",
              "      <td>0</td>\n",
              "      <td>0</td>\n",
              "      <td>2</td>\n",
              "      <td>N</td>\n",
              "      <td>21</td>\n",
              "      <td>186</td>\n",
              "      <td>186</td>\n",
              "      <td>0</td>\n",
              "      <td>0</td>\n",
              "      <td>1</td>\n",
              "      <td>0</td>\n",
              "      <td>0</td>\n",
              "      <td>450.00</td>\n",
              "      <td>-0.059781</td>\n",
              "      <td>0</td>\n",
              "      <td>1</td>\n",
              "      <td>0</td>\n",
              "      <td>0</td>\n",
              "      <td>0</td>\n",
              "      <td>0</td>\n",
              "      <td>0</td>\n",
              "      <td>0</td>\n",
              "      <td>0</td>\n",
              "      <td>0</td>\n",
              "      <td>0</td>\n",
              "      <td>1</td>\n",
              "    </tr>\n",
              "    <tr>\n",
              "      <th>49997</th>\n",
              "      <td>49998</td>\n",
              "      <td>C</td>\n",
              "      <td>5</td>\n",
              "      <td>Web</td>\n",
              "      <td>0</td>\n",
              "      <td>1</td>\n",
              "      <td>M</td>\n",
              "      <td>2</td>\n",
              "      <td>3</td>\n",
              "      <td>0</td>\n",
              "      <td>PR</td>\n",
              "      <td>RIO BONITO</td>\n",
              "      <td>1</td>\n",
              "      <td>SP</td>\n",
              "      <td>GUARULHOS</td>\n",
              "      <td>jardim vida nova</td>\n",
              "      <td>1</td>\n",
              "      <td>5</td>\n",
              "      <td>2.0</td>\n",
              "      <td>5.0</td>\n",
              "      <td>N</td>\n",
              "      <td>1</td>\n",
              "      <td>1555.00</td>\n",
              "      <td>0.0</td>\n",
              "      <td>0</td>\n",
              "      <td>0</td>\n",
              "      <td>0</td>\n",
              "      <td>0</td>\n",
              "      <td>0</td>\n",
              "      <td>0</td>\n",
              "      <td>0</td>\n",
              "      <td>0.0</td>\n",
              "      <td>0</td>\n",
              "      <td>1</td>\n",
              "      <td>SP</td>\n",
              "      <td>GUARULHOS</td>\n",
              "      <td>ITAPEGICA</td>\n",
              "      <td>1</td>\n",
              "      <td>5</td>\n",
              "      <td>0</td>\n",
              "      <td>9.0</td>\n",
              "      <td>2.0</td>\n",
              "      <td>NaN</td>\n",
              "      <td>NaN</td>\n",
              "      <td>0</td>\n",
              "      <td>0</td>\n",
              "      <td>0</td>\n",
              "      <td>0</td>\n",
              "      <td>1</td>\n",
              "      <td>N</td>\n",
              "      <td>41</td>\n",
              "      <td>715</td>\n",
              "      <td>715</td>\n",
              "      <td>0</td>\n",
              "      <td>1</td>\n",
              "      <td>0</td>\n",
              "      <td>0</td>\n",
              "      <td>0</td>\n",
              "      <td>1555.00</td>\n",
              "      <td>0.080139</td>\n",
              "      <td>0</td>\n",
              "      <td>0</td>\n",
              "      <td>1</td>\n",
              "      <td>0</td>\n",
              "      <td>0</td>\n",
              "      <td>0</td>\n",
              "      <td>0</td>\n",
              "      <td>1</td>\n",
              "      <td>0</td>\n",
              "      <td>0</td>\n",
              "      <td>0</td>\n",
              "      <td>0</td>\n",
              "    </tr>\n",
              "    <tr>\n",
              "      <th>49998</th>\n",
              "      <td>49999</td>\n",
              "      <td>C</td>\n",
              "      <td>1</td>\n",
              "      <td>Web</td>\n",
              "      <td>0</td>\n",
              "      <td>1</td>\n",
              "      <td>F</td>\n",
              "      <td>1</td>\n",
              "      <td>1</td>\n",
              "      <td>0</td>\n",
              "      <td>SP</td>\n",
              "      <td>SAO PAULO</td>\n",
              "      <td>1</td>\n",
              "      <td>MG</td>\n",
              "      <td>CONTAGEM</td>\n",
              "      <td>VILA BELEM</td>\n",
              "      <td>1</td>\n",
              "      <td>29</td>\n",
              "      <td>1.0</td>\n",
              "      <td>6.0</td>\n",
              "      <td>N</td>\n",
              "      <td>1</td>\n",
              "      <td>1443.27</td>\n",
              "      <td>0.0</td>\n",
              "      <td>0</td>\n",
              "      <td>0</td>\n",
              "      <td>0</td>\n",
              "      <td>0</td>\n",
              "      <td>0</td>\n",
              "      <td>0</td>\n",
              "      <td>0</td>\n",
              "      <td>0.0</td>\n",
              "      <td>0</td>\n",
              "      <td>1</td>\n",
              "      <td>MG</td>\n",
              "      <td>BETIM</td>\n",
              "      <td>JARDIM ALTEROSA</td>\n",
              "      <td>1</td>\n",
              "      <td>29</td>\n",
              "      <td>0</td>\n",
              "      <td>9.0</td>\n",
              "      <td>2.0</td>\n",
              "      <td>NaN</td>\n",
              "      <td>NaN</td>\n",
              "      <td>0</td>\n",
              "      <td>0</td>\n",
              "      <td>0</td>\n",
              "      <td>0</td>\n",
              "      <td>1</td>\n",
              "      <td>N</td>\n",
              "      <td>28</td>\n",
              "      <td>320</td>\n",
              "      <td>320</td>\n",
              "      <td>1</td>\n",
              "      <td>1</td>\n",
              "      <td>0</td>\n",
              "      <td>0</td>\n",
              "      <td>0</td>\n",
              "      <td>1443.27</td>\n",
              "      <td>0.065991</td>\n",
              "      <td>0</td>\n",
              "      <td>1</td>\n",
              "      <td>0</td>\n",
              "      <td>0</td>\n",
              "      <td>0</td>\n",
              "      <td>0</td>\n",
              "      <td>1</td>\n",
              "      <td>0</td>\n",
              "      <td>0</td>\n",
              "      <td>0</td>\n",
              "      <td>0</td>\n",
              "      <td>0</td>\n",
              "    </tr>\n",
              "    <tr>\n",
              "      <th>49999</th>\n",
              "      <td>50000</td>\n",
              "      <td>C</td>\n",
              "      <td>10</td>\n",
              "      <td>Web</td>\n",
              "      <td>0</td>\n",
              "      <td>1</td>\n",
              "      <td>F</td>\n",
              "      <td>2</td>\n",
              "      <td>2</td>\n",
              "      <td>0</td>\n",
              "      <td>SP</td>\n",
              "      <td>PINDABA</td>\n",
              "      <td>1</td>\n",
              "      <td>SP</td>\n",
              "      <td>Pindamonhangaba</td>\n",
              "      <td>Feital</td>\n",
              "      <td>0</td>\n",
              "      <td>NaN</td>\n",
              "      <td>1.0</td>\n",
              "      <td>9.0</td>\n",
              "      <td>N</td>\n",
              "      <td>1</td>\n",
              "      <td>719.38</td>\n",
              "      <td>0.0</td>\n",
              "      <td>0</td>\n",
              "      <td>0</td>\n",
              "      <td>0</td>\n",
              "      <td>0</td>\n",
              "      <td>0</td>\n",
              "      <td>0</td>\n",
              "      <td>0</td>\n",
              "      <td>0.0</td>\n",
              "      <td>0</td>\n",
              "      <td>1</td>\n",
              "      <td>SP</td>\n",
              "      <td>PINDABA</td>\n",
              "      <td>CIDADE NOVA</td>\n",
              "      <td>1</td>\n",
              "      <td>9</td>\n",
              "      <td>0</td>\n",
              "      <td>9.0</td>\n",
              "      <td>2.0</td>\n",
              "      <td>NaN</td>\n",
              "      <td>NaN</td>\n",
              "      <td>0</td>\n",
              "      <td>0</td>\n",
              "      <td>0</td>\n",
              "      <td>0</td>\n",
              "      <td>1</td>\n",
              "      <td>N</td>\n",
              "      <td>27</td>\n",
              "      <td>124</td>\n",
              "      <td>124</td>\n",
              "      <td>0</td>\n",
              "      <td>1</td>\n",
              "      <td>0</td>\n",
              "      <td>0</td>\n",
              "      <td>0</td>\n",
              "      <td>719.38</td>\n",
              "      <td>-0.025671</td>\n",
              "      <td>0</td>\n",
              "      <td>1</td>\n",
              "      <td>0</td>\n",
              "      <td>0</td>\n",
              "      <td>0</td>\n",
              "      <td>0</td>\n",
              "      <td>0</td>\n",
              "      <td>0</td>\n",
              "      <td>1</td>\n",
              "      <td>0</td>\n",
              "      <td>0</td>\n",
              "      <td>0</td>\n",
              "    </tr>\n",
              "  </tbody>\n",
              "</table>\n",
              "<p>50000 rows × 72 columns</p>\n",
              "</div>"
            ],
            "text/plain": [
              "       ID_CLIENT CLERK_TYPE  ...  PAYMENT_DAY_20 PAYMENT_DAY_25\n",
              "0              1          C  ...               0              0\n",
              "1              2          C  ...               0              0\n",
              "2              3          C  ...               0              0\n",
              "3              4          C  ...               1              0\n",
              "4              5          C  ...               0              0\n",
              "...          ...        ...  ...             ...            ...\n",
              "49995      49996          C  ...               0              0\n",
              "49996      49997          C  ...               0              1\n",
              "49997      49998          C  ...               0              0\n",
              "49998      49999          C  ...               0              0\n",
              "49999      50000          C  ...               0              0\n",
              "\n",
              "[50000 rows x 72 columns]"
            ]
          },
          "metadata": {
            "tags": []
          },
          "execution_count": 160
        }
      ]
    },
    {
      "cell_type": "code",
      "metadata": {
        "colab": {
          "base_uri": "https://localhost:8080/"
        },
        "id": "jT7JZVQIgTo1",
        "outputId": "809254aa-0a50-414d-b13e-7bfa222d54c2"
      },
      "source": [
        "#Encode Postal Address Type (1 --> 1, 2 --> 0)\n",
        "data_nans_fixed[\"POSTAL_ADDRESS_TYPE\"] = data_nans_fixed[\"POSTAL_ADDRESS_TYPE\"].replace(2,0)\n",
        "data_nans_fixed[\"POSTAL_ADDRESS_TYPE\"]"
      ],
      "execution_count": null,
      "outputs": [
        {
          "output_type": "execute_result",
          "data": {
            "text/plain": [
              "0        1\n",
              "1        1\n",
              "2        1\n",
              "3        1\n",
              "4        1\n",
              "        ..\n",
              "49995    1\n",
              "49996    1\n",
              "49997    1\n",
              "49998    1\n",
              "49999    1\n",
              "Name: POSTAL_ADDRESS_TYPE, Length: 50000, dtype: int64"
            ]
          },
          "metadata": {
            "tags": []
          },
          "execution_count": 161
        }
      ]
    },
    {
      "cell_type": "code",
      "metadata": {
        "colab": {
          "base_uri": "https://localhost:8080/"
        },
        "id": "qCCqR41og8hP",
        "outputId": "68f4024d-d70d-4951-915f-94d991e51a6f"
      },
      "source": [
        "#Encode SEX (F --> 1, M --> 0)\n",
        "data_nans_fixed[\"SEX\"] = data_nans_fixed[\"SEX\"].replace(\"M\",int(0))\n",
        "data_nans_fixed[\"SEX\"] = data_nans_fixed[\"SEX\"].replace(\"F\",int(1))\n",
        "data_nans_fixed[\"SEX\"]"
      ],
      "execution_count": null,
      "outputs": [
        {
          "output_type": "execute_result",
          "data": {
            "text/plain": [
              "0        1.0\n",
              "1        1.0\n",
              "2        1.0\n",
              "3        1.0\n",
              "4        0.0\n",
              "        ... \n",
              "49995    1.0\n",
              "49996    1.0\n",
              "49997    0.0\n",
              "49998    1.0\n",
              "49999    1.0\n",
              "Name: SEX, Length: 50000, dtype: float64"
            ]
          },
          "metadata": {
            "tags": []
          },
          "execution_count": 162
        }
      ]
    },
    {
      "cell_type": "code",
      "metadata": {
        "colab": {
          "base_uri": "https://localhost:8080/"
        },
        "id": "ezpMyh2jiaGf",
        "outputId": "fc2bbe85-fbbc-43a8-df15-750a7b0ae452"
      },
      "source": [
        "#Check Number of Categories for Marital Status\n",
        "set(data_nans_fixed[\"MARITAL_STATUS\"])"
      ],
      "execution_count": null,
      "outputs": [
        {
          "output_type": "execute_result",
          "data": {
            "text/plain": [
              "{0, 1, 2, 3, 4, 5, 6, 7}"
            ]
          },
          "metadata": {
            "tags": []
          },
          "execution_count": 163
        }
      ]
    },
    {
      "cell_type": "code",
      "metadata": {
        "id": "ucA1S-dligM2"
      },
      "source": [
        "marital_prod_list = list(data_nans_fixed[\"MARITAL_STATUS\"])\n",
        "marital_prod_one = [1 if x== 1 else 0 for x in marital_prod_list]\n",
        "marital_prod_two = [1 if x== 2 else 0 for x in marital_prod_list]\n",
        "marital_prod_three = [1 if x== 3 else 0 for x in marital_prod_list]\n",
        "marital_prod_four= [1 if x== 4 else 0 for x in marital_prod_list]\n",
        "marital_prod_five = [1 if x== 5 else 0 for x in marital_prod_list]\n",
        "marital_prod_six = [1 if x== 6 else 0 for x in marital_prod_list]\n",
        "marital_prod_seven = [1 if x== 7 else 0 for x in marital_prod_list]"
      ],
      "execution_count": null,
      "outputs": []
    },
    {
      "cell_type": "code",
      "metadata": {
        "id": "id7rWN43jD-V"
      },
      "source": [
        "data_nans_fixed[\"MARITAL_STATUS_1\"] = pd.Series(marital_prod_one)\n",
        "data_nans_fixed[\"MARITAL_STATUS_2\"] = pd.Series(marital_prod_two)\n",
        "data_nans_fixed[\"MARITAL_STATUS_3\"] = pd.Series(marital_prod_three)\n",
        "data_nans_fixed[\"MARITAL_STATUS_4\"] = pd.Series(marital_prod_four)\n",
        "data_nans_fixed[\"MARITAL_STATUS_5\"] = pd.Series(marital_prod_five)\n",
        "data_nans_fixed[\"MARITAL_STATUS_6\"] = pd.Series(marital_prod_six)\n",
        "data_nans_fixed[\"MARITAL_STATUS_7\"] = pd.Series(marital_prod_seven)"
      ],
      "execution_count": null,
      "outputs": []
    },
    {
      "cell_type": "code",
      "metadata": {
        "colab": {
          "base_uri": "https://localhost:8080/",
          "height": 490
        },
        "id": "79aEYGy-jftJ",
        "outputId": "75b5a6f3-bdcd-42b5-ef16-d1cde307630e"
      },
      "source": [
        "data_nans_fixed"
      ],
      "execution_count": null,
      "outputs": [
        {
          "output_type": "execute_result",
          "data": {
            "text/html": [
              "<div>\n",
              "<style scoped>\n",
              "    .dataframe tbody tr th:only-of-type {\n",
              "        vertical-align: middle;\n",
              "    }\n",
              "\n",
              "    .dataframe tbody tr th {\n",
              "        vertical-align: top;\n",
              "    }\n",
              "\n",
              "    .dataframe thead th {\n",
              "        text-align: right;\n",
              "    }\n",
              "</style>\n",
              "<table border=\"1\" class=\"dataframe\">\n",
              "  <thead>\n",
              "    <tr style=\"text-align: right;\">\n",
              "      <th></th>\n",
              "      <th>ID_CLIENT</th>\n",
              "      <th>CLERK_TYPE</th>\n",
              "      <th>PAYMENT_DAY</th>\n",
              "      <th>APPLICATION_SUBMISSION_TYPE</th>\n",
              "      <th>QUANT_ADDITIONAL_CARDS</th>\n",
              "      <th>POSTAL_ADDRESS_TYPE</th>\n",
              "      <th>SEX</th>\n",
              "      <th>MARITAL_STATUS</th>\n",
              "      <th>QUANT_DEPENDANTS</th>\n",
              "      <th>EDUCATION_LEVEL</th>\n",
              "      <th>STATE_OF_BIRTH</th>\n",
              "      <th>CITY_OF_BIRTH</th>\n",
              "      <th>NACIONALITY</th>\n",
              "      <th>RESIDENCIAL_STATE</th>\n",
              "      <th>RESIDENCIAL_CITY</th>\n",
              "      <th>RESIDENCIAL_BOROUGH</th>\n",
              "      <th>FLAG_RESIDENCIAL_PHONE</th>\n",
              "      <th>RESIDENCIAL_PHONE_AREA_CODE</th>\n",
              "      <th>RESIDENCE_TYPE</th>\n",
              "      <th>MONTHS_IN_RESIDENCE</th>\n",
              "      <th>FLAG_MOBILE_PHONE</th>\n",
              "      <th>FLAG_EMAIL</th>\n",
              "      <th>PERSONAL_MONTHLY_INCOME</th>\n",
              "      <th>OTHER_INCOMES</th>\n",
              "      <th>FLAG_VISA</th>\n",
              "      <th>FLAG_MASTERCARD</th>\n",
              "      <th>FLAG_DINERS</th>\n",
              "      <th>FLAG_AMERICAN_EXPRESS</th>\n",
              "      <th>FLAG_OTHER_CARDS</th>\n",
              "      <th>QUANT_BANKING_ACCOUNTS</th>\n",
              "      <th>QUANT_SPECIAL_BANKING_ACCOUNTS</th>\n",
              "      <th>PERSONAL_ASSETS_VALUE</th>\n",
              "      <th>QUANT_CARS</th>\n",
              "      <th>COMPANY</th>\n",
              "      <th>PROFESSIONAL_STATE</th>\n",
              "      <th>PROFESSIONAL_CITY</th>\n",
              "      <th>PROFESSIONAL_BOROUGH</th>\n",
              "      <th>FLAG_PROFESSIONAL_PHONE</th>\n",
              "      <th>PROFESSIONAL_PHONE_AREA_CODE</th>\n",
              "      <th>MONTHS_IN_THE_JOB</th>\n",
              "      <th>PROFESSION_CODE</th>\n",
              "      <th>OCCUPATION_TYPE</th>\n",
              "      <th>MATE_PROFESSION_CODE</th>\n",
              "      <th>MATE_EDUCATION_LEVEL</th>\n",
              "      <th>FLAG_HOME_ADDRESS_DOCUMENT</th>\n",
              "      <th>FLAG_RG</th>\n",
              "      <th>FLAG_CPF</th>\n",
              "      <th>FLAG_INCOME_PROOF</th>\n",
              "      <th>PRODUCT</th>\n",
              "      <th>FLAG_ACSP_RECORD</th>\n",
              "      <th>AGE</th>\n",
              "      <th>RESIDENCIAL_ZIP_3</th>\n",
              "      <th>PROFESSIONAL_ZIP_3</th>\n",
              "      <th>TARGET_LABEL</th>\n",
              "      <th>PRODUCT_1</th>\n",
              "      <th>PRODUCT_2</th>\n",
              "      <th>PRODUCT_7</th>\n",
              "      <th>FLAG_CREDIT_CARD</th>\n",
              "      <th>TOTAL_INCOME</th>\n",
              "      <th>TOTAL_INCOME_STD</th>\n",
              "      <th>RESIDENCE_TYPE_0</th>\n",
              "      <th>RESIDENCE_TYPE_1</th>\n",
              "      <th>RESIDENCE_TYPE_2</th>\n",
              "      <th>RESIDENCE_TYPE_3</th>\n",
              "      <th>RESIDENCE_TYPE_4</th>\n",
              "      <th>RESIDENCE_TYPE_5</th>\n",
              "      <th>PAYMENT_DAY_1</th>\n",
              "      <th>PAYMENT_DAY_5</th>\n",
              "      <th>PAYMENT_DAY_10</th>\n",
              "      <th>PAYMENT_DAY_15</th>\n",
              "      <th>PAYMENT_DAY_20</th>\n",
              "      <th>PAYMENT_DAY_25</th>\n",
              "      <th>MARITAL_STATUS_1</th>\n",
              "      <th>MARITAL_STATUS_2</th>\n",
              "      <th>MARITAL_STATUS_3</th>\n",
              "      <th>MARITAL_STATUS_4</th>\n",
              "      <th>MARITAL_STATUS_5</th>\n",
              "      <th>MARITAL_STATUS_6</th>\n",
              "      <th>MARITAL_STATUS_7</th>\n",
              "    </tr>\n",
              "  </thead>\n",
              "  <tbody>\n",
              "    <tr>\n",
              "      <th>0</th>\n",
              "      <td>1</td>\n",
              "      <td>C</td>\n",
              "      <td>5</td>\n",
              "      <td>Web</td>\n",
              "      <td>0</td>\n",
              "      <td>1</td>\n",
              "      <td>1.0</td>\n",
              "      <td>6</td>\n",
              "      <td>1</td>\n",
              "      <td>0</td>\n",
              "      <td>RN</td>\n",
              "      <td>Assu</td>\n",
              "      <td>1</td>\n",
              "      <td>RN</td>\n",
              "      <td>Santana do Matos</td>\n",
              "      <td>Centro</td>\n",
              "      <td>1</td>\n",
              "      <td>105</td>\n",
              "      <td>1.0</td>\n",
              "      <td>15.0</td>\n",
              "      <td>N</td>\n",
              "      <td>1</td>\n",
              "      <td>900.00</td>\n",
              "      <td>0.0</td>\n",
              "      <td>1</td>\n",
              "      <td>1</td>\n",
              "      <td>0</td>\n",
              "      <td>0</td>\n",
              "      <td>0</td>\n",
              "      <td>0</td>\n",
              "      <td>0</td>\n",
              "      <td>0.0</td>\n",
              "      <td>0</td>\n",
              "      <td>0</td>\n",
              "      <td>NaN</td>\n",
              "      <td>NaN</td>\n",
              "      <td>NaN</td>\n",
              "      <td>0</td>\n",
              "      <td>NaN</td>\n",
              "      <td>0</td>\n",
              "      <td>9.0</td>\n",
              "      <td>4.0</td>\n",
              "      <td>NaN</td>\n",
              "      <td>NaN</td>\n",
              "      <td>0</td>\n",
              "      <td>0</td>\n",
              "      <td>0</td>\n",
              "      <td>0</td>\n",
              "      <td>1</td>\n",
              "      <td>N</td>\n",
              "      <td>32</td>\n",
              "      <td>595</td>\n",
              "      <td>595</td>\n",
              "      <td>1</td>\n",
              "      <td>1</td>\n",
              "      <td>0</td>\n",
              "      <td>0</td>\n",
              "      <td>1</td>\n",
              "      <td>900.00</td>\n",
              "      <td>-0.002800</td>\n",
              "      <td>0</td>\n",
              "      <td>1</td>\n",
              "      <td>0</td>\n",
              "      <td>0</td>\n",
              "      <td>0</td>\n",
              "      <td>0</td>\n",
              "      <td>0</td>\n",
              "      <td>1</td>\n",
              "      <td>0</td>\n",
              "      <td>0</td>\n",
              "      <td>0</td>\n",
              "      <td>0</td>\n",
              "      <td>0</td>\n",
              "      <td>0</td>\n",
              "      <td>0</td>\n",
              "      <td>0</td>\n",
              "      <td>0</td>\n",
              "      <td>1</td>\n",
              "      <td>0</td>\n",
              "    </tr>\n",
              "    <tr>\n",
              "      <th>1</th>\n",
              "      <td>2</td>\n",
              "      <td>C</td>\n",
              "      <td>15</td>\n",
              "      <td>Carga</td>\n",
              "      <td>0</td>\n",
              "      <td>1</td>\n",
              "      <td>1.0</td>\n",
              "      <td>2</td>\n",
              "      <td>0</td>\n",
              "      <td>0</td>\n",
              "      <td>RJ</td>\n",
              "      <td>rio de janeiro</td>\n",
              "      <td>1</td>\n",
              "      <td>RJ</td>\n",
              "      <td>RIO DE JANEIRO</td>\n",
              "      <td>CAMPO GRANDE</td>\n",
              "      <td>1</td>\n",
              "      <td>20</td>\n",
              "      <td>1.0</td>\n",
              "      <td>1.0</td>\n",
              "      <td>N</td>\n",
              "      <td>1</td>\n",
              "      <td>750.00</td>\n",
              "      <td>0.0</td>\n",
              "      <td>0</td>\n",
              "      <td>0</td>\n",
              "      <td>0</td>\n",
              "      <td>0</td>\n",
              "      <td>0</td>\n",
              "      <td>0</td>\n",
              "      <td>0</td>\n",
              "      <td>0.0</td>\n",
              "      <td>0</td>\n",
              "      <td>1</td>\n",
              "      <td>NaN</td>\n",
              "      <td>NaN</td>\n",
              "      <td>NaN</td>\n",
              "      <td>0</td>\n",
              "      <td>NaN</td>\n",
              "      <td>0</td>\n",
              "      <td>11.0</td>\n",
              "      <td>4.0</td>\n",
              "      <td>11.0</td>\n",
              "      <td>NaN</td>\n",
              "      <td>0</td>\n",
              "      <td>0</td>\n",
              "      <td>0</td>\n",
              "      <td>0</td>\n",
              "      <td>1</td>\n",
              "      <td>N</td>\n",
              "      <td>34</td>\n",
              "      <td>230</td>\n",
              "      <td>230</td>\n",
              "      <td>1</td>\n",
              "      <td>1</td>\n",
              "      <td>0</td>\n",
              "      <td>0</td>\n",
              "      <td>0</td>\n",
              "      <td>750.00</td>\n",
              "      <td>-0.021794</td>\n",
              "      <td>0</td>\n",
              "      <td>1</td>\n",
              "      <td>0</td>\n",
              "      <td>0</td>\n",
              "      <td>0</td>\n",
              "      <td>0</td>\n",
              "      <td>0</td>\n",
              "      <td>0</td>\n",
              "      <td>0</td>\n",
              "      <td>1</td>\n",
              "      <td>0</td>\n",
              "      <td>0</td>\n",
              "      <td>0</td>\n",
              "      <td>1</td>\n",
              "      <td>0</td>\n",
              "      <td>0</td>\n",
              "      <td>0</td>\n",
              "      <td>0</td>\n",
              "      <td>0</td>\n",
              "    </tr>\n",
              "    <tr>\n",
              "      <th>2</th>\n",
              "      <td>3</td>\n",
              "      <td>C</td>\n",
              "      <td>5</td>\n",
              "      <td>Web</td>\n",
              "      <td>0</td>\n",
              "      <td>1</td>\n",
              "      <td>1.0</td>\n",
              "      <td>2</td>\n",
              "      <td>0</td>\n",
              "      <td>0</td>\n",
              "      <td>RN</td>\n",
              "      <td>GARANHUNS</td>\n",
              "      <td>1</td>\n",
              "      <td>RN</td>\n",
              "      <td>Parnamirim</td>\n",
              "      <td>Boa Esperanca</td>\n",
              "      <td>1</td>\n",
              "      <td>105</td>\n",
              "      <td>1.0</td>\n",
              "      <td>6.0</td>\n",
              "      <td>N</td>\n",
              "      <td>1</td>\n",
              "      <td>500.00</td>\n",
              "      <td>0.0</td>\n",
              "      <td>0</td>\n",
              "      <td>0</td>\n",
              "      <td>0</td>\n",
              "      <td>0</td>\n",
              "      <td>0</td>\n",
              "      <td>0</td>\n",
              "      <td>0</td>\n",
              "      <td>0.0</td>\n",
              "      <td>0</td>\n",
              "      <td>0</td>\n",
              "      <td>NaN</td>\n",
              "      <td>NaN</td>\n",
              "      <td>NaN</td>\n",
              "      <td>0</td>\n",
              "      <td>NaN</td>\n",
              "      <td>0</td>\n",
              "      <td>11.0</td>\n",
              "      <td>NaN</td>\n",
              "      <td>NaN</td>\n",
              "      <td>NaN</td>\n",
              "      <td>0</td>\n",
              "      <td>0</td>\n",
              "      <td>0</td>\n",
              "      <td>0</td>\n",
              "      <td>1</td>\n",
              "      <td>N</td>\n",
              "      <td>27</td>\n",
              "      <td>591</td>\n",
              "      <td>591</td>\n",
              "      <td>0</td>\n",
              "      <td>1</td>\n",
              "      <td>0</td>\n",
              "      <td>0</td>\n",
              "      <td>0</td>\n",
              "      <td>500.00</td>\n",
              "      <td>-0.053450</td>\n",
              "      <td>0</td>\n",
              "      <td>1</td>\n",
              "      <td>0</td>\n",
              "      <td>0</td>\n",
              "      <td>0</td>\n",
              "      <td>0</td>\n",
              "      <td>0</td>\n",
              "      <td>1</td>\n",
              "      <td>0</td>\n",
              "      <td>0</td>\n",
              "      <td>0</td>\n",
              "      <td>0</td>\n",
              "      <td>0</td>\n",
              "      <td>1</td>\n",
              "      <td>0</td>\n",
              "      <td>0</td>\n",
              "      <td>0</td>\n",
              "      <td>0</td>\n",
              "      <td>0</td>\n",
              "    </tr>\n",
              "    <tr>\n",
              "      <th>3</th>\n",
              "      <td>4</td>\n",
              "      <td>C</td>\n",
              "      <td>20</td>\n",
              "      <td>Web</td>\n",
              "      <td>0</td>\n",
              "      <td>1</td>\n",
              "      <td>1.0</td>\n",
              "      <td>2</td>\n",
              "      <td>0</td>\n",
              "      <td>0</td>\n",
              "      <td>PE</td>\n",
              "      <td>CABO</td>\n",
              "      <td>1</td>\n",
              "      <td>PE</td>\n",
              "      <td>CABO</td>\n",
              "      <td>PONTE DOS CARVALHOS</td>\n",
              "      <td>0</td>\n",
              "      <td>NaN</td>\n",
              "      <td>NaN</td>\n",
              "      <td>6.0</td>\n",
              "      <td>N</td>\n",
              "      <td>1</td>\n",
              "      <td>500.00</td>\n",
              "      <td>0.0</td>\n",
              "      <td>0</td>\n",
              "      <td>0</td>\n",
              "      <td>0</td>\n",
              "      <td>0</td>\n",
              "      <td>0</td>\n",
              "      <td>0</td>\n",
              "      <td>0</td>\n",
              "      <td>0.0</td>\n",
              "      <td>0</td>\n",
              "      <td>0</td>\n",
              "      <td>NaN</td>\n",
              "      <td>NaN</td>\n",
              "      <td>NaN</td>\n",
              "      <td>0</td>\n",
              "      <td>NaN</td>\n",
              "      <td>0</td>\n",
              "      <td>NaN</td>\n",
              "      <td>NaN</td>\n",
              "      <td>NaN</td>\n",
              "      <td>NaN</td>\n",
              "      <td>0</td>\n",
              "      <td>0</td>\n",
              "      <td>0</td>\n",
              "      <td>0</td>\n",
              "      <td>1</td>\n",
              "      <td>N</td>\n",
              "      <td>61</td>\n",
              "      <td>545</td>\n",
              "      <td>545</td>\n",
              "      <td>0</td>\n",
              "      <td>1</td>\n",
              "      <td>0</td>\n",
              "      <td>0</td>\n",
              "      <td>0</td>\n",
              "      <td>500.00</td>\n",
              "      <td>-0.053450</td>\n",
              "      <td>0</td>\n",
              "      <td>0</td>\n",
              "      <td>0</td>\n",
              "      <td>0</td>\n",
              "      <td>0</td>\n",
              "      <td>0</td>\n",
              "      <td>0</td>\n",
              "      <td>0</td>\n",
              "      <td>0</td>\n",
              "      <td>0</td>\n",
              "      <td>1</td>\n",
              "      <td>0</td>\n",
              "      <td>0</td>\n",
              "      <td>1</td>\n",
              "      <td>0</td>\n",
              "      <td>0</td>\n",
              "      <td>0</td>\n",
              "      <td>0</td>\n",
              "      <td>0</td>\n",
              "    </tr>\n",
              "    <tr>\n",
              "      <th>4</th>\n",
              "      <td>5</td>\n",
              "      <td>C</td>\n",
              "      <td>10</td>\n",
              "      <td>Web</td>\n",
              "      <td>0</td>\n",
              "      <td>1</td>\n",
              "      <td>0.0</td>\n",
              "      <td>2</td>\n",
              "      <td>0</td>\n",
              "      <td>0</td>\n",
              "      <td>RJ</td>\n",
              "      <td>RIO DE JANEIRO</td>\n",
              "      <td>1</td>\n",
              "      <td>RJ</td>\n",
              "      <td>Rio de Janeiro</td>\n",
              "      <td>Santa Cruz</td>\n",
              "      <td>1</td>\n",
              "      <td>20</td>\n",
              "      <td>1.0</td>\n",
              "      <td>12.0</td>\n",
              "      <td>N</td>\n",
              "      <td>1</td>\n",
              "      <td>1200.00</td>\n",
              "      <td>0.0</td>\n",
              "      <td>0</td>\n",
              "      <td>0</td>\n",
              "      <td>0</td>\n",
              "      <td>0</td>\n",
              "      <td>0</td>\n",
              "      <td>0</td>\n",
              "      <td>0</td>\n",
              "      <td>0.0</td>\n",
              "      <td>0</td>\n",
              "      <td>0</td>\n",
              "      <td>NaN</td>\n",
              "      <td>NaN</td>\n",
              "      <td>NaN</td>\n",
              "      <td>0</td>\n",
              "      <td>NaN</td>\n",
              "      <td>0</td>\n",
              "      <td>9.0</td>\n",
              "      <td>5.0</td>\n",
              "      <td>NaN</td>\n",
              "      <td>NaN</td>\n",
              "      <td>0</td>\n",
              "      <td>0</td>\n",
              "      <td>0</td>\n",
              "      <td>0</td>\n",
              "      <td>1</td>\n",
              "      <td>N</td>\n",
              "      <td>48</td>\n",
              "      <td>235</td>\n",
              "      <td>235</td>\n",
              "      <td>1</td>\n",
              "      <td>1</td>\n",
              "      <td>0</td>\n",
              "      <td>0</td>\n",
              "      <td>0</td>\n",
              "      <td>1200.00</td>\n",
              "      <td>0.035187</td>\n",
              "      <td>0</td>\n",
              "      <td>1</td>\n",
              "      <td>0</td>\n",
              "      <td>0</td>\n",
              "      <td>0</td>\n",
              "      <td>0</td>\n",
              "      <td>0</td>\n",
              "      <td>0</td>\n",
              "      <td>1</td>\n",
              "      <td>0</td>\n",
              "      <td>0</td>\n",
              "      <td>0</td>\n",
              "      <td>0</td>\n",
              "      <td>1</td>\n",
              "      <td>0</td>\n",
              "      <td>0</td>\n",
              "      <td>0</td>\n",
              "      <td>0</td>\n",
              "      <td>0</td>\n",
              "    </tr>\n",
              "    <tr>\n",
              "      <th>...</th>\n",
              "      <td>...</td>\n",
              "      <td>...</td>\n",
              "      <td>...</td>\n",
              "      <td>...</td>\n",
              "      <td>...</td>\n",
              "      <td>...</td>\n",
              "      <td>...</td>\n",
              "      <td>...</td>\n",
              "      <td>...</td>\n",
              "      <td>...</td>\n",
              "      <td>...</td>\n",
              "      <td>...</td>\n",
              "      <td>...</td>\n",
              "      <td>...</td>\n",
              "      <td>...</td>\n",
              "      <td>...</td>\n",
              "      <td>...</td>\n",
              "      <td>...</td>\n",
              "      <td>...</td>\n",
              "      <td>...</td>\n",
              "      <td>...</td>\n",
              "      <td>...</td>\n",
              "      <td>...</td>\n",
              "      <td>...</td>\n",
              "      <td>...</td>\n",
              "      <td>...</td>\n",
              "      <td>...</td>\n",
              "      <td>...</td>\n",
              "      <td>...</td>\n",
              "      <td>...</td>\n",
              "      <td>...</td>\n",
              "      <td>...</td>\n",
              "      <td>...</td>\n",
              "      <td>...</td>\n",
              "      <td>...</td>\n",
              "      <td>...</td>\n",
              "      <td>...</td>\n",
              "      <td>...</td>\n",
              "      <td>...</td>\n",
              "      <td>...</td>\n",
              "      <td>...</td>\n",
              "      <td>...</td>\n",
              "      <td>...</td>\n",
              "      <td>...</td>\n",
              "      <td>...</td>\n",
              "      <td>...</td>\n",
              "      <td>...</td>\n",
              "      <td>...</td>\n",
              "      <td>...</td>\n",
              "      <td>...</td>\n",
              "      <td>...</td>\n",
              "      <td>...</td>\n",
              "      <td>...</td>\n",
              "      <td>...</td>\n",
              "      <td>...</td>\n",
              "      <td>...</td>\n",
              "      <td>...</td>\n",
              "      <td>...</td>\n",
              "      <td>...</td>\n",
              "      <td>...</td>\n",
              "      <td>...</td>\n",
              "      <td>...</td>\n",
              "      <td>...</td>\n",
              "      <td>...</td>\n",
              "      <td>...</td>\n",
              "      <td>...</td>\n",
              "      <td>...</td>\n",
              "      <td>...</td>\n",
              "      <td>...</td>\n",
              "      <td>...</td>\n",
              "      <td>...</td>\n",
              "      <td>...</td>\n",
              "      <td>...</td>\n",
              "      <td>...</td>\n",
              "      <td>...</td>\n",
              "      <td>...</td>\n",
              "      <td>...</td>\n",
              "      <td>...</td>\n",
              "      <td>...</td>\n",
              "    </tr>\n",
              "    <tr>\n",
              "      <th>49995</th>\n",
              "      <td>49996</td>\n",
              "      <td>C</td>\n",
              "      <td>10</td>\n",
              "      <td>0</td>\n",
              "      <td>0</td>\n",
              "      <td>1</td>\n",
              "      <td>1.0</td>\n",
              "      <td>1</td>\n",
              "      <td>2</td>\n",
              "      <td>0</td>\n",
              "      <td>RN</td>\n",
              "      <td>NATAL</td>\n",
              "      <td>1</td>\n",
              "      <td>RN</td>\n",
              "      <td>NATAL</td>\n",
              "      <td>PAJUCARA</td>\n",
              "      <td>1</td>\n",
              "      <td>105</td>\n",
              "      <td>1.0</td>\n",
              "      <td>14.0</td>\n",
              "      <td>N</td>\n",
              "      <td>1</td>\n",
              "      <td>1451.00</td>\n",
              "      <td>0.0</td>\n",
              "      <td>0</td>\n",
              "      <td>0</td>\n",
              "      <td>0</td>\n",
              "      <td>0</td>\n",
              "      <td>0</td>\n",
              "      <td>1</td>\n",
              "      <td>1</td>\n",
              "      <td>0.0</td>\n",
              "      <td>1</td>\n",
              "      <td>0</td>\n",
              "      <td>NaN</td>\n",
              "      <td>NaN</td>\n",
              "      <td>NaN</td>\n",
              "      <td>0</td>\n",
              "      <td>NaN</td>\n",
              "      <td>0</td>\n",
              "      <td>9.0</td>\n",
              "      <td>4.0</td>\n",
              "      <td>0.0</td>\n",
              "      <td>0.0</td>\n",
              "      <td>0</td>\n",
              "      <td>0</td>\n",
              "      <td>0</td>\n",
              "      <td>0</td>\n",
              "      <td>1</td>\n",
              "      <td>N</td>\n",
              "      <td>36</td>\n",
              "      <td>591</td>\n",
              "      <td>591</td>\n",
              "      <td>1</td>\n",
              "      <td>1</td>\n",
              "      <td>0</td>\n",
              "      <td>0</td>\n",
              "      <td>0</td>\n",
              "      <td>1451.00</td>\n",
              "      <td>0.066970</td>\n",
              "      <td>0</td>\n",
              "      <td>1</td>\n",
              "      <td>0</td>\n",
              "      <td>0</td>\n",
              "      <td>0</td>\n",
              "      <td>0</td>\n",
              "      <td>0</td>\n",
              "      <td>0</td>\n",
              "      <td>1</td>\n",
              "      <td>0</td>\n",
              "      <td>0</td>\n",
              "      <td>0</td>\n",
              "      <td>1</td>\n",
              "      <td>0</td>\n",
              "      <td>0</td>\n",
              "      <td>0</td>\n",
              "      <td>0</td>\n",
              "      <td>0</td>\n",
              "      <td>0</td>\n",
              "    </tr>\n",
              "    <tr>\n",
              "      <th>49996</th>\n",
              "      <td>49997</td>\n",
              "      <td>C</td>\n",
              "      <td>25</td>\n",
              "      <td>0</td>\n",
              "      <td>0</td>\n",
              "      <td>1</td>\n",
              "      <td>1.0</td>\n",
              "      <td>1</td>\n",
              "      <td>0</td>\n",
              "      <td>0</td>\n",
              "      <td>SP</td>\n",
              "      <td>LENCOIS PAULISTA</td>\n",
              "      <td>1</td>\n",
              "      <td>SP</td>\n",
              "      <td>Lencois Paulista</td>\n",
              "      <td>Nucleo Habitacional Joao Zillo</td>\n",
              "      <td>1</td>\n",
              "      <td>12</td>\n",
              "      <td>1.0</td>\n",
              "      <td>15.0</td>\n",
              "      <td>N</td>\n",
              "      <td>1</td>\n",
              "      <td>450.00</td>\n",
              "      <td>0.0</td>\n",
              "      <td>0</td>\n",
              "      <td>0</td>\n",
              "      <td>0</td>\n",
              "      <td>0</td>\n",
              "      <td>0</td>\n",
              "      <td>0</td>\n",
              "      <td>0</td>\n",
              "      <td>0.0</td>\n",
              "      <td>0</td>\n",
              "      <td>0</td>\n",
              "      <td>NaN</td>\n",
              "      <td>NaN</td>\n",
              "      <td>NaN</td>\n",
              "      <td>0</td>\n",
              "      <td>NaN</td>\n",
              "      <td>0</td>\n",
              "      <td>NaN</td>\n",
              "      <td>NaN</td>\n",
              "      <td>NaN</td>\n",
              "      <td>NaN</td>\n",
              "      <td>0</td>\n",
              "      <td>0</td>\n",
              "      <td>0</td>\n",
              "      <td>0</td>\n",
              "      <td>2</td>\n",
              "      <td>N</td>\n",
              "      <td>21</td>\n",
              "      <td>186</td>\n",
              "      <td>186</td>\n",
              "      <td>0</td>\n",
              "      <td>0</td>\n",
              "      <td>1</td>\n",
              "      <td>0</td>\n",
              "      <td>0</td>\n",
              "      <td>450.00</td>\n",
              "      <td>-0.059781</td>\n",
              "      <td>0</td>\n",
              "      <td>1</td>\n",
              "      <td>0</td>\n",
              "      <td>0</td>\n",
              "      <td>0</td>\n",
              "      <td>0</td>\n",
              "      <td>0</td>\n",
              "      <td>0</td>\n",
              "      <td>0</td>\n",
              "      <td>0</td>\n",
              "      <td>0</td>\n",
              "      <td>1</td>\n",
              "      <td>1</td>\n",
              "      <td>0</td>\n",
              "      <td>0</td>\n",
              "      <td>0</td>\n",
              "      <td>0</td>\n",
              "      <td>0</td>\n",
              "      <td>0</td>\n",
              "    </tr>\n",
              "    <tr>\n",
              "      <th>49997</th>\n",
              "      <td>49998</td>\n",
              "      <td>C</td>\n",
              "      <td>5</td>\n",
              "      <td>Web</td>\n",
              "      <td>0</td>\n",
              "      <td>1</td>\n",
              "      <td>0.0</td>\n",
              "      <td>2</td>\n",
              "      <td>3</td>\n",
              "      <td>0</td>\n",
              "      <td>PR</td>\n",
              "      <td>RIO BONITO</td>\n",
              "      <td>1</td>\n",
              "      <td>SP</td>\n",
              "      <td>GUARULHOS</td>\n",
              "      <td>jardim vida nova</td>\n",
              "      <td>1</td>\n",
              "      <td>5</td>\n",
              "      <td>2.0</td>\n",
              "      <td>5.0</td>\n",
              "      <td>N</td>\n",
              "      <td>1</td>\n",
              "      <td>1555.00</td>\n",
              "      <td>0.0</td>\n",
              "      <td>0</td>\n",
              "      <td>0</td>\n",
              "      <td>0</td>\n",
              "      <td>0</td>\n",
              "      <td>0</td>\n",
              "      <td>0</td>\n",
              "      <td>0</td>\n",
              "      <td>0.0</td>\n",
              "      <td>0</td>\n",
              "      <td>1</td>\n",
              "      <td>SP</td>\n",
              "      <td>GUARULHOS</td>\n",
              "      <td>ITAPEGICA</td>\n",
              "      <td>1</td>\n",
              "      <td>5</td>\n",
              "      <td>0</td>\n",
              "      <td>9.0</td>\n",
              "      <td>2.0</td>\n",
              "      <td>NaN</td>\n",
              "      <td>NaN</td>\n",
              "      <td>0</td>\n",
              "      <td>0</td>\n",
              "      <td>0</td>\n",
              "      <td>0</td>\n",
              "      <td>1</td>\n",
              "      <td>N</td>\n",
              "      <td>41</td>\n",
              "      <td>715</td>\n",
              "      <td>715</td>\n",
              "      <td>0</td>\n",
              "      <td>1</td>\n",
              "      <td>0</td>\n",
              "      <td>0</td>\n",
              "      <td>0</td>\n",
              "      <td>1555.00</td>\n",
              "      <td>0.080139</td>\n",
              "      <td>0</td>\n",
              "      <td>0</td>\n",
              "      <td>1</td>\n",
              "      <td>0</td>\n",
              "      <td>0</td>\n",
              "      <td>0</td>\n",
              "      <td>0</td>\n",
              "      <td>1</td>\n",
              "      <td>0</td>\n",
              "      <td>0</td>\n",
              "      <td>0</td>\n",
              "      <td>0</td>\n",
              "      <td>0</td>\n",
              "      <td>1</td>\n",
              "      <td>0</td>\n",
              "      <td>0</td>\n",
              "      <td>0</td>\n",
              "      <td>0</td>\n",
              "      <td>0</td>\n",
              "    </tr>\n",
              "    <tr>\n",
              "      <th>49998</th>\n",
              "      <td>49999</td>\n",
              "      <td>C</td>\n",
              "      <td>1</td>\n",
              "      <td>Web</td>\n",
              "      <td>0</td>\n",
              "      <td>1</td>\n",
              "      <td>1.0</td>\n",
              "      <td>1</td>\n",
              "      <td>1</td>\n",
              "      <td>0</td>\n",
              "      <td>SP</td>\n",
              "      <td>SAO PAULO</td>\n",
              "      <td>1</td>\n",
              "      <td>MG</td>\n",
              "      <td>CONTAGEM</td>\n",
              "      <td>VILA BELEM</td>\n",
              "      <td>1</td>\n",
              "      <td>29</td>\n",
              "      <td>1.0</td>\n",
              "      <td>6.0</td>\n",
              "      <td>N</td>\n",
              "      <td>1</td>\n",
              "      <td>1443.27</td>\n",
              "      <td>0.0</td>\n",
              "      <td>0</td>\n",
              "      <td>0</td>\n",
              "      <td>0</td>\n",
              "      <td>0</td>\n",
              "      <td>0</td>\n",
              "      <td>0</td>\n",
              "      <td>0</td>\n",
              "      <td>0.0</td>\n",
              "      <td>0</td>\n",
              "      <td>1</td>\n",
              "      <td>MG</td>\n",
              "      <td>BETIM</td>\n",
              "      <td>JARDIM ALTEROSA</td>\n",
              "      <td>1</td>\n",
              "      <td>29</td>\n",
              "      <td>0</td>\n",
              "      <td>9.0</td>\n",
              "      <td>2.0</td>\n",
              "      <td>NaN</td>\n",
              "      <td>NaN</td>\n",
              "      <td>0</td>\n",
              "      <td>0</td>\n",
              "      <td>0</td>\n",
              "      <td>0</td>\n",
              "      <td>1</td>\n",
              "      <td>N</td>\n",
              "      <td>28</td>\n",
              "      <td>320</td>\n",
              "      <td>320</td>\n",
              "      <td>1</td>\n",
              "      <td>1</td>\n",
              "      <td>0</td>\n",
              "      <td>0</td>\n",
              "      <td>0</td>\n",
              "      <td>1443.27</td>\n",
              "      <td>0.065991</td>\n",
              "      <td>0</td>\n",
              "      <td>1</td>\n",
              "      <td>0</td>\n",
              "      <td>0</td>\n",
              "      <td>0</td>\n",
              "      <td>0</td>\n",
              "      <td>1</td>\n",
              "      <td>0</td>\n",
              "      <td>0</td>\n",
              "      <td>0</td>\n",
              "      <td>0</td>\n",
              "      <td>0</td>\n",
              "      <td>1</td>\n",
              "      <td>0</td>\n",
              "      <td>0</td>\n",
              "      <td>0</td>\n",
              "      <td>0</td>\n",
              "      <td>0</td>\n",
              "      <td>0</td>\n",
              "    </tr>\n",
              "    <tr>\n",
              "      <th>49999</th>\n",
              "      <td>50000</td>\n",
              "      <td>C</td>\n",
              "      <td>10</td>\n",
              "      <td>Web</td>\n",
              "      <td>0</td>\n",
              "      <td>1</td>\n",
              "      <td>1.0</td>\n",
              "      <td>2</td>\n",
              "      <td>2</td>\n",
              "      <td>0</td>\n",
              "      <td>SP</td>\n",
              "      <td>PINDABA</td>\n",
              "      <td>1</td>\n",
              "      <td>SP</td>\n",
              "      <td>Pindamonhangaba</td>\n",
              "      <td>Feital</td>\n",
              "      <td>0</td>\n",
              "      <td>NaN</td>\n",
              "      <td>1.0</td>\n",
              "      <td>9.0</td>\n",
              "      <td>N</td>\n",
              "      <td>1</td>\n",
              "      <td>719.38</td>\n",
              "      <td>0.0</td>\n",
              "      <td>0</td>\n",
              "      <td>0</td>\n",
              "      <td>0</td>\n",
              "      <td>0</td>\n",
              "      <td>0</td>\n",
              "      <td>0</td>\n",
              "      <td>0</td>\n",
              "      <td>0.0</td>\n",
              "      <td>0</td>\n",
              "      <td>1</td>\n",
              "      <td>SP</td>\n",
              "      <td>PINDABA</td>\n",
              "      <td>CIDADE NOVA</td>\n",
              "      <td>1</td>\n",
              "      <td>9</td>\n",
              "      <td>0</td>\n",
              "      <td>9.0</td>\n",
              "      <td>2.0</td>\n",
              "      <td>NaN</td>\n",
              "      <td>NaN</td>\n",
              "      <td>0</td>\n",
              "      <td>0</td>\n",
              "      <td>0</td>\n",
              "      <td>0</td>\n",
              "      <td>1</td>\n",
              "      <td>N</td>\n",
              "      <td>27</td>\n",
              "      <td>124</td>\n",
              "      <td>124</td>\n",
              "      <td>0</td>\n",
              "      <td>1</td>\n",
              "      <td>0</td>\n",
              "      <td>0</td>\n",
              "      <td>0</td>\n",
              "      <td>719.38</td>\n",
              "      <td>-0.025671</td>\n",
              "      <td>0</td>\n",
              "      <td>1</td>\n",
              "      <td>0</td>\n",
              "      <td>0</td>\n",
              "      <td>0</td>\n",
              "      <td>0</td>\n",
              "      <td>0</td>\n",
              "      <td>0</td>\n",
              "      <td>1</td>\n",
              "      <td>0</td>\n",
              "      <td>0</td>\n",
              "      <td>0</td>\n",
              "      <td>0</td>\n",
              "      <td>1</td>\n",
              "      <td>0</td>\n",
              "      <td>0</td>\n",
              "      <td>0</td>\n",
              "      <td>0</td>\n",
              "      <td>0</td>\n",
              "    </tr>\n",
              "  </tbody>\n",
              "</table>\n",
              "<p>50000 rows × 79 columns</p>\n",
              "</div>"
            ],
            "text/plain": [
              "       ID_CLIENT CLERK_TYPE  ...  MARITAL_STATUS_6 MARITAL_STATUS_7\n",
              "0              1          C  ...                 1                0\n",
              "1              2          C  ...                 0                0\n",
              "2              3          C  ...                 0                0\n",
              "3              4          C  ...                 0                0\n",
              "4              5          C  ...                 0                0\n",
              "...          ...        ...  ...               ...              ...\n",
              "49995      49996          C  ...                 0                0\n",
              "49996      49997          C  ...                 0                0\n",
              "49997      49998          C  ...                 0                0\n",
              "49998      49999          C  ...                 0                0\n",
              "49999      50000          C  ...                 0                0\n",
              "\n",
              "[50000 rows x 79 columns]"
            ]
          },
          "metadata": {
            "tags": []
          },
          "execution_count": 166
        }
      ]
    },
    {
      "cell_type": "code",
      "metadata": {
        "colab": {
          "base_uri": "https://localhost:8080/"
        },
        "id": "pjAKg8OQxpsM",
        "outputId": "a059f18b-7603-425a-e0b5-71c35724ab8d"
      },
      "source": [
        "#Finding Lowest AGE values --> will drop 3 values: 6, 7, 14\n",
        "np.sort(list(data_nans_fixed[\"AGE\"]))[0:10]"
      ],
      "execution_count": null,
      "outputs": [
        {
          "output_type": "execute_result",
          "data": {
            "text/plain": [
              "array([ 6,  7, 14, 17, 17, 17, 17, 17, 17, 17])"
            ]
          },
          "metadata": {
            "tags": []
          },
          "execution_count": 167
        }
      ]
    },
    {
      "cell_type": "code",
      "metadata": {
        "colab": {
          "base_uri": "https://localhost:8080/",
          "height": 265
        },
        "id": "iTnRXU74zzMK",
        "outputId": "4ee7639d-9459-4934-e961-f7b212019f32"
      },
      "source": [
        "_ = plt.hist(data_nans_fixed[\"AGE\"])"
      ],
      "execution_count": null,
      "outputs": [
        {
          "output_type": "display_data",
          "data": {
            "image/png": "[encoded data removed]",
            "text/plain": [
              "<Figure size 432x288 with 1 Axes>"
            ]
          },
          "metadata": {
            "tags": [],
            "needs_background": "light"
          }
        }
      ]
    },
    {
      "cell_type": "code",
      "metadata": {
        "id": "90DqTh8Cx1mT"
      },
      "source": [
        "age_list = list(data_nans_fixed[\"AGE\"])\n",
        "age_one = [1 if x >= 17 and x <= 25 else 0 for x in age_list]\n",
        "age_two = [1 if x > 25 and x <= 35 else 0 for x in age_list]\n",
        "age_three = [1 if x > 35 and x <= 45 else 0 for x in age_list]\n",
        "age_four= [1 if x > 45 and x <= 55 else 0 for x in age_list]\n",
        "age_five = [1 if x > 55 and x <= 75 else 0 for x in age_list]\n",
        "age_six = [1 if x > 75 else 0 for x in age_list]"
      ],
      "execution_count": null,
      "outputs": []
    },
    {
      "cell_type": "code",
      "metadata": {
        "id": "KajDQI55ywLQ"
      },
      "source": [
        "data_nans_fixed[\"AGE_17_25\"] = pd.Series(age_one)\n",
        "data_nans_fixed[\"AGE_26_35\"] = pd.Series(age_two)\n",
        "data_nans_fixed[\"AGE_36_45\"] = pd.Series(age_three)\n",
        "data_nans_fixed[\"AGE_46_55\"] = pd.Series(age_four)\n",
        "data_nans_fixed[\"AGE_56_75\"] = pd.Series(age_five)\n",
        "data_nans_fixed[\"AGE_76_PLUS\"] = pd.Series(age_six)"
      ],
      "execution_count": null,
      "outputs": []
    },
    {
      "cell_type": "markdown",
      "metadata": {
        "id": "I-jgsBHPVZy4"
      },
      "source": [
        "# Dropping NaNs"
      ]
    },
    {
      "cell_type": "code",
      "metadata": {
        "id": "jkNWad77VNCY"
      },
      "source": [
        "col_with_nan = []\n",
        "for col in data_nans_fixed:\n",
        "  if data_nans_fixed[col].isnull().values.any():\n",
        "    col_with_nan.append(col)"
      ],
      "execution_count": null,
      "outputs": []
    },
    {
      "cell_type": "code",
      "metadata": {
        "colab": {
          "base_uri": "https://localhost:8080/"
        },
        "id": "msDwViKjVV7q",
        "outputId": "305c9a49-1cc5-4167-af49-fab34febe2a2"
      },
      "source": [
        "col_with_nan"
      ],
      "execution_count": null,
      "outputs": [
        {
          "output_type": "execute_result",
          "data": {
            "text/plain": [
              "['SEX',\n",
              " 'STATE_OF_BIRTH',\n",
              " 'CITY_OF_BIRTH',\n",
              " 'RESIDENCIAL_BOROUGH',\n",
              " 'RESIDENCIAL_PHONE_AREA_CODE',\n",
              " 'RESIDENCE_TYPE',\n",
              " 'PROFESSIONAL_STATE',\n",
              " 'PROFESSIONAL_CITY',\n",
              " 'PROFESSIONAL_BOROUGH',\n",
              " 'PROFESSIONAL_PHONE_AREA_CODE',\n",
              " 'PROFESSION_CODE',\n",
              " 'OCCUPATION_TYPE',\n",
              " 'MATE_PROFESSION_CODE',\n",
              " 'MATE_EDUCATION_LEVEL']"
            ]
          },
          "metadata": {
            "tags": []
          },
          "execution_count": 172
        }
      ]
    },
    {
      "cell_type": "code",
      "metadata": {
        "id": "ftnZYQrDVeqZ"
      },
      "source": [
        "#SEX - 65 Observation Dropped\n",
        "data_nans_dropped = pd.DataFrame(data_nans_fixed)\n",
        "data_nans_dropped = data_nans_dropped.dropna(axis = 0, subset = [\"SEX\"])\n",
        "data_nans_dropped[\"SEX\"] = data_nans_dropped[\"SEX\"].astype('int')"
      ],
      "execution_count": null,
      "outputs": []
    },
    {
      "cell_type": "code",
      "metadata": {
        "id": "YreTP389WElN"
      },
      "source": [
        "#EDUCATION_LEVEL - No explanatory Power (ALL Zeroes)\n",
        "#MATE_EDUCATION_LEVEL - 32,000 Missing Observations\n",
        "data_nans_dropped = data_nans_dropped.drop(labels = [\"EDUCATION_LEVEL\", \"MATE_EDUCATION_LEVEL\"], axis = 1)"
      ],
      "execution_count": null,
      "outputs": []
    },
    {
      "cell_type": "code",
      "metadata": {
        "id": "12EGjWBWWpNd"
      },
      "source": [
        "data_nans_dropped = data_nans_dropped.dropna(axis = 0, subset = [\"RESIDENCE_TYPE\"])"
      ],
      "execution_count": null,
      "outputs": []
    },
    {
      "cell_type": "code",
      "metadata": {
        "id": "-1gR1usAYbKu"
      },
      "source": [
        "#Drop RESIDENCE_TYPE (Since we one-hot encoded it)\n",
        "data_nans_dropped = data_nans_dropped.drop(labels = [\"RESIDENCE_TYPE\"], axis = 1)"
      ],
      "execution_count": null,
      "outputs": []
    },
    {
      "cell_type": "code",
      "metadata": {
        "colab": {
          "base_uri": "https://localhost:8080/"
        },
        "id": "dB_-4ANGZFKI",
        "outputId": "c7743357-5f8e-40b9-b92c-74776d449483"
      },
      "source": [
        "#Check Missing Observations in Application Submission Type\n",
        "sum([x == '0' for x in data_nans_dropped[\"APPLICATION_SUBMISSION_TYPE\"]])"
      ],
      "execution_count": null,
      "outputs": [
        {
          "output_type": "execute_result",
          "data": {
            "text/plain": [
              "19244"
            ]
          },
          "metadata": {
            "tags": []
          },
          "execution_count": 177
        }
      ]
    },
    {
      "cell_type": "code",
      "metadata": {
        "id": "UDel35RSZsNl"
      },
      "source": [
        "#DROP APPLICATION_SUBMISSION_TYPE\n",
        "data_nans_dropped = data_nans_dropped.drop(labels = [\"APPLICATION_SUBMISSION_TYPE\"], axis = 1)"
      ],
      "execution_count": null,
      "outputs": []
    },
    {
      "cell_type": "code",
      "metadata": {
        "id": "P8PH3k2mZ-UP"
      },
      "source": [
        "#DROP CLERK TYPE (NO INFO)\n",
        "data_nans_dropped = data_nans_dropped.drop(labels = [\"CLERK_TYPE\"], axis = 1)"
      ],
      "execution_count": null,
      "outputs": []
    },
    {
      "cell_type": "code",
      "metadata": {
        "colab": {
          "base_uri": "https://localhost:8080/"
        },
        "id": "IexhrJYBaGUK",
        "outputId": "d57ac15e-ce2d-4128-9977-5e2642b6afb3"
      },
      "source": [
        "set(data_nans_dropped[\"QUANT_ADDITIONAL_CARDS\"])"
      ],
      "execution_count": null,
      "outputs": [
        {
          "output_type": "execute_result",
          "data": {
            "text/plain": [
              "{0}"
            ]
          },
          "metadata": {
            "tags": []
          },
          "execution_count": 180
        }
      ]
    },
    {
      "cell_type": "code",
      "metadata": {
        "id": "oSn6SPkWafLV"
      },
      "source": [
        "#DROP QUANT_ADDITIONAL_CARDS (ALL ZEROES)\n",
        "data_nans_dropped = data_nans_dropped.drop(labels = [\"QUANT_ADDITIONAL_CARDS\"], axis = 1)"
      ],
      "execution_count": null,
      "outputs": []
    },
    {
      "cell_type": "code",
      "metadata": {
        "id": "npqOcVjfa1ls"
      },
      "source": [
        "#DROP PAYMENT_DAY (ALREADY ONE-HOT ENCODED)\n",
        "data_nans_dropped = data_nans_dropped.drop(labels = [\"PAYMENT_DAY\"], axis = 1)"
      ],
      "execution_count": null,
      "outputs": []
    },
    {
      "cell_type": "code",
      "metadata": {
        "id": "MCLPH5gzgETy"
      },
      "source": [
        "#Drop Observations where Marital Status = 0, only 202 observations\n",
        "data_nans_dropped[\"MARITAL_STATUS\"] = data_nans_dropped[\"MARITAL_STATUS\"].replace(0, np.nan)\n",
        "data_nans_dropped = data_nans_dropped.dropna(axis = 0, subset = [\"MARITAL_STATUS\"])"
      ],
      "execution_count": null,
      "outputs": []
    },
    {
      "cell_type": "code",
      "metadata": {
        "id": "khtHmNvpk5X4"
      },
      "source": [
        "data_nans_dropped = data_nans_dropped.drop(labels = [\"MARITAL_STATUS\"], axis = 1)"
      ],
      "execution_count": null,
      "outputs": []
    },
    {
      "cell_type": "code",
      "metadata": {
        "id": "m37lf9IMldEw"
      },
      "source": [
        "#Drop Nationality as a variable (because no clear interpretation of encoding)\n",
        "data_nans_dropped = data_nans_dropped.drop(labels = [\"NACIONALITY\"], axis = 1)"
      ],
      "execution_count": null,
      "outputs": []
    },
    {
      "cell_type": "code",
      "metadata": {
        "colab": {
          "base_uri": "https://localhost:8080/"
        },
        "id": "Bh4THI_cnL9V",
        "outputId": "c59d871a-c40c-4a3d-d7ae-81f79a0cbf72"
      },
      "source": [
        "#Check number of NaN's in RESIDENCIAL_PHONE_AREA_CODE (7917)\n",
        "sum(data_nans_dropped[\"RESIDENCIAL_PHONE_AREA_CODE\"].isnull())"
      ],
      "execution_count": null,
      "outputs": [
        {
          "output_type": "execute_result",
          "data": {
            "text/plain": [
              "7917"
            ]
          },
          "metadata": {
            "tags": []
          },
          "execution_count": 186
        }
      ]
    },
    {
      "cell_type": "code",
      "metadata": {
        "id": "5qnJ1X0goEI5"
      },
      "source": [
        "#Drop RESIDENCIAL_PHONE_AREA_CODE\n",
        "data_nans_dropped = data_nans_dropped.drop(labels = [\"RESIDENCIAL_PHONE_AREA_CODE\"], axis = 1)"
      ],
      "execution_count": null,
      "outputs": []
    },
    {
      "cell_type": "code",
      "metadata": {
        "id": "hAX4FMIJpSc4"
      },
      "source": [
        "#Drop Flag Mobile Phone (all N)\n",
        "data_nans_dropped = data_nans_dropped.drop(labels = [\"FLAG_MOBILE_PHONE\"], axis = 1)"
      ],
      "execution_count": null,
      "outputs": []
    },
    {
      "cell_type": "code",
      "metadata": {
        "colab": {
          "base_uri": "https://localhost:8080/"
        },
        "id": "xnoOAssSphO3",
        "outputId": "52301ab5-92fd-4998-a796-2dd9ef8cf03b"
      },
      "source": [
        "#Check Quant Banking Accounts and Quant Special Banking Accounts\n",
        "sum(data_nans_dropped[\"QUANT_SPECIAL_BANKING_ACCOUNTS\"] != data_nans_dropped[\"QUANT_BANKING_ACCOUNTS\"])"
      ],
      "execution_count": null,
      "outputs": [
        {
          "output_type": "execute_result",
          "data": {
            "text/plain": [
              "0"
            ]
          },
          "metadata": {
            "tags": []
          },
          "execution_count": 189
        }
      ]
    },
    {
      "cell_type": "code",
      "metadata": {
        "id": "oXAHSZM9qxmm"
      },
      "source": [
        "#Check Quant Special Banking Accounts\n",
        "data_nans_dropped = data_nans_dropped.drop(labels = [\"QUANT_SPECIAL_BANKING_ACCOUNTS\"], axis = 1)"
      ],
      "execution_count": null,
      "outputs": []
    },
    {
      "cell_type": "code",
      "metadata": {
        "colab": {
          "base_uri": "https://localhost:8080/"
        },
        "id": "-8HqM1Bgq5X-",
        "outputId": "454e8e0d-d8df-4004-9acc-186b6bdef6e8"
      },
      "source": [
        "#Count the number of observations with 0 value\n",
        "sum([x == 0.0 for x in data_nans_dropped[\"PERSONAL_ASSETS_VALUE\"]])"
      ],
      "execution_count": null,
      "outputs": [
        {
          "output_type": "execute_result",
          "data": {
            "text/plain": [
              "46022"
            ]
          },
          "metadata": {
            "tags": []
          },
          "execution_count": 191
        }
      ]
    },
    {
      "cell_type": "code",
      "metadata": {
        "id": "EildZvBqra3x"
      },
      "source": [
        "#Drop Personal Assets Value\n",
        "data_nans_dropped = data_nans_dropped.drop(labels = [\"PERSONAL_ASSETS_VALUE\"], axis = 1)"
      ],
      "execution_count": null,
      "outputs": []
    },
    {
      "cell_type": "code",
      "metadata": {
        "colab": {
          "base_uri": "https://localhost:8080/"
        },
        "id": "BylOZQkYrlyr",
        "outputId": "7234e478-4056-4fb9-88ef-df870ae21f01"
      },
      "source": [
        "#Count Number of NaNs in PROFESSIONAL_STATE\n",
        "sum(data_nans_dropped[\"PROFESSIONAL_STATE\"].isnull())"
      ],
      "execution_count": null,
      "outputs": [
        {
          "output_type": "execute_result",
          "data": {
            "text/plain": [
              "33089"
            ]
          },
          "metadata": {
            "tags": []
          },
          "execution_count": 193
        }
      ]
    },
    {
      "cell_type": "code",
      "metadata": {
        "id": "fCy4sStRsS08"
      },
      "source": [
        "#Drop PROFESSIONAL_STATE\n",
        "data_nans_dropped = data_nans_dropped.drop(labels = [\"PROFESSIONAL_STATE\"], axis = 1)"
      ],
      "execution_count": null,
      "outputs": []
    },
    {
      "cell_type": "code",
      "metadata": {
        "colab": {
          "base_uri": "https://localhost:8080/"
        },
        "id": "-lG3D-tGshEs",
        "outputId": "98a4b8d3-bbbd-4e11-88de-68ca881aaef0"
      },
      "source": [
        "#Count Number of NaNs in PROFESSIONAL_CITY\n",
        "sum(data_nans_dropped[\"PROFESSIONAL_CITY\"].isnull())"
      ],
      "execution_count": null,
      "outputs": [
        {
          "output_type": "execute_result",
          "data": {
            "text/plain": [
              "32902"
            ]
          },
          "metadata": {
            "tags": []
          },
          "execution_count": 195
        }
      ]
    },
    {
      "cell_type": "code",
      "metadata": {
        "id": "ZxUYYT_tsk5v"
      },
      "source": [
        "#Drop PROFESSIONAL_STATE\n",
        "data_nans_dropped = data_nans_dropped.drop(labels = [\"PROFESSIONAL_CITY\"], axis = 1)"
      ],
      "execution_count": null,
      "outputs": []
    },
    {
      "cell_type": "code",
      "metadata": {
        "colab": {
          "base_uri": "https://localhost:8080/"
        },
        "id": "NB07_uoOsoLH",
        "outputId": "0a33cccf-ee70-424f-c34b-3b8d49c0e1c9"
      },
      "source": [
        "#Count Number of NaNs in PROFESSIONAL_BOROUGH\n",
        "sum(data_nans_dropped[\"PROFESSIONAL_BOROUGH\"].isnull())"
      ],
      "execution_count": null,
      "outputs": [
        {
          "output_type": "execute_result",
          "data": {
            "text/plain": [
              "33476"
            ]
          },
          "metadata": {
            "tags": []
          },
          "execution_count": 197
        }
      ]
    },
    {
      "cell_type": "code",
      "metadata": {
        "id": "QruCGSRbssh-"
      },
      "source": [
        "\n",
        "#Drop PROFESSIONAL_BOROUGH\n",
        "data_nans_dropped = data_nans_dropped.drop(labels = [\"PROFESSIONAL_BOROUGH\"], axis = 1)"
      ],
      "execution_count": null,
      "outputs": []
    },
    {
      "cell_type": "code",
      "metadata": {
        "colab": {
          "base_uri": "https://localhost:8080/"
        },
        "id": "6-FFtBgRsv-1",
        "outputId": "7694682c-7d73-48bd-d652-92fe3d6eb9e9"
      },
      "source": [
        "\n",
        "#Count NUmber of NaNs in PROFESSIONAL_PHONE_AREA_CODE\n",
        "sum(data_nans_dropped[\"PROFESSIONAL_PHONE_AREA_CODE\"].isnull())"
      ],
      "execution_count": null,
      "outputs": [
        {
          "output_type": "execute_result",
          "data": {
            "text/plain": [
              "35261"
            ]
          },
          "metadata": {
            "tags": []
          },
          "execution_count": 199
        }
      ]
    },
    {
      "cell_type": "code",
      "metadata": {
        "id": "HA8bWbqzs8l3"
      },
      "source": [
        "#Count NUmber of NaNs in PROFESSIONAL_PHONE_AREA_CODE\n",
        "data_nans_dropped = data_nans_dropped.drop(labels = [\"PROFESSIONAL_PHONE_AREA_CODE\"], axis = 1)"
      ],
      "execution_count": null,
      "outputs": []
    },
    {
      "cell_type": "code",
      "metadata": {
        "colab": {
          "base_uri": "https://localhost:8080/"
        },
        "id": "CA8pag6atDsA",
        "outputId": "3ed02f0e-3aa8-4f38-dcb2-2a927d87b0f5"
      },
      "source": [
        "\n",
        "#Count NUmber of NaNs in MATE_PROFESSION_CODE\n",
        "sum(data_nans_dropped[\"MATE_PROFESSION_CODE\"].isnull())"
      ],
      "execution_count": null,
      "outputs": [
        {
          "output_type": "execute_result",
          "data": {
            "text/plain": [
              "27596"
            ]
          },
          "metadata": {
            "tags": []
          },
          "execution_count": 201
        }
      ]
    },
    {
      "cell_type": "code",
      "metadata": {
        "id": "Zi3D8VoOtnDJ"
      },
      "source": [
        "#Drop MATE_PROFESSION_CODE\n",
        "data_nans_dropped = data_nans_dropped.drop(labels = [\"MATE_PROFESSION_CODE\"], axis = 1)"
      ],
      "execution_count": null,
      "outputs": []
    },
    {
      "cell_type": "code",
      "metadata": {
        "colab": {
          "base_uri": "https://localhost:8080/"
        },
        "id": "oWq0Qeimt0Xt",
        "outputId": "4c4cf672-6b26-4c07-d36f-2a71e389e9ae"
      },
      "source": [
        "\n",
        "\n",
        "#Count NUmber of NaNs in FLAG_HOME_ADDRESS_DOCUMENT\n",
        "sum([x == 0 for x in data_nans_dropped[\"FLAG_HOME_ADDRESS_DOCUMENT\"]])"
      ],
      "execution_count": null,
      "outputs": [
        {
          "output_type": "execute_result",
          "data": {
            "text/plain": [
              "48386"
            ]
          },
          "metadata": {
            "tags": []
          },
          "execution_count": 203
        }
      ]
    },
    {
      "cell_type": "code",
      "metadata": {
        "colab": {
          "base_uri": "https://localhost:8080/"
        },
        "id": "RWfNuNI4uf5m",
        "outputId": "2f62fa2d-f51d-4904-a54b-2f6b248e55ff"
      },
      "source": [
        "\n",
        "\n",
        "#Count NUmber of NaNs in FLAG_RG\n",
        "sum([x == 0 for x in data_nans_dropped[\"FLAG_RG\"]])"
      ],
      "execution_count": null,
      "outputs": [
        {
          "output_type": "execute_result",
          "data": {
            "text/plain": [
              "48386"
            ]
          },
          "metadata": {
            "tags": []
          },
          "execution_count": 204
        }
      ]
    },
    {
      "cell_type": "code",
      "metadata": {
        "id": "p78RX9pyujr9"
      },
      "source": [
        "\n",
        "\n",
        "#Drop FLAG_HOME_ADDRESS_DOCUMENT\n",
        "data_nans_dropped = data_nans_dropped.drop(labels = [\"FLAG_HOME_ADDRESS_DOCUMENT\"], axis = 1)"
      ],
      "execution_count": null,
      "outputs": []
    },
    {
      "cell_type": "code",
      "metadata": {
        "id": "BXOmBX4Vuq7-"
      },
      "source": [
        "#Drop FLAG_HOME_ADDRESS_DOCUMENT\n",
        "data_nans_dropped = data_nans_dropped.drop(labels = [\"FLAG_RG\"], axis = 1)"
      ],
      "execution_count": null,
      "outputs": []
    },
    {
      "cell_type": "code",
      "metadata": {
        "colab": {
          "base_uri": "https://localhost:8080/"
        },
        "id": "jeu94lMNutp_",
        "outputId": "605627dd-18dc-4258-8fd4-24fbd03b83e0"
      },
      "source": [
        "#Count NUmber of NaNs in FLAG_CPF\n",
        "sum([x == 0 for x in data_nans_dropped[\"FLAG_CPF\"]])"
      ],
      "execution_count": null,
      "outputs": [
        {
          "output_type": "execute_result",
          "data": {
            "text/plain": [
              "48386"
            ]
          },
          "metadata": {
            "tags": []
          },
          "execution_count": 207
        }
      ]
    },
    {
      "cell_type": "code",
      "metadata": {
        "colab": {
          "base_uri": "https://localhost:8080/"
        },
        "id": "7CcnwjHsuvgd",
        "outputId": "010a75dd-785a-4385-ba4b-df1e69ae2dc6"
      },
      "source": [
        "#Count NUmber of NaNs in FLAG_INCOME_PROOF\n",
        "sum([x == 0 for x in data_nans_dropped[\"FLAG_INCOME_PROOF\"]])"
      ],
      "execution_count": null,
      "outputs": [
        {
          "output_type": "execute_result",
          "data": {
            "text/plain": [
              "48386"
            ]
          },
          "metadata": {
            "tags": []
          },
          "execution_count": 208
        }
      ]
    },
    {
      "cell_type": "code",
      "metadata": {
        "id": "1kj-o7v5u1-C"
      },
      "source": [
        "#Drop FLAG_CPF\n",
        "data_nans_dropped = data_nans_dropped.drop(labels = [\"FLAG_CPF\"], axis = 1)"
      ],
      "execution_count": null,
      "outputs": []
    },
    {
      "cell_type": "code",
      "metadata": {
        "id": "S6LKFrXtu5y9"
      },
      "source": [
        "#Drop FLAG_INCOME_PROOF\n",
        "data_nans_dropped = data_nans_dropped.drop(labels = [\"FLAG_INCOME_PROOF\"], axis = 1)"
      ],
      "execution_count": null,
      "outputs": []
    },
    {
      "cell_type": "code",
      "metadata": {
        "colab": {
          "base_uri": "https://localhost:8080/"
        },
        "id": "NUPzKQ3pu_aL",
        "outputId": "6d5c30a5-828d-4047-b34b-738426b372d5"
      },
      "source": [
        "#Count Number of NaNs in FLAG_ACSP_RECORD\n",
        "sum([x == 'N' for x in data_nans_dropped[\"FLAG_ACSP_RECORD\"]])"
      ],
      "execution_count": null,
      "outputs": [
        {
          "output_type": "execute_result",
          "data": {
            "text/plain": [
              "48386"
            ]
          },
          "metadata": {
            "tags": []
          },
          "execution_count": 211
        }
      ]
    },
    {
      "cell_type": "code",
      "metadata": {
        "id": "pI6KX7wavGxi"
      },
      "source": [
        "#Drop FLAG_ACSP_RECORD\n",
        "data_nans_dropped = data_nans_dropped.drop(labels = [\"FLAG_ACSP_RECORD\"], axis = 1)"
      ],
      "execution_count": null,
      "outputs": []
    },
    {
      "cell_type": "code",
      "metadata": {
        "id": "wC-JCJV5xeZV"
      },
      "source": [
        "#Drop Low Age Values (6, 7, 14)\n",
        "data_nans_dropped[\"AGE\"] = data_nans_dropped[\"AGE\"].replace(6, np.nan)\n",
        "data_nans_dropped[\"AGE\"] = data_nans_dropped[\"AGE\"].replace(7, np.nan)\n",
        "data_nans_dropped[\"AGE\"] = data_nans_dropped[\"AGE\"].replace(14, np.nan)\n",
        "data_nans_dropped = data_nans_dropped.dropna(axis = 0, subset = [\"AGE\"])"
      ],
      "execution_count": null,
      "outputs": []
    },
    {
      "cell_type": "code",
      "metadata": {
        "id": "WHM4nGH40lRa"
      },
      "source": [
        "#Drop Product\n",
        "data_nans_dropped = data_nans_dropped.drop(labels = [\"PRODUCT\"], axis = 1)"
      ],
      "execution_count": null,
      "outputs": []
    },
    {
      "cell_type": "code",
      "metadata": {
        "colab": {
          "base_uri": "https://localhost:8080/",
          "height": 490
        },
        "id": "bwelo-biz5Cf",
        "outputId": "91bb15ea-1380-4752-eecc-3bc658111ac7"
      },
      "source": [
        "data_clean = pd.DataFrame(data_nans_dropped)\n",
        "data_clean"
      ],
      "execution_count": null,
      "outputs": [
        {
          "output_type": "execute_result",
          "data": {
            "text/html": [
              "<div>\n",
              "<style scoped>\n",
              "    .dataframe tbody tr th:only-of-type {\n",
              "        vertical-align: middle;\n",
              "    }\n",
              "\n",
              "    .dataframe tbody tr th {\n",
              "        vertical-align: top;\n",
              "    }\n",
              "\n",
              "    .dataframe thead th {\n",
              "        text-align: right;\n",
              "    }\n",
              "</style>\n",
              "<table border=\"1\" class=\"dataframe\">\n",
              "  <thead>\n",
              "    <tr style=\"text-align: right;\">\n",
              "      <th></th>\n",
              "      <th>ID_CLIENT</th>\n",
              "      <th>POSTAL_ADDRESS_TYPE</th>\n",
              "      <th>SEX</th>\n",
              "      <th>QUANT_DEPENDANTS</th>\n",
              "      <th>STATE_OF_BIRTH</th>\n",
              "      <th>CITY_OF_BIRTH</th>\n",
              "      <th>RESIDENCIAL_STATE</th>\n",
              "      <th>RESIDENCIAL_CITY</th>\n",
              "      <th>RESIDENCIAL_BOROUGH</th>\n",
              "      <th>FLAG_RESIDENCIAL_PHONE</th>\n",
              "      <th>MONTHS_IN_RESIDENCE</th>\n",
              "      <th>FLAG_EMAIL</th>\n",
              "      <th>PERSONAL_MONTHLY_INCOME</th>\n",
              "      <th>OTHER_INCOMES</th>\n",
              "      <th>FLAG_VISA</th>\n",
              "      <th>FLAG_MASTERCARD</th>\n",
              "      <th>FLAG_DINERS</th>\n",
              "      <th>FLAG_AMERICAN_EXPRESS</th>\n",
              "      <th>FLAG_OTHER_CARDS</th>\n",
              "      <th>QUANT_BANKING_ACCOUNTS</th>\n",
              "      <th>QUANT_CARS</th>\n",
              "      <th>COMPANY</th>\n",
              "      <th>FLAG_PROFESSIONAL_PHONE</th>\n",
              "      <th>MONTHS_IN_THE_JOB</th>\n",
              "      <th>PROFESSION_CODE</th>\n",
              "      <th>OCCUPATION_TYPE</th>\n",
              "      <th>AGE</th>\n",
              "      <th>RESIDENCIAL_ZIP_3</th>\n",
              "      <th>PROFESSIONAL_ZIP_3</th>\n",
              "      <th>TARGET_LABEL</th>\n",
              "      <th>PRODUCT_1</th>\n",
              "      <th>PRODUCT_2</th>\n",
              "      <th>PRODUCT_7</th>\n",
              "      <th>FLAG_CREDIT_CARD</th>\n",
              "      <th>TOTAL_INCOME</th>\n",
              "      <th>TOTAL_INCOME_STD</th>\n",
              "      <th>RESIDENCE_TYPE_0</th>\n",
              "      <th>RESIDENCE_TYPE_1</th>\n",
              "      <th>RESIDENCE_TYPE_2</th>\n",
              "      <th>RESIDENCE_TYPE_3</th>\n",
              "      <th>RESIDENCE_TYPE_4</th>\n",
              "      <th>RESIDENCE_TYPE_5</th>\n",
              "      <th>PAYMENT_DAY_1</th>\n",
              "      <th>PAYMENT_DAY_5</th>\n",
              "      <th>PAYMENT_DAY_10</th>\n",
              "      <th>PAYMENT_DAY_15</th>\n",
              "      <th>PAYMENT_DAY_20</th>\n",
              "      <th>PAYMENT_DAY_25</th>\n",
              "      <th>MARITAL_STATUS_1</th>\n",
              "      <th>MARITAL_STATUS_2</th>\n",
              "      <th>MARITAL_STATUS_3</th>\n",
              "      <th>MARITAL_STATUS_4</th>\n",
              "      <th>MARITAL_STATUS_5</th>\n",
              "      <th>MARITAL_STATUS_6</th>\n",
              "      <th>MARITAL_STATUS_7</th>\n",
              "      <th>AGE_17_25</th>\n",
              "      <th>AGE_26_35</th>\n",
              "      <th>AGE_36_45</th>\n",
              "      <th>AGE_46_55</th>\n",
              "      <th>AGE_56_75</th>\n",
              "      <th>AGE_76_PLUS</th>\n",
              "    </tr>\n",
              "  </thead>\n",
              "  <tbody>\n",
              "    <tr>\n",
              "      <th>0</th>\n",
              "      <td>1</td>\n",
              "      <td>1</td>\n",
              "      <td>1</td>\n",
              "      <td>1</td>\n",
              "      <td>RN</td>\n",
              "      <td>Assu</td>\n",
              "      <td>RN</td>\n",
              "      <td>Santana do Matos</td>\n",
              "      <td>Centro</td>\n",
              "      <td>1</td>\n",
              "      <td>15.0</td>\n",
              "      <td>1</td>\n",
              "      <td>900.00</td>\n",
              "      <td>0.0</td>\n",
              "      <td>1</td>\n",
              "      <td>1</td>\n",
              "      <td>0</td>\n",
              "      <td>0</td>\n",
              "      <td>0</td>\n",
              "      <td>0</td>\n",
              "      <td>0</td>\n",
              "      <td>0</td>\n",
              "      <td>0</td>\n",
              "      <td>0</td>\n",
              "      <td>9.0</td>\n",
              "      <td>4.0</td>\n",
              "      <td>32.0</td>\n",
              "      <td>595</td>\n",
              "      <td>595</td>\n",
              "      <td>1</td>\n",
              "      <td>1</td>\n",
              "      <td>0</td>\n",
              "      <td>0</td>\n",
              "      <td>1</td>\n",
              "      <td>900.00</td>\n",
              "      <td>-0.002800</td>\n",
              "      <td>0</td>\n",
              "      <td>1</td>\n",
              "      <td>0</td>\n",
              "      <td>0</td>\n",
              "      <td>0</td>\n",
              "      <td>0</td>\n",
              "      <td>0</td>\n",
              "      <td>1</td>\n",
              "      <td>0</td>\n",
              "      <td>0</td>\n",
              "      <td>0</td>\n",
              "      <td>0</td>\n",
              "      <td>0</td>\n",
              "      <td>0</td>\n",
              "      <td>0</td>\n",
              "      <td>0</td>\n",
              "      <td>0</td>\n",
              "      <td>1</td>\n",
              "      <td>0</td>\n",
              "      <td>0</td>\n",
              "      <td>1</td>\n",
              "      <td>0</td>\n",
              "      <td>0</td>\n",
              "      <td>0</td>\n",
              "      <td>0</td>\n",
              "    </tr>\n",
              "    <tr>\n",
              "      <th>1</th>\n",
              "      <td>2</td>\n",
              "      <td>1</td>\n",
              "      <td>1</td>\n",
              "      <td>0</td>\n",
              "      <td>RJ</td>\n",
              "      <td>rio de janeiro</td>\n",
              "      <td>RJ</td>\n",
              "      <td>RIO DE JANEIRO</td>\n",
              "      <td>CAMPO GRANDE</td>\n",
              "      <td>1</td>\n",
              "      <td>1.0</td>\n",
              "      <td>1</td>\n",
              "      <td>750.00</td>\n",
              "      <td>0.0</td>\n",
              "      <td>0</td>\n",
              "      <td>0</td>\n",
              "      <td>0</td>\n",
              "      <td>0</td>\n",
              "      <td>0</td>\n",
              "      <td>0</td>\n",
              "      <td>0</td>\n",
              "      <td>1</td>\n",
              "      <td>0</td>\n",
              "      <td>0</td>\n",
              "      <td>11.0</td>\n",
              "      <td>4.0</td>\n",
              "      <td>34.0</td>\n",
              "      <td>230</td>\n",
              "      <td>230</td>\n",
              "      <td>1</td>\n",
              "      <td>1</td>\n",
              "      <td>0</td>\n",
              "      <td>0</td>\n",
              "      <td>0</td>\n",
              "      <td>750.00</td>\n",
              "      <td>-0.021794</td>\n",
              "      <td>0</td>\n",
              "      <td>1</td>\n",
              "      <td>0</td>\n",
              "      <td>0</td>\n",
              "      <td>0</td>\n",
              "      <td>0</td>\n",
              "      <td>0</td>\n",
              "      <td>0</td>\n",
              "      <td>0</td>\n",
              "      <td>1</td>\n",
              "      <td>0</td>\n",
              "      <td>0</td>\n",
              "      <td>0</td>\n",
              "      <td>1</td>\n",
              "      <td>0</td>\n",
              "      <td>0</td>\n",
              "      <td>0</td>\n",
              "      <td>0</td>\n",
              "      <td>0</td>\n",
              "      <td>0</td>\n",
              "      <td>1</td>\n",
              "      <td>0</td>\n",
              "      <td>0</td>\n",
              "      <td>0</td>\n",
              "      <td>0</td>\n",
              "    </tr>\n",
              "    <tr>\n",
              "      <th>2</th>\n",
              "      <td>3</td>\n",
              "      <td>1</td>\n",
              "      <td>1</td>\n",
              "      <td>0</td>\n",
              "      <td>RN</td>\n",
              "      <td>GARANHUNS</td>\n",
              "      <td>RN</td>\n",
              "      <td>Parnamirim</td>\n",
              "      <td>Boa Esperanca</td>\n",
              "      <td>1</td>\n",
              "      <td>6.0</td>\n",
              "      <td>1</td>\n",
              "      <td>500.00</td>\n",
              "      <td>0.0</td>\n",
              "      <td>0</td>\n",
              "      <td>0</td>\n",
              "      <td>0</td>\n",
              "      <td>0</td>\n",
              "      <td>0</td>\n",
              "      <td>0</td>\n",
              "      <td>0</td>\n",
              "      <td>0</td>\n",
              "      <td>0</td>\n",
              "      <td>0</td>\n",
              "      <td>11.0</td>\n",
              "      <td>NaN</td>\n",
              "      <td>27.0</td>\n",
              "      <td>591</td>\n",
              "      <td>591</td>\n",
              "      <td>0</td>\n",
              "      <td>1</td>\n",
              "      <td>0</td>\n",
              "      <td>0</td>\n",
              "      <td>0</td>\n",
              "      <td>500.00</td>\n",
              "      <td>-0.053450</td>\n",
              "      <td>0</td>\n",
              "      <td>1</td>\n",
              "      <td>0</td>\n",
              "      <td>0</td>\n",
              "      <td>0</td>\n",
              "      <td>0</td>\n",
              "      <td>0</td>\n",
              "      <td>1</td>\n",
              "      <td>0</td>\n",
              "      <td>0</td>\n",
              "      <td>0</td>\n",
              "      <td>0</td>\n",
              "      <td>0</td>\n",
              "      <td>1</td>\n",
              "      <td>0</td>\n",
              "      <td>0</td>\n",
              "      <td>0</td>\n",
              "      <td>0</td>\n",
              "      <td>0</td>\n",
              "      <td>0</td>\n",
              "      <td>1</td>\n",
              "      <td>0</td>\n",
              "      <td>0</td>\n",
              "      <td>0</td>\n",
              "      <td>0</td>\n",
              "    </tr>\n",
              "    <tr>\n",
              "      <th>4</th>\n",
              "      <td>5</td>\n",
              "      <td>1</td>\n",
              "      <td>0</td>\n",
              "      <td>0</td>\n",
              "      <td>RJ</td>\n",
              "      <td>RIO DE JANEIRO</td>\n",
              "      <td>RJ</td>\n",
              "      <td>Rio de Janeiro</td>\n",
              "      <td>Santa Cruz</td>\n",
              "      <td>1</td>\n",
              "      <td>12.0</td>\n",
              "      <td>1</td>\n",
              "      <td>1200.00</td>\n",
              "      <td>0.0</td>\n",
              "      <td>0</td>\n",
              "      <td>0</td>\n",
              "      <td>0</td>\n",
              "      <td>0</td>\n",
              "      <td>0</td>\n",
              "      <td>0</td>\n",
              "      <td>0</td>\n",
              "      <td>0</td>\n",
              "      <td>0</td>\n",
              "      <td>0</td>\n",
              "      <td>9.0</td>\n",
              "      <td>5.0</td>\n",
              "      <td>48.0</td>\n",
              "      <td>235</td>\n",
              "      <td>235</td>\n",
              "      <td>1</td>\n",
              "      <td>1</td>\n",
              "      <td>0</td>\n",
              "      <td>0</td>\n",
              "      <td>0</td>\n",
              "      <td>1200.00</td>\n",
              "      <td>0.035187</td>\n",
              "      <td>0</td>\n",
              "      <td>1</td>\n",
              "      <td>0</td>\n",
              "      <td>0</td>\n",
              "      <td>0</td>\n",
              "      <td>0</td>\n",
              "      <td>0</td>\n",
              "      <td>0</td>\n",
              "      <td>1</td>\n",
              "      <td>0</td>\n",
              "      <td>0</td>\n",
              "      <td>0</td>\n",
              "      <td>0</td>\n",
              "      <td>1</td>\n",
              "      <td>0</td>\n",
              "      <td>0</td>\n",
              "      <td>0</td>\n",
              "      <td>0</td>\n",
              "      <td>0</td>\n",
              "      <td>0</td>\n",
              "      <td>0</td>\n",
              "      <td>0</td>\n",
              "      <td>1</td>\n",
              "      <td>0</td>\n",
              "      <td>0</td>\n",
              "    </tr>\n",
              "    <tr>\n",
              "      <th>5</th>\n",
              "      <td>6</td>\n",
              "      <td>1</td>\n",
              "      <td>0</td>\n",
              "      <td>0</td>\n",
              "      <td>MG</td>\n",
              "      <td>CARMO DO RIO CLARO</td>\n",
              "      <td>MG</td>\n",
              "      <td>ALFENAS</td>\n",
              "      <td>Campos Eliseos</td>\n",
              "      <td>1</td>\n",
              "      <td>4.0</td>\n",
              "      <td>1</td>\n",
              "      <td>500.00</td>\n",
              "      <td>0.0</td>\n",
              "      <td>0</td>\n",
              "      <td>0</td>\n",
              "      <td>0</td>\n",
              "      <td>0</td>\n",
              "      <td>0</td>\n",
              "      <td>1</td>\n",
              "      <td>1</td>\n",
              "      <td>1</td>\n",
              "      <td>0</td>\n",
              "      <td>0</td>\n",
              "      <td>9.0</td>\n",
              "      <td>2.0</td>\n",
              "      <td>40.0</td>\n",
              "      <td>371</td>\n",
              "      <td>371</td>\n",
              "      <td>1</td>\n",
              "      <td>0</td>\n",
              "      <td>1</td>\n",
              "      <td>0</td>\n",
              "      <td>0</td>\n",
              "      <td>500.00</td>\n",
              "      <td>-0.053450</td>\n",
              "      <td>0</td>\n",
              "      <td>1</td>\n",
              "      <td>0</td>\n",
              "      <td>0</td>\n",
              "      <td>0</td>\n",
              "      <td>0</td>\n",
              "      <td>0</td>\n",
              "      <td>0</td>\n",
              "      <td>1</td>\n",
              "      <td>0</td>\n",
              "      <td>0</td>\n",
              "      <td>0</td>\n",
              "      <td>0</td>\n",
              "      <td>1</td>\n",
              "      <td>0</td>\n",
              "      <td>0</td>\n",
              "      <td>0</td>\n",
              "      <td>0</td>\n",
              "      <td>0</td>\n",
              "      <td>0</td>\n",
              "      <td>0</td>\n",
              "      <td>1</td>\n",
              "      <td>0</td>\n",
              "      <td>0</td>\n",
              "      <td>0</td>\n",
              "    </tr>\n",
              "    <tr>\n",
              "      <th>...</th>\n",
              "      <td>...</td>\n",
              "      <td>...</td>\n",
              "      <td>...</td>\n",
              "      <td>...</td>\n",
              "      <td>...</td>\n",
              "      <td>...</td>\n",
              "      <td>...</td>\n",
              "      <td>...</td>\n",
              "      <td>...</td>\n",
              "      <td>...</td>\n",
              "      <td>...</td>\n",
              "      <td>...</td>\n",
              "      <td>...</td>\n",
              "      <td>...</td>\n",
              "      <td>...</td>\n",
              "      <td>...</td>\n",
              "      <td>...</td>\n",
              "      <td>...</td>\n",
              "      <td>...</td>\n",
              "      <td>...</td>\n",
              "      <td>...</td>\n",
              "      <td>...</td>\n",
              "      <td>...</td>\n",
              "      <td>...</td>\n",
              "      <td>...</td>\n",
              "      <td>...</td>\n",
              "      <td>...</td>\n",
              "      <td>...</td>\n",
              "      <td>...</td>\n",
              "      <td>...</td>\n",
              "      <td>...</td>\n",
              "      <td>...</td>\n",
              "      <td>...</td>\n",
              "      <td>...</td>\n",
              "      <td>...</td>\n",
              "      <td>...</td>\n",
              "      <td>...</td>\n",
              "      <td>...</td>\n",
              "      <td>...</td>\n",
              "      <td>...</td>\n",
              "      <td>...</td>\n",
              "      <td>...</td>\n",
              "      <td>...</td>\n",
              "      <td>...</td>\n",
              "      <td>...</td>\n",
              "      <td>...</td>\n",
              "      <td>...</td>\n",
              "      <td>...</td>\n",
              "      <td>...</td>\n",
              "      <td>...</td>\n",
              "      <td>...</td>\n",
              "      <td>...</td>\n",
              "      <td>...</td>\n",
              "      <td>...</td>\n",
              "      <td>...</td>\n",
              "      <td>...</td>\n",
              "      <td>...</td>\n",
              "      <td>...</td>\n",
              "      <td>...</td>\n",
              "      <td>...</td>\n",
              "      <td>...</td>\n",
              "    </tr>\n",
              "    <tr>\n",
              "      <th>49995</th>\n",
              "      <td>49996</td>\n",
              "      <td>1</td>\n",
              "      <td>1</td>\n",
              "      <td>2</td>\n",
              "      <td>RN</td>\n",
              "      <td>NATAL</td>\n",
              "      <td>RN</td>\n",
              "      <td>NATAL</td>\n",
              "      <td>PAJUCARA</td>\n",
              "      <td>1</td>\n",
              "      <td>14.0</td>\n",
              "      <td>1</td>\n",
              "      <td>1451.00</td>\n",
              "      <td>0.0</td>\n",
              "      <td>0</td>\n",
              "      <td>0</td>\n",
              "      <td>0</td>\n",
              "      <td>0</td>\n",
              "      <td>0</td>\n",
              "      <td>1</td>\n",
              "      <td>1</td>\n",
              "      <td>0</td>\n",
              "      <td>0</td>\n",
              "      <td>0</td>\n",
              "      <td>9.0</td>\n",
              "      <td>4.0</td>\n",
              "      <td>36.0</td>\n",
              "      <td>591</td>\n",
              "      <td>591</td>\n",
              "      <td>1</td>\n",
              "      <td>1</td>\n",
              "      <td>0</td>\n",
              "      <td>0</td>\n",
              "      <td>0</td>\n",
              "      <td>1451.00</td>\n",
              "      <td>0.066970</td>\n",
              "      <td>0</td>\n",
              "      <td>1</td>\n",
              "      <td>0</td>\n",
              "      <td>0</td>\n",
              "      <td>0</td>\n",
              "      <td>0</td>\n",
              "      <td>0</td>\n",
              "      <td>0</td>\n",
              "      <td>1</td>\n",
              "      <td>0</td>\n",
              "      <td>0</td>\n",
              "      <td>0</td>\n",
              "      <td>1</td>\n",
              "      <td>0</td>\n",
              "      <td>0</td>\n",
              "      <td>0</td>\n",
              "      <td>0</td>\n",
              "      <td>0</td>\n",
              "      <td>0</td>\n",
              "      <td>0</td>\n",
              "      <td>0</td>\n",
              "      <td>1</td>\n",
              "      <td>0</td>\n",
              "      <td>0</td>\n",
              "      <td>0</td>\n",
              "    </tr>\n",
              "    <tr>\n",
              "      <th>49996</th>\n",
              "      <td>49997</td>\n",
              "      <td>1</td>\n",
              "      <td>1</td>\n",
              "      <td>0</td>\n",
              "      <td>SP</td>\n",
              "      <td>LENCOIS PAULISTA</td>\n",
              "      <td>SP</td>\n",
              "      <td>Lencois Paulista</td>\n",
              "      <td>Nucleo Habitacional Joao Zillo</td>\n",
              "      <td>1</td>\n",
              "      <td>15.0</td>\n",
              "      <td>1</td>\n",
              "      <td>450.00</td>\n",
              "      <td>0.0</td>\n",
              "      <td>0</td>\n",
              "      <td>0</td>\n",
              "      <td>0</td>\n",
              "      <td>0</td>\n",
              "      <td>0</td>\n",
              "      <td>0</td>\n",
              "      <td>0</td>\n",
              "      <td>0</td>\n",
              "      <td>0</td>\n",
              "      <td>0</td>\n",
              "      <td>NaN</td>\n",
              "      <td>NaN</td>\n",
              "      <td>21.0</td>\n",
              "      <td>186</td>\n",
              "      <td>186</td>\n",
              "      <td>0</td>\n",
              "      <td>0</td>\n",
              "      <td>1</td>\n",
              "      <td>0</td>\n",
              "      <td>0</td>\n",
              "      <td>450.00</td>\n",
              "      <td>-0.059781</td>\n",
              "      <td>0</td>\n",
              "      <td>1</td>\n",
              "      <td>0</td>\n",
              "      <td>0</td>\n",
              "      <td>0</td>\n",
              "      <td>0</td>\n",
              "      <td>0</td>\n",
              "      <td>0</td>\n",
              "      <td>0</td>\n",
              "      <td>0</td>\n",
              "      <td>0</td>\n",
              "      <td>1</td>\n",
              "      <td>1</td>\n",
              "      <td>0</td>\n",
              "      <td>0</td>\n",
              "      <td>0</td>\n",
              "      <td>0</td>\n",
              "      <td>0</td>\n",
              "      <td>0</td>\n",
              "      <td>1</td>\n",
              "      <td>0</td>\n",
              "      <td>0</td>\n",
              "      <td>0</td>\n",
              "      <td>0</td>\n",
              "      <td>0</td>\n",
              "    </tr>\n",
              "    <tr>\n",
              "      <th>49997</th>\n",
              "      <td>49998</td>\n",
              "      <td>1</td>\n",
              "      <td>0</td>\n",
              "      <td>3</td>\n",
              "      <td>PR</td>\n",
              "      <td>RIO BONITO</td>\n",
              "      <td>SP</td>\n",
              "      <td>GUARULHOS</td>\n",
              "      <td>jardim vida nova</td>\n",
              "      <td>1</td>\n",
              "      <td>5.0</td>\n",
              "      <td>1</td>\n",
              "      <td>1555.00</td>\n",
              "      <td>0.0</td>\n",
              "      <td>0</td>\n",
              "      <td>0</td>\n",
              "      <td>0</td>\n",
              "      <td>0</td>\n",
              "      <td>0</td>\n",
              "      <td>0</td>\n",
              "      <td>0</td>\n",
              "      <td>1</td>\n",
              "      <td>1</td>\n",
              "      <td>0</td>\n",
              "      <td>9.0</td>\n",
              "      <td>2.0</td>\n",
              "      <td>41.0</td>\n",
              "      <td>715</td>\n",
              "      <td>715</td>\n",
              "      <td>0</td>\n",
              "      <td>1</td>\n",
              "      <td>0</td>\n",
              "      <td>0</td>\n",
              "      <td>0</td>\n",
              "      <td>1555.00</td>\n",
              "      <td>0.080139</td>\n",
              "      <td>0</td>\n",
              "      <td>0</td>\n",
              "      <td>1</td>\n",
              "      <td>0</td>\n",
              "      <td>0</td>\n",
              "      <td>0</td>\n",
              "      <td>0</td>\n",
              "      <td>1</td>\n",
              "      <td>0</td>\n",
              "      <td>0</td>\n",
              "      <td>0</td>\n",
              "      <td>0</td>\n",
              "      <td>0</td>\n",
              "      <td>1</td>\n",
              "      <td>0</td>\n",
              "      <td>0</td>\n",
              "      <td>0</td>\n",
              "      <td>0</td>\n",
              "      <td>0</td>\n",
              "      <td>0</td>\n",
              "      <td>0</td>\n",
              "      <td>1</td>\n",
              "      <td>0</td>\n",
              "      <td>0</td>\n",
              "      <td>0</td>\n",
              "    </tr>\n",
              "    <tr>\n",
              "      <th>49998</th>\n",
              "      <td>49999</td>\n",
              "      <td>1</td>\n",
              "      <td>1</td>\n",
              "      <td>1</td>\n",
              "      <td>SP</td>\n",
              "      <td>SAO PAULO</td>\n",
              "      <td>MG</td>\n",
              "      <td>CONTAGEM</td>\n",
              "      <td>VILA BELEM</td>\n",
              "      <td>1</td>\n",
              "      <td>6.0</td>\n",
              "      <td>1</td>\n",
              "      <td>1443.27</td>\n",
              "      <td>0.0</td>\n",
              "      <td>0</td>\n",
              "      <td>0</td>\n",
              "      <td>0</td>\n",
              "      <td>0</td>\n",
              "      <td>0</td>\n",
              "      <td>0</td>\n",
              "      <td>0</td>\n",
              "      <td>1</td>\n",
              "      <td>1</td>\n",
              "      <td>0</td>\n",
              "      <td>9.0</td>\n",
              "      <td>2.0</td>\n",
              "      <td>28.0</td>\n",
              "      <td>320</td>\n",
              "      <td>320</td>\n",
              "      <td>1</td>\n",
              "      <td>1</td>\n",
              "      <td>0</td>\n",
              "      <td>0</td>\n",
              "      <td>0</td>\n",
              "      <td>1443.27</td>\n",
              "      <td>0.065991</td>\n",
              "      <td>0</td>\n",
              "      <td>1</td>\n",
              "      <td>0</td>\n",
              "      <td>0</td>\n",
              "      <td>0</td>\n",
              "      <td>0</td>\n",
              "      <td>1</td>\n",
              "      <td>0</td>\n",
              "      <td>0</td>\n",
              "      <td>0</td>\n",
              "      <td>0</td>\n",
              "      <td>0</td>\n",
              "      <td>1</td>\n",
              "      <td>0</td>\n",
              "      <td>0</td>\n",
              "      <td>0</td>\n",
              "      <td>0</td>\n",
              "      <td>0</td>\n",
              "      <td>0</td>\n",
              "      <td>0</td>\n",
              "      <td>1</td>\n",
              "      <td>0</td>\n",
              "      <td>0</td>\n",
              "      <td>0</td>\n",
              "      <td>0</td>\n",
              "    </tr>\n",
              "    <tr>\n",
              "      <th>49999</th>\n",
              "      <td>50000</td>\n",
              "      <td>1</td>\n",
              "      <td>1</td>\n",
              "      <td>2</td>\n",
              "      <td>SP</td>\n",
              "      <td>PINDABA</td>\n",
              "      <td>SP</td>\n",
              "      <td>Pindamonhangaba</td>\n",
              "      <td>Feital</td>\n",
              "      <td>0</td>\n",
              "      <td>9.0</td>\n",
              "      <td>1</td>\n",
              "      <td>719.38</td>\n",
              "      <td>0.0</td>\n",
              "      <td>0</td>\n",
              "      <td>0</td>\n",
              "      <td>0</td>\n",
              "      <td>0</td>\n",
              "      <td>0</td>\n",
              "      <td>0</td>\n",
              "      <td>0</td>\n",
              "      <td>1</td>\n",
              "      <td>1</td>\n",
              "      <td>0</td>\n",
              "      <td>9.0</td>\n",
              "      <td>2.0</td>\n",
              "      <td>27.0</td>\n",
              "      <td>124</td>\n",
              "      <td>124</td>\n",
              "      <td>0</td>\n",
              "      <td>1</td>\n",
              "      <td>0</td>\n",
              "      <td>0</td>\n",
              "      <td>0</td>\n",
              "      <td>719.38</td>\n",
              "      <td>-0.025671</td>\n",
              "      <td>0</td>\n",
              "      <td>1</td>\n",
              "      <td>0</td>\n",
              "      <td>0</td>\n",
              "      <td>0</td>\n",
              "      <td>0</td>\n",
              "      <td>0</td>\n",
              "      <td>0</td>\n",
              "      <td>1</td>\n",
              "      <td>0</td>\n",
              "      <td>0</td>\n",
              "      <td>0</td>\n",
              "      <td>0</td>\n",
              "      <td>1</td>\n",
              "      <td>0</td>\n",
              "      <td>0</td>\n",
              "      <td>0</td>\n",
              "      <td>0</td>\n",
              "      <td>0</td>\n",
              "      <td>0</td>\n",
              "      <td>1</td>\n",
              "      <td>0</td>\n",
              "      <td>0</td>\n",
              "      <td>0</td>\n",
              "      <td>0</td>\n",
              "    </tr>\n",
              "  </tbody>\n",
              "</table>\n",
              "<p>48383 rows × 61 columns</p>\n",
              "</div>"
            ],
            "text/plain": [
              "       ID_CLIENT  POSTAL_ADDRESS_TYPE  SEX  ...  AGE_46_55 AGE_56_75 AGE_76_PLUS\n",
              "0              1                    1    1  ...          0         0           0\n",
              "1              2                    1    1  ...          0         0           0\n",
              "2              3                    1    1  ...          0         0           0\n",
              "4              5                    1    0  ...          1         0           0\n",
              "5              6                    1    0  ...          0         0           0\n",
              "...          ...                  ...  ...  ...        ...       ...         ...\n",
              "49995      49996                    1    1  ...          0         0           0\n",
              "49996      49997                    1    1  ...          0         0           0\n",
              "49997      49998                    1    0  ...          0         0           0\n",
              "49998      49999                    1    1  ...          0         0           0\n",
              "49999      50000                    1    1  ...          0         0           0\n",
              "\n",
              "[48383 rows x 61 columns]"
            ]
          },
          "metadata": {
            "tags": []
          },
          "execution_count": 215
        }
      ]
    },
    {
      "cell_type": "markdown",
      "metadata": {
        "id": "pDA_u3vUUUdv"
      },
      "source": [
        "#4 Modelling\n"
      ]
    },
    {
      "cell_type": "code",
      "metadata": {
        "colab": {
          "base_uri": "https://localhost:8080/",
          "height": 490
        },
        "id": "GLep73Epz_RG",
        "outputId": "35b5db9a-dec3-47bd-df97-e2c4ab1400ba"
      },
      "source": [
        "data_clean"
      ],
      "execution_count": null,
      "outputs": [
        {
          "output_type": "execute_result",
          "data": {
            "text/html": [
              "<div>\n",
              "<style scoped>\n",
              "    .dataframe tbody tr th:only-of-type {\n",
              "        vertical-align: middle;\n",
              "    }\n",
              "\n",
              "    .dataframe tbody tr th {\n",
              "        vertical-align: top;\n",
              "    }\n",
              "\n",
              "    .dataframe thead th {\n",
              "        text-align: right;\n",
              "    }\n",
              "</style>\n",
              "<table border=\"1\" class=\"dataframe\">\n",
              "  <thead>\n",
              "    <tr style=\"text-align: right;\">\n",
              "      <th></th>\n",
              "      <th>ID_CLIENT</th>\n",
              "      <th>POSTAL_ADDRESS_TYPE</th>\n",
              "      <th>SEX</th>\n",
              "      <th>QUANT_DEPENDANTS</th>\n",
              "      <th>STATE_OF_BIRTH</th>\n",
              "      <th>CITY_OF_BIRTH</th>\n",
              "      <th>RESIDENCIAL_STATE</th>\n",
              "      <th>RESIDENCIAL_CITY</th>\n",
              "      <th>RESIDENCIAL_BOROUGH</th>\n",
              "      <th>FLAG_RESIDENCIAL_PHONE</th>\n",
              "      <th>MONTHS_IN_RESIDENCE</th>\n",
              "      <th>FLAG_EMAIL</th>\n",
              "      <th>PERSONAL_MONTHLY_INCOME</th>\n",
              "      <th>OTHER_INCOMES</th>\n",
              "      <th>FLAG_VISA</th>\n",
              "      <th>FLAG_MASTERCARD</th>\n",
              "      <th>FLAG_DINERS</th>\n",
              "      <th>FLAG_AMERICAN_EXPRESS</th>\n",
              "      <th>FLAG_OTHER_CARDS</th>\n",
              "      <th>QUANT_BANKING_ACCOUNTS</th>\n",
              "      <th>QUANT_CARS</th>\n",
              "      <th>COMPANY</th>\n",
              "      <th>FLAG_PROFESSIONAL_PHONE</th>\n",
              "      <th>MONTHS_IN_THE_JOB</th>\n",
              "      <th>PROFESSION_CODE</th>\n",
              "      <th>OCCUPATION_TYPE</th>\n",
              "      <th>AGE</th>\n",
              "      <th>RESIDENCIAL_ZIP_3</th>\n",
              "      <th>PROFESSIONAL_ZIP_3</th>\n",
              "      <th>TARGET_LABEL</th>\n",
              "      <th>PRODUCT_1</th>\n",
              "      <th>PRODUCT_2</th>\n",
              "      <th>PRODUCT_7</th>\n",
              "      <th>FLAG_CREDIT_CARD</th>\n",
              "      <th>TOTAL_INCOME</th>\n",
              "      <th>TOTAL_INCOME_STD</th>\n",
              "      <th>RESIDENCE_TYPE_0</th>\n",
              "      <th>RESIDENCE_TYPE_1</th>\n",
              "      <th>RESIDENCE_TYPE_2</th>\n",
              "      <th>RESIDENCE_TYPE_3</th>\n",
              "      <th>RESIDENCE_TYPE_4</th>\n",
              "      <th>RESIDENCE_TYPE_5</th>\n",
              "      <th>PAYMENT_DAY_1</th>\n",
              "      <th>PAYMENT_DAY_5</th>\n",
              "      <th>PAYMENT_DAY_10</th>\n",
              "      <th>PAYMENT_DAY_15</th>\n",
              "      <th>PAYMENT_DAY_20</th>\n",
              "      <th>PAYMENT_DAY_25</th>\n",
              "      <th>MARITAL_STATUS_1</th>\n",
              "      <th>MARITAL_STATUS_2</th>\n",
              "      <th>MARITAL_STATUS_3</th>\n",
              "      <th>MARITAL_STATUS_4</th>\n",
              "      <th>MARITAL_STATUS_5</th>\n",
              "      <th>MARITAL_STATUS_6</th>\n",
              "      <th>MARITAL_STATUS_7</th>\n",
              "      <th>AGE_17_25</th>\n",
              "      <th>AGE_26_35</th>\n",
              "      <th>AGE_36_45</th>\n",
              "      <th>AGE_46_55</th>\n",
              "      <th>AGE_56_75</th>\n",
              "      <th>AGE_76_PLUS</th>\n",
              "    </tr>\n",
              "  </thead>\n",
              "  <tbody>\n",
              "    <tr>\n",
              "      <th>0</th>\n",
              "      <td>1</td>\n",
              "      <td>1</td>\n",
              "      <td>1</td>\n",
              "      <td>1</td>\n",
              "      <td>RN</td>\n",
              "      <td>Assu</td>\n",
              "      <td>RN</td>\n",
              "      <td>Santana do Matos</td>\n",
              "      <td>Centro</td>\n",
              "      <td>1</td>\n",
              "      <td>15.0</td>\n",
              "      <td>1</td>\n",
              "      <td>900.00</td>\n",
              "      <td>0.0</td>\n",
              "      <td>1</td>\n",
              "      <td>1</td>\n",
              "      <td>0</td>\n",
              "      <td>0</td>\n",
              "      <td>0</td>\n",
              "      <td>0</td>\n",
              "      <td>0</td>\n",
              "      <td>0</td>\n",
              "      <td>0</td>\n",
              "      <td>0</td>\n",
              "      <td>9.0</td>\n",
              "      <td>4.0</td>\n",
              "      <td>32.0</td>\n",
              "      <td>595</td>\n",
              "      <td>595</td>\n",
              "      <td>1</td>\n",
              "      <td>1</td>\n",
              "      <td>0</td>\n",
              "      <td>0</td>\n",
              "      <td>1</td>\n",
              "      <td>900.00</td>\n",
              "      <td>-0.002800</td>\n",
              "      <td>0</td>\n",
              "      <td>1</td>\n",
              "      <td>0</td>\n",
              "      <td>0</td>\n",
              "      <td>0</td>\n",
              "      <td>0</td>\n",
              "      <td>0</td>\n",
              "      <td>1</td>\n",
              "      <td>0</td>\n",
              "      <td>0</td>\n",
              "      <td>0</td>\n",
              "      <td>0</td>\n",
              "      <td>0</td>\n",
              "      <td>0</td>\n",
              "      <td>0</td>\n",
              "      <td>0</td>\n",
              "      <td>0</td>\n",
              "      <td>1</td>\n",
              "      <td>0</td>\n",
              "      <td>0</td>\n",
              "      <td>1</td>\n",
              "      <td>0</td>\n",
              "      <td>0</td>\n",
              "      <td>0</td>\n",
              "      <td>0</td>\n",
              "    </tr>\n",
              "    <tr>\n",
              "      <th>1</th>\n",
              "      <td>2</td>\n",
              "      <td>1</td>\n",
              "      <td>1</td>\n",
              "      <td>0</td>\n",
              "      <td>RJ</td>\n",
              "      <td>rio de janeiro</td>\n",
              "      <td>RJ</td>\n",
              "      <td>RIO DE JANEIRO</td>\n",
              "      <td>CAMPO GRANDE</td>\n",
              "      <td>1</td>\n",
              "      <td>1.0</td>\n",
              "      <td>1</td>\n",
              "      <td>750.00</td>\n",
              "      <td>0.0</td>\n",
              "      <td>0</td>\n",
              "      <td>0</td>\n",
              "      <td>0</td>\n",
              "      <td>0</td>\n",
              "      <td>0</td>\n",
              "      <td>0</td>\n",
              "      <td>0</td>\n",
              "      <td>1</td>\n",
              "      <td>0</td>\n",
              "      <td>0</td>\n",
              "      <td>11.0</td>\n",
              "      <td>4.0</td>\n",
              "      <td>34.0</td>\n",
              "      <td>230</td>\n",
              "      <td>230</td>\n",
              "      <td>1</td>\n",
              "      <td>1</td>\n",
              "      <td>0</td>\n",
              "      <td>0</td>\n",
              "      <td>0</td>\n",
              "      <td>750.00</td>\n",
              "      <td>-0.021794</td>\n",
              "      <td>0</td>\n",
              "      <td>1</td>\n",
              "      <td>0</td>\n",
              "      <td>0</td>\n",
              "      <td>0</td>\n",
              "      <td>0</td>\n",
              "      <td>0</td>\n",
              "      <td>0</td>\n",
              "      <td>0</td>\n",
              "      <td>1</td>\n",
              "      <td>0</td>\n",
              "      <td>0</td>\n",
              "      <td>0</td>\n",
              "      <td>1</td>\n",
              "      <td>0</td>\n",
              "      <td>0</td>\n",
              "      <td>0</td>\n",
              "      <td>0</td>\n",
              "      <td>0</td>\n",
              "      <td>0</td>\n",
              "      <td>1</td>\n",
              "      <td>0</td>\n",
              "      <td>0</td>\n",
              "      <td>0</td>\n",
              "      <td>0</td>\n",
              "    </tr>\n",
              "    <tr>\n",
              "      <th>2</th>\n",
              "      <td>3</td>\n",
              "      <td>1</td>\n",
              "      <td>1</td>\n",
              "      <td>0</td>\n",
              "      <td>RN</td>\n",
              "      <td>GARANHUNS</td>\n",
              "      <td>RN</td>\n",
              "      <td>Parnamirim</td>\n",
              "      <td>Boa Esperanca</td>\n",
              "      <td>1</td>\n",
              "      <td>6.0</td>\n",
              "      <td>1</td>\n",
              "      <td>500.00</td>\n",
              "      <td>0.0</td>\n",
              "      <td>0</td>\n",
              "      <td>0</td>\n",
              "      <td>0</td>\n",
              "      <td>0</td>\n",
              "      <td>0</td>\n",
              "      <td>0</td>\n",
              "      <td>0</td>\n",
              "      <td>0</td>\n",
              "      <td>0</td>\n",
              "      <td>0</td>\n",
              "      <td>11.0</td>\n",
              "      <td>NaN</td>\n",
              "      <td>27.0</td>\n",
              "      <td>591</td>\n",
              "      <td>591</td>\n",
              "      <td>0</td>\n",
              "      <td>1</td>\n",
              "      <td>0</td>\n",
              "      <td>0</td>\n",
              "      <td>0</td>\n",
              "      <td>500.00</td>\n",
              "      <td>-0.053450</td>\n",
              "      <td>0</td>\n",
              "      <td>1</td>\n",
              "      <td>0</td>\n",
              "      <td>0</td>\n",
              "      <td>0</td>\n",
              "      <td>0</td>\n",
              "      <td>0</td>\n",
              "      <td>1</td>\n",
              "      <td>0</td>\n",
              "      <td>0</td>\n",
              "      <td>0</td>\n",
              "      <td>0</td>\n",
              "      <td>0</td>\n",
              "      <td>1</td>\n",
              "      <td>0</td>\n",
              "      <td>0</td>\n",
              "      <td>0</td>\n",
              "      <td>0</td>\n",
              "      <td>0</td>\n",
              "      <td>0</td>\n",
              "      <td>1</td>\n",
              "      <td>0</td>\n",
              "      <td>0</td>\n",
              "      <td>0</td>\n",
              "      <td>0</td>\n",
              "    </tr>\n",
              "    <tr>\n",
              "      <th>4</th>\n",
              "      <td>5</td>\n",
              "      <td>1</td>\n",
              "      <td>0</td>\n",
              "      <td>0</td>\n",
              "      <td>RJ</td>\n",
              "      <td>RIO DE JANEIRO</td>\n",
              "      <td>RJ</td>\n",
              "      <td>Rio de Janeiro</td>\n",
              "      <td>Santa Cruz</td>\n",
              "      <td>1</td>\n",
              "      <td>12.0</td>\n",
              "      <td>1</td>\n",
              "      <td>1200.00</td>\n",
              "      <td>0.0</td>\n",
              "      <td>0</td>\n",
              "      <td>0</td>\n",
              "      <td>0</td>\n",
              "      <td>0</td>\n",
              "      <td>0</td>\n",
              "      <td>0</td>\n",
              "      <td>0</td>\n",
              "      <td>0</td>\n",
              "      <td>0</td>\n",
              "      <td>0</td>\n",
              "      <td>9.0</td>\n",
              "      <td>5.0</td>\n",
              "      <td>48.0</td>\n",
              "      <td>235</td>\n",
              "      <td>235</td>\n",
              "      <td>1</td>\n",
              "      <td>1</td>\n",
              "      <td>0</td>\n",
              "      <td>0</td>\n",
              "      <td>0</td>\n",
              "      <td>1200.00</td>\n",
              "      <td>0.035187</td>\n",
              "      <td>0</td>\n",
              "      <td>1</td>\n",
              "      <td>0</td>\n",
              "      <td>0</td>\n",
              "      <td>0</td>\n",
              "      <td>0</td>\n",
              "      <td>0</td>\n",
              "      <td>0</td>\n",
              "      <td>1</td>\n",
              "      <td>0</td>\n",
              "      <td>0</td>\n",
              "      <td>0</td>\n",
              "      <td>0</td>\n",
              "      <td>1</td>\n",
              "      <td>0</td>\n",
              "      <td>0</td>\n",
              "      <td>0</td>\n",
              "      <td>0</td>\n",
              "      <td>0</td>\n",
              "      <td>0</td>\n",
              "      <td>0</td>\n",
              "      <td>0</td>\n",
              "      <td>1</td>\n",
              "      <td>0</td>\n",
              "      <td>0</td>\n",
              "    </tr>\n",
              "    <tr>\n",
              "      <th>5</th>\n",
              "      <td>6</td>\n",
              "      <td>1</td>\n",
              "      <td>0</td>\n",
              "      <td>0</td>\n",
              "      <td>MG</td>\n",
              "      <td>CARMO DO RIO CLARO</td>\n",
              "      <td>MG</td>\n",
              "      <td>ALFENAS</td>\n",
              "      <td>Campos Eliseos</td>\n",
              "      <td>1</td>\n",
              "      <td>4.0</td>\n",
              "      <td>1</td>\n",
              "      <td>500.00</td>\n",
              "      <td>0.0</td>\n",
              "      <td>0</td>\n",
              "      <td>0</td>\n",
              "      <td>0</td>\n",
              "      <td>0</td>\n",
              "      <td>0</td>\n",
              "      <td>1</td>\n",
              "      <td>1</td>\n",
              "      <td>1</td>\n",
              "      <td>0</td>\n",
              "      <td>0</td>\n",
              "      <td>9.0</td>\n",
              "      <td>2.0</td>\n",
              "      <td>40.0</td>\n",
              "      <td>371</td>\n",
              "      <td>371</td>\n",
              "      <td>1</td>\n",
              "      <td>0</td>\n",
              "      <td>1</td>\n",
              "      <td>0</td>\n",
              "      <td>0</td>\n",
              "      <td>500.00</td>\n",
              "      <td>-0.053450</td>\n",
              "      <td>0</td>\n",
              "      <td>1</td>\n",
              "      <td>0</td>\n",
              "      <td>0</td>\n",
              "      <td>0</td>\n",
              "      <td>0</td>\n",
              "      <td>0</td>\n",
              "      <td>0</td>\n",
              "      <td>1</td>\n",
              "      <td>0</td>\n",
              "      <td>0</td>\n",
              "      <td>0</td>\n",
              "      <td>0</td>\n",
              "      <td>1</td>\n",
              "      <td>0</td>\n",
              "      <td>0</td>\n",
              "      <td>0</td>\n",
              "      <td>0</td>\n",
              "      <td>0</td>\n",
              "      <td>0</td>\n",
              "      <td>0</td>\n",
              "      <td>1</td>\n",
              "      <td>0</td>\n",
              "      <td>0</td>\n",
              "      <td>0</td>\n",
              "    </tr>\n",
              "    <tr>\n",
              "      <th>...</th>\n",
              "      <td>...</td>\n",
              "      <td>...</td>\n",
              "      <td>...</td>\n",
              "      <td>...</td>\n",
              "      <td>...</td>\n",
              "      <td>...</td>\n",
              "      <td>...</td>\n",
              "      <td>...</td>\n",
              "      <td>...</td>\n",
              "      <td>...</td>\n",
              "      <td>...</td>\n",
              "      <td>...</td>\n",
              "      <td>...</td>\n",
              "      <td>...</td>\n",
              "      <td>...</td>\n",
              "      <td>...</td>\n",
              "      <td>...</td>\n",
              "      <td>...</td>\n",
              "      <td>...</td>\n",
              "      <td>...</td>\n",
              "      <td>...</td>\n",
              "      <td>...</td>\n",
              "      <td>...</td>\n",
              "      <td>...</td>\n",
              "      <td>...</td>\n",
              "      <td>...</td>\n",
              "      <td>...</td>\n",
              "      <td>...</td>\n",
              "      <td>...</td>\n",
              "      <td>...</td>\n",
              "      <td>...</td>\n",
              "      <td>...</td>\n",
              "      <td>...</td>\n",
              "      <td>...</td>\n",
              "      <td>...</td>\n",
              "      <td>...</td>\n",
              "      <td>...</td>\n",
              "      <td>...</td>\n",
              "      <td>...</td>\n",
              "      <td>...</td>\n",
              "      <td>...</td>\n",
              "      <td>...</td>\n",
              "      <td>...</td>\n",
              "      <td>...</td>\n",
              "      <td>...</td>\n",
              "      <td>...</td>\n",
              "      <td>...</td>\n",
              "      <td>...</td>\n",
              "      <td>...</td>\n",
              "      <td>...</td>\n",
              "      <td>...</td>\n",
              "      <td>...</td>\n",
              "      <td>...</td>\n",
              "      <td>...</td>\n",
              "      <td>...</td>\n",
              "      <td>...</td>\n",
              "      <td>...</td>\n",
              "      <td>...</td>\n",
              "      <td>...</td>\n",
              "      <td>...</td>\n",
              "      <td>...</td>\n",
              "    </tr>\n",
              "    <tr>\n",
              "      <th>49995</th>\n",
              "      <td>49996</td>\n",
              "      <td>1</td>\n",
              "      <td>1</td>\n",
              "      <td>2</td>\n",
              "      <td>RN</td>\n",
              "      <td>NATAL</td>\n",
              "      <td>RN</td>\n",
              "      <td>NATAL</td>\n",
              "      <td>PAJUCARA</td>\n",
              "      <td>1</td>\n",
              "      <td>14.0</td>\n",
              "      <td>1</td>\n",
              "      <td>1451.00</td>\n",
              "      <td>0.0</td>\n",
              "      <td>0</td>\n",
              "      <td>0</td>\n",
              "      <td>0</td>\n",
              "      <td>0</td>\n",
              "      <td>0</td>\n",
              "      <td>1</td>\n",
              "      <td>1</td>\n",
              "      <td>0</td>\n",
              "      <td>0</td>\n",
              "      <td>0</td>\n",
              "      <td>9.0</td>\n",
              "      <td>4.0</td>\n",
              "      <td>36.0</td>\n",
              "      <td>591</td>\n",
              "      <td>591</td>\n",
              "      <td>1</td>\n",
              "      <td>1</td>\n",
              "      <td>0</td>\n",
              "      <td>0</td>\n",
              "      <td>0</td>\n",
              "      <td>1451.00</td>\n",
              "      <td>0.066970</td>\n",
              "      <td>0</td>\n",
              "      <td>1</td>\n",
              "      <td>0</td>\n",
              "      <td>0</td>\n",
              "      <td>0</td>\n",
              "      <td>0</td>\n",
              "      <td>0</td>\n",
              "      <td>0</td>\n",
              "      <td>1</td>\n",
              "      <td>0</td>\n",
              "      <td>0</td>\n",
              "      <td>0</td>\n",
              "      <td>1</td>\n",
              "      <td>0</td>\n",
              "      <td>0</td>\n",
              "      <td>0</td>\n",
              "      <td>0</td>\n",
              "      <td>0</td>\n",
              "      <td>0</td>\n",
              "      <td>0</td>\n",
              "      <td>0</td>\n",
              "      <td>1</td>\n",
              "      <td>0</td>\n",
              "      <td>0</td>\n",
              "      <td>0</td>\n",
              "    </tr>\n",
              "    <tr>\n",
              "      <th>49996</th>\n",
              "      <td>49997</td>\n",
              "      <td>1</td>\n",
              "      <td>1</td>\n",
              "      <td>0</td>\n",
              "      <td>SP</td>\n",
              "      <td>LENCOIS PAULISTA</td>\n",
              "      <td>SP</td>\n",
              "      <td>Lencois Paulista</td>\n",
              "      <td>Nucleo Habitacional Joao Zillo</td>\n",
              "      <td>1</td>\n",
              "      <td>15.0</td>\n",
              "      <td>1</td>\n",
              "      <td>450.00</td>\n",
              "      <td>0.0</td>\n",
              "      <td>0</td>\n",
              "      <td>0</td>\n",
              "      <td>0</td>\n",
              "      <td>0</td>\n",
              "      <td>0</td>\n",
              "      <td>0</td>\n",
              "      <td>0</td>\n",
              "      <td>0</td>\n",
              "      <td>0</td>\n",
              "      <td>0</td>\n",
              "      <td>NaN</td>\n",
              "      <td>NaN</td>\n",
              "      <td>21.0</td>\n",
              "      <td>186</td>\n",
              "      <td>186</td>\n",
              "      <td>0</td>\n",
              "      <td>0</td>\n",
              "      <td>1</td>\n",
              "      <td>0</td>\n",
              "      <td>0</td>\n",
              "      <td>450.00</td>\n",
              "      <td>-0.059781</td>\n",
              "      <td>0</td>\n",
              "      <td>1</td>\n",
              "      <td>0</td>\n",
              "      <td>0</td>\n",
              "      <td>0</td>\n",
              "      <td>0</td>\n",
              "      <td>0</td>\n",
              "      <td>0</td>\n",
              "      <td>0</td>\n",
              "      <td>0</td>\n",
              "      <td>0</td>\n",
              "      <td>1</td>\n",
              "      <td>1</td>\n",
              "      <td>0</td>\n",
              "      <td>0</td>\n",
              "      <td>0</td>\n",
              "      <td>0</td>\n",
              "      <td>0</td>\n",
              "      <td>0</td>\n",
              "      <td>1</td>\n",
              "      <td>0</td>\n",
              "      <td>0</td>\n",
              "      <td>0</td>\n",
              "      <td>0</td>\n",
              "      <td>0</td>\n",
              "    </tr>\n",
              "    <tr>\n",
              "      <th>49997</th>\n",
              "      <td>49998</td>\n",
              "      <td>1</td>\n",
              "      <td>0</td>\n",
              "      <td>3</td>\n",
              "      <td>PR</td>\n",
              "      <td>RIO BONITO</td>\n",
              "      <td>SP</td>\n",
              "      <td>GUARULHOS</td>\n",
              "      <td>jardim vida nova</td>\n",
              "      <td>1</td>\n",
              "      <td>5.0</td>\n",
              "      <td>1</td>\n",
              "      <td>1555.00</td>\n",
              "      <td>0.0</td>\n",
              "      <td>0</td>\n",
              "      <td>0</td>\n",
              "      <td>0</td>\n",
              "      <td>0</td>\n",
              "      <td>0</td>\n",
              "      <td>0</td>\n",
              "      <td>0</td>\n",
              "      <td>1</td>\n",
              "      <td>1</td>\n",
              "      <td>0</td>\n",
              "      <td>9.0</td>\n",
              "      <td>2.0</td>\n",
              "      <td>41.0</td>\n",
              "      <td>715</td>\n",
              "      <td>715</td>\n",
              "      <td>0</td>\n",
              "      <td>1</td>\n",
              "      <td>0</td>\n",
              "      <td>0</td>\n",
              "      <td>0</td>\n",
              "      <td>1555.00</td>\n",
              "      <td>0.080139</td>\n",
              "      <td>0</td>\n",
              "      <td>0</td>\n",
              "      <td>1</td>\n",
              "      <td>0</td>\n",
              "      <td>0</td>\n",
              "      <td>0</td>\n",
              "      <td>0</td>\n",
              "      <td>1</td>\n",
              "      <td>0</td>\n",
              "      <td>0</td>\n",
              "      <td>0</td>\n",
              "      <td>0</td>\n",
              "      <td>0</td>\n",
              "      <td>1</td>\n",
              "      <td>0</td>\n",
              "      <td>0</td>\n",
              "      <td>0</td>\n",
              "      <td>0</td>\n",
              "      <td>0</td>\n",
              "      <td>0</td>\n",
              "      <td>0</td>\n",
              "      <td>1</td>\n",
              "      <td>0</td>\n",
              "      <td>0</td>\n",
              "      <td>0</td>\n",
              "    </tr>\n",
              "    <tr>\n",
              "      <th>49998</th>\n",
              "      <td>49999</td>\n",
              "      <td>1</td>\n",
              "      <td>1</td>\n",
              "      <td>1</td>\n",
              "      <td>SP</td>\n",
              "      <td>SAO PAULO</td>\n",
              "      <td>MG</td>\n",
              "      <td>CONTAGEM</td>\n",
              "      <td>VILA BELEM</td>\n",
              "      <td>1</td>\n",
              "      <td>6.0</td>\n",
              "      <td>1</td>\n",
              "      <td>1443.27</td>\n",
              "      <td>0.0</td>\n",
              "      <td>0</td>\n",
              "      <td>0</td>\n",
              "      <td>0</td>\n",
              "      <td>0</td>\n",
              "      <td>0</td>\n",
              "      <td>0</td>\n",
              "      <td>0</td>\n",
              "      <td>1</td>\n",
              "      <td>1</td>\n",
              "      <td>0</td>\n",
              "      <td>9.0</td>\n",
              "      <td>2.0</td>\n",
              "      <td>28.0</td>\n",
              "      <td>320</td>\n",
              "      <td>320</td>\n",
              "      <td>1</td>\n",
              "      <td>1</td>\n",
              "      <td>0</td>\n",
              "      <td>0</td>\n",
              "      <td>0</td>\n",
              "      <td>1443.27</td>\n",
              "      <td>0.065991</td>\n",
              "      <td>0</td>\n",
              "      <td>1</td>\n",
              "      <td>0</td>\n",
              "      <td>0</td>\n",
              "      <td>0</td>\n",
              "      <td>0</td>\n",
              "      <td>1</td>\n",
              "      <td>0</td>\n",
              "      <td>0</td>\n",
              "      <td>0</td>\n",
              "      <td>0</td>\n",
              "      <td>0</td>\n",
              "      <td>1</td>\n",
              "      <td>0</td>\n",
              "      <td>0</td>\n",
              "      <td>0</td>\n",
              "      <td>0</td>\n",
              "      <td>0</td>\n",
              "      <td>0</td>\n",
              "      <td>0</td>\n",
              "      <td>1</td>\n",
              "      <td>0</td>\n",
              "      <td>0</td>\n",
              "      <td>0</td>\n",
              "      <td>0</td>\n",
              "    </tr>\n",
              "    <tr>\n",
              "      <th>49999</th>\n",
              "      <td>50000</td>\n",
              "      <td>1</td>\n",
              "      <td>1</td>\n",
              "      <td>2</td>\n",
              "      <td>SP</td>\n",
              "      <td>PINDABA</td>\n",
              "      <td>SP</td>\n",
              "      <td>Pindamonhangaba</td>\n",
              "      <td>Feital</td>\n",
              "      <td>0</td>\n",
              "      <td>9.0</td>\n",
              "      <td>1</td>\n",
              "      <td>719.38</td>\n",
              "      <td>0.0</td>\n",
              "      <td>0</td>\n",
              "      <td>0</td>\n",
              "      <td>0</td>\n",
              "      <td>0</td>\n",
              "      <td>0</td>\n",
              "      <td>0</td>\n",
              "      <td>0</td>\n",
              "      <td>1</td>\n",
              "      <td>1</td>\n",
              "      <td>0</td>\n",
              "      <td>9.0</td>\n",
              "      <td>2.0</td>\n",
              "      <td>27.0</td>\n",
              "      <td>124</td>\n",
              "      <td>124</td>\n",
              "      <td>0</td>\n",
              "      <td>1</td>\n",
              "      <td>0</td>\n",
              "      <td>0</td>\n",
              "      <td>0</td>\n",
              "      <td>719.38</td>\n",
              "      <td>-0.025671</td>\n",
              "      <td>0</td>\n",
              "      <td>1</td>\n",
              "      <td>0</td>\n",
              "      <td>0</td>\n",
              "      <td>0</td>\n",
              "      <td>0</td>\n",
              "      <td>0</td>\n",
              "      <td>0</td>\n",
              "      <td>1</td>\n",
              "      <td>0</td>\n",
              "      <td>0</td>\n",
              "      <td>0</td>\n",
              "      <td>0</td>\n",
              "      <td>1</td>\n",
              "      <td>0</td>\n",
              "      <td>0</td>\n",
              "      <td>0</td>\n",
              "      <td>0</td>\n",
              "      <td>0</td>\n",
              "      <td>0</td>\n",
              "      <td>1</td>\n",
              "      <td>0</td>\n",
              "      <td>0</td>\n",
              "      <td>0</td>\n",
              "      <td>0</td>\n",
              "    </tr>\n",
              "  </tbody>\n",
              "</table>\n",
              "<p>48383 rows × 61 columns</p>\n",
              "</div>"
            ],
            "text/plain": [
              "       ID_CLIENT  POSTAL_ADDRESS_TYPE  SEX  ...  AGE_46_55 AGE_56_75 AGE_76_PLUS\n",
              "0              1                    1    1  ...          0         0           0\n",
              "1              2                    1    1  ...          0         0           0\n",
              "2              3                    1    1  ...          0         0           0\n",
              "4              5                    1    0  ...          1         0           0\n",
              "5              6                    1    0  ...          0         0           0\n",
              "...          ...                  ...  ...  ...        ...       ...         ...\n",
              "49995      49996                    1    1  ...          0         0           0\n",
              "49996      49997                    1    1  ...          0         0           0\n",
              "49997      49998                    1    0  ...          0         0           0\n",
              "49998      49999                    1    1  ...          0         0           0\n",
              "49999      50000                    1    1  ...          0         0           0\n",
              "\n",
              "[48383 rows x 61 columns]"
            ]
          },
          "metadata": {
            "tags": []
          },
          "execution_count": 217
        }
      ]
    },
    {
      "cell_type": "markdown",
      "metadata": {
        "id": "1dcwfZvH1CkA"
      },
      "source": [
        "Since we were thinking about the stability of the model in case of discrimination, we would check that the level of default is more or less the same among all groups:\n",
        "-Age -Sex -Marital status"
      ]
    },
    {
      "cell_type": "code",
      "metadata": {
        "colab": {
          "base_uri": "https://localhost:8080/",
          "height": 309
        },
        "id": "p0N-8aaD1E5-",
        "outputId": "d00fb3a3-9f36-41a0-a5de-23c2b3966698"
      },
      "source": [
        "df_sex = pd.crosstab(data_clean['SEX'], data_clean['TARGET_LABEL'], normalize='index').mul(100)\n",
        "df_sex.plot(kind=\"bar\", title=\"test\")\n",
        "plt.ylabel(\"Share of default\")\n",
        "plt.xlabel(\"Sex\")"
      ],
      "execution_count": null,
      "outputs": [
        {
          "output_type": "execute_result",
          "data": {
            "text/plain": [
              "Text(0.5, 0, 'Sex')"
            ]
          },
          "metadata": {
            "tags": []
          },
          "execution_count": 128
        },
        {
          "output_type": "display_data",
          "data": {
            "image/png": "[encoded data removed]",
            "text/plain": [
              "<Figure size 432x288 with 1 Axes>"
            ]
          },
          "metadata": {
            "tags": [],
            "needs_background": "light"
          }
        }
      ]
    },
    {
      "cell_type": "code",
      "metadata": {
        "id": "YRhyxPRC1JB7"
      },
      "source": [
        "#i'm not sure we know what all these labes mean\n",
        "data_clean.plot(x=\"MARITAL_STATUS_1\", y=\"TARGET_LABEL\", kind=\"bar\",figsize=(9,8))\n",
        "data_clean.plot(x=\"MARITAL_STATUS_2\", y=\"TARGET_LABEL\", kind=\"bar\",figsize=(9,8))\n",
        "data_clean.plot(x=\"MARITAL_STATUS_3\", y=\"TARGET_LABEL\", kind=\"bar\",figsize=(9,8))\n",
        "data_clean.plot(x=\"MARITAL_STATUS_4\", y=\"TARGET_LABEL\", kind=\"bar\",figsize=(9,8))\n",
        "data_clean.plot(x=\"MARITAL_STATUS_5\", y=\"TARGET_LABEL\", kind=\"bar\",figsize=(9,8))\n",
        "data_clean.plot(x=\"MARITAL_STATUS_6\", y=\"TARGET_LABEL\", kind=\"bar\",figsize=(9,8))\n",
        "data_clean.plot(x=\"MARITAL_STATUS_7\", y=\"TARGET_LABEL\", kind=\"bar\",figsize=(9,8))\n",
        "plt.show()\n",
        "plt.ylabel(\"Share of default\")\n",
        "plt.xlabel(\"Marital status\")"
      ],
      "execution_count": null,
      "outputs": []
    },
    {
      "cell_type": "code",
      "metadata": {
        "id": "QSCgY2hT4hrF"
      },
      "source": [
        "#i'm not sure we know what all these labes mean\n",
        "data_clean.plot(x=\"AGE_17_25\", y=\"TARGET_LABEL\", kind=\"bar\",figsize=(9,8))\n",
        "data_clean.plot(x=\"AGE_26_35\", y=\"TARGET_LABEL\", kind=\"bar\",figsize=(9,8))\n",
        "data_clean.plot(x=\"AGE_36_45\", y=\"TARGET_LABEL\", kind=\"bar\",figsize=(9,8))\n",
        "data_clean.plot(x=\"AGE_46_55\", y=\"TARGET_LABEL\", kind=\"bar\",figsize=(9,8))\n",
        "data_clean.plot(x=\"AGE_56_75\", y=\"TARGET_LABEL\", kind=\"bar\",figsize=(9,8))\n",
        "data_clean.plot(x=\"AGE_76_PLUS\", y=\"TARGET_LABEL\", kind=\"bar\",figsize=(9,8))\n",
        "plt.show()\n",
        "plt.ylabel(\"Share of default\")\n",
        "plt.xlabel(\"Age\")"
      ],
      "execution_count": null,
      "outputs": []
    },
    {
      "cell_type": "code",
      "metadata": {
        "id": "uN27dXQp6MYu"
      },
      "source": [
        "data_clean.columns"
      ],
      "execution_count": null,
      "outputs": []
    },
    {
      "cell_type": "code",
      "metadata": {
        "id": "fhIwvEjJ4TXk"
      },
      "source": [
        "from sklearn.linear_model import LinearRegression\n",
        "from sklearn.linear_model import LogisticRegression, LogisticRegressionCV\n",
        "from sklearn.neighbors import KNeighborsClassifier\n",
        "from sklearn.model_selection import train_test_split\n",
        "from sklearn.model_selection import cross_val_score"
      ],
      "execution_count": null,
      "outputs": []
    },
    {
      "cell_type": "code",
      "metadata": {
        "id": "btqQLKNW3eqZ"
      },
      "source": [
        "\n",
        "X=data_clean[['MONTHS_IN_RESIDENCE', 'TOTAL_INCOME_STD', 'OTHER_INCOMES',\n",
        "                      'QUANT_CARS', 'COMPANY', 'FLAG_PROFESSIONAL_PHONE', 'PRODUCT_1', 'PRODUCT_2',\n",
        "        'PRODUCT_7', 'FLAG_CREDIT_CARD']]\n",
        "y=data_clean[['TARGET_LABEL']]"
      ],
      "execution_count": null,
      "outputs": []
    },
    {
      "cell_type": "code",
      "metadata": {
        "colab": {
          "base_uri": "https://localhost:8080/"
        },
        "id": "LoMbbk9t9tBc",
        "outputId": "7c0b9ea5-fe74-44ad-f74d-c530ab59db33"
      },
      "source": [
        "X.dtypes"
      ],
      "execution_count": null,
      "outputs": [
        {
          "output_type": "execute_result",
          "data": {
            "text/plain": [
              "MONTHS_IN_RESIDENCE        float64\n",
              "TOTAL_INCOME_STD           float64\n",
              "OTHER_INCOMES              float64\n",
              "QUANT_CARS                   int64\n",
              "COMPANY                      int64\n",
              "FLAG_PROFESSIONAL_PHONE      int64\n",
              "PRODUCT_1                    int64\n",
              "PRODUCT_2                    int64\n",
              "PRODUCT_7                    int64\n",
              "FLAG_CREDIT_CARD             int64\n",
              "dtype: object"
            ]
          },
          "metadata": {
            "tags": []
          },
          "execution_count": 220
        }
      ]
    },
    {
      "cell_type": "code",
      "metadata": {
        "id": "lzdXGbfe9J5W"
      },
      "source": [
        "X_train, X_test, y_train, y_test = train_test_split(X,y, test_size=0.3,random_state=1)"
      ],
      "execution_count": null,
      "outputs": []
    },
    {
      "cell_type": "code",
      "metadata": {
        "colab": {
          "base_uri": "https://localhost:8080/"
        },
        "id": "6C2Wr4bW9LCb",
        "outputId": "4ac18495-25ce-4155-86ad-593852b5c375"
      },
      "source": [
        "X.isnull().sum()"
      ],
      "execution_count": null,
      "outputs": [
        {
          "output_type": "execute_result",
          "data": {
            "text/plain": [
              "MONTHS_IN_RESIDENCE        0\n",
              "TOTAL_INCOME_STD           0\n",
              "OTHER_INCOMES              0\n",
              "QUANT_CARS                 0\n",
              "COMPANY                    0\n",
              "FLAG_PROFESSIONAL_PHONE    0\n",
              "PRODUCT_1                  0\n",
              "PRODUCT_2                  0\n",
              "PRODUCT_7                  0\n",
              "FLAG_CREDIT_CARD           0\n",
              "dtype: int64"
            ]
          },
          "metadata": {
            "tags": []
          },
          "execution_count": 222
        }
      ]
    },
    {
      "cell_type": "code",
      "metadata": {
        "colab": {
          "base_uri": "https://localhost:8080/",
          "height": 297
        },
        "id": "gzGxmrOL9LP9",
        "outputId": "bdc40b51-e9de-4178-c48c-006442236c1c"
      },
      "source": [
        "y.describe()"
      ],
      "execution_count": null,
      "outputs": [
        {
          "output_type": "execute_result",
          "data": {
            "text/html": [
              "<div>\n",
              "<style scoped>\n",
              "    .dataframe tbody tr th:only-of-type {\n",
              "        vertical-align: middle;\n",
              "    }\n",
              "\n",
              "    .dataframe tbody tr th {\n",
              "        vertical-align: top;\n",
              "    }\n",
              "\n",
              "    .dataframe thead th {\n",
              "        text-align: right;\n",
              "    }\n",
              "</style>\n",
              "<table border=\"1\" class=\"dataframe\">\n",
              "  <thead>\n",
              "    <tr style=\"text-align: right;\">\n",
              "      <th></th>\n",
              "      <th>TARGET_LABEL</th>\n",
              "    </tr>\n",
              "  </thead>\n",
              "  <tbody>\n",
              "    <tr>\n",
              "      <th>count</th>\n",
              "      <td>48383.000000</td>\n",
              "    </tr>\n",
              "    <tr>\n",
              "      <th>mean</th>\n",
              "      <td>0.260939</td>\n",
              "    </tr>\n",
              "    <tr>\n",
              "      <th>std</th>\n",
              "      <td>0.439151</td>\n",
              "    </tr>\n",
              "    <tr>\n",
              "      <th>min</th>\n",
              "      <td>0.000000</td>\n",
              "    </tr>\n",
              "    <tr>\n",
              "      <th>25%</th>\n",
              "      <td>0.000000</td>\n",
              "    </tr>\n",
              "    <tr>\n",
              "      <th>50%</th>\n",
              "      <td>0.000000</td>\n",
              "    </tr>\n",
              "    <tr>\n",
              "      <th>75%</th>\n",
              "      <td>1.000000</td>\n",
              "    </tr>\n",
              "    <tr>\n",
              "      <th>max</th>\n",
              "      <td>1.000000</td>\n",
              "    </tr>\n",
              "  </tbody>\n",
              "</table>\n",
              "</div>"
            ],
            "text/plain": [
              "       TARGET_LABEL\n",
              "count  48383.000000\n",
              "mean       0.260939\n",
              "std        0.439151\n",
              "min        0.000000\n",
              "25%        0.000000\n",
              "50%        0.000000\n",
              "75%        1.000000\n",
              "max        1.000000"
            ]
          },
          "metadata": {
            "tags": []
          },
          "execution_count": 223
        }
      ]
    },
    {
      "cell_type": "code",
      "metadata": {
        "id": "aBuUhnPT_m_U"
      },
      "source": [
        ""
      ],
      "execution_count": null,
      "outputs": []
    },
    {
      "cell_type": "markdown",
      "metadata": {
        "id": "iCTa6VbBUv1p"
      },
      "source": [
        "## Logistic Regression\n"
      ]
    },
    {
      "cell_type": "code",
      "metadata": {
        "id": "y-jDYtUe9Q7p",
        "colab": {
          "base_uri": "https://localhost:8080/"
        },
        "outputId": "f53888bc-bde2-4667-bec0-2f3ee5a0603d"
      },
      "source": [
        "################################Logistic Regression###########################\n",
        "from sklearn.linear_model import LogisticRegression\n",
        "from sklearn.model_selection import train_test_split, cross_val_score, GridSearchCV\n",
        "import matplotlib.pylab as plt\n",
        "from dmba import classificationSummary, regressionSummary\n",
        "from dmba import  gainsChart, liftChart"
      ],
      "execution_count": null,
      "outputs": [
        {
          "output_type": "stream",
          "text": [
            "no display found. Using non-interactive Agg backend\n"
          ],
          "name": "stdout"
        }
      ]
    },
    {
      "cell_type": "code",
      "metadata": {
        "id": "rFYWBhpz9Tc-",
        "colab": {
          "base_uri": "https://localhost:8080/"
        },
        "outputId": "ba0e0a0c-f1a8-41ef-8590-73acee583821"
      },
      "source": [
        "pip install dmba"
      ],
      "execution_count": null,
      "outputs": [
        {
          "output_type": "stream",
          "text": [
            "Collecting dmba\n",
            "\u001b[?25l  Downloading https://files.pythonhosted.org/packages/75/06/15c89846de47be5f3522ef0bebd61c62e14afe167877778094a335df5fe4/dmba-0.0.18-py3-none-any.whl (11.8MB)\n",
            "\u001b[K     |████████████████████████████████| 11.8MB 241kB/s \n",
            "\u001b[?25hInstalling collected packages: dmba\n",
            "Successfully installed dmba-0.0.18\n"
          ],
          "name": "stdout"
        }
      ]
    },
    {
      "cell_type": "code",
      "metadata": {
        "id": "y63l8IYr9dA8"
      },
      "source": [
        "c_space = np.logspace(-5, 8, 15)\n",
        "param_grid = {'C': c_space,'penalty': ['l1', 'l2']}\n",
        "logreg = LogisticRegression(solver='liblinear')\n",
        "logreg_cv = GridSearchCV(logreg,param_grid, cv=5)"
      ],
      "execution_count": null,
      "outputs": []
    },
    {
      "cell_type": "code",
      "metadata": {
        "colab": {
          "base_uri": "https://localhost:8080/"
        },
        "id": "Zm1U1l6e9kjx",
        "outputId": "2fc48bbd-706e-41a5-886a-4dbeae479ef7"
      },
      "source": [
        "logreg_cv.fit(X_train,y_train.values.ravel())"
      ],
      "execution_count": null,
      "outputs": [
        {
          "output_type": "execute_result",
          "data": {
            "text/plain": [
              "GridSearchCV(cv=5, error_score=nan,\n",
              "             estimator=LogisticRegression(C=1.0, class_weight=None, dual=False,\n",
              "                                          fit_intercept=True,\n",
              "                                          intercept_scaling=1, l1_ratio=None,\n",
              "                                          max_iter=100, multi_class='auto',\n",
              "                                          n_jobs=None, penalty='l2',\n",
              "                                          random_state=None, solver='liblinear',\n",
              "                                          tol=0.0001, verbose=0,\n",
              "                                          warm_start=False),\n",
              "             iid='deprecated', n_jobs=None,\n",
              "             param_grid={'C': array([1.00000000e-05, 8.48342898e-05, 7.19685673e-04, 6.10540230e-03,\n",
              "       5.17947468e-02, 4.39397056e-01, 3.72759372e+00, 3.16227766e+01,\n",
              "       2.68269580e+02, 2.27584593e+03, 1.93069773e+04, 1.63789371e+05,\n",
              "       1.38949549e+06, 1.17876863e+07, 1.00000000e+08]),\n",
              "                         'penalty': ['l1', 'l2']},\n",
              "             pre_dispatch='2*n_jobs', refit=True, return_train_score=False,\n",
              "             scoring=None, verbose=0)"
            ]
          },
          "metadata": {
            "tags": []
          },
          "execution_count": 228
        }
      ]
    },
    {
      "cell_type": "code",
      "metadata": {
        "colab": {
          "base_uri": "https://localhost:8080/"
        },
        "id": "ZU181OW-_ty_",
        "outputId": "770db3be-5f26-400d-ae29-64dab99c4476"
      },
      "source": [
        "\n",
        "print(\"Tuned Logistic Regression Parameters: {}\".format(logreg_cv.best_params_)) \n",
        "print(\"Best score is {}\".format(logreg_cv.best_score_))"
      ],
      "execution_count": null,
      "outputs": [
        {
          "output_type": "stream",
          "text": [
            "Tuned Logistic Regression Parameters: {'C': 1e-05, 'penalty': 'l1'}\n",
            "Best score is 0.7376579648494903\n"
          ],
          "name": "stdout"
        }
      ]
    },
    {
      "cell_type": "code",
      "metadata": {
        "colab": {
          "base_uri": "https://localhost:8080/"
        },
        "id": "otSKCqQp_02i",
        "outputId": "859664ff-dc06-4b6a-b459-3c9457a7c4aa"
      },
      "source": [
        "logreg = LogisticRegression(penalty=\"l2\", C=7.1e-04) ## Changed L1 to L2\n",
        "logreg.fit(X_train, y_train.values.ravel())"
      ],
      "execution_count": null,
      "outputs": [
        {
          "output_type": "execute_result",
          "data": {
            "text/plain": [
              "LogisticRegression(C=0.00071, class_weight=None, dual=False, fit_intercept=True,\n",
              "                   intercept_scaling=1, l1_ratio=None, max_iter=100,\n",
              "                   multi_class='auto', n_jobs=None, penalty='l2',\n",
              "                   random_state=None, solver='lbfgs', tol=0.0001, verbose=0,\n",
              "                   warm_start=False)"
            ]
          },
          "metadata": {
            "tags": []
          },
          "execution_count": 230
        }
      ]
    },
    {
      "cell_type": "code",
      "metadata": {
        "id": "lGvob3fwAAvd"
      },
      "source": [
        "logreg_pred_train=logreg.predict_proba(X_train)"
      ],
      "execution_count": null,
      "outputs": []
    },
    {
      "cell_type": "code",
      "metadata": {
        "id": "Exq7noRlABhH"
      },
      "source": [
        "y_train=y_train.values.flatten()"
      ],
      "execution_count": null,
      "outputs": []
    },
    {
      "cell_type": "code",
      "metadata": {
        "id": "_Xt4ayeOAED0"
      },
      "source": [
        "logit_train = pd.DataFrame({'actual': y_train, \n",
        "                            'p(0)': [p[0] for p in logreg_pred_train],\n",
        "                            'p(1)': [p[1] for p in logreg_pred_train],\n",
        "                            'predicted': logreg.predict(X_train)})"
      ],
      "execution_count": null,
      "outputs": []
    },
    {
      "cell_type": "code",
      "metadata": {
        "id": "gsIqJTTI282S"
      },
      "source": [
        ""
      ],
      "execution_count": null,
      "outputs": []
    },
    {
      "cell_type": "code",
      "metadata": {
        "colab": {
          "base_uri": "https://localhost:8080/",
          "height": 453
        },
        "id": "k7EqBQVSAGEG",
        "outputId": "2d2bc138-2d2e-4684-e873-3d532a123a97"
      },
      "source": [
        "logit_train = logit_train.sort_values(by=['p(1)'], ascending=False)\n",
        "# confusion matrix\n",
        "classificationSummary(logit_train.actual, logit_train.predicted)\n",
        "gainsChart(logit_train.actual, figsize=[5, 5])"
      ],
      "execution_count": null,
      "outputs": [
        {
          "output_type": "stream",
          "text": [
            "Confusion Matrix (Accuracy 0.7376)\n",
            "\n",
            "       Prediction\n",
            "Actual     0     1\n",
            "     0 24976     7\n",
            "     1  8880     5\n"
          ],
          "name": "stdout"
        },
        {
          "output_type": "execute_result",
          "data": {
            "text/plain": [
              "<matplotlib.axes._subplots.AxesSubplot at 0x7fc717b4c690>"
            ]
          },
          "metadata": {
            "tags": []
          },
          "execution_count": 236
        },
        {
          "output_type": "display_data",
          "data": {
            "image/png": "[encoded data removed]",
            "text/plain": [
              "<Figure size 360x360 with 1 Axes>"
            ]
          },
          "metadata": {
            "tags": [],
            "needs_background": "light"
          }
        }
      ]
    },
    {
      "cell_type": "code",
      "metadata": {
        "id": "Rw2-AFXVAIBV"
      },
      "source": [
        "logreg_pred_test=logreg.predict_proba(X_test)"
      ],
      "execution_count": null,
      "outputs": []
    },
    {
      "cell_type": "code",
      "metadata": {
        "id": "e2XF3TnAAKae"
      },
      "source": [
        "y_test=y_test.values.flatten()"
      ],
      "execution_count": null,
      "outputs": []
    },
    {
      "cell_type": "code",
      "metadata": {
        "id": "BOP8_C6DAMQ2"
      },
      "source": [
        "logit_test = pd.DataFrame({'actual': y_test, \n",
        "                            'p(0)': [p[0] for p in logreg_pred_test],\n",
        "                            'p(1)': [p[1] for p in logreg_pred_test],\n",
        "                            'predicted': logreg.predict(X_test)})"
      ],
      "execution_count": null,
      "outputs": []
    },
    {
      "cell_type": "code",
      "metadata": {
        "colab": {
          "base_uri": "https://localhost:8080/",
          "height": 453
        },
        "id": "euuxIAacAOI5",
        "outputId": "a325e2b9-63f0-4b76-b5fe-9aa0360ab472"
      },
      "source": [
        "logit_test = logit_test.sort_values(by=['p(1)'], ascending=False)\n",
        "# confusion matrix\n",
        "classificationSummary(logit_test.actual, logit_test.predicted)\n",
        "gainsChart(logit_test.actual, figsize=[5, 5])"
      ],
      "execution_count": null,
      "outputs": [
        {
          "output_type": "stream",
          "text": [
            "Confusion Matrix (Accuracy 0.7420)\n",
            "\n",
            "       Prediction\n",
            "Actual     0     1\n",
            "     0 10769     6\n",
            "     1  3739     1\n"
          ],
          "name": "stdout"
        },
        {
          "output_type": "execute_result",
          "data": {
            "text/plain": [
              "<matplotlib.axes._subplots.AxesSubplot at 0x7fc716f969d0>"
            ]
          },
          "metadata": {
            "tags": []
          },
          "execution_count": 240
        },
        {
          "output_type": "display_data",
          "data": {
            "image/png": "[encoded data removed]",
            "text/plain": [
              "<Figure size 360x360 with 1 Axes>"
            ]
          },
          "metadata": {
            "tags": [],
            "needs_background": "light"
          }
        }
      ]
    },
    {
      "cell_type": "code",
      "metadata": {
        "colab": {
          "base_uri": "https://localhost:8080/",
          "height": 308
        },
        "id": "rogqd8l9AP54",
        "outputId": "9b8c1d22-c17e-4ba0-fab0-63e5d4a843f9"
      },
      "source": [
        "liftChart(logit_test['p(1)'], title=False)"
      ],
      "execution_count": null,
      "outputs": [
        {
          "output_type": "execute_result",
          "data": {
            "text/plain": [
              "<matplotlib.axes._subplots.AxesSubplot at 0x7fc716f8b890>"
            ]
          },
          "metadata": {
            "tags": []
          },
          "execution_count": 241
        },
        {
          "output_type": "display_data",
          "data": {
            "image/png": "[encoded data removed]",
            "text/plain": [
              "<Figure size 432x288 with 1 Axes>"
            ]
          },
          "metadata": {
            "tags": [],
            "needs_background": "light"
          }
        }
      ]
    },
    {
      "cell_type": "code",
      "metadata": {
        "colab": {
          "base_uri": "https://localhost:8080/"
        },
        "id": "QxGcTVMtARi-",
        "outputId": "6593f732-cfa3-47c3-ebf8-ae66166d971b"
      },
      "source": [
        "from sklearn.metrics import classification_report\n",
        "print(classification_report(y_train,logreg.predict(X_train)))"
      ],
      "execution_count": null,
      "outputs": [
        {
          "output_type": "stream",
          "text": [
            "              precision    recall  f1-score   support\n",
            "\n",
            "           0       0.74      1.00      0.85     24983\n",
            "           1       0.42      0.00      0.00      8885\n",
            "\n",
            "    accuracy                           0.74     33868\n",
            "   macro avg       0.58      0.50      0.43     33868\n",
            "weighted avg       0.65      0.74      0.63     33868\n",
            "\n"
          ],
          "name": "stdout"
        }
      ]
    },
    {
      "cell_type": "code",
      "metadata": {
        "colab": {
          "base_uri": "https://localhost:8080/"
        },
        "id": "h2YciumPATJU",
        "outputId": "17164324-fa61-4814-d699-4768c511487e"
      },
      "source": [
        "print(classification_report(y_test,logreg.predict(X_test)))"
      ],
      "execution_count": null,
      "outputs": [
        {
          "output_type": "stream",
          "text": [
            "              precision    recall  f1-score   support\n",
            "\n",
            "           0       0.74      1.00      0.85     10775\n",
            "           1       0.14      0.00      0.00      3740\n",
            "\n",
            "    accuracy                           0.74     14515\n",
            "   macro avg       0.44      0.50      0.43     14515\n",
            "weighted avg       0.59      0.74      0.63     14515\n",
            "\n"
          ],
          "name": "stdout"
        }
      ]
    },
    {
      "cell_type": "markdown",
      "metadata": {
        "id": "lC1OKFsQGLKv"
      },
      "source": [
        "## K-Nearest Neighbor(KNN)"
      ]
    },
    {
      "cell_type": "code",
      "metadata": {
        "id": "Xl26_2cx3ZfG"
      },
      "source": [
        "######################## Knn KNeighbors ##################################\n",
        "import pandas as pd\n",
        "from sklearn import preprocessing\n",
        "from sklearn.model_selection import train_test_split\n",
        "from sklearn.metrics import accuracy_score\n",
        "from sklearn.neighbors import NearestNeighbors, KNeighborsClassifier\n",
        "import matplotlib.pylab as plt"
      ],
      "execution_count": null,
      "outputs": []
    },
    {
      "cell_type": "code",
      "metadata": {
        "colab": {
          "base_uri": "https://localhost:8080/"
        },
        "id": "ljxJ88nbLJzR",
        "outputId": "8082bcb9-c8cf-4423-a715-dc7bef149ba4"
      },
      "source": [
        "param_grid = {'n_neighbors': np.arange(1, 50)}\n",
        "knn = KNeighborsClassifier()\n",
        "knn_cv = GridSearchCV(knn, param_grid, cv=5)\n",
        "knn_cv.fit(X_train, y_train)"
      ],
      "execution_count": null,
      "outputs": [
        {
          "output_type": "execute_result",
          "data": {
            "text/plain": [
              "GridSearchCV(cv=5, error_score=nan,\n",
              "             estimator=KNeighborsClassifier(algorithm='auto', leaf_size=30,\n",
              "                                            metric='minkowski',\n",
              "                                            metric_params=None, n_jobs=None,\n",
              "                                            n_neighbors=5, p=2,\n",
              "                                            weights='uniform'),\n",
              "             iid='deprecated', n_jobs=None,\n",
              "             param_grid={'n_neighbors': array([ 1,  2,  3,  4,  5,  6,  7,  8,  9, 10, 11, 12, 13, 14, 15, 16, 17,\n",
              "       18, 19, 20, 21, 22, 23, 24, 25, 26, 27, 28, 29, 30, 31, 32, 33, 34,\n",
              "       35, 36, 37, 38, 39, 40, 41, 42, 43, 44, 45, 46, 47, 48, 49])},\n",
              "             pre_dispatch='2*n_jobs', refit=True, return_train_score=False,\n",
              "             scoring=None, verbose=0)"
            ]
          },
          "metadata": {
            "tags": []
          },
          "execution_count": 245
        }
      ]
    },
    {
      "cell_type": "code",
      "metadata": {
        "colab": {
          "base_uri": "https://localhost:8080/"
        },
        "id": "Hl02tc-kLOO8",
        "outputId": "b0c5e759-f723-4e6a-d62b-9bbd619fd86e"
      },
      "source": [
        "cv_scores = cross_val_score(knn_cv, X_train, y_train)\n",
        "print(cv_scores)"
      ],
      "execution_count": null,
      "outputs": [
        {
          "output_type": "stream",
          "text": [
            "[0.73752583 0.73767346 0.73752583 0.73778237 0.73763473]\n"
          ],
          "name": "stdout"
        }
      ]
    },
    {
      "cell_type": "code",
      "metadata": {
        "colab": {
          "base_uri": "https://localhost:8080/"
        },
        "id": "Rft3JgQYMgBB",
        "outputId": "544a47be-afc3-4f0d-94ec-7d02beda980b"
      },
      "source": [
        "print('Optimal K-nn parameter (number of neighbors): ',knn_cv.best_params_)"
      ],
      "execution_count": null,
      "outputs": [
        {
          "output_type": "stream",
          "text": [
            "Optimal K-nn parameter (number of neighbors):  {'n_neighbors': 48}\n"
          ],
          "name": "stdout"
        }
      ]
    },
    {
      "cell_type": "code",
      "metadata": {
        "colab": {
          "base_uri": "https://localhost:8080/"
        },
        "id": "ZiNqKWzCMpK1",
        "outputId": "2799d783-dda7-42bb-8ba1-5bb4781b53a0"
      },
      "source": [
        "knn_cv.best_score_"
      ],
      "execution_count": null,
      "outputs": [
        {
          "output_type": "execute_result",
          "data": {
            "text/plain": [
              "0.7376874938617448"
            ]
          },
          "metadata": {
            "tags": []
          },
          "execution_count": 249
        }
      ]
    },
    {
      "cell_type": "code",
      "metadata": {
        "colab": {
          "base_uri": "https://localhost:8080/"
        },
        "id": "KTqEdw5CM4cS",
        "outputId": "963d38d4-f2c0-4177-ccdd-345e790d485c"
      },
      "source": [
        "knn = KNeighborsClassifier(n_neighbors=48)\n",
        "knn.fit(X_train, y_train)"
      ],
      "execution_count": null,
      "outputs": [
        {
          "output_type": "execute_result",
          "data": {
            "text/plain": [
              "KNeighborsClassifier(algorithm='auto', leaf_size=30, metric='minkowski',\n",
              "                     metric_params=None, n_jobs=None, n_neighbors=48, p=2,\n",
              "                     weights='uniform')"
            ]
          },
          "metadata": {
            "tags": []
          },
          "execution_count": 250
        }
      ]
    },
    {
      "cell_type": "code",
      "metadata": {
        "id": "44pmcVQSQtV1"
      },
      "source": [
        "knnProb_train=knn.predict_proba(X_train)"
      ],
      "execution_count": null,
      "outputs": []
    },
    {
      "cell_type": "code",
      "metadata": {
        "id": "lrIwYxwhRC6F"
      },
      "source": [
        "knn_train = pd.DataFrame({'actual': y_train, \n",
        "                            'p(0)': [p[0] for p in knnProb_train],\n",
        "                            'p(1)': [p[1] for p in knnProb_train],\n",
        "                            'predicted': knn.predict(X_train)})"
      ],
      "execution_count": null,
      "outputs": []
    },
    {
      "cell_type": "code",
      "metadata": {
        "colab": {
          "base_uri": "https://localhost:8080/",
          "height": 359
        },
        "id": "T0x26QDuRFW2",
        "outputId": "c34091f6-981f-40c5-ed89-55356124d401"
      },
      "source": [
        "knn_train.head(10)"
      ],
      "execution_count": null,
      "outputs": [
        {
          "output_type": "execute_result",
          "data": {
            "text/html": [
              "<div>\n",
              "<style scoped>\n",
              "    .dataframe tbody tr th:only-of-type {\n",
              "        vertical-align: middle;\n",
              "    }\n",
              "\n",
              "    .dataframe tbody tr th {\n",
              "        vertical-align: top;\n",
              "    }\n",
              "\n",
              "    .dataframe thead th {\n",
              "        text-align: right;\n",
              "    }\n",
              "</style>\n",
              "<table border=\"1\" class=\"dataframe\">\n",
              "  <thead>\n",
              "    <tr style=\"text-align: right;\">\n",
              "      <th></th>\n",
              "      <th>actual</th>\n",
              "      <th>p(0)</th>\n",
              "      <th>p(1)</th>\n",
              "      <th>predicted</th>\n",
              "    </tr>\n",
              "  </thead>\n",
              "  <tbody>\n",
              "    <tr>\n",
              "      <th>0</th>\n",
              "      <td>0</td>\n",
              "      <td>0.875000</td>\n",
              "      <td>0.125000</td>\n",
              "      <td>0</td>\n",
              "    </tr>\n",
              "    <tr>\n",
              "      <th>1</th>\n",
              "      <td>1</td>\n",
              "      <td>0.666667</td>\n",
              "      <td>0.333333</td>\n",
              "      <td>0</td>\n",
              "    </tr>\n",
              "    <tr>\n",
              "      <th>2</th>\n",
              "      <td>0</td>\n",
              "      <td>0.791667</td>\n",
              "      <td>0.208333</td>\n",
              "      <td>0</td>\n",
              "    </tr>\n",
              "    <tr>\n",
              "      <th>3</th>\n",
              "      <td>0</td>\n",
              "      <td>0.750000</td>\n",
              "      <td>0.250000</td>\n",
              "      <td>0</td>\n",
              "    </tr>\n",
              "    <tr>\n",
              "      <th>4</th>\n",
              "      <td>0</td>\n",
              "      <td>0.687500</td>\n",
              "      <td>0.312500</td>\n",
              "      <td>0</td>\n",
              "    </tr>\n",
              "    <tr>\n",
              "      <th>5</th>\n",
              "      <td>0</td>\n",
              "      <td>0.729167</td>\n",
              "      <td>0.270833</td>\n",
              "      <td>0</td>\n",
              "    </tr>\n",
              "    <tr>\n",
              "      <th>6</th>\n",
              "      <td>0</td>\n",
              "      <td>0.666667</td>\n",
              "      <td>0.333333</td>\n",
              "      <td>0</td>\n",
              "    </tr>\n",
              "    <tr>\n",
              "      <th>7</th>\n",
              "      <td>1</td>\n",
              "      <td>0.770833</td>\n",
              "      <td>0.229167</td>\n",
              "      <td>0</td>\n",
              "    </tr>\n",
              "    <tr>\n",
              "      <th>8</th>\n",
              "      <td>0</td>\n",
              "      <td>0.729167</td>\n",
              "      <td>0.270833</td>\n",
              "      <td>0</td>\n",
              "    </tr>\n",
              "    <tr>\n",
              "      <th>9</th>\n",
              "      <td>0</td>\n",
              "      <td>0.666667</td>\n",
              "      <td>0.333333</td>\n",
              "      <td>0</td>\n",
              "    </tr>\n",
              "  </tbody>\n",
              "</table>\n",
              "</div>"
            ],
            "text/plain": [
              "   actual      p(0)      p(1)  predicted\n",
              "0       0  0.875000  0.125000          0\n",
              "1       1  0.666667  0.333333          0\n",
              "2       0  0.791667  0.208333          0\n",
              "3       0  0.750000  0.250000          0\n",
              "4       0  0.687500  0.312500          0\n",
              "5       0  0.729167  0.270833          0\n",
              "6       0  0.666667  0.333333          0\n",
              "7       1  0.770833  0.229167          0\n",
              "8       0  0.729167  0.270833          0\n",
              "9       0  0.666667  0.333333          0"
            ]
          },
          "metadata": {
            "tags": []
          },
          "execution_count": 253
        }
      ]
    },
    {
      "cell_type": "code",
      "metadata": {
        "colab": {
          "base_uri": "https://localhost:8080/",
          "height": 453
        },
        "id": "ivNzYHJJRHiF",
        "outputId": "31c75b1a-e365-42ea-b1a1-16928c1a3181"
      },
      "source": [
        "knn_train = knn_train.sort_values(by=['p(1)'], ascending=False)\n",
        "# confusion matrix\n",
        "classificationSummary(knn_train.actual, knn_train.predicted)\n",
        "gainsChart(knn_train.actual, figsize=[5, 5])"
      ],
      "execution_count": null,
      "outputs": [
        {
          "output_type": "stream",
          "text": [
            "Confusion Matrix (Accuracy 0.7377)\n",
            "\n",
            "       Prediction\n",
            "Actual     0     1\n",
            "     0 24982     1\n",
            "     1  8883     2\n"
          ],
          "name": "stdout"
        },
        {
          "output_type": "execute_result",
          "data": {
            "text/plain": [
              "<matplotlib.axes._subplots.AxesSubplot at 0x7fc7096f8750>"
            ]
          },
          "metadata": {
            "tags": []
          },
          "execution_count": 254
        },
        {
          "output_type": "display_data",
          "data": {
            "image/png": "[encoded data removed]",
            "text/plain": [
              "<Figure size 360x360 with 1 Axes>"
            ]
          },
          "metadata": {
            "tags": [],
            "needs_background": "light"
          }
        }
      ]
    },
    {
      "cell_type": "code",
      "metadata": {
        "colab": {
          "base_uri": "https://localhost:8080/",
          "height": 305
        },
        "id": "17MB1tOSRJIG",
        "outputId": "ce4505e2-7ac1-4898-a1bf-c43fef46a261"
      },
      "source": [
        "liftChart(knn_train['p(1)'], title=False)"
      ],
      "execution_count": null,
      "outputs": [
        {
          "output_type": "execute_result",
          "data": {
            "text/plain": [
              "<matplotlib.axes._subplots.AxesSubplot at 0x7fc70974ea90>"
            ]
          },
          "metadata": {
            "tags": []
          },
          "execution_count": 255
        },
        {
          "output_type": "display_data",
          "data": {
            "image/png": "[encoded data removed]",
            "text/plain": [
              "<Figure size 432x288 with 1 Axes>"
            ]
          },
          "metadata": {
            "tags": [],
            "needs_background": "light"
          }
        }
      ]
    },
    {
      "cell_type": "code",
      "metadata": {
        "id": "FXSjG7pmRLq-"
      },
      "source": [
        "knnProb_test=knn.predict_proba(X_test)"
      ],
      "execution_count": null,
      "outputs": []
    },
    {
      "cell_type": "code",
      "metadata": {
        "id": "lBlk2SmtRNQd"
      },
      "source": [
        "knn_test = pd.DataFrame({'actual': y_test, \n",
        "                            'p(0)': [p[0] for p in knnProb_test],\n",
        "                            'p(1)': [p[1] for p in knnProb_test],\n",
        "                            'predicted': knn.predict(X_test)})"
      ],
      "execution_count": null,
      "outputs": []
    },
    {
      "cell_type": "code",
      "metadata": {
        "colab": {
          "base_uri": "https://localhost:8080/",
          "height": 453
        },
        "id": "d6aueaLXRO6a",
        "outputId": "522062ba-0105-49d9-d13a-f729c34d169a"
      },
      "source": [
        "knn_test = knn_test.sort_values(by=['p(1)'], ascending=False)\n",
        "# confusion matrix\n",
        "classificationSummary(knn_test.actual, knn_test.predicted)\n",
        "gainsChart(knn_test.actual, figsize=[5, 5])"
      ],
      "execution_count": null,
      "outputs": [
        {
          "output_type": "stream",
          "text": [
            "Confusion Matrix (Accuracy 0.7421)\n",
            "\n",
            "       Prediction\n",
            "Actual     0     1\n",
            "     0 10772     3\n",
            "     1  3740     0\n"
          ],
          "name": "stdout"
        },
        {
          "output_type": "execute_result",
          "data": {
            "text/plain": [
              "<matplotlib.axes._subplots.AxesSubplot at 0x7fc7096c0190>"
            ]
          },
          "metadata": {
            "tags": []
          },
          "execution_count": 258
        },
        {
          "output_type": "display_data",
          "data": {
            "image/png": "[encoded data removed]",
            "text/plain": [
              "<Figure size 360x360 with 1 Axes>"
            ]
          },
          "metadata": {
            "tags": [],
            "needs_background": "light"
          }
        }
      ]
    },
    {
      "cell_type": "code",
      "metadata": {
        "colab": {
          "base_uri": "https://localhost:8080/",
          "height": 305
        },
        "id": "gHuZEzNXRQn5",
        "outputId": "b3fee7f3-e95f-402f-e386-9f124f05caad"
      },
      "source": [
        "liftChart(knn_test['p(1)'], title=False)"
      ],
      "execution_count": null,
      "outputs": [
        {
          "output_type": "execute_result",
          "data": {
            "text/plain": [
              "<matplotlib.axes._subplots.AxesSubplot at 0x7fc7096c9910>"
            ]
          },
          "metadata": {
            "tags": []
          },
          "execution_count": 259
        },
        {
          "output_type": "display_data",
          "data": {
            "image/png": "[encoded data removed]",
            "text/plain": [
              "<Figure size 432x288 with 1 Axes>"
            ]
          },
          "metadata": {
            "tags": [],
            "needs_background": "light"
          }
        }
      ]
    },
    {
      "cell_type": "code",
      "metadata": {
        "colab": {
          "base_uri": "https://localhost:8080/"
        },
        "id": "JCEYw0SDRSn5",
        "outputId": "57a823d9-002a-484e-bb43-f55a548716b8"
      },
      "source": [
        "print(classification_report(y_train,knn.predict(X_train)))"
      ],
      "execution_count": null,
      "outputs": [
        {
          "output_type": "stream",
          "text": [
            "              precision    recall  f1-score   support\n",
            "\n",
            "           0       0.74      1.00      0.85     24983\n",
            "           1       0.67      0.00      0.00      8885\n",
            "\n",
            "    accuracy                           0.74     33868\n",
            "   macro avg       0.70      0.50      0.42     33868\n",
            "weighted avg       0.72      0.74      0.63     33868\n",
            "\n"
          ],
          "name": "stdout"
        }
      ]
    },
    {
      "cell_type": "code",
      "metadata": {
        "colab": {
          "base_uri": "https://localhost:8080/"
        },
        "id": "5roVkbIjRUNW",
        "outputId": "faed7d1d-b061-4cd2-f7fb-1765b86a981a"
      },
      "source": [
        "print(classification_report(y_test,knn.predict(X_test)))"
      ],
      "execution_count": null,
      "outputs": [
        {
          "output_type": "stream",
          "text": [
            "              precision    recall  f1-score   support\n",
            "\n",
            "           0       0.74      1.00      0.85     10775\n",
            "           1       0.00      0.00      0.00      3740\n",
            "\n",
            "    accuracy                           0.74     14515\n",
            "   macro avg       0.37      0.50      0.43     14515\n",
            "weighted avg       0.55      0.74      0.63     14515\n",
            "\n"
          ],
          "name": "stdout"
        }
      ]
    },
    {
      "cell_type": "code",
      "metadata": {
        "id": "hlGdsg6jRWCN"
      },
      "source": [
        ""
      ],
      "execution_count": null,
      "outputs": []
    },
    {
      "cell_type": "markdown",
      "metadata": {
        "id": "urrVS5CtTv2A"
      },
      "source": [
        "## Classification Tree"
      ]
    },
    {
      "cell_type": "code",
      "metadata": {
        "id": "PAKdLaqvT0w8"
      },
      "source": [
        "######Classification Tree##################\n",
        "from sklearn.tree import DecisionTreeClassifier, DecisionTreeRegressor\n",
        "#from sklearn.ensemble import RandomForestClassifier, GradientBoostingClassifier\n",
        "from sklearn.model_selection import train_test_split, cross_val_score, GridSearchCV\n",
        "import matplotlib.pylab as plt\n",
        "from dmba import plotDecisionTree, classificationSummary, regressionSummary"
      ],
      "execution_count": null,
      "outputs": []
    },
    {
      "cell_type": "code",
      "metadata": {
        "id": "5MJFrONfoyIE",
        "colab": {
          "base_uri": "https://localhost:8080/"
        },
        "outputId": "205e25de-ebde-4555-d3ad-c91ea02ec991"
      },
      "source": [
        "tree = DecisionTreeClassifier()\n",
        "tree.get_params().keys()"
      ],
      "execution_count": null,
      "outputs": [
        {
          "output_type": "execute_result",
          "data": {
            "text/plain": [
              "dict_keys(['ccp_alpha', 'class_weight', 'criterion', 'max_depth', 'max_features', 'max_leaf_nodes', 'min_impurity_decrease', 'min_impurity_split', 'min_samples_leaf', 'min_samples_split', 'min_weight_fraction_leaf', 'presort', 'random_state', 'splitter'])"
            ]
          },
          "metadata": {
            "tags": []
          },
          "execution_count": 263
        }
      ]
    },
    {
      "cell_type": "code",
      "metadata": {
        "id": "PYWdzIUBo0rY"
      },
      "source": [
        "param_dist = {\"max_depth\": [3, None],\n",
        "              \"min_samples_leaf\": np.arange(1, 9),\n",
        "              \"criterion\": [\"gini\", \"entropy\"]}"
      ],
      "execution_count": null,
      "outputs": []
    },
    {
      "cell_type": "code",
      "metadata": {
        "id": "8Ey6uI5Vo1Rj"
      },
      "source": [
        "tree_cv = GridSearchCV(tree, param_dist, cv=5) "
      ],
      "execution_count": null,
      "outputs": []
    },
    {
      "cell_type": "code",
      "metadata": {
        "id": "2mWcaPjho1cd",
        "colab": {
          "base_uri": "https://localhost:8080/"
        },
        "outputId": "0d79da76-dd1f-4893-9ef8-056e1a83805c"
      },
      "source": [
        "tree_cv.fit(X_train, y_train)"
      ],
      "execution_count": null,
      "outputs": [
        {
          "output_type": "execute_result",
          "data": {
            "text/plain": [
              "GridSearchCV(cv=5, error_score=nan,\n",
              "             estimator=DecisionTreeClassifier(ccp_alpha=0.0, class_weight=None,\n",
              "                                              criterion='gini', max_depth=None,\n",
              "                                              max_features=None,\n",
              "                                              max_leaf_nodes=None,\n",
              "                                              min_impurity_decrease=0.0,\n",
              "                                              min_impurity_split=None,\n",
              "                                              min_samples_leaf=1,\n",
              "                                              min_samples_split=2,\n",
              "                                              min_weight_fraction_leaf=0.0,\n",
              "                                              presort='deprecated',\n",
              "                                              random_state=None,\n",
              "                                              splitter='best'),\n",
              "             iid='deprecated', n_jobs=None,\n",
              "             param_grid={'criterion': ['gini', 'entropy'],\n",
              "                         'max_depth': [3, None],\n",
              "                         'min_samples_leaf': array([1, 2, 3, 4, 5, 6, 7, 8])},\n",
              "             pre_dispatch='2*n_jobs', refit=True, return_train_score=False,\n",
              "             scoring=None, verbose=0)"
            ]
          },
          "metadata": {
            "tags": []
          },
          "execution_count": 266
        }
      ]
    },
    {
      "cell_type": "code",
      "metadata": {
        "id": "_yxG5S1Po4va",
        "colab": {
          "base_uri": "https://localhost:8080/"
        },
        "outputId": "c937444d-2b65-4282-916e-8da2a668c886"
      },
      "source": [
        "print(\"Tuned Decision Tree Parameters: {}\".format(tree_cv.best_params_))\n",
        "print(\"Best score is {}\".format(tree_cv.best_score_))"
      ],
      "execution_count": null,
      "outputs": [
        {
          "output_type": "stream",
          "text": [
            "Tuned Decision Tree Parameters: {'criterion': 'gini', 'max_depth': 3, 'min_samples_leaf': 8}\n",
            "Best score is 0.7376579648494903\n"
          ],
          "name": "stdout"
        }
      ]
    },
    {
      "cell_type": "code",
      "metadata": {
        "id": "IetKJDCNo45T"
      },
      "source": [
        "\n",
        "tree = DecisionTreeClassifier(criterion= 'gini',max_depth= 3,min_samples_leaf= 8)"
      ],
      "execution_count": null,
      "outputs": []
    },
    {
      "cell_type": "code",
      "metadata": {
        "id": "7Qmn5RAJpAS4",
        "colab": {
          "base_uri": "https://localhost:8080/"
        },
        "outputId": "7c50b424-52ac-4d58-f7b9-002e8663dd59"
      },
      "source": [
        "tree.fit(X_train,y_train)"
      ],
      "execution_count": null,
      "outputs": [
        {
          "output_type": "execute_result",
          "data": {
            "text/plain": [
              "DecisionTreeClassifier(ccp_alpha=0.0, class_weight=None, criterion='gini',\n",
              "                       max_depth=3, max_features=None, max_leaf_nodes=None,\n",
              "                       min_impurity_decrease=0.0, min_impurity_split=None,\n",
              "                       min_samples_leaf=8, min_samples_split=2,\n",
              "                       min_weight_fraction_leaf=0.0, presort='deprecated',\n",
              "                       random_state=None, splitter='best')"
            ]
          },
          "metadata": {
            "tags": []
          },
          "execution_count": 269
        }
      ]
    },
    {
      "cell_type": "code",
      "metadata": {
        "id": "0AAiwkMRpAc0"
      },
      "source": [
        "treeProb_train=tree.predict_proba(X_train)"
      ],
      "execution_count": null,
      "outputs": []
    },
    {
      "cell_type": "code",
      "metadata": {
        "id": "WI5-7kbTpEnC"
      },
      "source": [
        "tree_train = pd.DataFrame({'actual': y_train, \n",
        "                            'p(0)': [p[0] for p in treeProb_train],\n",
        "                            'p(1)': [p[1] for p in treeProb_train],\n",
        "                            'predicted': tree.predict(X_train)})"
      ],
      "execution_count": null,
      "outputs": []
    },
    {
      "cell_type": "code",
      "metadata": {
        "id": "Z-B5RTNNpEyG",
        "colab": {
          "base_uri": "https://localhost:8080/",
          "height": 453
        },
        "outputId": "51bd600e-86d8-4a24-8285-e4950f1414c8"
      },
      "source": [
        "tree_train = tree_train.sort_values(by=['p(1)'], ascending=False)\n",
        "# confusion matrix\n",
        "classificationSummary(tree_train.actual, tree_train.predicted)\n",
        "gainsChart(tree_train.actual, figsize=[5, 5])"
      ],
      "execution_count": null,
      "outputs": [
        {
          "output_type": "stream",
          "text": [
            "Confusion Matrix (Accuracy 0.7377)\n",
            "\n",
            "       Prediction\n",
            "Actual     0     1\n",
            "     0 24983     0\n",
            "     1  8885     0\n"
          ],
          "name": "stdout"
        },
        {
          "output_type": "execute_result",
          "data": {
            "text/plain": [
              "<matplotlib.axes._subplots.AxesSubplot at 0x7fc716f972d0>"
            ]
          },
          "metadata": {
            "tags": []
          },
          "execution_count": 272
        },
        {
          "output_type": "display_data",
          "data": {
            "image/png": "[encoded data removed]",
            "text/plain": [
              "<Figure size 360x360 with 1 Axes>"
            ]
          },
          "metadata": {
            "tags": [],
            "needs_background": "light"
          }
        }
      ]
    },
    {
      "cell_type": "code",
      "metadata": {
        "id": "JvtwboRdpI8w",
        "colab": {
          "base_uri": "https://localhost:8080/",
          "height": 308
        },
        "outputId": "f4b5071f-91cb-41b6-bd5f-d5a0aa966f5d"
      },
      "source": [
        "liftChart(tree_train['p(1)'], title=False)"
      ],
      "execution_count": null,
      "outputs": [
        {
          "output_type": "execute_result",
          "data": {
            "text/plain": [
              "<matplotlib.axes._subplots.AxesSubplot at 0x7fc709656450>"
            ]
          },
          "metadata": {
            "tags": []
          },
          "execution_count": 273
        },
        {
          "output_type": "display_data",
          "data": {
            "image/png": "[encoded data removed]",
            "text/plain": [
              "<Figure size 432x288 with 1 Axes>"
            ]
          },
          "metadata": {
            "tags": [],
            "needs_background": "light"
          }
        }
      ]
    },
    {
      "cell_type": "code",
      "metadata": {
        "id": "gIc2h_tRpJG4"
      },
      "source": [
        "#####A bit better######!!!!!!!!\n",
        "treeProb_test=tree.predict_proba(X_test)\n",
        "tree_test = pd.DataFrame({'actual': y_test, \n",
        "                            'p(0)': [p[0] for p in treeProb_test],\n",
        "                            'p(1)': [p[1] for p in treeProb_test],\n",
        "                            'predicted': tree.predict(X_test)})"
      ],
      "execution_count": null,
      "outputs": []
    },
    {
      "cell_type": "code",
      "metadata": {
        "id": "21qOi05epQcc",
        "colab": {
          "base_uri": "https://localhost:8080/",
          "height": 453
        },
        "outputId": "7a6f528d-af9b-4da2-b4d2-11c2ba7f2052"
      },
      "source": [
        "tree_test = tree_test.sort_values(by=['p(1)'], ascending=False)\n",
        "# confusion matrix\n",
        "classificationSummary(tree_test.actual, tree_test.predicted)\n",
        "gainsChart(tree_test.actual, figsize=[5, 5])"
      ],
      "execution_count": null,
      "outputs": [
        {
          "output_type": "stream",
          "text": [
            "Confusion Matrix (Accuracy 0.7423)\n",
            "\n",
            "       Prediction\n",
            "Actual     0     1\n",
            "     0 10775     0\n",
            "     1  3740     0\n"
          ],
          "name": "stdout"
        },
        {
          "output_type": "execute_result",
          "data": {
            "text/plain": [
              "<matplotlib.axes._subplots.AxesSubplot at 0x7fc70973d590>"
            ]
          },
          "metadata": {
            "tags": []
          },
          "execution_count": 275
        },
        {
          "output_type": "display_data",
          "data": {
            "image/png": "[encoded data removed]",
            "text/plain": [
              "<Figure size 360x360 with 1 Axes>"
            ]
          },
          "metadata": {
            "tags": [],
            "needs_background": "light"
          }
        }
      ]
    },
    {
      "cell_type": "code",
      "metadata": {
        "id": "tI7CYzexpQom",
        "colab": {
          "base_uri": "https://localhost:8080/",
          "height": 308
        },
        "outputId": "47a97a9e-e655-487c-8f94-fb854373f6e2"
      },
      "source": [
        "liftChart(tree_test['p(1)'], title=False)"
      ],
      "execution_count": null,
      "outputs": [
        {
          "output_type": "execute_result",
          "data": {
            "text/plain": [
              "<matplotlib.axes._subplots.AxesSubplot at 0x7ff615842950>"
            ]
          },
          "metadata": {
            "tags": []
          },
          "execution_count": 176
        },
        {
          "output_type": "display_data",
          "data": {
            "image/png": "[encoded data removed]",
            "text/plain": [
              "<Figure size 432x288 with 1 Axes>"
            ]
          },
          "metadata": {
            "tags": [],
            "needs_background": "light"
          }
        }
      ]
    },
    {
      "cell_type": "code",
      "metadata": {
        "id": "xM9eZPjIpVfp",
        "colab": {
          "base_uri": "https://localhost:8080/"
        },
        "outputId": "5dcf528c-203a-44c7-dd81-ace2c56a1794"
      },
      "source": [
        "print(classification_report(y_train,tree.predict(X_train)))"
      ],
      "execution_count": null,
      "outputs": [
        {
          "output_type": "stream",
          "text": [
            "              precision    recall  f1-score   support\n",
            "\n",
            "           0       0.74      1.00      0.85     24983\n",
            "           1       0.00      0.00      0.00      8885\n",
            "\n",
            "    accuracy                           0.74     33868\n",
            "   macro avg       0.37      0.50      0.42     33868\n",
            "weighted avg       0.54      0.74      0.63     33868\n",
            "\n"
          ],
          "name": "stdout"
        },
        {
          "output_type": "stream",
          "text": [
            "/usr/local/lib/python3.7/dist-packages/sklearn/metrics/_classification.py:1272: UndefinedMetricWarning: Precision and F-score are ill-defined and being set to 0.0 in labels with no predicted samples. Use `zero_division` parameter to control this behavior.\n",
            "  _warn_prf(average, modifier, msg_start, len(result))\n"
          ],
          "name": "stderr"
        }
      ]
    },
    {
      "cell_type": "code",
      "metadata": {
        "id": "jTUUrJMbpVrq",
        "colab": {
          "base_uri": "https://localhost:8080/"
        },
        "outputId": "261cca65-c243-481e-e86b-2a05e33acf01"
      },
      "source": [
        "print(classification_report(y_test,tree.predict(X_test)))"
      ],
      "execution_count": null,
      "outputs": [
        {
          "output_type": "stream",
          "text": [
            "              precision    recall  f1-score   support\n",
            "\n",
            "           0       0.74      1.00      0.85     10775\n",
            "           1       0.00      0.00      0.00      3740\n",
            "\n",
            "    accuracy                           0.74     14515\n",
            "   macro avg       0.37      0.50      0.43     14515\n",
            "weighted avg       0.55      0.74      0.63     14515\n",
            "\n"
          ],
          "name": "stdout"
        },
        {
          "output_type": "stream",
          "text": [
            "/usr/local/lib/python3.7/dist-packages/sklearn/metrics/_classification.py:1272: UndefinedMetricWarning: Precision and F-score are ill-defined and being set to 0.0 in labels with no predicted samples. Use `zero_division` parameter to control this behavior.\n",
            "  _warn_prf(average, modifier, msg_start, len(result))\n"
          ],
          "name": "stderr"
        }
      ]
    },
    {
      "cell_type": "code",
      "metadata": {
        "id": "EXK-iodUd9Ya"
      },
      "source": [
        ""
      ],
      "execution_count": null,
      "outputs": []
    },
    {
      "cell_type": "markdown",
      "metadata": {
        "id": "Cx1lfFM6JQxS"
      },
      "source": [
        "**Ensemble model**"
      ]
    },
    {
      "cell_type": "code",
      "metadata": {
        "id": "eODXtgB6JUV2"
      },
      "source": [
        "total_valid = pd.DataFrame({'actual': y_test, \n",
        "                         'predicted_Logistic': logreg.predict(X_test),\n",
        "                         'predicted_Knn': knn.predict(X_test),\n",
        "                        'predicted_Tree': tree.predict(X_test)})"
      ],
      "execution_count": null,
      "outputs": []
    },
    {
      "cell_type": "code",
      "metadata": {
        "id": "TFpZEFHyPoKM"
      },
      "source": [
        "total_valid['Mode']=0"
      ],
      "execution_count": null,
      "outputs": []
    },
    {
      "cell_type": "code",
      "metadata": {
        "colab": {
          "base_uri": "https://localhost:8080/",
          "height": 419
        },
        "id": "cHZ3MPfcL9id",
        "outputId": "4b79c629-21d2-4174-d907-17c8f33c0756"
      },
      "source": [
        "total_valid"
      ],
      "execution_count": null,
      "outputs": [
        {
          "output_type": "execute_result",
          "data": {
            "text/html": [
              "<div>\n",
              "<style scoped>\n",
              "    .dataframe tbody tr th:only-of-type {\n",
              "        vertical-align: middle;\n",
              "    }\n",
              "\n",
              "    .dataframe tbody tr th {\n",
              "        vertical-align: top;\n",
              "    }\n",
              "\n",
              "    .dataframe thead th {\n",
              "        text-align: right;\n",
              "    }\n",
              "</style>\n",
              "<table border=\"1\" class=\"dataframe\">\n",
              "  <thead>\n",
              "    <tr style=\"text-align: right;\">\n",
              "      <th></th>\n",
              "      <th>actual</th>\n",
              "      <th>predicted_Logistic</th>\n",
              "      <th>predicted_Knn</th>\n",
              "      <th>predicted_Tree</th>\n",
              "      <th>Mode</th>\n",
              "    </tr>\n",
              "  </thead>\n",
              "  <tbody>\n",
              "    <tr>\n",
              "      <th>0</th>\n",
              "      <td>0</td>\n",
              "      <td>0</td>\n",
              "      <td>0</td>\n",
              "      <td>0</td>\n",
              "      <td>0</td>\n",
              "    </tr>\n",
              "    <tr>\n",
              "      <th>1</th>\n",
              "      <td>1</td>\n",
              "      <td>0</td>\n",
              "      <td>0</td>\n",
              "      <td>0</td>\n",
              "      <td>0</td>\n",
              "    </tr>\n",
              "    <tr>\n",
              "      <th>2</th>\n",
              "      <td>0</td>\n",
              "      <td>0</td>\n",
              "      <td>0</td>\n",
              "      <td>0</td>\n",
              "      <td>0</td>\n",
              "    </tr>\n",
              "    <tr>\n",
              "      <th>3</th>\n",
              "      <td>0</td>\n",
              "      <td>0</td>\n",
              "      <td>0</td>\n",
              "      <td>0</td>\n",
              "      <td>0</td>\n",
              "    </tr>\n",
              "    <tr>\n",
              "      <th>4</th>\n",
              "      <td>1</td>\n",
              "      <td>0</td>\n",
              "      <td>0</td>\n",
              "      <td>0</td>\n",
              "      <td>0</td>\n",
              "    </tr>\n",
              "    <tr>\n",
              "      <th>...</th>\n",
              "      <td>...</td>\n",
              "      <td>...</td>\n",
              "      <td>...</td>\n",
              "      <td>...</td>\n",
              "      <td>...</td>\n",
              "    </tr>\n",
              "    <tr>\n",
              "      <th>14510</th>\n",
              "      <td>0</td>\n",
              "      <td>0</td>\n",
              "      <td>0</td>\n",
              "      <td>0</td>\n",
              "      <td>0</td>\n",
              "    </tr>\n",
              "    <tr>\n",
              "      <th>14511</th>\n",
              "      <td>1</td>\n",
              "      <td>0</td>\n",
              "      <td>0</td>\n",
              "      <td>0</td>\n",
              "      <td>0</td>\n",
              "    </tr>\n",
              "    <tr>\n",
              "      <th>14512</th>\n",
              "      <td>0</td>\n",
              "      <td>0</td>\n",
              "      <td>0</td>\n",
              "      <td>0</td>\n",
              "      <td>0</td>\n",
              "    </tr>\n",
              "    <tr>\n",
              "      <th>14513</th>\n",
              "      <td>0</td>\n",
              "      <td>0</td>\n",
              "      <td>0</td>\n",
              "      <td>0</td>\n",
              "      <td>0</td>\n",
              "    </tr>\n",
              "    <tr>\n",
              "      <th>14514</th>\n",
              "      <td>0</td>\n",
              "      <td>0</td>\n",
              "      <td>0</td>\n",
              "      <td>0</td>\n",
              "      <td>0</td>\n",
              "    </tr>\n",
              "  </tbody>\n",
              "</table>\n",
              "<p>14515 rows × 5 columns</p>\n",
              "</div>"
            ],
            "text/plain": [
              "       actual  predicted_Logistic  predicted_Knn  predicted_Tree  Mode\n",
              "0           0                   0              0               0     0\n",
              "1           1                   0              0               0     0\n",
              "2           0                   0              0               0     0\n",
              "3           0                   0              0               0     0\n",
              "4           1                   0              0               0     0\n",
              "...       ...                 ...            ...             ...   ...\n",
              "14510       0                   0              0               0     0\n",
              "14511       1                   0              0               0     0\n",
              "14512       0                   0              0               0     0\n",
              "14513       0                   0              0               0     0\n",
              "14514       0                   0              0               0     0\n",
              "\n",
              "[14515 rows x 5 columns]"
            ]
          },
          "metadata": {
            "tags": []
          },
          "execution_count": 344
        }
      ]
    },
    {
      "cell_type": "code",
      "metadata": {
        "id": "PAeWF1BrJyVe"
      },
      "source": [
        "mode=total_valid.mode(axis=1)"
      ],
      "execution_count": null,
      "outputs": []
    },
    {
      "cell_type": "code",
      "metadata": {
        "id": "Eu31PByZJ0mI"
      },
      "source": [
        "total_valid['Mode']=mode"
      ],
      "execution_count": null,
      "outputs": []
    },
    {
      "cell_type": "code",
      "metadata": {
        "colab": {
          "base_uri": "https://localhost:8080/"
        },
        "id": "JQ-yy8BGQuQa",
        "outputId": "907a2a70-1922-4e9f-bb9c-0572bbbf75fb"
      },
      "source": [
        "total_valid['Mode'].sum()"
      ],
      "execution_count": null,
      "outputs": [
        {
          "output_type": "execute_result",
          "data": {
            "text/plain": [
              "0"
            ]
          },
          "metadata": {
            "tags": []
          },
          "execution_count": 330
        }
      ]
    },
    {
      "cell_type": "code",
      "metadata": {
        "id": "BqygLCbjJ2b1"
      },
      "source": [
        "probability_valid = pd.DataFrame({\n",
        "                            'LogitRegression: p(1)': [p[1] for p in logreg_pred_test],\n",
        "                            'KnnRegression: p(1)': [p[1] for p in knnProb_test],\n",
        "                            'TreeRegression: p(1)': [p[1] for p in treeProb_test]\n",
        "                         })"
      ],
      "execution_count": null,
      "outputs": []
    },
    {
      "cell_type": "code",
      "metadata": {
        "id": "2OVkPQcrJ3XP"
      },
      "source": [
        "mean=probability_valid.mean(axis = 1)"
      ],
      "execution_count": null,
      "outputs": []
    },
    {
      "cell_type": "code",
      "metadata": {
        "id": "U4zDbGlyP4YK"
      },
      "source": [
        "probability_valid['Mean']=mean"
      ],
      "execution_count": null,
      "outputs": []
    },
    {
      "cell_type": "code",
      "metadata": {
        "id": "hPoR6PFAP9b1"
      },
      "source": [
        "list_mean=[]"
      ],
      "execution_count": null,
      "outputs": []
    },
    {
      "cell_type": "code",
      "metadata": {
        "colab": {
          "base_uri": "https://localhost:8080/",
          "height": 419
        },
        "id": "G9zoak1uQGDu",
        "outputId": "e2ae05be-8deb-475b-d696-494637b6992c"
      },
      "source": [
        "probability_valid"
      ],
      "execution_count": null,
      "outputs": [
        {
          "output_type": "execute_result",
          "data": {
            "text/html": [
              "<div>\n",
              "<style scoped>\n",
              "    .dataframe tbody tr th:only-of-type {\n",
              "        vertical-align: middle;\n",
              "    }\n",
              "\n",
              "    .dataframe tbody tr th {\n",
              "        vertical-align: top;\n",
              "    }\n",
              "\n",
              "    .dataframe thead th {\n",
              "        text-align: right;\n",
              "    }\n",
              "</style>\n",
              "<table border=\"1\" class=\"dataframe\">\n",
              "  <thead>\n",
              "    <tr style=\"text-align: right;\">\n",
              "      <th></th>\n",
              "      <th>LogitRegression: p(1)</th>\n",
              "      <th>KnnRegression: p(1)</th>\n",
              "      <th>TreeRegression: p(1)</th>\n",
              "      <th>Mean</th>\n",
              "    </tr>\n",
              "  </thead>\n",
              "  <tbody>\n",
              "    <tr>\n",
              "      <th>0</th>\n",
              "      <td>0.278025</td>\n",
              "      <td>0.291667</td>\n",
              "      <td>0.256642</td>\n",
              "      <td>0.275445</td>\n",
              "    </tr>\n",
              "    <tr>\n",
              "      <th>1</th>\n",
              "      <td>0.272343</td>\n",
              "      <td>0.354167</td>\n",
              "      <td>0.280759</td>\n",
              "      <td>0.302423</td>\n",
              "    </tr>\n",
              "    <tr>\n",
              "      <th>2</th>\n",
              "      <td>0.254470</td>\n",
              "      <td>0.312500</td>\n",
              "      <td>0.240985</td>\n",
              "      <td>0.269318</td>\n",
              "    </tr>\n",
              "    <tr>\n",
              "      <th>3</th>\n",
              "      <td>0.246473</td>\n",
              "      <td>0.208333</td>\n",
              "      <td>0.240985</td>\n",
              "      <td>0.231930</td>\n",
              "    </tr>\n",
              "    <tr>\n",
              "      <th>4</th>\n",
              "      <td>0.265853</td>\n",
              "      <td>0.187500</td>\n",
              "      <td>0.256642</td>\n",
              "      <td>0.236665</td>\n",
              "    </tr>\n",
              "    <tr>\n",
              "      <th>...</th>\n",
              "      <td>...</td>\n",
              "      <td>...</td>\n",
              "      <td>...</td>\n",
              "      <td>...</td>\n",
              "    </tr>\n",
              "    <tr>\n",
              "      <th>14510</th>\n",
              "      <td>0.275392</td>\n",
              "      <td>0.291667</td>\n",
              "      <td>0.280759</td>\n",
              "      <td>0.282606</td>\n",
              "    </tr>\n",
              "    <tr>\n",
              "      <th>14511</th>\n",
              "      <td>0.279865</td>\n",
              "      <td>0.270833</td>\n",
              "      <td>0.280759</td>\n",
              "      <td>0.277153</td>\n",
              "    </tr>\n",
              "    <tr>\n",
              "      <th>14512</th>\n",
              "      <td>0.262979</td>\n",
              "      <td>0.312500</td>\n",
              "      <td>0.280759</td>\n",
              "      <td>0.285413</td>\n",
              "    </tr>\n",
              "    <tr>\n",
              "      <th>14513</th>\n",
              "      <td>0.272281</td>\n",
              "      <td>0.333333</td>\n",
              "      <td>0.280759</td>\n",
              "      <td>0.295458</td>\n",
              "    </tr>\n",
              "    <tr>\n",
              "      <th>14514</th>\n",
              "      <td>0.265714</td>\n",
              "      <td>0.229167</td>\n",
              "      <td>0.256642</td>\n",
              "      <td>0.250508</td>\n",
              "    </tr>\n",
              "  </tbody>\n",
              "</table>\n",
              "<p>14515 rows × 4 columns</p>\n",
              "</div>"
            ],
            "text/plain": [
              "       LogitRegression: p(1)  ...      Mean\n",
              "0                   0.278025  ...  0.275445\n",
              "1                   0.272343  ...  0.302423\n",
              "2                   0.254470  ...  0.269318\n",
              "3                   0.246473  ...  0.231930\n",
              "4                   0.265853  ...  0.236665\n",
              "...                      ...  ...       ...\n",
              "14510               0.275392  ...  0.282606\n",
              "14511               0.279865  ...  0.277153\n",
              "14512               0.262979  ...  0.285413\n",
              "14513               0.272281  ...  0.295458\n",
              "14514               0.265714  ...  0.250508\n",
              "\n",
              "[14515 rows x 4 columns]"
            ]
          },
          "metadata": {
            "tags": []
          },
          "execution_count": 385
        }
      ]
    },
    {
      "cell_type": "code",
      "metadata": {
        "id": "FjqDpIdAP-m7"
      },
      "source": [
        "for x in range(0,14515):\n",
        "    if probability_valid['Mean'].iloc[x]>=0.3:\n",
        "        list_mean.append(1)\n",
        "    else:\n",
        "        list_mean.append(0)"
      ],
      "execution_count": null,
      "outputs": []
    },
    {
      "cell_type": "code",
      "metadata": {
        "id": "WYW72R7nSDqX"
      },
      "source": [
        "list_mean= pd.DataFrame(list_mean)"
      ],
      "execution_count": null,
      "outputs": []
    },
    {
      "cell_type": "code",
      "metadata": {
        "id": "1GYAx09ASF9S"
      },
      "source": [
        "mean_values=list_mean"
      ],
      "execution_count": null,
      "outputs": []
    },
    {
      "cell_type": "code",
      "metadata": {
        "id": "hjrutRLmSHXq"
      },
      "source": [
        "total_valid['Mean']=mean_values"
      ],
      "execution_count": null,
      "outputs": []
    },
    {
      "cell_type": "code",
      "metadata": {
        "colab": {
          "base_uri": "https://localhost:8080/",
          "height": 419
        },
        "id": "Vkv9RR8KSNOh",
        "outputId": "17e0726a-7c89-4266-9368-8a1543b31535"
      },
      "source": [
        "total_valid"
      ],
      "execution_count": null,
      "outputs": [
        {
          "output_type": "execute_result",
          "data": {
            "text/html": [
              "<div>\n",
              "<style scoped>\n",
              "    .dataframe tbody tr th:only-of-type {\n",
              "        vertical-align: middle;\n",
              "    }\n",
              "\n",
              "    .dataframe tbody tr th {\n",
              "        vertical-align: top;\n",
              "    }\n",
              "\n",
              "    .dataframe thead th {\n",
              "        text-align: right;\n",
              "    }\n",
              "</style>\n",
              "<table border=\"1\" class=\"dataframe\">\n",
              "  <thead>\n",
              "    <tr style=\"text-align: right;\">\n",
              "      <th></th>\n",
              "      <th>actual</th>\n",
              "      <th>predicted_Logistic</th>\n",
              "      <th>predicted_Knn</th>\n",
              "      <th>predicted_Tree</th>\n",
              "      <th>Mode</th>\n",
              "      <th>Mean</th>\n",
              "    </tr>\n",
              "  </thead>\n",
              "  <tbody>\n",
              "    <tr>\n",
              "      <th>0</th>\n",
              "      <td>0</td>\n",
              "      <td>0</td>\n",
              "      <td>0</td>\n",
              "      <td>0</td>\n",
              "      <td>0</td>\n",
              "      <td>0</td>\n",
              "    </tr>\n",
              "    <tr>\n",
              "      <th>1</th>\n",
              "      <td>1</td>\n",
              "      <td>0</td>\n",
              "      <td>0</td>\n",
              "      <td>0</td>\n",
              "      <td>0</td>\n",
              "      <td>1</td>\n",
              "    </tr>\n",
              "    <tr>\n",
              "      <th>2</th>\n",
              "      <td>0</td>\n",
              "      <td>0</td>\n",
              "      <td>0</td>\n",
              "      <td>0</td>\n",
              "      <td>0</td>\n",
              "      <td>0</td>\n",
              "    </tr>\n",
              "    <tr>\n",
              "      <th>3</th>\n",
              "      <td>0</td>\n",
              "      <td>0</td>\n",
              "      <td>0</td>\n",
              "      <td>0</td>\n",
              "      <td>0</td>\n",
              "      <td>0</td>\n",
              "    </tr>\n",
              "    <tr>\n",
              "      <th>4</th>\n",
              "      <td>1</td>\n",
              "      <td>0</td>\n",
              "      <td>0</td>\n",
              "      <td>0</td>\n",
              "      <td>0</td>\n",
              "      <td>0</td>\n",
              "    </tr>\n",
              "    <tr>\n",
              "      <th>...</th>\n",
              "      <td>...</td>\n",
              "      <td>...</td>\n",
              "      <td>...</td>\n",
              "      <td>...</td>\n",
              "      <td>...</td>\n",
              "      <td>...</td>\n",
              "    </tr>\n",
              "    <tr>\n",
              "      <th>14510</th>\n",
              "      <td>0</td>\n",
              "      <td>0</td>\n",
              "      <td>0</td>\n",
              "      <td>0</td>\n",
              "      <td>0</td>\n",
              "      <td>0</td>\n",
              "    </tr>\n",
              "    <tr>\n",
              "      <th>14511</th>\n",
              "      <td>1</td>\n",
              "      <td>0</td>\n",
              "      <td>0</td>\n",
              "      <td>0</td>\n",
              "      <td>0</td>\n",
              "      <td>0</td>\n",
              "    </tr>\n",
              "    <tr>\n",
              "      <th>14512</th>\n",
              "      <td>0</td>\n",
              "      <td>0</td>\n",
              "      <td>0</td>\n",
              "      <td>0</td>\n",
              "      <td>0</td>\n",
              "      <td>0</td>\n",
              "    </tr>\n",
              "    <tr>\n",
              "      <th>14513</th>\n",
              "      <td>0</td>\n",
              "      <td>0</td>\n",
              "      <td>0</td>\n",
              "      <td>0</td>\n",
              "      <td>0</td>\n",
              "      <td>0</td>\n",
              "    </tr>\n",
              "    <tr>\n",
              "      <th>14514</th>\n",
              "      <td>0</td>\n",
              "      <td>0</td>\n",
              "      <td>0</td>\n",
              "      <td>0</td>\n",
              "      <td>0</td>\n",
              "      <td>0</td>\n",
              "    </tr>\n",
              "  </tbody>\n",
              "</table>\n",
              "<p>14515 rows × 6 columns</p>\n",
              "</div>"
            ],
            "text/plain": [
              "       actual  predicted_Logistic  predicted_Knn  predicted_Tree  Mode  Mean\n",
              "0           0                   0              0               0     0     0\n",
              "1           1                   0              0               0     0     1\n",
              "2           0                   0              0               0     0     0\n",
              "3           0                   0              0               0     0     0\n",
              "4           1                   0              0               0     0     0\n",
              "...       ...                 ...            ...             ...   ...   ...\n",
              "14510       0                   0              0               0     0     0\n",
              "14511       1                   0              0               0     0     0\n",
              "14512       0                   0              0               0     0     0\n",
              "14513       0                   0              0               0     0     0\n",
              "14514       0                   0              0               0     0     0\n",
              "\n",
              "[14515 rows x 6 columns]"
            ]
          },
          "metadata": {
            "tags": []
          },
          "execution_count": 390
        }
      ]
    },
    {
      "cell_type": "code",
      "metadata": {
        "colab": {
          "base_uri": "https://localhost:8080/"
        },
        "id": "e1z4dbbsSNb9",
        "outputId": "03c319fa-279e-4e0d-d8e8-3fe4b1b1cc8c"
      },
      "source": [
        "classificationSummary(total_valid.actual, total_valid.Mean)"
      ],
      "execution_count": null,
      "outputs": [
        {
          "output_type": "stream",
          "text": [
            "Confusion Matrix (Accuracy 0.7007)\n",
            "\n",
            "       Prediction\n",
            "Actual    0    1\n",
            "     0 9790  985\n",
            "     1 3360  380\n"
          ],
          "name": "stdout"
        }
      ]
    },
    {
      "cell_type": "code",
      "metadata": {
        "id": "Kn14a3LbTYLA",
        "colab": {
          "base_uri": "https://localhost:8080/"
        },
        "outputId": "7383168f-b4a8-43b9-b1f3-ed17068ae5b6"
      },
      "source": [
        "classificationSummary(total_valid.actual, total_valid.Mode)"
      ],
      "execution_count": null,
      "outputs": [
        {
          "output_type": "stream",
          "text": [
            "Confusion Matrix (Accuracy 0.7423)\n",
            "\n",
            "       Prediction\n",
            "Actual     0     1\n",
            "     0 10775     0\n",
            "     1  3740     0\n"
          ],
          "name": "stdout"
        }
      ]
    }
  ]
}